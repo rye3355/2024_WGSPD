{
 "cells": [
  {
   "cell_type": "code",
   "execution_count": 1,
   "id": "d9a94c65",
   "metadata": {},
   "outputs": [
    {
     "name": "stderr",
     "output_type": "stream",
     "text": [
      "/Users/rye/opt/anaconda3/lib/python3.9/site-packages/pandas/core/arrays/masked.py:60: UserWarning: Pandas requires version '1.3.6' or newer of 'bottleneck' (version '1.3.5' currently installed).\n",
      "  from pandas.core import (\n"
     ]
    },
    {
     "data": {
      "text/html": [
       "    <style>\n",
       "        .bk-notebook-logo {\n",
       "            display: block;\n",
       "            width: 20px;\n",
       "            height: 20px;\n",
       "            background-image: url(data:image/png;base64,iVBORw0KGgoAAAANSUhEUgAAABQAAAAUCAYAAACNiR0NAAAABHNCSVQICAgIfAhkiAAAAAlwSFlzAAALEgAACxIB0t1+/AAAABx0RVh0U29mdHdhcmUAQWRvYmUgRmlyZXdvcmtzIENTNui8sowAAAOkSURBVDiNjZRtaJVlGMd/1/08zzln5zjP1LWcU9N0NkN8m2CYjpgQYQXqSs0I84OLIC0hkEKoPtiH3gmKoiJDU7QpLgoLjLIQCpEsNJ1vqUOdO7ppbuec5+V+rj4ctwzd8IIbbi6u+8f1539dt3A78eXC7QizUF7gyV1fD1Yqg4JWz84yffhm0qkFqBogB9rM8tZdtwVsPUhWhGcFJngGeWrPzHm5oaMmkfEg1usvLFyc8jLRqDOMru7AyC8saQr7GG7f5fvDeH7Ej8CM66nIF+8yngt6HWaKh7k49Soy9nXurCi1o3qUbS3zWfrYeQDTB/Qj6kX6Ybhw4B+bOYoLKCC9H3Nu/leUTZ1JdRWkkn2ldcCamzrcf47KKXdAJllSlxAOkRgyHsGC/zRday5Qld9DyoM4/q/rUoy/CXh3jzOu3bHUVZeU+DEn8FInkPBFlu3+nW3Nw0mk6vCDiWg8CeJaxEwuHS3+z5RgY+YBR6V1Z1nxSOfoaPa4LASWxxdNp+VWTk7+4vzaou8v8PN+xo+KY2xsw6une2frhw05CTYOmQvsEhjhWjn0bmXPjpE1+kplmmkP3suftwTubK9Vq22qKmrBhpY4jvd5afdRA3wGjFAgcnTK2s4hY0/GPNIb0nErGMCRxWOOX64Z8RAC4oCXdklmEvcL8o0BfkNK4lUg9HTl+oPlQxdNo3Mg4Nv175e/1LDGzZen30MEjRUtmXSfiTVu1kK8W4txyV6BMKlbgk3lMwYCiusNy9fVfvvwMxv8Ynl6vxoByANLTWplvuj/nF9m2+PDtt1eiHPBr1oIfhCChQMBw6Aw0UulqTKZdfVvfG7VcfIqLG9bcldL/+pdWTLxLUy8Qq38heUIjh4XlzZxzQm19lLFlr8vdQ97rjZVOLf8nclzckbcD4wxXMidpX30sFd37Fv/GtwwhzhxGVAprjbg0gCAEeIgwCZyTV2Z1REEW8O4py0wsjeloKoMr6iCY6dP92H6Vw/oTyICIthibxjm/DfN9lVz8IqtqKYLUXfoKVMVQVVJOElGjrnnUt9T9wbgp8AyYKaGlqingHZU/uG2NTZSVqwHQTWkx9hxjkpWDaCg6Ckj5qebgBVbT3V3NNXMSiWSDdGV3hrtzla7J+duwPOToIg42ChPQOQjspnSlp1V+Gjdged7+8UN5CRAV7a5EdFNwCjEaBR27b3W890TE7g24NAP/mMDXRWrGoFPQI9ls/MWO2dWFAar/xcOIImbbpA3zgAAAABJRU5ErkJggg==);\n",
       "        }\n",
       "    </style>\n",
       "    <div>\n",
       "        <a href=\"https://bokeh.org\" target=\"_blank\" class=\"bk-notebook-logo\"></a>\n",
       "        <span id=\"eda3b9ab-3b23-47a7-8ae4-405948fa0bf1\">Loading BokehJS ...</span>\n",
       "    </div>\n"
      ]
     },
     "metadata": {},
     "output_type": "display_data"
    },
    {
     "data": {
      "application/javascript": [
       "'use strict';\n",
       "(function(root) {\n",
       "  function now() {\n",
       "    return new Date();\n",
       "  }\n",
       "\n",
       "  const force = true;\n",
       "\n",
       "  if (typeof root._bokeh_onload_callbacks === \"undefined\" || force === true) {\n",
       "    root._bokeh_onload_callbacks = [];\n",
       "    root._bokeh_is_loading = undefined;\n",
       "  }\n",
       "\n",
       "const JS_MIME_TYPE = 'application/javascript';\n",
       "  const HTML_MIME_TYPE = 'text/html';\n",
       "  const EXEC_MIME_TYPE = 'application/vnd.bokehjs_exec.v0+json';\n",
       "  const CLASS_NAME = 'output_bokeh rendered_html';\n",
       "\n",
       "  /**\n",
       "   * Render data to the DOM node\n",
       "   */\n",
       "  function render(props, node) {\n",
       "    const script = document.createElement(\"script\");\n",
       "    node.appendChild(script);\n",
       "  }\n",
       "\n",
       "  /**\n",
       "   * Handle when an output is cleared or removed\n",
       "   */\n",
       "  function handleClearOutput(event, handle) {\n",
       "    function drop(id) {\n",
       "      const view = Bokeh.index.get_by_id(id)\n",
       "      if (view != null) {\n",
       "        view.model.document.clear()\n",
       "        Bokeh.index.delete(view)\n",
       "      }\n",
       "    }\n",
       "\n",
       "    const cell = handle.cell;\n",
       "\n",
       "    const id = cell.output_area._bokeh_element_id;\n",
       "    const server_id = cell.output_area._bokeh_server_id;\n",
       "\n",
       "    // Clean up Bokeh references\n",
       "    if (id != null) {\n",
       "      drop(id)\n",
       "    }\n",
       "\n",
       "    if (server_id !== undefined) {\n",
       "      // Clean up Bokeh references\n",
       "      const cmd_clean = \"from bokeh.io.state import curstate; print(curstate().uuid_to_server['\" + server_id + \"'].get_sessions()[0].document.roots[0]._id)\";\n",
       "      cell.notebook.kernel.execute(cmd_clean, {\n",
       "        iopub: {\n",
       "          output: function(msg) {\n",
       "            const id = msg.content.text.trim()\n",
       "            drop(id)\n",
       "          }\n",
       "        }\n",
       "      });\n",
       "      // Destroy server and session\n",
       "      const cmd_destroy = \"import bokeh.io.notebook as ion; ion.destroy_server('\" + server_id + \"')\";\n",
       "      cell.notebook.kernel.execute(cmd_destroy);\n",
       "    }\n",
       "  }\n",
       "\n",
       "  /**\n",
       "   * Handle when a new output is added\n",
       "   */\n",
       "  function handleAddOutput(event, handle) {\n",
       "    const output_area = handle.output_area;\n",
       "    const output = handle.output;\n",
       "\n",
       "    // limit handleAddOutput to display_data with EXEC_MIME_TYPE content only\n",
       "    if ((output.output_type != \"display_data\") || (!Object.prototype.hasOwnProperty.call(output.data, EXEC_MIME_TYPE))) {\n",
       "      return\n",
       "    }\n",
       "\n",
       "    const toinsert = output_area.element.find(\".\" + CLASS_NAME.split(' ')[0]);\n",
       "\n",
       "    if (output.metadata[EXEC_MIME_TYPE][\"id\"] !== undefined) {\n",
       "      toinsert[toinsert.length - 1].firstChild.textContent = output.data[JS_MIME_TYPE];\n",
       "      // store reference to embed id on output_area\n",
       "      output_area._bokeh_element_id = output.metadata[EXEC_MIME_TYPE][\"id\"];\n",
       "    }\n",
       "    if (output.metadata[EXEC_MIME_TYPE][\"server_id\"] !== undefined) {\n",
       "      const bk_div = document.createElement(\"div\");\n",
       "      bk_div.innerHTML = output.data[HTML_MIME_TYPE];\n",
       "      const script_attrs = bk_div.children[0].attributes;\n",
       "      for (let i = 0; i < script_attrs.length; i++) {\n",
       "        toinsert[toinsert.length - 1].firstChild.setAttribute(script_attrs[i].name, script_attrs[i].value);\n",
       "        toinsert[toinsert.length - 1].firstChild.textContent = bk_div.children[0].textContent\n",
       "      }\n",
       "      // store reference to server id on output_area\n",
       "      output_area._bokeh_server_id = output.metadata[EXEC_MIME_TYPE][\"server_id\"];\n",
       "    }\n",
       "  }\n",
       "\n",
       "  function register_renderer(events, OutputArea) {\n",
       "\n",
       "    function append_mime(data, metadata, element) {\n",
       "      // create a DOM node to render to\n",
       "      const toinsert = this.create_output_subarea(\n",
       "        metadata,\n",
       "        CLASS_NAME,\n",
       "        EXEC_MIME_TYPE\n",
       "      );\n",
       "      this.keyboard_manager.register_events(toinsert);\n",
       "      // Render to node\n",
       "      const props = {data: data, metadata: metadata[EXEC_MIME_TYPE]};\n",
       "      render(props, toinsert[toinsert.length - 1]);\n",
       "      element.append(toinsert);\n",
       "      return toinsert\n",
       "    }\n",
       "\n",
       "    /* Handle when an output is cleared or removed */\n",
       "    events.on('clear_output.CodeCell', handleClearOutput);\n",
       "    events.on('delete.Cell', handleClearOutput);\n",
       "\n",
       "    /* Handle when a new output is added */\n",
       "    events.on('output_added.OutputArea', handleAddOutput);\n",
       "\n",
       "    /**\n",
       "     * Register the mime type and append_mime function with output_area\n",
       "     */\n",
       "    OutputArea.prototype.register_mime_type(EXEC_MIME_TYPE, append_mime, {\n",
       "      /* Is output safe? */\n",
       "      safe: true,\n",
       "      /* Index of renderer in `output_area.display_order` */\n",
       "      index: 0\n",
       "    });\n",
       "  }\n",
       "\n",
       "  // register the mime type if in Jupyter Notebook environment and previously unregistered\n",
       "  if (root.Jupyter !== undefined) {\n",
       "    const events = require('base/js/events');\n",
       "    const OutputArea = require('notebook/js/outputarea').OutputArea;\n",
       "\n",
       "    if (OutputArea.prototype.mime_types().indexOf(EXEC_MIME_TYPE) == -1) {\n",
       "      register_renderer(events, OutputArea);\n",
       "    }\n",
       "  }\n",
       "  if (typeof (root._bokeh_timeout) === \"undefined\" || force === true) {\n",
       "    root._bokeh_timeout = Date.now() + 5000;\n",
       "    root._bokeh_failed_load = false;\n",
       "  }\n",
       "\n",
       "  const NB_LOAD_WARNING = {'data': {'text/html':\n",
       "     \"<div style='background-color: #fdd'>\\n\"+\n",
       "     \"<p>\\n\"+\n",
       "     \"BokehJS does not appear to have successfully loaded. If loading BokehJS from CDN, this \\n\"+\n",
       "     \"may be due to a slow or bad network connection. Possible fixes:\\n\"+\n",
       "     \"</p>\\n\"+\n",
       "     \"<ul>\\n\"+\n",
       "     \"<li>re-rerun `output_notebook()` to attempt to load from CDN again, or</li>\\n\"+\n",
       "     \"<li>use INLINE resources instead, as so:</li>\\n\"+\n",
       "     \"</ul>\\n\"+\n",
       "     \"<code>\\n\"+\n",
       "     \"from bokeh.resources import INLINE\\n\"+\n",
       "     \"output_notebook(resources=INLINE)\\n\"+\n",
       "     \"</code>\\n\"+\n",
       "     \"</div>\"}};\n",
       "\n",
       "  function display_loaded(error = null) {\n",
       "    const el = document.getElementById(\"eda3b9ab-3b23-47a7-8ae4-405948fa0bf1\");\n",
       "    if (el != null) {\n",
       "      const html = (() => {\n",
       "        if (typeof root.Bokeh === \"undefined\") {\n",
       "          if (error == null) {\n",
       "            return \"BokehJS is loading ...\";\n",
       "          } else {\n",
       "            return \"BokehJS failed to load.\";\n",
       "          }\n",
       "        } else {\n",
       "          const prefix = `BokehJS ${root.Bokeh.version}`;\n",
       "          if (error == null) {\n",
       "            return `${prefix} successfully loaded.`;\n",
       "          } else {\n",
       "            return `${prefix} <b>encountered errors</b> while loading and may not function as expected.`;\n",
       "          }\n",
       "        }\n",
       "      })();\n",
       "      el.innerHTML = html;\n",
       "\n",
       "      if (error != null) {\n",
       "        const wrapper = document.createElement(\"div\");\n",
       "        wrapper.style.overflow = \"auto\";\n",
       "        wrapper.style.height = \"5em\";\n",
       "        wrapper.style.resize = \"vertical\";\n",
       "        const content = document.createElement(\"div\");\n",
       "        content.style.fontFamily = \"monospace\";\n",
       "        content.style.whiteSpace = \"pre-wrap\";\n",
       "        content.style.backgroundColor = \"rgb(255, 221, 221)\";\n",
       "        content.textContent = error.stack ?? error.toString();\n",
       "        wrapper.append(content);\n",
       "        el.append(wrapper);\n",
       "      }\n",
       "    } else if (Date.now() < root._bokeh_timeout) {\n",
       "      setTimeout(() => display_loaded(error), 100);\n",
       "    }\n",
       "  }\n",
       "\n",
       "  function run_callbacks() {\n",
       "    try {\n",
       "      root._bokeh_onload_callbacks.forEach(function(callback) {\n",
       "        if (callback != null)\n",
       "          callback();\n",
       "      });\n",
       "    } finally {\n",
       "      delete root._bokeh_onload_callbacks\n",
       "    }\n",
       "    console.debug(\"Bokeh: all callbacks have finished\");\n",
       "  }\n",
       "\n",
       "  function load_libs(css_urls, js_urls, callback) {\n",
       "    if (css_urls == null) css_urls = [];\n",
       "    if (js_urls == null) js_urls = [];\n",
       "\n",
       "    root._bokeh_onload_callbacks.push(callback);\n",
       "    if (root._bokeh_is_loading > 0) {\n",
       "      console.debug(\"Bokeh: BokehJS is being loaded, scheduling callback at\", now());\n",
       "      return null;\n",
       "    }\n",
       "    if (js_urls == null || js_urls.length === 0) {\n",
       "      run_callbacks();\n",
       "      return null;\n",
       "    }\n",
       "    console.debug(\"Bokeh: BokehJS not loaded, scheduling load and callback at\", now());\n",
       "    root._bokeh_is_loading = css_urls.length + js_urls.length;\n",
       "\n",
       "    function on_load() {\n",
       "      root._bokeh_is_loading--;\n",
       "      if (root._bokeh_is_loading === 0) {\n",
       "        console.debug(\"Bokeh: all BokehJS libraries/stylesheets loaded\");\n",
       "        run_callbacks()\n",
       "      }\n",
       "    }\n",
       "\n",
       "    function on_error(url) {\n",
       "      console.error(\"failed to load \" + url);\n",
       "    }\n",
       "\n",
       "    for (let i = 0; i < css_urls.length; i++) {\n",
       "      const url = css_urls[i];\n",
       "      const element = document.createElement(\"link\");\n",
       "      element.onload = on_load;\n",
       "      element.onerror = on_error.bind(null, url);\n",
       "      element.rel = \"stylesheet\";\n",
       "      element.type = \"text/css\";\n",
       "      element.href = url;\n",
       "      console.debug(\"Bokeh: injecting link tag for BokehJS stylesheet: \", url);\n",
       "      document.body.appendChild(element);\n",
       "    }\n",
       "\n",
       "    for (let i = 0; i < js_urls.length; i++) {\n",
       "      const url = js_urls[i];\n",
       "      const element = document.createElement('script');\n",
       "      element.onload = on_load;\n",
       "      element.onerror = on_error.bind(null, url);\n",
       "      element.async = false;\n",
       "      element.src = url;\n",
       "      console.debug(\"Bokeh: injecting script tag for BokehJS library: \", url);\n",
       "      document.head.appendChild(element);\n",
       "    }\n",
       "  };\n",
       "\n",
       "  function inject_raw_css(css) {\n",
       "    const element = document.createElement(\"style\");\n",
       "    element.appendChild(document.createTextNode(css));\n",
       "    document.body.appendChild(element);\n",
       "  }\n",
       "\n",
       "  const js_urls = [\"https://cdn.bokeh.org/bokeh/release/bokeh-3.4.3.min.js\", \"https://cdn.bokeh.org/bokeh/release/bokeh-gl-3.4.3.min.js\", \"https://cdn.bokeh.org/bokeh/release/bokeh-widgets-3.4.3.min.js\", \"https://cdn.bokeh.org/bokeh/release/bokeh-tables-3.4.3.min.js\", \"https://cdn.bokeh.org/bokeh/release/bokeh-mathjax-3.4.3.min.js\"];\n",
       "  const css_urls = [];\n",
       "\n",
       "  const inline_js = [    function(Bokeh) {\n",
       "      Bokeh.set_log_level(\"info\");\n",
       "    },\n",
       "function(Bokeh) {\n",
       "    }\n",
       "  ];\n",
       "\n",
       "  function run_inline_js() {\n",
       "    if (root.Bokeh !== undefined || force === true) {\n",
       "      try {\n",
       "            for (let i = 0; i < inline_js.length; i++) {\n",
       "      inline_js[i].call(root, root.Bokeh);\n",
       "    }\n",
       "\n",
       "      } catch (error) {display_loaded(error);throw error;\n",
       "      }if (force === true) {\n",
       "        display_loaded();\n",
       "      }} else if (Date.now() < root._bokeh_timeout) {\n",
       "      setTimeout(run_inline_js, 100);\n",
       "    } else if (!root._bokeh_failed_load) {\n",
       "      console.log(\"Bokeh: BokehJS failed to load within specified timeout.\");\n",
       "      root._bokeh_failed_load = true;\n",
       "    } else if (force !== true) {\n",
       "      const cell = $(document.getElementById(\"eda3b9ab-3b23-47a7-8ae4-405948fa0bf1\")).parents('.cell').data().cell;\n",
       "      cell.output_area.append_execute_result(NB_LOAD_WARNING)\n",
       "    }\n",
       "  }\n",
       "\n",
       "  if (root._bokeh_is_loading === 0) {\n",
       "    console.debug(\"Bokeh: BokehJS loaded, going straight to plotting\");\n",
       "    run_inline_js();\n",
       "  } else {\n",
       "    load_libs(css_urls, js_urls, function() {\n",
       "      console.debug(\"Bokeh: BokehJS plotting callback run at\", now());\n",
       "      run_inline_js();\n",
       "    });\n",
       "  }\n",
       "}(window));"
      ],
      "application/vnd.bokehjs_load.v0+json": "'use strict';\n(function(root) {\n  function now() {\n    return new Date();\n  }\n\n  const force = true;\n\n  if (typeof root._bokeh_onload_callbacks === \"undefined\" || force === true) {\n    root._bokeh_onload_callbacks = [];\n    root._bokeh_is_loading = undefined;\n  }\n\n\n  if (typeof (root._bokeh_timeout) === \"undefined\" || force === true) {\n    root._bokeh_timeout = Date.now() + 5000;\n    root._bokeh_failed_load = false;\n  }\n\n  const NB_LOAD_WARNING = {'data': {'text/html':\n     \"<div style='background-color: #fdd'>\\n\"+\n     \"<p>\\n\"+\n     \"BokehJS does not appear to have successfully loaded. If loading BokehJS from CDN, this \\n\"+\n     \"may be due to a slow or bad network connection. Possible fixes:\\n\"+\n     \"</p>\\n\"+\n     \"<ul>\\n\"+\n     \"<li>re-rerun `output_notebook()` to attempt to load from CDN again, or</li>\\n\"+\n     \"<li>use INLINE resources instead, as so:</li>\\n\"+\n     \"</ul>\\n\"+\n     \"<code>\\n\"+\n     \"from bokeh.resources import INLINE\\n\"+\n     \"output_notebook(resources=INLINE)\\n\"+\n     \"</code>\\n\"+\n     \"</div>\"}};\n\n  function display_loaded(error = null) {\n    const el = document.getElementById(\"eda3b9ab-3b23-47a7-8ae4-405948fa0bf1\");\n    if (el != null) {\n      const html = (() => {\n        if (typeof root.Bokeh === \"undefined\") {\n          if (error == null) {\n            return \"BokehJS is loading ...\";\n          } else {\n            return \"BokehJS failed to load.\";\n          }\n        } else {\n          const prefix = `BokehJS ${root.Bokeh.version}`;\n          if (error == null) {\n            return `${prefix} successfully loaded.`;\n          } else {\n            return `${prefix} <b>encountered errors</b> while loading and may not function as expected.`;\n          }\n        }\n      })();\n      el.innerHTML = html;\n\n      if (error != null) {\n        const wrapper = document.createElement(\"div\");\n        wrapper.style.overflow = \"auto\";\n        wrapper.style.height = \"5em\";\n        wrapper.style.resize = \"vertical\";\n        const content = document.createElement(\"div\");\n        content.style.fontFamily = \"monospace\";\n        content.style.whiteSpace = \"pre-wrap\";\n        content.style.backgroundColor = \"rgb(255, 221, 221)\";\n        content.textContent = error.stack ?? error.toString();\n        wrapper.append(content);\n        el.append(wrapper);\n      }\n    } else if (Date.now() < root._bokeh_timeout) {\n      setTimeout(() => display_loaded(error), 100);\n    }\n  }\n\n  function run_callbacks() {\n    try {\n      root._bokeh_onload_callbacks.forEach(function(callback) {\n        if (callback != null)\n          callback();\n      });\n    } finally {\n      delete root._bokeh_onload_callbacks\n    }\n    console.debug(\"Bokeh: all callbacks have finished\");\n  }\n\n  function load_libs(css_urls, js_urls, callback) {\n    if (css_urls == null) css_urls = [];\n    if (js_urls == null) js_urls = [];\n\n    root._bokeh_onload_callbacks.push(callback);\n    if (root._bokeh_is_loading > 0) {\n      console.debug(\"Bokeh: BokehJS is being loaded, scheduling callback at\", now());\n      return null;\n    }\n    if (js_urls == null || js_urls.length === 0) {\n      run_callbacks();\n      return null;\n    }\n    console.debug(\"Bokeh: BokehJS not loaded, scheduling load and callback at\", now());\n    root._bokeh_is_loading = css_urls.length + js_urls.length;\n\n    function on_load() {\n      root._bokeh_is_loading--;\n      if (root._bokeh_is_loading === 0) {\n        console.debug(\"Bokeh: all BokehJS libraries/stylesheets loaded\");\n        run_callbacks()\n      }\n    }\n\n    function on_error(url) {\n      console.error(\"failed to load \" + url);\n    }\n\n    for (let i = 0; i < css_urls.length; i++) {\n      const url = css_urls[i];\n      const element = document.createElement(\"link\");\n      element.onload = on_load;\n      element.onerror = on_error.bind(null, url);\n      element.rel = \"stylesheet\";\n      element.type = \"text/css\";\n      element.href = url;\n      console.debug(\"Bokeh: injecting link tag for BokehJS stylesheet: \", url);\n      document.body.appendChild(element);\n    }\n\n    for (let i = 0; i < js_urls.length; i++) {\n      const url = js_urls[i];\n      const element = document.createElement('script');\n      element.onload = on_load;\n      element.onerror = on_error.bind(null, url);\n      element.async = false;\n      element.src = url;\n      console.debug(\"Bokeh: injecting script tag for BokehJS library: \", url);\n      document.head.appendChild(element);\n    }\n  };\n\n  function inject_raw_css(css) {\n    const element = document.createElement(\"style\");\n    element.appendChild(document.createTextNode(css));\n    document.body.appendChild(element);\n  }\n\n  const js_urls = [\"https://cdn.bokeh.org/bokeh/release/bokeh-3.4.3.min.js\", \"https://cdn.bokeh.org/bokeh/release/bokeh-gl-3.4.3.min.js\", \"https://cdn.bokeh.org/bokeh/release/bokeh-widgets-3.4.3.min.js\", \"https://cdn.bokeh.org/bokeh/release/bokeh-tables-3.4.3.min.js\", \"https://cdn.bokeh.org/bokeh/release/bokeh-mathjax-3.4.3.min.js\"];\n  const css_urls = [];\n\n  const inline_js = [    function(Bokeh) {\n      Bokeh.set_log_level(\"info\");\n    },\nfunction(Bokeh) {\n    }\n  ];\n\n  function run_inline_js() {\n    if (root.Bokeh !== undefined || force === true) {\n      try {\n            for (let i = 0; i < inline_js.length; i++) {\n      inline_js[i].call(root, root.Bokeh);\n    }\n\n      } catch (error) {display_loaded(error);throw error;\n      }if (force === true) {\n        display_loaded();\n      }} else if (Date.now() < root._bokeh_timeout) {\n      setTimeout(run_inline_js, 100);\n    } else if (!root._bokeh_failed_load) {\n      console.log(\"Bokeh: BokehJS failed to load within specified timeout.\");\n      root._bokeh_failed_load = true;\n    } else if (force !== true) {\n      const cell = $(document.getElementById(\"eda3b9ab-3b23-47a7-8ae4-405948fa0bf1\")).parents('.cell').data().cell;\n      cell.output_area.append_execute_result(NB_LOAD_WARNING)\n    }\n  }\n\n  if (root._bokeh_is_loading === 0) {\n    console.debug(\"Bokeh: BokehJS loaded, going straight to plotting\");\n    run_inline_js();\n  } else {\n    load_libs(css_urls, js_urls, function() {\n      console.debug(\"Bokeh: BokehJS plotting callback run at\", now());\n      run_inline_js();\n    });\n  }\n}(window));"
     },
     "metadata": {},
     "output_type": "display_data"
    }
   ],
   "source": [
    "import hail as hl"
   ]
  },
  {
   "cell_type": "code",
   "execution_count": 2,
   "id": "95057467",
   "metadata": {
    "scrolled": true
   },
   "outputs": [
    {
     "name": "stderr",
     "output_type": "stream",
     "text": [
      "Initializing Hail with default parameters...\n",
      "/Users/rye/opt/anaconda3/lib/python3.9/site-packages/hail/backend/service_backend.py:594: UserWarning:\n",
      "\n",
      "Modifying the requester pays project or buckets at runtime using flags is deprecated. Expect this behavior to become unsupported soon.\n",
      "\n",
      "Welcome to\n",
      "     __  __     <>__\n",
      "    / /_/ /__  __/ /\n",
      "   / __  / _ `/ / /\n",
      "  /_/ /_/\\_,_/_/_/   version 0.2.130-bea04d9c79b5\n",
      "LOGGING: writing to /Users/rye/Projects/2024_WGSPD/Analysis/SV/202411/hail-20241210-0914-0.2.130-bea04d9c79b5.log\n"
     ]
    },
    {
     "data": {
      "text/html": [
       "<pre style=\"white-space:pre;overflow-x:auto;line-height:normal;font-family:Menlo,'DejaVu Sans Mono',consolas,'Courier New',monospace\">\n",
       "</pre>\n"
      ],
      "text/plain": [
       "\n"
      ]
     },
     "metadata": {},
     "output_type": "display_data"
    },
    {
     "data": {
      "application/vnd.jupyter.widget-view+json": {
       "model_id": "033fdac8fb1e42d7b96a126f34abb86c",
       "version_major": 2,
       "version_minor": 0
      },
      "text/plain": [
       "Output()"
      ]
     },
     "metadata": {},
     "output_type": "display_data"
    },
    {
     "data": {
      "text/html": [
       "<pre style=\"white-space:pre;overflow-x:auto;line-height:normal;font-family:Menlo,'DejaVu Sans Mono',consolas,'Courier New',monospace\"></pre>\n"
      ],
      "text/plain": []
     },
     "metadata": {},
     "output_type": "display_data"
    },
    {
     "data": {
      "text/html": [
       "<pre style=\"white-space:pre;overflow-x:auto;line-height:normal;font-family:Menlo,'DejaVu Sans Mono',consolas,'Courier New',monospace\">\n",
       "</pre>\n"
      ],
      "text/plain": [
       "\n"
      ]
     },
     "metadata": {},
     "output_type": "display_data"
    },
    {
     "data": {
      "text/html": [
       "<pre style=\"white-space:pre;overflow-x:auto;line-height:normal;font-family:Menlo,'DejaVu Sans Mono',consolas,'Courier New',monospace\">\n",
       "</pre>\n"
      ],
      "text/plain": [
       "\n"
      ]
     },
     "metadata": {},
     "output_type": "display_data"
    },
    {
     "data": {
      "application/vnd.jupyter.widget-view+json": {
       "model_id": "5ddf29b345bb4841be1c7cfe4fb90f8e",
       "version_major": 2,
       "version_minor": 0
      },
      "text/plain": [
       "Output()"
      ]
     },
     "metadata": {},
     "output_type": "display_data"
    },
    {
     "data": {
      "text/html": [
       "<pre style=\"white-space:pre;overflow-x:auto;line-height:normal;font-family:Menlo,'DejaVu Sans Mono',consolas,'Courier New',monospace\"></pre>\n"
      ],
      "text/plain": []
     },
     "metadata": {},
     "output_type": "display_data"
    },
    {
     "data": {
      "text/html": [
       "<pre style=\"white-space:pre;overflow-x:auto;line-height:normal;font-family:Menlo,'DejaVu Sans Mono',consolas,'Courier New',monospace\">\n",
       "</pre>\n"
      ],
      "text/plain": [
       "\n"
      ]
     },
     "metadata": {},
     "output_type": "display_data"
    },
    {
     "data": {
      "text/html": [
       "<pre style=\"white-space:pre;overflow-x:auto;line-height:normal;font-family:Menlo,'DejaVu Sans Mono',consolas,'Courier New',monospace\">\n",
       "</pre>\n"
      ],
      "text/plain": [
       "\n"
      ]
     },
     "metadata": {},
     "output_type": "display_data"
    },
    {
     "data": {
      "application/vnd.jupyter.widget-view+json": {
       "model_id": "a0c19ddaa2f140b18145d2088391ee3c",
       "version_major": 2,
       "version_minor": 0
      },
      "text/plain": [
       "Output()"
      ]
     },
     "metadata": {},
     "output_type": "display_data"
    },
    {
     "data": {
      "text/html": [
       "<pre style=\"white-space:pre;overflow-x:auto;line-height:normal;font-family:Menlo,'DejaVu Sans Mono',consolas,'Courier New',monospace\"></pre>\n"
      ],
      "text/plain": []
     },
     "metadata": {},
     "output_type": "display_data"
    },
    {
     "data": {
      "text/html": [
       "<pre style=\"white-space:pre;overflow-x:auto;line-height:normal;font-family:Menlo,'DejaVu Sans Mono',consolas,'Courier New',monospace\">\n",
       "</pre>\n"
      ],
      "text/plain": [
       "\n"
      ]
     },
     "metadata": {},
     "output_type": "display_data"
    },
    {
     "data": {
      "text/html": [
       "<pre style=\"white-space:pre;overflow-x:auto;line-height:normal;font-family:Menlo,'DejaVu Sans Mono',consolas,'Courier New',monospace\">\n",
       "</pre>\n"
      ],
      "text/plain": [
       "\n"
      ]
     },
     "metadata": {},
     "output_type": "display_data"
    },
    {
     "data": {
      "application/vnd.jupyter.widget-view+json": {
       "model_id": "d4c08500ef7d41e0bd4d1e6ba011ba27",
       "version_major": 2,
       "version_minor": 0
      },
      "text/plain": [
       "Output()"
      ]
     },
     "metadata": {},
     "output_type": "display_data"
    },
    {
     "data": {
      "text/html": [
       "<pre style=\"white-space:pre;overflow-x:auto;line-height:normal;font-family:Menlo,'DejaVu Sans Mono',consolas,'Courier New',monospace\"></pre>\n"
      ],
      "text/plain": []
     },
     "metadata": {},
     "output_type": "display_data"
    },
    {
     "data": {
      "text/html": [
       "<pre style=\"white-space:pre;overflow-x:auto;line-height:normal;font-family:Menlo,'DejaVu Sans Mono',consolas,'Courier New',monospace\">\n",
       "</pre>\n"
      ],
      "text/plain": [
       "\n"
      ]
     },
     "metadata": {},
     "output_type": "display_data"
    },
    {
     "data": {
      "text/html": [
       "<pre style=\"white-space:pre;overflow-x:auto;line-height:normal;font-family:Menlo,'DejaVu Sans Mono',consolas,'Courier New',monospace\">\n",
       "</pre>\n"
      ],
      "text/plain": [
       "\n"
      ]
     },
     "metadata": {},
     "output_type": "display_data"
    },
    {
     "data": {
      "application/vnd.jupyter.widget-view+json": {
       "model_id": "a4d0863449ce49549478c6ca815dbc01",
       "version_major": 2,
       "version_minor": 0
      },
      "text/plain": [
       "Output()"
      ]
     },
     "metadata": {},
     "output_type": "display_data"
    },
    {
     "data": {
      "text/html": [
       "<pre style=\"white-space:pre;overflow-x:auto;line-height:normal;font-family:Menlo,'DejaVu Sans Mono',consolas,'Courier New',monospace\"></pre>\n"
      ],
      "text/plain": []
     },
     "metadata": {},
     "output_type": "display_data"
    },
    {
     "data": {
      "text/html": [
       "<pre style=\"white-space:pre;overflow-x:auto;line-height:normal;font-family:Menlo,'DejaVu Sans Mono',consolas,'Courier New',monospace\">\n",
       "</pre>\n"
      ],
      "text/plain": [
       "\n"
      ]
     },
     "metadata": {},
     "output_type": "display_data"
    }
   ],
   "source": [
    "ht = hl.read_table(\"gs://2024-wgspd/sv/20241104_WGSPD_Xuefang/gnomAD_SV_v3_joined.ht\")\n",
    "mt = hl.read_matrix_table(\"gs://2024-wgspd/sv/20241104_WGSPD_sample-GT/gnomAD_SV_v3.release_4_1.1KGP_merged.mt\")\n",
    "manifest = hl.import_table(\"gs://2024-wgspd/files/20240905_WGSPD_final-qcd-manifest.tsv\", key = \"s\")\n",
    "ht = ht.key_by(ht.sv_id)\n",
    "# NOTE: not all samples from final-qcd manifest are present in MT, some are not releasable\n",
    "# CASECON releasable unreleasable\n",
    "#   CASE       6866         1061\n",
    "#   CTRL      15969         5228"
   ]
  },
  {
   "cell_type": "code",
   "execution_count": 3,
   "id": "c7922ab7",
   "metadata": {},
   "outputs": [
    {
     "name": "stdout",
     "output_type": "stream",
     "text": [
      "----------------------------------------\n",
      "Global fields:\n",
      "    None\n",
      "----------------------------------------\n",
      "Row fields:\n",
      "    'locus': locus<GRCh38> \n",
      "    'sv_id': str \n",
      "    'sv_type': str \n",
      "    'qual': str \n",
      "    'filters': array<str> \n",
      "    'info': dict<str, str> \n",
      "    'keys': array<str> \n",
      "----------------------------------------\n",
      "Key: ['sv_id']\n",
      "----------------------------------------\n",
      "----------------------------------------\n",
      "Global fields:\n",
      "    None\n",
      "----------------------------------------\n",
      "Column fields:\n",
      "    's': str\n",
      "----------------------------------------\n",
      "Row fields:\n",
      "    'locus': locus<GRCh38>\n",
      "    'alleles': array<str>\n",
      "    'rsid': str\n",
      "    'qual': float64\n",
      "    'filters': set<str>\n",
      "    'info': struct {\n",
      "        ALGORITHMS: array<str>, \n",
      "        BOTHSIDES_SUPPORT: bool, \n",
      "        CHR2: str, \n",
      "        CPX_INTERVALS: array<str>, \n",
      "        CPX_TYPE: str, \n",
      "        END: int32, \n",
      "        END2: int32, \n",
      "        EVIDENCE: array<str>, \n",
      "        FEMALE_NCR: float64, \n",
      "        FEMALE_PCRMINUS_NCR: float64, \n",
      "        FEMALE_PCRPLUS_NCR: float64, \n",
      "        LOW_CONFIDENCE_REPETITIVE_LARGE_DUP: bool, \n",
      "        MALE_NCR: float64, \n",
      "        MALE_PCRMINUS_NCR: float64, \n",
      "        MALE_PCRPLUS_NCR: float64, \n",
      "        MEMBERS: array<str>, \n",
      "        MULTIALLELIC: bool, \n",
      "        NCR: float64, \n",
      "        OUTLIER_SAMPLE_ENRICHED_LENIENT: bool, \n",
      "        PCRMINUS_NCR: float64, \n",
      "        PCRPLUS_NCR: float64, \n",
      "        PESR_GT_OVERDISPERSION: bool, \n",
      "        POS2: int32, \n",
      "        RESOLVED_POSTHOC: bool, \n",
      "        SOURCE: str, \n",
      "        SVLEN: int32, \n",
      "        SVTYPE: str, \n",
      "        UNRESOLVED_TYPE: str, \n",
      "        PAR: bool, \n",
      "        AN: int32, \n",
      "        AC: array<int32>, \n",
      "        AF: array<float64>, \n",
      "        N_BI_GENOS: int32, \n",
      "        N_HOMREF: int32, \n",
      "        N_HET: int32, \n",
      "        N_HOMALT: int32, \n",
      "        FREQ_HOMREF: float64, \n",
      "        FREQ_HET: float64, \n",
      "        FREQ_HOMALT: float64, \n",
      "        CN_NUMBER: int32, \n",
      "        CN_COUNT: array<int32>, \n",
      "        CN_STATUS: array<int32>, \n",
      "        CN_FREQ: array<float64>, \n",
      "        CN_NONREF_COUNT: int32, \n",
      "        CN_NONREF_FREQ: float64, \n",
      "        POPMAX_AF: float64, \n",
      "        AN_AFR: int32, \n",
      "        AC_AFR: array<int32>, \n",
      "        AF_AFR: array<float64>, \n",
      "        N_BI_GENOS_AFR: int32, \n",
      "        N_HOMREF_AFR: int32, \n",
      "        N_HET_AFR: int32, \n",
      "        N_HOMALT_AFR: int32, \n",
      "        FREQ_HOMREF_AFR: float64, \n",
      "        FREQ_HET_AFR: float64, \n",
      "        FREQ_HOMALT_AFR: float64, \n",
      "        CN_NUMBER_AFR: int32, \n",
      "        CN_COUNT_AFR: array<int32>, \n",
      "        CN_STATUS_AFR: array<int32>, \n",
      "        CN_FREQ_AFR: array<float64>, \n",
      "        CN_NONREF_COUNT_AFR: int32, \n",
      "        CN_NONREF_FREQ_AFR: float64, \n",
      "        AN_AMR: int32, \n",
      "        AC_AMR: array<int32>, \n",
      "        AF_AMR: array<float64>, \n",
      "        N_BI_GENOS_AMR: int32, \n",
      "        N_HOMREF_AMR: int32, \n",
      "        N_HET_AMR: int32, \n",
      "        N_HOMALT_AMR: int32, \n",
      "        FREQ_HOMREF_AMR: float64, \n",
      "        FREQ_HET_AMR: float64, \n",
      "        FREQ_HOMALT_AMR: float64, \n",
      "        CN_NUMBER_AMR: int32, \n",
      "        CN_COUNT_AMR: array<int32>, \n",
      "        CN_STATUS_AMR: array<int32>, \n",
      "        CN_FREQ_AMR: array<float64>, \n",
      "        CN_NONREF_COUNT_AMR: int32, \n",
      "        CN_NONREF_FREQ_AMR: float64, \n",
      "        AN_ASN: int32, \n",
      "        AC_ASN: array<int32>, \n",
      "        AF_ASN: array<float64>, \n",
      "        N_BI_GENOS_ASN: int32, \n",
      "        N_HOMREF_ASN: int32, \n",
      "        N_HET_ASN: int32, \n",
      "        N_HOMALT_ASN: int32, \n",
      "        FREQ_HOMREF_ASN: float64, \n",
      "        FREQ_HET_ASN: float64, \n",
      "        FREQ_HOMALT_ASN: float64, \n",
      "        CN_NUMBER_ASN: int32, \n",
      "        CN_COUNT_ASN: array<int32>, \n",
      "        CN_STATUS_ASN: array<int32>, \n",
      "        CN_FREQ_ASN: array<float64>, \n",
      "        CN_NONREF_COUNT_ASN: int32, \n",
      "        CN_NONREF_FREQ_ASN: float64, \n",
      "        AN_EUR: int32, \n",
      "        AC_EUR: array<int32>, \n",
      "        AF_EUR: array<float64>, \n",
      "        N_BI_GENOS_EUR: int32, \n",
      "        N_HOMREF_EUR: int32, \n",
      "        N_HET_EUR: int32, \n",
      "        N_HOMALT_EUR: int32, \n",
      "        FREQ_HOMREF_EUR: float64, \n",
      "        FREQ_HET_EUR: float64, \n",
      "        FREQ_HOMALT_EUR: float64, \n",
      "        CN_NUMBER_EUR: int32, \n",
      "        CN_COUNT_EUR: array<int32>, \n",
      "        CN_STATUS_EUR: array<int32>, \n",
      "        CN_FREQ_EUR: array<float64>, \n",
      "        CN_NONREF_COUNT_EUR: int32, \n",
      "        CN_NONREF_FREQ_EUR: float64, \n",
      "        AN_SAN: int32, \n",
      "        AC_SAN: array<int32>, \n",
      "        AF_SAN: array<float64>, \n",
      "        N_BI_GENOS_SAN: int32, \n",
      "        N_HOMREF_SAN: int32, \n",
      "        N_HET_SAN: int32, \n",
      "        N_HOMALT_SAN: int32, \n",
      "        FREQ_HOMREF_SAN: float64, \n",
      "        FREQ_HET_SAN: float64, \n",
      "        FREQ_HOMALT_SAN: float64, \n",
      "        CN_NUMBER_SAN: int32, \n",
      "        CN_COUNT_SAN: array<int32>, \n",
      "        CN_STATUS_SAN: array<int32>, \n",
      "        CN_FREQ_SAN: array<float64>, \n",
      "        CN_NONREF_COUNT_SAN: int32, \n",
      "        CN_NONREF_FREQ_SAN: float64\n",
      "    }\n",
      "----------------------------------------\n",
      "Entry fields:\n",
      "    'CN': int32\n",
      "    'CNQ': int32\n",
      "    'EV': array<str>\n",
      "    'GQ': int32\n",
      "    'GT': call\n",
      "    'MANUAL': str\n",
      "    'PE_GQ': int32\n",
      "    'PE_GT': int32\n",
      "    'RD_CN': int32\n",
      "    'RD_GQ': int32\n",
      "    'SR_GQ': int32\n",
      "    'SR_GT': int32\n",
      "----------------------------------------\n",
      "Column key: ['s']\n",
      "Row key: ['locus', 'alleles']\n",
      "----------------------------------------\n",
      "----------------------------------------\n",
      "Global fields:\n",
      "    None\n",
      "----------------------------------------\n",
      "Row fields:\n",
      "    's': str \n",
      "    'SEX': str \n",
      "    'PRIMARY_DISEASE': str \n",
      "    'CASECON': str \n",
      "    'COHORT': str \n",
      "    'POP': str \n",
      "    'CHIP': str \n",
      "----------------------------------------\n",
      "Key: ['s']\n",
      "----------------------------------------\n"
     ]
    }
   ],
   "source": [
    "ht.describe()\n",
    "mt.describe()\n",
    "manifest.describe()"
   ]
  },
  {
   "cell_type": "code",
   "execution_count": 4,
   "id": "7c873159",
   "metadata": {},
   "outputs": [
    {
     "data": {
      "text/html": [
       "<pre style=\"white-space:pre;overflow-x:auto;line-height:normal;font-family:Menlo,'DejaVu Sans Mono',consolas,'Courier New',monospace\">\n",
       "</pre>\n"
      ],
      "text/plain": [
       "\n"
      ]
     },
     "metadata": {},
     "output_type": "display_data"
    },
    {
     "data": {
      "application/vnd.jupyter.widget-view+json": {
       "model_id": "63380119d77e4a9bae7a3eb15856621a",
       "version_major": 2,
       "version_minor": 0
      },
      "text/plain": [
       "Output()"
      ]
     },
     "metadata": {},
     "output_type": "display_data"
    },
    {
     "data": {
      "text/html": [
       "<pre style=\"white-space:pre;overflow-x:auto;line-height:normal;font-family:Menlo,'DejaVu Sans Mono',consolas,'Courier New',monospace\"></pre>\n"
      ],
      "text/plain": []
     },
     "metadata": {},
     "output_type": "display_data"
    },
    {
     "data": {
      "text/html": [
       "<pre style=\"white-space:pre;overflow-x:auto;line-height:normal;font-family:Menlo,'DejaVu Sans Mono',consolas,'Courier New',monospace\">\n",
       "</pre>\n"
      ],
      "text/plain": [
       "\n"
      ]
     },
     "metadata": {},
     "output_type": "display_data"
    },
    {
     "data": {
      "text/plain": [
       "(1144040, 63046)"
      ]
     },
     "execution_count": 4,
     "metadata": {},
     "output_type": "execute_result"
    }
   ],
   "source": [
    "ht = ht.filter(hl.any(lambda x: x == 'PASS', ht.filters), keep = True)\n",
    "mt = mt.filter_rows(hl.is_defined(ht[mt.rsid]), keep = True)\n",
    "mt.count()"
   ]
  },
  {
   "cell_type": "code",
   "execution_count": 34,
   "id": "87ad3a64",
   "metadata": {},
   "outputs": [
    {
     "data": {
      "text/html": [
       "<pre style=\"white-space:pre;overflow-x:auto;line-height:normal;font-family:Menlo,'DejaVu Sans Mono',consolas,'Courier New',monospace\">\n",
       "</pre>\n"
      ],
      "text/plain": [
       "\n"
      ]
     },
     "metadata": {},
     "output_type": "display_data"
    },
    {
     "data": {
      "application/vnd.jupyter.widget-view+json": {
       "model_id": "31d23b7a6b9746aa8e6b2ab9ad10fc4e",
       "version_major": 2,
       "version_minor": 0
      },
      "text/plain": [
       "Output()"
      ]
     },
     "metadata": {},
     "output_type": "display_data"
    },
    {
     "data": {
      "text/html": [
       "<pre style=\"white-space:pre;overflow-x:auto;line-height:normal;font-family:Menlo,'DejaVu Sans Mono',consolas,'Courier New',monospace\"></pre>\n"
      ],
      "text/plain": []
     },
     "metadata": {},
     "output_type": "display_data"
    },
    {
     "data": {
      "text/html": [
       "<pre style=\"white-space:pre;overflow-x:auto;line-height:normal;font-family:Menlo,'DejaVu Sans Mono',consolas,'Courier New',monospace\">\n",
       "</pre>\n"
      ],
      "text/plain": [
       "\n"
      ]
     },
     "metadata": {},
     "output_type": "display_data"
    },
    {
     "data": {
      "text/html": [
       "<table><thead><tr><td style=\"white-space: nowrap; max-width: 500px; overflow: hidden; text-overflow: ellipsis; \" colspan=\"1\"><div style=\"text-align: left;\"></div></td><td style=\"white-space: nowrap; max-width: 500px; overflow: hidden; text-overflow: ellipsis; \" colspan=\"1\"><div style=\"text-align: left;\"></div></td><td style=\"white-space: nowrap; max-width: 500px; overflow: hidden; text-overflow: ellipsis; \" colspan=\"1\"><div style=\"text-align: left;\"></div></td><td style=\"white-space: nowrap; max-width: 500px; overflow: hidden; text-overflow: ellipsis; \" colspan=\"1\"><div style=\"text-align: left;\"></div></td><td style=\"white-space: nowrap; max-width: 500px; overflow: hidden; text-overflow: ellipsis; \" colspan=\"1\"><div style=\"text-align: left;\"></div></td><td style=\"white-space: nowrap; max-width: 500px; overflow: hidden; text-overflow: ellipsis; \" colspan=\"1\"><div style=\"text-align: left;\"></div></td><td style=\"white-space: nowrap; max-width: 500px; overflow: hidden; text-overflow: ellipsis; \" colspan=\"1\"><div style=\"text-align: left;\"></div></td></tr><tr><td style=\"white-space: nowrap; max-width: 500px; overflow: hidden; text-overflow: ellipsis; \" colspan=\"1\"><div style=\"text-align: left;border-bottom: solid 2px #000; padding-bottom: 5px\">locus</div></td><td style=\"white-space: nowrap; max-width: 500px; overflow: hidden; text-overflow: ellipsis; \" colspan=\"1\"><div style=\"text-align: left;border-bottom: solid 2px #000; padding-bottom: 5px\">sv_id</div></td><td style=\"white-space: nowrap; max-width: 500px; overflow: hidden; text-overflow: ellipsis; \" colspan=\"1\"><div style=\"text-align: left;border-bottom: solid 2px #000; padding-bottom: 5px\">sv_type</div></td><td style=\"white-space: nowrap; max-width: 500px; overflow: hidden; text-overflow: ellipsis; \" colspan=\"1\"><div style=\"text-align: left;border-bottom: solid 2px #000; padding-bottom: 5px\">qual</div></td><td style=\"white-space: nowrap; max-width: 500px; overflow: hidden; text-overflow: ellipsis; \" colspan=\"1\"><div style=\"text-align: left;border-bottom: solid 2px #000; padding-bottom: 5px\">filters</div></td><td style=\"white-space: nowrap; max-width: 500px; overflow: hidden; text-overflow: ellipsis; \" colspan=\"1\"><div style=\"text-align: left;border-bottom: solid 2px #000; padding-bottom: 5px\">info</div></td><td style=\"white-space: nowrap; max-width: 500px; overflow: hidden; text-overflow: ellipsis; \" colspan=\"1\"><div style=\"text-align: left;border-bottom: solid 2px #000; padding-bottom: 5px\">keys</div></td></tr><tr><td style=\"white-space: nowrap; max-width: 500px; overflow: hidden; text-overflow: ellipsis; text-align: left;\">locus&lt;GRCh38&gt;</td><td style=\"white-space: nowrap; max-width: 500px; overflow: hidden; text-overflow: ellipsis; text-align: left;\">str</td><td style=\"white-space: nowrap; max-width: 500px; overflow: hidden; text-overflow: ellipsis; text-align: left;\">str</td><td style=\"white-space: nowrap; max-width: 500px; overflow: hidden; text-overflow: ellipsis; text-align: left;\">str</td><td style=\"white-space: nowrap; max-width: 500px; overflow: hidden; text-overflow: ellipsis; text-align: left;\">array&lt;str&gt;</td><td style=\"white-space: nowrap; max-width: 500px; overflow: hidden; text-overflow: ellipsis; text-align: left;\">dict&lt;str, str&gt;</td><td style=\"white-space: nowrap; max-width: 500px; overflow: hidden; text-overflow: ellipsis; text-align: left;\">array&lt;str&gt;</td></tr>\n",
       "</thead><tbody><tr><td style=\"white-space: nowrap; max-width: 500px; overflow: hidden; text-overflow: ellipsis; \">chr1:10000</td><td style=\"white-space: nowrap; max-width: 500px; overflow: hidden; text-overflow: ellipsis; \">&quot;gnomAD-SV_v3_DUP_chr1_01c2781c&quot;</td><td style=\"white-space: nowrap; max-width: 500px; overflow: hidden; text-overflow: ellipsis; \">&quot;DUP&quot;</td><td style=\"white-space: nowrap; max-width: 500px; overflow: hidden; text-overflow: ellipsis; \">&quot;134&quot;</td><td style=\"white-space: nowrap; max-width: 500px; overflow: hidden; text-overflow: ellipsis; \">[&quot;HIGH_NCR&quot;]</td><td style=\"white-space: nowrap; max-width: 500px; overflow: hidden; text-overflow: ellipsis; \">{&quot;N_HOMALT_CTRL&quot;:&quot;0&quot;,&quot;AF_CTRL_oth&quot;:&quot;0.002283&quot;,&quot;FREQ_HOMALT_CTRL_mid&quot;:&quot;0&quot;,&quot;N_HOMALT_CTRL_fin&quot;:&quot;0&quot;,&quot;AC_CASE_nfe&quot;:&quot;0&quot;,&quot;N_HOMREF_nfe&quot;:&quot;3897&quot;,&quot;FREQ_HOMREF_sas&quot;:&quot;1&quot;,&quot;N_HET_eas&quot;:&quot;0&quot;,&quot;N_HOMALT_CASE_nfe&quot;:&quot;0&quot;,&quot;FREQ_HOMALT_CTRL_fin&quot;:&quot;0&quot;,&quot;N_HOMREF_mid&quot;:&quot;5&quot;,&quot;AF_SCZ&quot;:&quot;0.002196&quot;,&quot;AN_CTRL_mid&quot;:&quot;6&quot;,&quot;FREQ_HET_SCZ_mid&quot;:&quot;0&quot;,&quot;N_HET_BD_fin&quot;:&quot;0&quot;,&quot;N_HOMALT_SCZ_afr&quot;:&quot;0&quot;,&quot;N_HOMREF_SCZ_oth&quot;:&quot;11&quot;,&quot;AC_SCZ_fin&quot;:&quot;0&quot;,&quot;N_HOMREF_SCZ_fin&quot;:&quot;289&quot;,&quot;FREQ_HOMREF_BD_nfe&quot;:&quot;1&quot;,&quot;AF_CASE_nfe&quot;:&quot;0&quot;,&quot;FREQ_HET_CTRL_asj&quot;:&quot;0&quot;,&quot;N_HET&quot;:&quot;139&quot;,&quot;AN_SCZ&quot;:&quot;5920&quot;,&quot;FREQ_HET_BD&quot;:&quot;0.0040282&quot;,&quot;AN_CTRL_nfe&quot;:&quot;6284&quot;,&quot;AF_BD_asj&quot;:&quot;0&quot;,&quot;N_HOMALT_oth&quot;:&quot;0&quot;,&quot;AN_SCZ_afr&quot;:&quot;4376&quot;,&quot;N_HET_SCZ_amr&quot;:&quot;0&quot;,&quot;AF_SCZ_fin&quot;:&quot;0&quot;,&quot;FREQ_HET_SCZ_nfe&quot;:&quot;0&quot;,&quot;AC_amr&quot;:&quot;1&quot;,&quot;AF_SCZ_sas&quot;:&quot;0&quot;,&quot;N_HOMREF_OthDISEASE&quot;:&quot;4&quot;,&quot;AN_BD_ami&quot;:&quot;4&quot;,&quot;FREQ_HET_BD_oth&quot;:&quot;0&quot;,&quot;FREQ_HET_CTRL_sas&quot;:&quot;0&quot;,&quot;FREQ_HOMREF_CTRL_nfe&quot;:&quot;0.999363&quot;,&quot;FREQ_HOMREF_BD_oth&quot;:&quot;1&quot;,&quot;N_HOMALT_fin&quot;:&quot;0&quot;,&quot;FREQ_HOMALT_CTRL_ami&quot;:&quot;0&quot;,&quot;N_BI_GENOS_CASE_nfe&quot;:&quot;4&quot;,&quot;N_HOMREF_CASE_nfe&quot;:&quot;4&quot;,&quot;AC_CTRL_asj&quot;:&quot;0&quot;,&quot;N_HET_amr&quot;:&quot;1&quot;,&quot;AC&quot;:&quot;139&quot;,&quot;FREQ_HOMREF_oth&quot;:&quot;0.99569&quot;,&quot;N_BI_GENOS_amr&quot;:&quot;988&quot;,&quot;AC_afr&quot;:&quot;39&quot;,&quot;N_HOMALT_BD_afr&quot;:&quot;0&quot;,&quot;N_HOMALT_CTRL_ami&quot;:&quot;0&quot;,&quot;N_HET_CTRL_nfe&quot;:&quot;2&quot;,&quot;N_HOMALT_BD_amr&quot;:&quot;0&quot;,&quot;N_BI_GENOS&quot;:&quot;34797&quot;,&quot;FREQ_HET_CTRL&quot;:&quot;0.00303371&quot;,&quot;AC_BD_asj&quot;:&quot;0&quot;,&quot;N_HOMREF_SCZ_nfe&quot;:&quot;442&quot;,&quot;N_HOMREF_asj&quot;:&quot;139&quot;,&quot;N_HOMALT_SCZ_mid&quot;:&quot;0&quot;,&quot;AC_CTRL_sas&quot;:&quot;0&quot;,&quot;N_HET_BD_amr&quot;:&quot;0&quot;,&quot;N_HOMALT_SCZ_oth&quot;:&quot;0&quot;,&quot;AC_BD_oth&quot;:&quot;0&quot;,&quot;FREQ_HET_oth&quot;:&quot;0.00431034&quot;,&quot;N_HET_CTRL_oth&quot;:&quot;1&quot;,&quot;N_BI_GENOS_sas&quot;:&quot;14&quot;,&quot;N_BI_GENOS_CTRL_fin&quot;:&quot;709&quot;,&quot;FREQ_HOMREF_ami&quot;:&quot;1&quot;,&quot;N_HET_CTRL_afr&quot;:&quot;22&quot;,&quot;N_HET_fin&quot;:&quot;1&quot;,&quot;N_HOMREF_CTRL_oth&quot;:&quot;218&quot;,&quot;N_BI_GENOS_eas&quot;:&quot;27&quot;,&quot;N_HET_CTRL&quot;:&quot;27&quot;,&quot;AN_CTRL_asj&quot;:&quot;268&quot;,&quot;N_HOMREF_BD_ami&quot;:&quot;2&quot;,&quot;N_BI_GENOS_ami&quot;:&quot;15&quot;,&quot;AF_CTRL_fin&quot;:&quot;0.000705&quot;,&quot;N_HOMREF_CTRL_mid&quot;:&quot;3&quot;,&quot;FREQ_HOMALT_afr&quot;:&quot;0&quot;,&quot;FREQ_HET_SCZ_amr&quot;:&quot;0&quot;,&quot;FREQ_HOMREF_CTRL_afr&quot;:&quot;0.994022&quot;,&quot;AF_SCZ_amr&quot;:&quot;0&quot;,&quot;AN_CTRL_eas&quot;:&quot;54&quot;,&quot;FREQ_HOMREF_CTRL_ami&quot;:&quot;1&quot;,&quot;N_BI_GENOS_BD_asj&quot;:&quot;0&quot;,&quot;N_HET_SCZ_nfe&quot;:&quot;0&quot;,&quot;FREQ_HET_CTRL_afr&quot;:&quot;0.00597826&quot;,&quot;AN_eas&quot;:&quot;54&quot;,&quot;FREQ_HOMALT_asj&quot;:&quot;0&quot;,&quot;FREQ_HOMREF_SCZ_afr&quot;:&quot;0.994058&quot;,&quot;AC_eas&quot;:&quot;0&quot;,&quot;N_BI_GENOS_SCZ_fin&quot;:&quot;289&quot;,&quot;N_HET_BD_afr&quot;:&quot;4&quot;,&quot;FREQ_HOMALT_CASE_nfe&quot;:&quot;0&quot;,&quot;AC_ami&quot;:&quot;0&quot;,&quot;AN_fin&quot;:&quot;2188&quot;,&quot;AF_BD_ami&quot;:&quot;0&quot;,&quot;AC_BD_amr&quot;:&quot;0&quot;,&quot;N_HOMREF_CTRL_nfe&quot;:&quot;3140&quot;,&quot;AN&quot;:&quot;69594&quot;,&quot;N_HOMALT_CASE&quot;:&quot;0&quot;,&quot;AF_ami&quot;:&quot;0&quot;,&quot;N_BI_GENOS_SCZ_nfe&quot;:&quot;442&quot;,&quot;AN_oth&quot;:&quot;464&quot;,&quot;AF_asj&quot;:&quot;0&quot;,&quot;AN_BD_oth&quot;:&quot;4&quot;,&quot;FREQ_HOMREF_CASE&quot;:&quot;0.995704&quot;,&quot;FREQ_HET_SCZ_oth&quot;:&quot;0&quot;,&quot;N_HOMALT_SCZ&quot;:&quot;0&quot;,&quot;N_BI_GENOS_CTRL_sas&quot;:&quot;13&quot;,&quot;FREQ_HOMALT_SCZ_amr&quot;:&quot;0&quot;,&quot;N_HET_BD_ami&quot;:&quot;0&quot;,&quot;FREQ_HOMREF_BD_afr&quot;:&quot;0.993056&quot;,&quot;N_HOMALT_BD_asj&quot;:&quot;0&quot;,&quot;AF_BD_oth&quot;:&quot;0&quot;,&quot;AF_SCZ_afr&quot;:&quot;0.002971&quot;,&quot;FREQ_HET_CTRL_eas&quot;:&quot;0&quot;,&quot;N_HET_BD_asj&quot;:&quot;0&quot;,&quot;AC_BD_fin&quot;:&quot;0&quot;,&quot;AC_CTRL&quot;:&quot;27&quot;,&quot;FREQ_HOMREF_afr&quot;:&quot;0.993948&quot;,&quot;N_BI_GENOS_asj&quot;:&quot;139&quot;,&quot;N_BI_GENOS_CTRL_asj&quot;:&quot;134&quot;,&quot;N_BI_GENOS_CTRL_mid&quot;:&quot;3&quot;,&quot;AF_SCZ_mid&quot;:&quot;0&quot;,&quot;N_BI_GENOS_SCZ_afr&quot;:&quot;2188&quot;,&quot;FREQ_HOMALT_SCZ_afr&quot;:&quot;0&quot;,&quot;FREQ_HET_BD_afr&quot;:&quot;0.00694444&quot;,&quot;AC_BD_ami&quot;:&quot;0&quot;,&quot;N_HOMREF_CTRL_sas&quot;:&quot;13&quot;,&quot;AN_CTRL_ami&quot;:&quot;26&quot;,&quot;AC_BD_afr&quot;:&quot;4&quot;,&quot;FREQ_HOMALT_ami&quot;:&quot;0&quot;,&quot;AF_OthDISEASE&quot;:&quot;0&quot;,&quot;N_HOMREF_SCZ_mid&quot;:&quot;2&quot;,&quot;N_HOMALT_CTRL_afr&quot;:&quot;0&quot;,&quot;N_BI_GENOS_BD_ami&quot;:&quot;2&quot;,&quot;FREQ_HET_ami&quot;:&quot;0&quot;,&quot;AN_CASE_nfe&quot;:&quot;8&quot;,&quot;FREQ_HOMREF_CTRL_oth&quot;:&quot;0.995434&quot;,&quot;N_HET_BD&quot;:&quot;4&quot;,&quot;N_HOMREF_CTRL_asj&quot;:&quot;134&quot;,&quot;FREQ_HET_CTRL_mid&quot;:&quot;0&quot;,&quot;N_HET_SCZ_sas&quot;:&quot;0&quot;,&quot;FREQ_HET_CTRL_amr&quot;:&quot;0.00104167&quot;,&quot;N_BI_GENOS_mid&quot;:&quot;5&quot;,&quot;N_HOMREF_CTRL_afr&quot;:&quot;3658&quot;,&quot;FREQ_HOMALT_OthDISEASE&quot;:&quot;0&quot;,&quot;N_HOMALT&quot;:&quot;0&quot;,&quot;N_HOMALT_sas&quot;:&quot;0&quot;,&quot;N_BI_GENOS_BD&quot;:&quot;993&quot;,&quot;N_BI_GENOS_CTRL_eas&quot;:&quot;27&quot;,&quot;AN_SCZ_nfe&quot;:&quot;884&quot;,&quot;FREQ_HET&quot;:&quot;0.0039946&quot;,&quot;FREQ_HET_amr&quot;:&quot;0.00101215&quot;,&quot;N_HET_afr&quot;:&quot;39&quot;,&quot;FREQ_HOMALT_CTRL_nfe&quot;:&quot;0&quot;,&quot;FREQ_HET_CASE_nfe&quot;:&quot;0&quot;,&quot;FREQ_HET_SCZ_asj&quot;:&quot;0&quot;,&quot;N_BI_GENOS_CTRL_nfe&quot;:&quot;3142&quot;,&quot;AF&quot;:&quot;0.001997&quot;,&quot;FREQ_HOMREF_nfe&quot;:&quot;0.999487&quot;,&quot;AF_nfe&quot;:&quot;0.000256&quot;,&quot;FREQ_HOMREF_OthDISEASE&quot;:&quot;1&quot;,&quot;AC_SCZ_afr&quot;:&quot;13&quot;,&quot;N_HET_oth&quot;:&quot;1&quot;,&quot;N_HOMREF_BD&quot;:&quot;989&quot;,&quot;AF_BD_fin&quot;:&quot;0&quot;,&quot;FREQ_HOMREF_CTRL_mid&quot;:&quot;1&quot;,&quot;N_HOMALT_eas&quot;:&quot;0&quot;,&quot;FREQ_HET_SCZ_fin&quot;:&quot;0&quot;,&quot;AF_BD_amr&quot;:&quot;0&quot;,&quot;N_HET_mid&quot;:&quot;0&quot;,&quot;N_HET_SCZ_fin&quot;:&quot;0&quot;,&quot;AN_BD_amr&quot;:&quot;12&quot;,&quot;AC_SCZ_amr&quot;:&quot;0&quot;,&quot;FREQ_HOMREF_mid&quot;:&quot;1&quot;,&quot;FREQ_HOMALT_BD_nfe&quot;:&quot;0&quot;,&quot;N_BI_GENOS_CTRL_afr&quot;:&quot;3680&quot;,&quot;FREQ_HET_CTRL_oth&quot;:&quot;0.00456621&quot;,&quot;N_BI_GENOS_fin&quot;:&quot;1094&quot;,&quot;N_BI_GENOS_CTRL_amr&quot;:&quot;960&quot;,&quot;FREQ_HOMREF_SCZ_amr&quot;:&quot;1&quot;,&quot;FREQ_HOMREF_SCZ_fin&quot;:&quot;1&quot;,&quot;N_HOMREF_sas&quot;:&quot;14&quot;,&quot;AC_BD_nfe&quot;:&quot;0&quot;,&quot;FREQ_HOMREF_BD_ami&quot;:&quot;1&quot;,&quot;FREQ_HET_SCZ&quot;:&quot;0.00439189&quot;,&quot;AF_SCZ_oth&quot;:&quot;0&quot;,&quot;AN_CTRL_fin&quot;:&quot;1418&quot;,&quot;FREQ_HOMREF_CTRL&quot;:&quot;0.996966&quot;,&quot;PREDICTED_COPY_GAIN&quot;:&quot;OR4F5&quot;,&quot;AC_CTRL_fin&quot;:&quot;1&quot;,&quot;NCR&quot;:&quot;0.466928&quot;,&quot;FREQ_HOMREF_SCZ_mid&quot;:&quot;1&quot;,&quot;N_HET_sas&quot;:&quot;0&quot;,&quot;N_HOMREF_oth&quot;:&quot;231&quot;,&quot;AN_CTRL_sas&quot;:&quot;26&quot;,&quot;AF_oth&quot;:&quot;0.002155&quot;,&quot;FREQ_HOMREF_CTRL_amr&quot;:&quot;0.998958&quot;,&quot;N_HOMREF_SCZ_asj&quot;:&quot;5&quot;,&quot;AN_amr&quot;:&quot;1976&quot;,&quot;FREQ_HOMALT_oth&quot;:&quot;0&quot;,&quot;FREQ_HOMALT_BD_fin&quot;:&quot;0&quot;,&quot;FREQ_HOMREF_SCZ_nfe&quot;:&quot;1&quot;,&quot;AN_BD_asj&quot;:&quot;0&quot;,&quot;N_HOMREF_fin&quot;:&quot;1093&quot;,&quot;N_HOMALT_BD_ami&quot;:&quot;0&quot;,&quot;CHR2&quot;:&quot;chr1&quot;,&quot;N_HOMREF_CASE&quot;:&quot;3940&quot;,&quot;POPMAX_AF&quot;:&quot;0.003472&quot;,&quot;FREQ_HET_CASE&quot;:&quot;0.00429618&quot;,&quot;AN_BD_nfe&quot;:&quot;622&quot;,&quot;FREQ_HOMALT_BD_asj&quot;:&quot;0&quot;,&quot;AF_BD_nfe&quot;:&quot;0&quot;,&quot;AN_SCZ_amr&quot;:&quot;44&quot;,&quot;N_HOMALT_amr&quot;:&quot;0&quot;,&quot;AF_BD&quot;:&quot;0.002014&quot;,&quot;N_HET_asj&quot;:&quot;0&quot;,&quot;N_BI_GENOS_CTRL_oth&quot;:&quot;219&quot;,&quot;FREQ_HOMALT_amr&quot;:&quot;0&quot;,&quot;FREQ_HOMREF_CTRL_fin&quot;:&quot;0.99859&quot;,&quot;N_HOMALT_CTRL_sas&quot;:&quot;0&quot;,&quot;N_HOMREF_eas&quot;:&quot;27&quot;,&quot;AN_SCZ_mid&quot;:&quot;4&quot;,&quot;N_HOMALT_afr&quot;:&quot;0&quot;,&quot;AC_CTRL_amr&quot;:&quot;1&quot;,&quot;FREQ_HOMALT_CTRL&quot;:&quot;0&quot;,&quot;N_HOMALT_OthDISEASE&quot;:&quot;0&quot;,&quot;FREQ_HOMALT&quot;:&quot;0&quot;,&quot;FREQ_HOMALT_BD_oth&quot;:&quot;0&quot;,&quot;FREQ_HOMREF_CTRL_sas&quot;:&quot;1&quot;,&quot;N_HET_CTRL_eas&quot;:&quot;0&quot;,&quot;FREQ_HOMREF_CASE_nfe&quot;:&quot;1&quot;,&quot;AN_BD&quot;:&quot;1986&quot;,&quot;AF_fin&quot;:&quot;0.000457&quot;,&quot;N_HOMREF_CTRL&quot;:&quot;8873&quot;,&quot;N_HET_BD_nfe&quot;:&quot;0&quot;,&quot;SVLEN&quot;:&quot;285666&quot;,&quot;AC_mid&quot;:&quot;0&quot;,&quot;AN_SCZ_sas&quot;:&quot;2&quot;,&quot;AF_amr&quot;:&quot;0.000506&quot;,&quot;AF_CTRL_mid&quot;:&quot;0&quot;,&quot;AF_SCZ_asj&quot;:&quot;0&quot;,&quot;AC_CTRL_afr&quot;:&quot;22&quot;,&quot;N_HOMREF_BD_asj&quot;:&quot;0&quot;,&quot;FREQ_HOMALT_SCZ&quot;:&quot;0&quot;,&quot;N_HOMREF_CTRL_fin&quot;:&quot;708&quot;,&quot;N_BI_GENOS_SCZ_oth&quot;:&quot;11&quot;,&quot;N_HET_ami&quot;:&quot;0&quot;,&quot;AC_SCZ&quot;:&quot;13&quot;,&quot;N_HET_CASE&quot;:&quot;17&quot;,&quot;FREQ_HOMALT_SCZ_mid&quot;:&quot;0&quot;,&quot;N_HOMREF_CTRL_ami&quot;:&quot;13&quot;,&quot;N_BI_GENOS_BD_amr&quot;:&quot;6&quot;,&quot;FREQ_HOMALT_BD_amr&quot;:&quot;0&quot;,&quot;N_HOMREF_SCZ_amr&quot;:&quot;22&quot;,&quot;N_HOMREF_BD_oth&quot;:&quot;2&quot;,&quot;N_HOMALT_SCZ_sas&quot;:&quot;0&quot;,&quot;FREQ_HOMREF_SCZ_sas&quot;:&quot;1&quot;,&quot;AC_SCZ_mid&quot;:&quot;0&quot;,&quot;FREQ_HOMALT_CTRL_asj&quot;:&quot;0&quot;,&quot;N_HET_CTRL_fin&quot;:&quot;1&quot;,&quot;N_HOMALT_CTRL_nfe&quot;:&quot;0&quot;,&quot;N_HOMREF_BD_afr&quot;:&quot;572&quot;,&quot;N_HOMREF_SCZ&quot;:&quot;2947&quot;,&quot;FREQ_HOMREF_SCZ&quot;:&quot;0.995608&quot;,&quot;AF_afr&quot;:&quot;0.003026&quot;,&quot;AN_BD_fin&quot;:&quot;192&quot;,&quot;AN_mid&quot;:&quot;10&quot;,&quot;AF_mid&quot;:&quot;0&quot;,&quot;AN_ami&quot;:&quot;30&quot;,&quot;AF_CASE&quot;:&quot;0.002148&quot;,&quot;FREQ_HOMALT_eas&quot;:&quot;0&quot;,&quot;AC_SCZ_nfe&quot;:&quot;0&quot;,&quot;AC_CTRL_ami&quot;:&quot;0&quot;,&quot;FREQ_HOMALT_nfe&quot;:&quot;0&quot;,&quot;N_HET_OthDISEASE&quot;:&quot;0&quot;,&quot;N_HET_CTRL_ami&quot;:&quot;0&quot;,&quot;AN_CTRL_oth&quot;:&quot;438&quot;,&quot;N_HET_nfe&quot;:&quot;2&quot;,&quot;AN_SCZ_asj&quot;:&quot;10&quot;,&quot;N_HOMALT_CTRL_eas&quot;:&quot;0&quot;,&quot;AF_CTRL_sas&quot;:&quot;0&quot;,&quot;FREQ_HET_sas&quot;:&quot;0&quot;,&quot;AN_CTRL_amr&quot;:&quot;1920&quot;,&quot;N_BI_GENOS_CASE&quot;:&quot;3957&quot;,&quot;FREQ_HET_CTRL_fin&quot;:&quot;0.00141044&quot;,&quot;N_HOMALT_BD_oth&quot;:&quot;0&quot;,&quot;FREQ_HET_BD_ami&quot;:&quot;0&quot;,&quot;AC_BD&quot;:&quot;4&quot;,&quot;N_BI_GENOS_BD_afr&quot;:&quot;576&quot;,&quot;N_HOMREF_BD_fin&quot;:&quot;96&quot;,&quot;N_HET_CTRL_asj&quot;:&quot;0&quot;,&quot;FREQ_HOMALT_SCZ_nfe&quot;:&quot;0&quot;,&quot;ALGORITHMS&quot;:&quot;depth&quot;,&quot;N_HOMREF_amr&quot;:&quot;987&quot;,&quot;FREQ_HET_eas&quot;:&quot;0&quot;,&quot;N_HET_SCZ_mid&quot;:&quot;0&quot;,&quot;N_HOMREF_ami&quot;:&quot;15&quot;,&quot;AN_CASE&quot;:&quot;7914&quot;,&quot;FREQ_HET_nfe&quot;:&quot;0.000512952&quot;,&quot;N_HOMALT_asj&quot;:&quot;0&quot;,&quot;N_HOMALT_SCZ_asj&quot;:&quot;0&quot;,&quot;N_BI_GENOS_CTRL&quot;:&quot;8900&quot;,&quot;AN_CTRL_afr&quot;:&quot;7360&quot;,&quot;FREQ_HOMALT_CTRL_amr&quot;:&quot;0&quot;,&quot;AC_CTRL_eas&quot;:&quot;0&quot;,&quot;FREQ_HET_afr&quot;:&quot;0.00605214&quot;,&quot;FREQ_HOMREF_CTRL_asj&quot;:&quot;1&quot;,&quot;FREQ_HOMALT_BD_afr&quot;:&quot;0&quot;,&quot;N_BI_GENOS_BD_nfe&quot;:&quot;311&quot;,&quot;AN_asj&quot;:&quot;278&quot;,&quot;N_HOMREF_afr&quot;:&quot;6405&quot;,&quot;AF_sas&quot;:&quot;0&quot;,&quot;N_HET_BD_oth&quot;:&quot;0&quot;,&quot;N_HOMALT_SCZ_amr&quot;:&quot;0&quot;,&quot;FREQ_HOMREF_BD&quot;:&quot;0.995972&quot;,&quot;N_HET_CTRL_sas&quot;:&quot;0&quot;,&quot;FREQ_HOMREF_CTRL_eas&quot;:&quot;1&quot;,&quot;N_BI_GENOS_SCZ&quot;:&quot;2960&quot;,&quot;N_HOMREF_BD_nfe&quot;:&quot;311&quot;,&quot;FREQ_HOMREF_BD_fin&quot;:&quot;1&quot;,&quot;FREQ_HET_fin&quot;:&quot;0.000914077&quot;,&quot;AC_nfe&quot;:&quot;2&quot;,&quot;AC_CTRL_mid&quot;:&quot;0&quot;,&quot;N_HOMREF_SCZ_sas&quot;:&quot;1&quot;,&quot;FREQ_HOMALT_mid&quot;:&quot;0&quot;,&quot;N_BI_GENOS_oth&quot;:&quot;232&quot;,&quot;N_HOMREF_CTRL_amr&quot;:&quot;959&quot;,&quot;N_HET_SCZ_oth&quot;:&quot;0&quot;,&quot;N_HOMALT_ami&quot;:&quot;0&quot;,&quot;END&quot;:&quot;295666&quot;,&quot;AF_CTRL_eas&quot;:&quot;0&quot;,&quot;N_BI_GENOS_CTRL_ami&quot;:&quot;13&quot;,&quot;PCRMINUS_NCR&quot;:&quot;0.432727&quot;,&quot;N_BI_GENOS_SCZ_amr&quot;:&quot;22&quot;,&quot;N_HET_CTRL_mid&quot;:&quot;0&quot;,&quot;AN_sas&quot;:&quot;28&quot;,&quot;FREQ_HOMALT_fin&quot;:&quot;0&quot;,&quot;FREQ_HOMREF_fin&quot;:&quot;0.999086&quot;,&quot;FREQ_HET_BD_nfe&quot;:&quot;0&quot;,&quot;AN_SCZ_fin&quot;:&quot;578&quot;,&quot;FREQ_HET_asj&quot;:&quot;0&quot;,&quot;AF_CTRL_asj&quot;:&quot;0&quot;,&quot;AN_afr&quot;:&quot;12888&quot;,&quot;PCRPLUS_NCR&quot;:&quot;0.855144&quot;,&quot;FREQ_HOMALT_CTRL_oth&quot;:&quot;0&quot;,&quot;N_HOMALT_mid&quot;:&quot;0&quot;,&quot;FREQ_HET_CTRL_nfe&quot;:&quot;0.000636537&quot;,&quot;N_HET_SCZ_afr&quot;:&quot;13&quot;,&quot;AF_CTRL_afr&quot;:&quot;0.002989&quot;,&quot;N_HET_CASE_nfe&quot;:&quot;0&quot;,&quot;AN_SCZ_oth&quot;:&quot;22&quot;,&quot;N_HOMREF&quot;:&quot;34658&quot;,&quot;FREQ_HOMREF_amr&quot;:&quot;0.998988&quot;,&quot;N_HOMALT_CTRL_mid&quot;:&quot;0&quot;,&quot;FREQ_HOMREF_eas&quot;:&quot;1&quot;,&quot;N_HOMREF_SCZ_afr&quot;:&quot;2175&quot;,&quot;N_HOMALT_BD&quot;:&quot;0&quot;,&quot;N_BI_GENOS_BD_fin&quot;:&quot;96&quot;,&quot;FREQ_HOMALT_sas&quot;:&quot;0&quot;,&quot;FREQ_HET_CTRL_ami&quot;:&quot;0&quot;,&quot;EVIDENCE&quot;:&quot;BAF,RD&quot;,&quot;AN_nfe&quot;:&quot;7798&quot;,&quot;FREQ_HOMREF_BD_amr&quot;:&quot;1&quot;,&quot;AF_CTRL&quot;:&quot;0.001517&quot;,&quot;FREQ_HOMALT_CASE&quot;:&quot;0&quot;,&quot;N_HOMREF_BD_amr&quot;:&quot;6&quot;,&quot;N_HOMALT_BD_fin&quot;:&quot;0&quot;,&quot;FREQ_HOMALT_CTRL_eas&quot;:&quot;0&quot;,&quot;AF_CTRL_amr&quot;:&quot;0.000521&quot;,&quot;FREQ_HOMALT_CTRL_afr&quot;:&quot;0&quot;,&quot;FREQ_HOMREF_BD_asj&quot;:&quot;0&quot;,&quot;N_HET_SCZ_asj&quot;:&quot;0&quot;,&quot;FREQ_HOMALT_CTRL_sas&quot;:&quot;0&quot;,&quot;AF_BD_afr&quot;:&quot;0.003472&quot;,&quot;N_HOMALT_CTRL_asj&quot;:&quot;0&quot;,&quot;FREQ_HOMREF_SCZ_oth&quot;:&quot;1&quot;,&quot;AC_sas&quot;:&quot;0&quot;,&quot;N_BI_GENOS_SCZ_sas&quot;:&quot;1&quot;,&quot;FREQ_HOMALT_SCZ_asj&quot;:&quot;0&quot;,&quot;AC_asj&quot;:&quot;0&quot;,&quot;FREQ_HOMALT_SCZ_sas&quot;:&quot;0&quot;,&quot;AF_eas&quot;:&quot;0&quot;,&quot;AC_oth&quot;:&quot;1&quot;,&quot;FREQ_HET_BD_fin&quot;:&quot;0&quot;,&quot;FREQ_HOMALT_BD_ami&quot;:&quot;0&quot;,&quot;AC_SCZ_oth&quot;:&quot;0&quot;,&quot;N_HOMALT_BD_nfe&quot;:&quot;0&quot;,&quot;AC_CTRL_oth&quot;:&quot;1&quot;,&quot;LOW_CONFIDENCE_REPETITIVE_LARGE_DUP&quot;:&quot;&quot;,&quot;AC_SCZ_sas&quot;:&quot;0&quot;,&quot;AC_OthDISEASE&quot;:&quot;0&quot;,&quot;AC_CASE&quot;:&quot;17&quot;,&quot;AC_fin&quot;:&quot;1&quot;,&quot;FREQ_HOMALT_SCZ_fin&quot;:&quot;0&quot;,&quot;N_BI_GENOS_SCZ_mid&quot;:&quot;2&quot;,&quot;N_BI_GENOS_nfe&quot;:&quot;3899&quot;,&quot;FREQ_HOMREF_SCZ_asj&quot;:&quot;1&quot;,&quot;AC_SCZ_asj&quot;:&quot;0&quot;,&quot;N_BI_GENOS_afr&quot;:&quot;6444&quot;,&quot;FREQ_HET_BD_asj&quot;:&quot;0&quot;,&quot;FREQ_HET_OthDISEASE&quot;:&quot;0&quot;,&quot;AF_CTRL_nfe&quot;:&quot;0.000318&quot;,&quot;SVTYPE&quot;:&quot;DUP&quot;,&quot;FREQ_HET_mid&quot;:&quot;0&quot;,&quot;AF_CTRL_ami&quot;:&quot;0&quot;,&quot;AC_CTRL_nfe&quot;:&quot;2&quot;,&quot;AN_BD_afr&quot;:&quot;1152&quot;,&quot;AN_CTRL&quot;:&quot;17800&quot;,&quot;N_HOMALT_CTRL_amr&quot;:&quot;0&quot;,&quot;FREQ_HOMREF_asj&quot;:&quot;1&quot;,&quot;FREQ_HOMREF&quot;:&quot;0.996005&quot;,&quot;N_BI_GENOS_BD_oth&quot;:&quot;2&quot;,&quot;N_HET_CTRL_amr&quot;:&quot;1&quot;,&quot;N_HOMALT_nfe&quot;:&quot;0&quot;,&quot;N_HOMALT_CTRL_oth&quot;:&quot;0&quot;,&quot;N_HOMREF_CTRL_eas&quot;:&quot;27&quot;,&quot;N_HET_SCZ&quot;:&quot;13&quot;,&quot;FREQ_HET_SCZ_afr&quot;:&quot;0.0059415&quot;,&quot;N_BI_GENOS_SCZ_asj&quot;:&quot;5&quot;,&quot;FREQ_HET_SCZ_sas&quot;:&quot;0&quot;,&quot;N_BI_GENOS_OthDISEASE&quot;:&quot;4&quot;,&quot;N_HOMALT_SCZ_fin&quot;:&quot;0&quot;,&quot;N_HOMALT_SCZ_nfe&quot;:&quot;0&quot;,&quot;AN_OthDISEASE&quot;:&quot;8&quot;,&quot;AF_SCZ_nfe&quot;:&quot;0&quot;,&quot;FREQ_HET_BD_amr&quot;:&quot;0&quot;,&quot;FREQ_HOMALT_BD&quot;:&quot;0&quot;,&quot;FREQ_HOMALT_SCZ_oth&quot;:&quot;0&quot;}</td><td style=\"white-space: nowrap; max-width: 500px; overflow: hidden; text-overflow: ellipsis; \">[&quot;AC&quot;,&quot;AC_BD&quot;,&quot;AC_BD_afr&quot;,&quot;AC_BD_ami&quot;,&quot;AC_BD_amr&quot;,&quot;AC_BD_asj&quot;,&quot;AC_BD_fin&quot;,&quot;AC_BD_nfe&quot;,&quot;AC_BD_oth&quot;,&quot;AC_CASE&quot;,&quot;AC_CASE_nfe&quot;,&quot;AC_CTRL&quot;,&quot;AC_CTRL_afr&quot;,&quot;AC_CTRL_ami&quot;,&quot;AC_CTRL_amr&quot;,&quot;AC_CTRL_asj&quot;,&quot;AC_CTRL_eas&quot;,&quot;AC_CTRL_fin&quot;,&quot;AC_CTRL_mid&quot;,&quot;AC_CTRL_nfe&quot;,&quot;AC_CTRL_oth&quot;,&quot;AC_CTRL_sas&quot;,&quot;AC_OthDISEASE&quot;,&quot;AC_SCZ&quot;,&quot;AC_SCZ_afr&quot;,&quot;AC_SCZ_amr&quot;,&quot;AC_SCZ_asj&quot;,&quot;AC_SCZ_fin&quot;,&quot;AC_SCZ_mid&quot;,&quot;AC_SCZ_nfe&quot;,&quot;AC_SCZ_oth&quot;,&quot;AC_SCZ_sas&quot;,&quot;AC_afr&quot;,&quot;AC_ami&quot;,&quot;AC_amr&quot;,&quot;AC_asj&quot;,&quot;AC_eas&quot;,&quot;AC_fin&quot;,&quot;AC_mid&quot;,&quot;AC_nfe&quot;,&quot;AC_oth&quot;,&quot;AC_sas&quot;,&quot;AF&quot;,&quot;AF_BD&quot;,&quot;AF_BD_afr&quot;,&quot;AF_BD_ami&quot;,&quot;AF_BD_amr&quot;,&quot;AF_BD_asj&quot;,&quot;AF_BD_fin&quot;,&quot;AF_BD_nfe&quot;,&quot;AF_BD_oth&quot;,&quot;AF_CASE&quot;,&quot;AF_CASE_nfe&quot;,&quot;AF_CTRL&quot;,&quot;AF_CTRL_afr&quot;,&quot;AF_CTRL_ami&quot;,&quot;AF_CTRL_amr&quot;,&quot;AF_CTRL_asj&quot;,&quot;AF_CTRL_eas&quot;,&quot;AF_CTRL_fin&quot;,&quot;AF_CTRL_mid&quot;,&quot;AF_CTRL_nfe&quot;,&quot;AF_CTRL_oth&quot;,&quot;AF_CTRL_sas&quot;,&quot;AF_OthDISEASE&quot;,&quot;AF_SCZ&quot;,&quot;AF_SCZ_afr&quot;,&quot;AF_SCZ_amr&quot;,&quot;AF_SCZ_asj&quot;,&quot;AF_SCZ_fin&quot;,&quot;AF_SCZ_mid&quot;,&quot;AF_SCZ_nfe&quot;,&quot;AF_SCZ_oth&quot;,&quot;AF_SCZ_sas&quot;,&quot;AF_afr&quot;,&quot;AF_ami&quot;,&quot;AF_amr&quot;,&quot;AF_asj&quot;,&quot;AF_eas&quot;,&quot;AF_fin&quot;,&quot;AF_mid&quot;,&quot;AF_nfe&quot;,&quot;AF_oth&quot;,&quot;AF_sas&quot;,&quot;ALGORITHMS&quot;,&quot;AN&quot;,&quot;AN_BD&quot;,&quot;AN_BD_afr&quot;,&quot;AN_BD_ami&quot;,&quot;AN_BD_amr&quot;,&quot;AN_BD_asj&quot;,&quot;AN_BD_fin&quot;,&quot;AN_BD_nfe&quot;,&quot;AN_BD_oth&quot;,&quot;AN_CASE&quot;,&quot;AN_CASE_nfe&quot;,&quot;AN_CTRL&quot;,&quot;AN_CTRL_afr&quot;,&quot;AN_CTRL_ami&quot;,&quot;AN_CTRL_amr&quot;,&quot;AN_CTRL_asj&quot;,&quot;AN_CTRL_eas&quot;,&quot;AN_CTRL_fin&quot;,&quot;AN_CTRL_mid&quot;,&quot;AN_CTRL_nfe&quot;,&quot;AN_CTRL_oth&quot;,&quot;AN_CTRL_sas&quot;,&quot;AN_OthDISEASE&quot;,&quot;AN_SCZ&quot;,&quot;AN_SCZ_afr&quot;,&quot;AN_SCZ_amr&quot;,&quot;AN_SCZ_asj&quot;,&quot;AN_SCZ_fin&quot;,&quot;AN_SCZ_mid&quot;,&quot;AN_SCZ_nfe&quot;,&quot;AN_SCZ_oth&quot;,&quot;AN_SCZ_sas&quot;,&quot;AN_afr&quot;,&quot;AN_ami&quot;,&quot;AN_amr&quot;,&quot;AN_asj&quot;,&quot;AN_eas&quot;,&quot;AN_fin&quot;,&quot;AN_mid&quot;,&quot;AN_nfe&quot;,&quot;AN_oth&quot;,&quot;AN_sas&quot;,&quot;CHR2&quot;,&quot;END&quot;,&quot;EVIDENCE&quot;,&quot;FREQ_HET&quot;,&quot;FREQ_HET_BD&quot;,&quot;FREQ_HET_BD_afr&quot;,&quot;FREQ_HET_BD_ami&quot;,&quot;FREQ_HET_BD_amr&quot;,&quot;FREQ_HET_BD_asj&quot;,&quot;FREQ_HET_BD_fin&quot;,&quot;FREQ_HET_BD_nfe&quot;,&quot;FREQ_HET_BD_oth&quot;,&quot;FREQ_HET_CASE&quot;,&quot;FREQ_HET_CASE_nfe&quot;,&quot;FREQ_HET_CTRL&quot;,&quot;FREQ_HET_CTRL_afr&quot;,&quot;FREQ_HET_CTRL_ami&quot;,&quot;FREQ_HET_CTRL_amr&quot;,&quot;FREQ_HET_CTRL_asj&quot;,&quot;FREQ_HET_CTRL_eas&quot;,&quot;FREQ_HET_CTRL_fin&quot;,&quot;FREQ_HET_CTRL_mid&quot;,&quot;FREQ_HET_CTRL_nfe&quot;,&quot;FREQ_HET_CTRL_oth&quot;,&quot;FREQ_HET_CTRL_sas&quot;,&quot;FREQ_HET_OthDISEASE&quot;,&quot;FREQ_HET_SCZ&quot;,&quot;FREQ_HET_SCZ_afr&quot;,&quot;FREQ_HET_SCZ_amr&quot;,&quot;FREQ_HET_SCZ_asj&quot;,&quot;FREQ_HET_SCZ_fin&quot;,&quot;FREQ_HET_SCZ_mid&quot;,&quot;FREQ_HET_SCZ_nfe&quot;,&quot;FREQ_HET_SCZ_oth&quot;,&quot;FREQ_HET_SCZ_sas&quot;,&quot;FREQ_HET_afr&quot;,&quot;FREQ_HET_ami&quot;,&quot;FREQ_HET_amr&quot;,&quot;FREQ_HET_asj&quot;,&quot;FREQ_HET_eas&quot;,&quot;FREQ_HET_fin&quot;,&quot;FREQ_HET_mid&quot;,&quot;FREQ_HET_nfe&quot;,&quot;FREQ_HET_oth&quot;,&quot;FREQ_HET_sas&quot;,&quot;FREQ_HOMALT&quot;,&quot;FREQ_HOMALT_BD&quot;,&quot;FREQ_HOMALT_BD_afr&quot;,&quot;FREQ_HOMALT_BD_ami&quot;,&quot;FREQ_HOMALT_BD_amr&quot;,&quot;FREQ_HOMALT_BD_asj&quot;,&quot;FREQ_HOMALT_BD_fin&quot;,&quot;FREQ_HOMALT_BD_nfe&quot;,&quot;FREQ_HOMALT_BD_oth&quot;,&quot;FREQ_HOMALT_CASE&quot;,&quot;FREQ_HOMALT_CASE_nfe&quot;,&quot;FREQ_HOMALT_CTRL&quot;,&quot;FREQ_HOMALT_CTRL_afr&quot;,&quot;FREQ_HOMALT_CTRL_ami&quot;,&quot;FREQ_HOMALT_CTRL_amr&quot;,&quot;FREQ_HOMALT_CTRL_asj&quot;,&quot;FREQ_HOMALT_CTRL_eas&quot;,&quot;FREQ_HOMALT_CTRL_fin&quot;,&quot;FREQ_HOMALT_CTRL_mid&quot;,&quot;FREQ_HOMALT_CTRL_nfe&quot;,&quot;FREQ_HOMALT_CTRL_oth&quot;,&quot;FREQ_HOMALT_CTRL_sas&quot;,&quot;FREQ_HOMALT_OthDISEASE&quot;,&quot;FREQ_HOMALT_SCZ&quot;,&quot;FREQ_HOMALT_SCZ_afr&quot;,&quot;FREQ_HOMALT_SCZ_amr&quot;,&quot;FREQ_HOMALT_SCZ_asj&quot;,&quot;FREQ_HOMALT_SCZ_fin&quot;,&quot;FREQ_HOMALT_SCZ_mid&quot;,&quot;FREQ_HOMALT_SCZ_nfe&quot;,&quot;FREQ_HOMALT_SCZ_oth&quot;,&quot;FREQ_HOMALT_SCZ_sas&quot;,&quot;FREQ_HOMALT_afr&quot;,&quot;FREQ_HOMALT_ami&quot;,&quot;FREQ_HOMALT_amr&quot;,&quot;FREQ_HOMALT_asj&quot;,&quot;FREQ_HOMALT_eas&quot;,&quot;FREQ_HOMALT_fin&quot;,&quot;FREQ_HOMALT_mid&quot;,&quot;FREQ_HOMALT_nfe&quot;,&quot;FREQ_HOMALT_oth&quot;,&quot;FREQ_HOMALT_sas&quot;,&quot;FREQ_HOMREF&quot;,&quot;FREQ_HOMREF_BD&quot;,&quot;FREQ_HOMREF_BD_afr&quot;,&quot;FREQ_HOMREF_BD_ami&quot;,&quot;FREQ_HOMREF_BD_amr&quot;,&quot;FREQ_HOMREF_BD_asj&quot;,&quot;FREQ_HOMREF_BD_fin&quot;,&quot;FREQ_HOMREF_BD_nfe&quot;,&quot;FREQ_HOMREF_BD_oth&quot;,&quot;FREQ_HOMREF_CASE&quot;,&quot;FREQ_HOMREF_CASE_nfe&quot;,&quot;FREQ_HOMREF_CTRL&quot;,&quot;FREQ_HOMREF_CTRL_afr&quot;,&quot;FREQ_HOMREF_CTRL_ami&quot;,&quot;FREQ_HOMREF_CTRL_amr&quot;,&quot;FREQ_HOMREF_CTRL_asj&quot;,&quot;FREQ_HOMREF_CTRL_eas&quot;,&quot;FREQ_HOMREF_CTRL_fin&quot;,&quot;FREQ_HOMREF_CTRL_mid&quot;,&quot;FREQ_HOMREF_CTRL_nfe&quot;,&quot;FREQ_HOMREF_CTRL_oth&quot;,&quot;FREQ_HOMREF_CTRL_sas&quot;,&quot;FREQ_HOMREF_OthDISEASE&quot;,&quot;FREQ_HOMREF_SCZ&quot;,&quot;FREQ_HOMREF_SCZ_afr&quot;,&quot;FREQ_HOMREF_SCZ_amr&quot;,&quot;FREQ_HOMREF_SCZ_asj&quot;,&quot;FREQ_HOMREF_SCZ_fin&quot;,&quot;FREQ_HOMREF_SCZ_mid&quot;,&quot;FREQ_HOMREF_SCZ_nfe&quot;,&quot;FREQ_HOMREF_SCZ_oth&quot;,&quot;FREQ_HOMREF_SCZ_sas&quot;,&quot;FREQ_HOMREF_afr&quot;,&quot;FREQ_HOMREF_ami&quot;,&quot;FREQ_HOMREF_amr&quot;,&quot;FREQ_HOMREF_asj&quot;,&quot;FREQ_HOMREF_eas&quot;,&quot;FREQ_HOMREF_fin&quot;,&quot;FREQ_HOMREF_mid&quot;,&quot;FREQ_HOMREF_nfe&quot;,&quot;FREQ_HOMREF_oth&quot;,&quot;FREQ_HOMREF_sas&quot;,&quot;LOW_CONFIDENCE_REPETITIVE_LARGE_DUP&quot;,&quot;NCR&quot;,&quot;N_BI_GENOS&quot;,&quot;N_BI_GENOS_BD&quot;,&quot;N_BI_GENOS_BD_afr&quot;,&quot;N_BI_GENOS_BD_ami&quot;,&quot;N_BI_GENOS_BD_amr&quot;,&quot;N_BI_GENOS_BD_asj&quot;,&quot;N_BI_GENOS_BD_fin&quot;,&quot;N_BI_GENOS_BD_nfe&quot;,&quot;N_BI_GENOS_BD_oth&quot;,&quot;N_BI_GENOS_CASE&quot;,&quot;N_BI_GENOS_CASE_nfe&quot;,&quot;N_BI_GENOS_CTRL&quot;,&quot;N_BI_GENOS_CTRL_afr&quot;,&quot;N_BI_GENOS_CTRL_ami&quot;,&quot;N_BI_GENOS_CTRL_amr&quot;,&quot;N_BI_GENOS_CTRL_asj&quot;,&quot;N_BI_GENOS_CTRL_eas&quot;,&quot;N_BI_GENOS_CTRL_fin&quot;,&quot;N_BI_GENOS_CTRL_mid&quot;,&quot;N_BI_GENOS_CTRL_nfe&quot;,&quot;N_BI_GENOS_CTRL_oth&quot;,&quot;N_BI_GENOS_CTRL_sas&quot;,&quot;N_BI_GENOS_OthDISEASE&quot;,&quot;N_BI_GENOS_SCZ&quot;,&quot;N_BI_GENOS_SCZ_afr&quot;,&quot;N_BI_GENOS_SCZ_amr&quot;,&quot;N_BI_GENOS_SCZ_asj&quot;,&quot;N_BI_GENOS_SCZ_fin&quot;,&quot;N_BI_GENOS_SCZ_mid&quot;,&quot;N_BI_GENOS_SCZ_nfe&quot;,&quot;N_BI_GENOS_SCZ_oth&quot;,&quot;N_BI_GENOS_SCZ_sas&quot;,&quot;N_BI_GENOS_afr&quot;,&quot;N_BI_GENOS_ami&quot;,&quot;N_BI_GENOS_amr&quot;,&quot;N_BI_GENOS_asj&quot;,&quot;N_BI_GENOS_eas&quot;,&quot;N_BI_GENOS_fin&quot;,&quot;N_BI_GENOS_mid&quot;,&quot;N_BI_GENOS_nfe&quot;,&quot;N_BI_GENOS_oth&quot;,&quot;N_BI_GENOS_sas&quot;,&quot;N_HET&quot;,&quot;N_HET_BD&quot;,&quot;N_HET_BD_afr&quot;,&quot;N_HET_BD_ami&quot;,&quot;N_HET_BD_amr&quot;,&quot;N_HET_BD_asj&quot;,&quot;N_HET_BD_fin&quot;,&quot;N_HET_BD_nfe&quot;,&quot;N_HET_BD_oth&quot;,&quot;N_HET_CASE&quot;,&quot;N_HET_CASE_nfe&quot;,&quot;N_HET_CTRL&quot;,&quot;N_HET_CTRL_afr&quot;,&quot;N_HET_CTRL_ami&quot;,&quot;N_HET_CTRL_amr&quot;,&quot;N_HET_CTRL_asj&quot;,&quot;N_HET_CTRL_eas&quot;,&quot;N_HET_CTRL_fin&quot;,&quot;N_HET_CTRL_mid&quot;,&quot;N_HET_CTRL_nfe&quot;,&quot;N_HET_CTRL_oth&quot;,&quot;N_HET_CTRL_sas&quot;,&quot;N_HET_OthDISEASE&quot;,&quot;N_HET_SCZ&quot;,&quot;N_HET_SCZ_afr&quot;,&quot;N_HET_SCZ_amr&quot;,&quot;N_HET_SCZ_asj&quot;,&quot;N_HET_SCZ_fin&quot;,&quot;N_HET_SCZ_mid&quot;,&quot;N_HET_SCZ_nfe&quot;,&quot;N_HET_SCZ_oth&quot;,&quot;N_HET_SCZ_sas&quot;,&quot;N_HET_afr&quot;,&quot;N_HET_ami&quot;,&quot;N_HET_amr&quot;,&quot;N_HET_asj&quot;,&quot;N_HET_eas&quot;,&quot;N_HET_fin&quot;,&quot;N_HET_mid&quot;,&quot;N_HET_nfe&quot;,&quot;N_HET_oth&quot;,&quot;N_HET_sas&quot;,&quot;N_HOMALT&quot;,&quot;N_HOMALT_BD&quot;,&quot;N_HOMALT_BD_afr&quot;,&quot;N_HOMALT_BD_ami&quot;,&quot;N_HOMALT_BD_amr&quot;,&quot;N_HOMALT_BD_asj&quot;,&quot;N_HOMALT_BD_fin&quot;,&quot;N_HOMALT_BD_nfe&quot;,&quot;N_HOMALT_BD_oth&quot;,&quot;N_HOMALT_CASE&quot;,&quot;N_HOMALT_CASE_nfe&quot;,&quot;N_HOMALT_CTRL&quot;,&quot;N_HOMALT_CTRL_afr&quot;,&quot;N_HOMALT_CTRL_ami&quot;,&quot;N_HOMALT_CTRL_amr&quot;,&quot;N_HOMALT_CTRL_asj&quot;,&quot;N_HOMALT_CTRL_eas&quot;,&quot;N_HOMALT_CTRL_fin&quot;,&quot;N_HOMALT_CTRL_mid&quot;,&quot;N_HOMALT_CTRL_nfe&quot;,&quot;N_HOMALT_CTRL_oth&quot;,&quot;N_HOMALT_CTRL_sas&quot;,&quot;N_HOMALT_OthDISEASE&quot;,&quot;N_HOMALT_SCZ&quot;,&quot;N_HOMALT_SCZ_afr&quot;,&quot;N_HOMALT_SCZ_amr&quot;,&quot;N_HOMALT_SCZ_asj&quot;,&quot;N_HOMALT_SCZ_fin&quot;,&quot;N_HOMALT_SCZ_mid&quot;,&quot;N_HOMALT_SCZ_nfe&quot;,&quot;N_HOMALT_SCZ_oth&quot;,&quot;N_HOMALT_SCZ_sas&quot;,&quot;N_HOMALT_afr&quot;,&quot;N_HOMALT_ami&quot;,&quot;N_HOMALT_amr&quot;,&quot;N_HOMALT_asj&quot;,&quot;N_HOMALT_eas&quot;,&quot;N_HOMALT_fin&quot;,&quot;N_HOMALT_mid&quot;,&quot;N_HOMALT_nfe&quot;,&quot;N_HOMALT_oth&quot;,&quot;N_HOMALT_sas&quot;,&quot;N_HOMREF&quot;,&quot;N_HOMREF_BD&quot;,&quot;N_HOMREF_BD_afr&quot;,&quot;N_HOMREF_BD_ami&quot;,&quot;N_HOMREF_BD_amr&quot;,&quot;N_HOMREF_BD_asj&quot;,&quot;N_HOMREF_BD_fin&quot;,&quot;N_HOMREF_BD_nfe&quot;,&quot;N_HOMREF_BD_oth&quot;,&quot;N_HOMREF_CASE&quot;,&quot;N_HOMREF_CASE_nfe&quot;,&quot;N_HOMREF_CTRL&quot;,&quot;N_HOMREF_CTRL_afr&quot;,&quot;N_HOMREF_CTRL_ami&quot;,&quot;N_HOMREF_CTRL_amr&quot;,&quot;N_HOMREF_CTRL_asj&quot;,&quot;N_HOMREF_CTRL_eas&quot;,&quot;N_HOMREF_CTRL_fin&quot;,&quot;N_HOMREF_CTRL_mid&quot;,&quot;N_HOMREF_CTRL_nfe&quot;,&quot;N_HOMREF_CTRL_oth&quot;,&quot;N_HOMREF_CTRL_sas&quot;,&quot;N_HOMREF_OthDISEASE&quot;,&quot;N_HOMREF_SCZ&quot;,&quot;N_HOMREF_SCZ_afr&quot;,&quot;N_HOMREF_SCZ_amr&quot;,&quot;N_HOMREF_SCZ_asj&quot;,&quot;N_HOMREF_SCZ_fin&quot;,&quot;N_HOMREF_SCZ_mid&quot;,&quot;N_HOMREF_SCZ_nfe&quot;,&quot;N_HOMREF_SCZ_oth&quot;,&quot;N_HOMREF_SCZ_sas&quot;,&quot;N_HOMREF_afr&quot;,&quot;N_HOMREF_ami&quot;,&quot;N_HOMREF_amr&quot;,&quot;N_HOMREF_asj&quot;,&quot;N_HOMREF_eas&quot;,&quot;N_HOMREF_fin&quot;,&quot;N_HOMREF_mid&quot;,&quot;N_HOMREF_nfe&quot;,&quot;N_HOMREF_oth&quot;,&quot;N_HOMREF_sas&quot;,&quot;PCRMINUS_NCR&quot;,&quot;PCRPLUS_NCR&quot;,&quot;POPMAX_AF&quot;,&quot;PREDICTED_COPY_GAIN&quot;,&quot;SVLEN&quot;,&quot;SVTYPE&quot;]</td></tr>\n",
       "<tr><td style=\"white-space: nowrap; max-width: 500px; overflow: hidden; text-overflow: ellipsis; \">chr1:10434</td><td style=\"white-space: nowrap; max-width: 500px; overflow: hidden; text-overflow: ellipsis; \">&quot;gnomAD-SV_v3_BND_chr1_1a45f73a&quot;</td><td style=\"white-space: nowrap; max-width: 500px; overflow: hidden; text-overflow: ellipsis; \">&quot;BND&quot;</td><td style=\"white-space: nowrap; max-width: 500px; overflow: hidden; text-overflow: ellipsis; \">&quot;260&quot;</td><td style=\"white-space: nowrap; max-width: 500px; overflow: hidden; text-overflow: ellipsis; \">[&quot;HIGH_NCR&quot;,&quot;UNRESOLVED&quot;]</td><td style=\"white-space: nowrap; max-width: 500px; overflow: hidden; text-overflow: ellipsis; \">{&quot;N_HOMALT_CTRL&quot;:&quot;5&quot;,&quot;AF_CTRL_oth&quot;:&quot;0.098&quot;,&quot;FREQ_HOMALT_CTRL_mid&quot;:&quot;0&quot;,&quot;N_HOMALT_CTRL_fin&quot;:&quot;1&quot;,&quot;AC_CASE_nfe&quot;:&quot;4&quot;,&quot;N_HOMREF_nfe&quot;:&quot;4226&quot;,&quot;FREQ_HOMREF_sas&quot;:&quot;0.909091&quot;,&quot;N_HET_eas&quot;:&quot;1&quot;,&quot;N_HOMALT_CASE_nfe&quot;:&quot;0&quot;,&quot;FREQ_HOMALT_CTRL_fin&quot;:&quot;0.000925926&quot;,&quot;N_HOMREF_mid&quot;:&quot;3&quot;,&quot;AF_SCZ&quot;:&quot;0.099732&quot;,&quot;AN_CTRL_mid&quot;:&quot;4&quot;,&quot;FREQ_HET_SCZ_mid&quot;:&quot;0&quot;,&quot;N_HET_BD_fin&quot;:&quot;14&quot;,&quot;N_HOMALT_SCZ_afr&quot;:&quot;0&quot;,&quot;N_HOMREF_SCZ_oth&quot;:&quot;8&quot;,&quot;AC_SCZ_fin&quot;:&quot;27&quot;,&quot;N_HOMREF_SCZ_fin&quot;:&quot;309&quot;,&quot;FREQ_HOMREF_BD_nfe&quot;:&quot;0.772727&quot;,&quot;END2&quot;:&quot;242183515&quot;,&quot;AF_CASE_nfe&quot;:&quot;0.333333&quot;,&quot;FREQ_HET_CTRL_asj&quot;:&quot;0.134078&quot;,&quot;N_HET&quot;:&quot;8426&quot;,&quot;AN_SCZ&quot;:&quot;5966&quot;,&quot;FREQ_HET_BD&quot;:&quot;0.227551&quot;,&quot;AN_CTRL_nfe&quot;:&quot;8016&quot;,&quot;AF_BD_asj&quot;:&quot;0.5&quot;,&quot;N_HOMALT_oth&quot;:&quot;0&quot;,&quot;AN_SCZ_afr&quot;:&quot;3678&quot;,&quot;N_HET_SCZ_amr&quot;:&quot;8&quot;,&quot;AF_SCZ_fin&quot;:&quot;0.040179&quot;,&quot;FREQ_HET_SCZ_nfe&quot;:&quot;0.2151&quot;,&quot;AC_amr&quot;:&quot;334&quot;,&quot;AF_SCZ_sas&quot;:&quot;0&quot;,&quot;N_HOMREF_OthDISEASE&quot;:&quot;2&quot;,&quot;AN_BD_ami&quot;:&quot;2&quot;,&quot;FREQ_HET_BD_oth&quot;:&quot;0&quot;,&quot;FREQ_HET_CTRL_sas&quot;:&quot;0.1&quot;,&quot;FREQ_HOMREF_CTRL_nfe&quot;:&quot;0.848802&quot;,&quot;FREQ_HOMREF_BD_oth&quot;:&quot;1&quot;,&quot;N_HOMALT_fin&quot;:&quot;1&quot;,&quot;FREQ_HOMALT_CTRL_ami&quot;:&quot;0&quot;,&quot;N_BI_GENOS_CASE_nfe&quot;:&quot;6&quot;,&quot;N_HOMREF_CASE_nfe&quot;:&quot;2&quot;,&quot;AC_CTRL_asj&quot;:&quot;24&quot;,&quot;N_HET_amr&quot;:&quot;328&quot;,&quot;AC&quot;:&quot;8474&quot;,&quot;FREQ_HOMREF_oth&quot;:&quot;0.796226&quot;,&quot;N_BI_GENOS_amr&quot;:&quot;1175&quot;,&quot;AC_afr&quot;:&quot;1088&quot;,&quot;N_HOMALT_BD_afr&quot;:&quot;0&quot;,&quot;N_HOMALT_CTRL_ami&quot;:&quot;0&quot;,&quot;N_HET_CTRL_nfe&quot;:&quot;605&quot;,&quot;N_HOMALT_BD_amr&quot;:&quot;0&quot;,&quot;N_BI_GENOS&quot;:&quot;37123&quot;,&quot;FREQ_HET_CTRL&quot;:&quot;0.185527&quot;,&quot;AC_BD_asj&quot;:&quot;1&quot;,&quot;N_HOMREF_SCZ_nfe&quot;:&quot;550&quot;,&quot;N_HOMREF_asj&quot;:&quot;168&quot;,&quot;N_HOMALT_SCZ_mid&quot;:&quot;0&quot;,&quot;AC_CTRL_sas&quot;:&quot;1&quot;,&quot;N_HET_BD_amr&quot;:&quot;0&quot;,&quot;N_HOMALT_SCZ_oth&quot;:&quot;0&quot;,&quot;AC_BD_oth&quot;:&quot;0&quot;,&quot;FREQ_HET_oth&quot;:&quot;0.203774&quot;,&quot;N_HET_CTRL_oth&quot;:&quot;49&quot;,&quot;N_BI_GENOS_sas&quot;:&quot;11&quot;,&quot;N_BI_GENOS_CTRL_fin&quot;:&quot;1080&quot;,&quot;FREQ_HOMREF_ami&quot;:&quot;0.928571&quot;,&quot;N_HET_CTRL_afr&quot;:&quot;559&quot;,&quot;N_HET_fin&quot;:&quot;309&quot;,&quot;N_HOMREF_CTRL_oth&quot;:&quot;201&quot;,&quot;N_BI_GENOS_eas&quot;:&quot;14&quot;,&quot;N_HET_CTRL&quot;:&quot;1828&quot;,&quot;AN_CTRL_asj&quot;:&quot;358&quot;,&quot;N_HOMREF_BD_ami&quot;:&quot;1&quot;,&quot;UNRESOLVED_TYPE&quot;:&quot;MIXED_BREAKENDS&quot;,&quot;N_BI_GENOS_ami&quot;:&quot;14&quot;,&quot;AF_CTRL_fin&quot;:&quot;0.125&quot;,&quot;N_HOMREF_CTRL_mid&quot;:&quot;2&quot;,&quot;FREQ_HOMALT_afr&quot;:&quot;0&quot;,&quot;FREQ_HET_SCZ_amr&quot;:&quot;0.103896&quot;,&quot;FREQ_HOMREF_CTRL_afr&quot;:&quot;0.825422&quot;,&quot;AF_SCZ_amr&quot;:&quot;0.051948&quot;,&quot;AN_CTRL_eas&quot;:&quot;28&quot;,&quot;FREQ_HOMREF_CTRL_ami&quot;:&quot;0.923077&quot;,&quot;N_BI_GENOS_BD_asj&quot;:&quot;1&quot;,&quot;N_HET_SCZ_nfe&quot;:&quot;151&quot;,&quot;FREQ_HET_CTRL_afr&quot;:&quot;0.174578&quot;,&quot;AN_eas&quot;:&quot;28&quot;,&quot;FREQ_HOMALT_asj&quot;:&quot;0&quot;,&quot;FREQ_HOMREF_SCZ_afr&quot;:&quot;0.781947&quot;,&quot;AC_eas&quot;:&quot;1&quot;,&quot;N_BI_GENOS_SCZ_fin&quot;:&quot;336&quot;,&quot;N_HET_BD_afr&quot;:&quot;128&quot;,&quot;FREQ_HOMALT_CASE_nfe&quot;:&quot;0&quot;,&quot;AC_ami&quot;:&quot;1&quot;,&quot;AN_fin&quot;:&quot;3054&quot;,&quot;AF_BD_ami&quot;:&quot;0&quot;,&quot;AC_BD_amr&quot;:&quot;0&quot;,&quot;N_HOMREF_CTRL_nfe&quot;:&quot;3402&quot;,&quot;AN&quot;:&quot;74246&quot;,&quot;N_HOMALT_CASE&quot;:&quot;1&quot;,&quot;AF_ami&quot;:&quot;0.035714&quot;,&quot;PREDICTED_INTERGENIC&quot;:&quot;&quot;,&quot;N_BI_GENOS_SCZ_nfe&quot;:&quot;702&quot;,&quot;AN_oth&quot;:&quot;530&quot;,&quot;AF_asj&quot;:&quot;0.06701&quot;,&quot;AN_BD_oth&quot;:&quot;4&quot;,&quot;FREQ_HOMREF_CASE&quot;:&quot;0.793147&quot;,&quot;FREQ_HET_SCZ_oth&quot;:&quot;0.384615&quot;,&quot;N_HOMALT_SCZ&quot;:&quot;1&quot;,&quot;N_BI_GENOS_CTRL_sas&quot;:&quot;10&quot;,&quot;FREQ_HOMALT_SCZ_amr&quot;:&quot;0&quot;,&quot;N_HET_BD_ami&quot;:&quot;0&quot;,&quot;FREQ_HOMREF_BD_afr&quot;:&quot;0.74902&quot;,&quot;N_HOMALT_BD_asj&quot;:&quot;0&quot;,&quot;AF_BD_oth&quot;:&quot;0&quot;,&quot;AF_SCZ_afr&quot;:&quot;0.109027&quot;,&quot;FREQ_HET_CTRL_eas&quot;:&quot;0.0714286&quot;,&quot;N_HET_BD_asj&quot;:&quot;1&quot;,&quot;AC_BD_fin&quot;:&quot;14&quot;,&quot;AC_CTRL&quot;:&quot;1838&quot;,&quot;FREQ_HOMREF_afr&quot;:&quot;0.803999&quot;,&quot;N_BI_GENOS_asj&quot;:&quot;194&quot;,&quot;N_BI_GENOS_CTRL_asj&quot;:&quot;179&quot;,&quot;N_BI_GENOS_CTRL_mid&quot;:&quot;2&quot;,&quot;AF_SCZ_mid&quot;:&quot;0&quot;,&quot;N_BI_GENOS_SCZ_afr&quot;:&quot;1839&quot;,&quot;FREQ_HOMALT_SCZ_afr&quot;:&quot;0&quot;,&quot;FREQ_HET_BD_afr&quot;:&quot;0.25098&quot;,&quot;AC_BD_ami&quot;:&quot;0&quot;,&quot;N_HOMREF_CTRL_sas&quot;:&quot;9&quot;,&quot;AN_CTRL_ami&quot;:&quot;26&quot;,&quot;AC_BD_afr&quot;:&quot;128&quot;,&quot;FREQ_HOMALT_ami&quot;:&quot;0&quot;,&quot;AF_OthDISEASE&quot;:&quot;0.333333&quot;,&quot;N_HOMREF_SCZ_mid&quot;:&quot;1&quot;,&quot;N_HOMALT_CTRL_afr&quot;:&quot;0&quot;,&quot;N_BI_GENOS_BD_ami&quot;:&quot;1&quot;,&quot;FREQ_HET_ami&quot;:&quot;0.0714286&quot;,&quot;AN_CASE_nfe&quot;:&quot;12&quot;,&quot;FREQ_HOMREF_CTRL_oth&quot;:&quot;0.804&quot;,&quot;N_HET_BD&quot;:&quot;223&quot;,&quot;N_HOMREF_CTRL_asj&quot;:&quot;155&quot;,&quot;FREQ_HET_CTRL_mid&quot;:&quot;0&quot;,&quot;N_HET_SCZ_sas&quot;:&quot;0&quot;,&quot;FREQ_HET_CTRL_amr&quot;:&quot;0.292237&quot;,&quot;N_BI_GENOS_mid&quot;:&quot;3&quot;,&quot;N_HOMREF_CTRL_afr&quot;:&quot;2643&quot;,&quot;FREQ_HOMALT_OthDISEASE&quot;:&quot;0&quot;,&quot;N_HOMALT&quot;:&quot;24&quot;,&quot;N_HOMALT_sas&quot;:&quot;0&quot;,&quot;N_BI_GENOS_BD&quot;:&quot;980&quot;,&quot;N_BI_GENOS_CTRL_eas&quot;:&quot;14&quot;,&quot;AN_SCZ_nfe&quot;:&quot;1404&quot;,&quot;FREQ_HET&quot;:&quot;0.226975&quot;,&quot;FREQ_HET_amr&quot;:&quot;0.279149&quot;,&quot;N_HET_afr&quot;:&quot;1088&quot;,&quot;FREQ_HOMALT_CTRL_nfe&quot;:&quot;0.000249501&quot;,&quot;FREQ_HET_CASE_nfe&quot;:&quot;0.666667&quot;,&quot;FREQ_HET_SCZ_asj&quot;:&quot;0.0714286&quot;,&quot;N_BI_GENOS_CTRL_nfe&quot;:&quot;4008&quot;,&quot;AF&quot;:&quot;0.114134&quot;,&quot;FREQ_HOMREF_nfe&quot;:&quot;0.83386&quot;,&quot;AF_nfe&quot;:&quot;0.083268&quot;,&quot;FREQ_HOMREF_OthDISEASE&quot;:&quot;0.333333&quot;,&quot;AC_SCZ_afr&quot;:&quot;401&quot;,&quot;N_HET_oth&quot;:&quot;54&quot;,&quot;N_HOMREF_BD&quot;:&quot;757&quot;,&quot;AF_BD_fin&quot;:&quot;0.063063&quot;,&quot;FREQ_HOMREF_CTRL_mid&quot;:&quot;1&quot;,&quot;N_HOMALT_eas&quot;:&quot;0&quot;,&quot;FREQ_HET_SCZ_fin&quot;:&quot;0.0803571&quot;,&quot;AF_BD_amr&quot;:&quot;0&quot;,&quot;N_HET_mid&quot;:&quot;0&quot;,&quot;N_HET_SCZ_fin&quot;:&quot;27&quot;,&quot;AN_BD_amr&quot;:&quot;6&quot;,&quot;AC_SCZ_amr&quot;:&quot;8&quot;,&quot;FREQ_HOMREF_mid&quot;:&quot;1&quot;,&quot;FREQ_HOMALT_BD_nfe&quot;:&quot;0&quot;,&quot;N_BI_GENOS_CTRL_afr&quot;:&quot;3202&quot;,&quot;FREQ_HET_CTRL_oth&quot;:&quot;0.196&quot;,&quot;N_BI_GENOS_fin&quot;:&quot;1527&quot;,&quot;N_BI_GENOS_CTRL_amr&quot;:&quot;1095&quot;,&quot;FREQ_HOMREF_SCZ_amr&quot;:&quot;0.896104&quot;,&quot;FREQ_HOMREF_SCZ_fin&quot;:&quot;0.919643&quot;,&quot;N_HOMREF_sas&quot;:&quot;10&quot;,&quot;AC_BD_nfe&quot;:&quot;80&quot;,&quot;FREQ_HOMREF_BD_ami&quot;:&quot;1&quot;,&quot;FREQ_HET_SCZ&quot;:&quot;0.198793&quot;,&quot;AF_SCZ_oth&quot;:&quot;0.192308&quot;,&quot;POS2&quot;:&quot;242183514&quot;,&quot;AN_CTRL_fin&quot;:&quot;2160&quot;,&quot;FREQ_HOMREF_CTRL&quot;:&quot;0.813965&quot;,&quot;AC_CTRL_fin&quot;:&quot;270&quot;,&quot;NCR&quot;:&quot;0.403838&quot;,&quot;FREQ_HOMREF_SCZ_mid&quot;:&quot;1&quot;,&quot;N_HET_sas&quot;:&quot;1&quot;,&quot;N_HOMREF_oth&quot;:&quot;211&quot;,&quot;AN_CTRL_sas&quot;:&quot;20&quot;,&quot;AF_oth&quot;:&quot;0.101887&quot;,&quot;FREQ_HOMREF_CTRL_amr&quot;:&quot;0.705023&quot;,&quot;N_HOMREF_SCZ_asj&quot;:&quot;13&quot;,&quot;AN_amr&quot;:&quot;2350&quot;,&quot;FREQ_HOMALT_oth&quot;:&quot;0&quot;,&quot;FREQ_HOMALT_BD_fin&quot;:&quot;0&quot;,&quot;FREQ_HOMREF_SCZ_nfe&quot;:&quot;0.783476&quot;,&quot;AN_BD_asj&quot;:&quot;2&quot;,&quot;N_HOMREF_fin&quot;:&quot;1217&quot;,&quot;N_HOMALT_BD_ami&quot;:&quot;0&quot;,&quot;CHR2&quot;:&quot;chr2&quot;,&quot;N_HOMREF_CASE&quot;:&quot;3148&quot;,&quot;POPMAX_AF&quot;:&quot;0.5&quot;,&quot;FREQ_HET_CASE&quot;:&quot;0.206601&quot;,&quot;AN_BD_nfe&quot;:&quot;704&quot;,&quot;FREQ_HOMALT_BD_asj&quot;:&quot;0&quot;,&quot;AF_BD_nfe&quot;:&quot;0.113636&quot;,&quot;AN_SCZ_amr&quot;:&quot;154&quot;,&quot;N_HOMALT_amr&quot;:&quot;3&quot;,&quot;AF_BD&quot;:&quot;0.113776&quot;,&quot;N_HET_asj&quot;:&quot;26&quot;,&quot;N_BI_GENOS_CTRL_oth&quot;:&quot;250&quot;,&quot;FREQ_HOMALT_amr&quot;:&quot;0.00255319&quot;,&quot;FREQ_HOMREF_CTRL_fin&quot;:&quot;0.750926&quot;,&quot;N_HOMALT_CTRL_sas&quot;:&quot;0&quot;,&quot;N_HOMREF_eas&quot;:&quot;13&quot;,&quot;AN_SCZ_mid&quot;:&quot;2&quot;,&quot;N_HOMALT_afr&quot;:&quot;0&quot;,&quot;AC_CTRL_amr&quot;:&quot;326&quot;,&quot;FREQ_HOMALT_CTRL&quot;:&quot;0.00050746&quot;,&quot;N_HOMALT_OthDISEASE&quot;:&quot;0&quot;,&quot;FREQ_HOMALT&quot;:&quot;0.000646499&quot;,&quot;FREQ_HOMALT_BD_oth&quot;:&quot;0&quot;,&quot;FREQ_HOMREF_CTRL_sas&quot;:&quot;0.9&quot;,&quot;N_HET_CTRL_eas&quot;:&quot;1&quot;,&quot;FREQ_HOMREF_CASE_nfe&quot;:&quot;0.333333&quot;,&quot;AN_BD&quot;:&quot;1960&quot;,&quot;AF_fin&quot;:&quot;0.101834&quot;,&quot;N_HOMREF_CTRL&quot;:&quot;8020&quot;,&quot;N_HET_BD_nfe&quot;:&quot;80&quot;,&quot;SVLEN&quot;:&quot;-1&quot;,&quot;AC_mid&quot;:&quot;0&quot;,&quot;AN_SCZ_sas&quot;:&quot;2&quot;,&quot;AF_amr&quot;:&quot;0.142128&quot;,&quot;AF_CTRL_mid&quot;:&quot;0&quot;,&quot;AF_SCZ_asj&quot;:&quot;0.035714&quot;,&quot;AC_CTRL_afr&quot;:&quot;559&quot;,&quot;N_HOMREF_BD_asj&quot;:&quot;0&quot;,&quot;FREQ_HOMALT_SCZ&quot;:&quot;0.000335233&quot;,&quot;N_HOMREF_CTRL_fin&quot;:&quot;811&quot;,&quot;N_BI_GENOS_SCZ_oth&quot;:&quot;13&quot;,&quot;N_HET_ami&quot;:&quot;1&quot;,&quot;AC_SCZ&quot;:&quot;595&quot;,&quot;N_HET_CASE&quot;:&quot;820&quot;,&quot;FREQ_HOMALT_SCZ_mid&quot;:&quot;0&quot;,&quot;N_HOMREF_CTRL_ami&quot;:&quot;12&quot;,&quot;N_BI_GENOS_BD_amr&quot;:&quot;3&quot;,&quot;FREQ_HOMALT_BD_amr&quot;:&quot;0&quot;,&quot;N_HOMREF_SCZ_amr&quot;:&quot;69&quot;,&quot;N_HOMREF_BD_oth&quot;:&quot;2&quot;,&quot;N_HOMALT_SCZ_sas&quot;:&quot;0&quot;,&quot;FREQ_HOMREF_SCZ_sas&quot;:&quot;1&quot;,&quot;PREDICTED_NEAREST_TSS&quot;:&quot;FAM240C,OR4F5&quot;,&quot;AC_SCZ_mid&quot;:&quot;0&quot;,&quot;FREQ_HOMALT_CTRL_asj&quot;:&quot;0&quot;,&quot;N_HET_CTRL_fin&quot;:&quot;268&quot;,&quot;N_HOMALT_CTRL_nfe&quot;:&quot;1&quot;,&quot;N_HOMREF_BD_afr&quot;:&quot;382&quot;,&quot;N_HOMREF_SCZ&quot;:&quot;2389&quot;,&quot;FREQ_HOMREF_SCZ&quot;:&quot;0.800872&quot;,&quot;AF_afr&quot;:&quot;0.098&quot;,&quot;AN_BD_fin&quot;:&quot;222&quot;,&quot;AN_mid&quot;:&quot;6&quot;,&quot;AF_mid&quot;:&quot;0&quot;,&quot;AN_ami&quot;:&quot;28&quot;,&quot;AF_CASE&quot;:&quot;0.103553&quot;,&quot;FREQ_HOMALT_eas&quot;:&quot;0&quot;,&quot;AC_SCZ_nfe&quot;:&quot;153&quot;,&quot;AC_CTRL_ami&quot;:&quot;1&quot;,&quot;FREQ_HOMALT_nfe&quot;:&quot;0.000394633&quot;,&quot;N_HET_OthDISEASE&quot;:&quot;4&quot;,&quot;N_HET_CTRL_ami&quot;:&quot;1&quot;,&quot;AN_CTRL_oth&quot;:&quot;500&quot;,&quot;N_HET_nfe&quot;:&quot;840&quot;,&quot;AN_SCZ_asj&quot;:&quot;28&quot;,&quot;N_HOMALT_CTRL_eas&quot;:&quot;0&quot;,&quot;AF_CTRL_sas&quot;:&quot;0.05&quot;,&quot;FREQ_HET_sas&quot;:&quot;0.0909091&quot;,&quot;AN_CTRL_amr&quot;:&quot;2190&quot;,&quot;N_BI_GENOS_CASE&quot;:&quot;3969&quot;,&quot;FREQ_HET_CTRL_fin&quot;:&quot;0.248148&quot;,&quot;N_HOMALT_BD_oth&quot;:&quot;0&quot;,&quot;FREQ_HET_BD_ami&quot;:&quot;0&quot;,&quot;AC_BD&quot;:&quot;223&quot;,&quot;N_BI_GENOS_BD_afr&quot;:&quot;510&quot;,&quot;N_HOMREF_BD_fin&quot;:&quot;97&quot;,&quot;N_HET_CTRL_asj&quot;:&quot;24&quot;,&quot;FREQ_HOMALT_SCZ_nfe&quot;:&quot;0.0014245&quot;,&quot;ALGORITHMS&quot;:&quot;manta&quot;,&quot;N_HOMREF_amr&quot;:&quot;844&quot;,&quot;FREQ_HET_eas&quot;:&quot;0.0714286&quot;,&quot;N_HET_SCZ_mid&quot;:&quot;0&quot;,&quot;N_HOMREF_ami&quot;:&quot;13&quot;,&quot;AN_CASE&quot;:&quot;7938&quot;,&quot;FREQ_HET_nfe&quot;:&quot;0.165746&quot;,&quot;N_HOMALT_asj&quot;:&quot;0&quot;,&quot;N_HOMALT_SCZ_asj&quot;:&quot;0&quot;,&quot;N_BI_GENOS_CTRL&quot;:&quot;9853&quot;,&quot;AN_CTRL_afr&quot;:&quot;6404&quot;,&quot;FREQ_HOMALT_CTRL_amr&quot;:&quot;0.00273973&quot;,&quot;AC_CTRL_eas&quot;:&quot;1&quot;,&quot;FREQ_HET_afr&quot;:&quot;0.196001&quot;,&quot;FREQ_HOMREF_CTRL_asj&quot;:&quot;0.865922&quot;,&quot;FREQ_HOMALT_BD_afr&quot;:&quot;0&quot;,&quot;N_BI_GENOS_BD_nfe&quot;:&quot;352&quot;,&quot;AN_asj&quot;:&quot;388&quot;,&quot;N_HOMREF_afr&quot;:&quot;4463&quot;,&quot;AF_sas&quot;:&quot;0.045455&quot;,&quot;N_HET_BD_oth&quot;:&quot;0&quot;,&quot;N_HOMALT_SCZ_amr&quot;:&quot;0&quot;,&quot;FREQ_HOMREF_BD&quot;:&quot;0.772449&quot;,&quot;N_HET_CTRL_sas&quot;:&quot;1&quot;,&quot;FREQ_HOMREF_CTRL_eas&quot;:&quot;0.928571&quot;,&quot;N_BI_GENOS_SCZ&quot;:&quot;2983&quot;,&quot;N_HOMREF_BD_nfe&quot;:&quot;272&quot;,&quot;FREQ_HOMREF_BD_fin&quot;:&quot;0.873874&quot;,&quot;FREQ_HET_fin&quot;:&quot;0.202358&quot;,&quot;AC_nfe&quot;:&quot;844&quot;,&quot;AC_CTRL_mid&quot;:&quot;0&quot;,&quot;N_HOMREF_SCZ_sas&quot;:&quot;1&quot;,&quot;FREQ_HOMALT_mid&quot;:&quot;0&quot;,&quot;N_BI_GENOS_oth&quot;:&quot;265&quot;,&quot;N_HOMREF_CTRL_amr&quot;:&quot;772&quot;,&quot;N_HET_SCZ_oth&quot;:&quot;5&quot;,&quot;N_HOMALT_ami&quot;:&quot;0&quot;,&quot;END&quot;:&quot;10434&quot;,&quot;AF_CTRL_eas&quot;:&quot;0.035714&quot;,&quot;N_BI_GENOS_CTRL_ami&quot;:&quot;13&quot;,&quot;PCRMINUS_NCR&quot;:&quot;0.405938&quot;,&quot;N_BI_GENOS_SCZ_amr&quot;:&quot;77&quot;,&quot;N_HET_CTRL_mid&quot;:&quot;0&quot;,&quot;AN_sas&quot;:&quot;22&quot;,&quot;FREQ_HOMALT_fin&quot;:&quot;0.000654879&quot;,&quot;FREQ_HOMREF_fin&quot;:&quot;0.796988&quot;,&quot;FREQ_HET_BD_nfe&quot;:&quot;0.227273&quot;,&quot;AN_SCZ_fin&quot;:&quot;672&quot;,&quot;FREQ_HET_asj&quot;:&quot;0.134021&quot;,&quot;AF_CTRL_asj&quot;:&quot;0.067039&quot;,&quot;AN_afr&quot;:&quot;11102&quot;,&quot;PCRPLUS_NCR&quot;:&quot;0.380011&quot;,&quot;FREQ_HOMALT_CTRL_oth&quot;:&quot;0&quot;,&quot;N_HOMALT_mid&quot;:&quot;0&quot;,&quot;FREQ_HET_CTRL_nfe&quot;:&quot;0.150948&quot;,&quot;N_HET_SCZ_afr&quot;:&quot;401&quot;,&quot;AF_CTRL_afr&quot;:&quot;0.087289&quot;,&quot;N_HET_CASE_nfe&quot;:&quot;4&quot;,&quot;AN_SCZ_oth&quot;:&quot;26&quot;,&quot;N_HOMREF&quot;:&quot;28673&quot;,&quot;FREQ_HOMREF_amr&quot;:&quot;0.718298&quot;,&quot;N_HOMALT_CTRL_mid&quot;:&quot;0&quot;,&quot;FREQ_HOMREF_eas&quot;:&quot;0.928571&quot;,&quot;N_HOMREF_SCZ_afr&quot;:&quot;1438&quot;,&quot;N_HOMALT_BD&quot;:&quot;0&quot;,&quot;N_BI_GENOS_BD_fin&quot;:&quot;111&quot;,&quot;FREQ_HOMALT_sas&quot;:&quot;0&quot;,&quot;FREQ_HET_CTRL_ami&quot;:&quot;0.0769231&quot;,&quot;EVIDENCE&quot;:&quot;SR&quot;,&quot;AN_nfe&quot;:&quot;10136&quot;,&quot;FREQ_HOMREF_BD_amr&quot;:&quot;1&quot;,&quot;AF_CTRL&quot;:&quot;0.093271&quot;,&quot;FREQ_HOMALT_CASE&quot;:&quot;0.000251953&quot;,&quot;N_HOMREF_BD_amr&quot;:&quot;3&quot;,&quot;N_HOMALT_BD_fin&quot;:&quot;0&quot;,&quot;FREQ_HOMALT_CTRL_eas&quot;:&quot;0&quot;,&quot;AF_CTRL_amr&quot;:&quot;0.148858&quot;,&quot;FREQ_HOMALT_CTRL_afr&quot;:&quot;0&quot;,&quot;FREQ_HOMREF_BD_asj&quot;:&quot;0&quot;,&quot;N_HET_SCZ_asj&quot;:&quot;1&quot;,&quot;FREQ_HOMALT_CTRL_sas&quot;:&quot;0&quot;,&quot;AF_BD_afr&quot;:&quot;0.12549&quot;,&quot;N_HOMALT_CTRL_asj&quot;:&quot;0&quot;,&quot;FREQ_HOMREF_SCZ_oth&quot;:&quot;0.615385&quot;,&quot;AC_sas&quot;:&quot;1&quot;,&quot;N_BI_GENOS_SCZ_sas&quot;:&quot;1&quot;,&quot;FREQ_HOMALT_SCZ_asj&quot;:&quot;0&quot;,&quot;AC_asj&quot;:&quot;26&quot;,&quot;BOTHSIDES_SUPPORT&quot;:&quot;&quot;,&quot;FREQ_HOMALT_SCZ_sas&quot;:&quot;0&quot;,&quot;AF_eas&quot;:&quot;0.035714&quot;,&quot;AC_oth&quot;:&quot;54&quot;,&quot;FREQ_HET_BD_fin&quot;:&quot;0.126126&quot;,&quot;FREQ_HOMALT_BD_ami&quot;:&quot;0&quot;,&quot;AC_SCZ_oth&quot;:&quot;5&quot;,&quot;N_HOMALT_BD_nfe&quot;:&quot;0&quot;,&quot;AC_CTRL_oth&quot;:&quot;49&quot;,&quot;AC_SCZ_sas&quot;:&quot;0&quot;,&quot;AC_OthDISEASE&quot;:&quot;4&quot;,&quot;AC_CASE&quot;:&quot;822&quot;,&quot;AC_fin&quot;:&quot;311&quot;,&quot;FREQ_HOMALT_SCZ_fin&quot;:&quot;0&quot;,&quot;N_BI_GENOS_SCZ_mid&quot;:&quot;1&quot;,&quot;N_BI_GENOS_nfe&quot;:&quot;5068&quot;,&quot;FREQ_HOMREF_SCZ_asj&quot;:&quot;0.928571&quot;,&quot;AC_SCZ_asj&quot;:&quot;1&quot;,&quot;N_BI_GENOS_afr&quot;:&quot;5551&quot;,&quot;FREQ_HET_BD_asj&quot;:&quot;1&quot;,&quot;FREQ_HET_OthDISEASE&quot;:&quot;0.666667&quot;,&quot;AF_CTRL_nfe&quot;:&quot;0.075724&quot;,&quot;SVTYPE&quot;:&quot;BND&quot;,&quot;FREQ_HET_mid&quot;:&quot;0&quot;,&quot;AF_CTRL_ami&quot;:&quot;0.038462&quot;,&quot;AC_CTRL_nfe&quot;:&quot;607&quot;,&quot;AN_BD_afr&quot;:&quot;1020&quot;,&quot;AN_CTRL&quot;:&quot;19706&quot;,&quot;N_HOMALT_CTRL_amr&quot;:&quot;3&quot;,&quot;FREQ_HOMREF_asj&quot;:&quot;0.865979&quot;,&quot;FREQ_HOMREF&quot;:&quot;0.772378&quot;,&quot;N_BI_GENOS_BD_oth&quot;:&quot;2&quot;,&quot;N_HET_CTRL_amr&quot;:&quot;320&quot;,&quot;N_HOMALT_nfe&quot;:&quot;2&quot;,&quot;N_HOMALT_CTRL_oth&quot;:&quot;0&quot;,&quot;N_HOMREF_CTRL_eas&quot;:&quot;13&quot;,&quot;N_HET_SCZ&quot;:&quot;593&quot;,&quot;FREQ_HET_SCZ_afr&quot;:&quot;0.218053&quot;,&quot;N_BI_GENOS_SCZ_asj&quot;:&quot;14&quot;,&quot;FREQ_HET_SCZ_sas&quot;:&quot;0&quot;,&quot;N_BI_GENOS_OthDISEASE&quot;:&quot;6&quot;,&quot;N_HOMALT_SCZ_fin&quot;:&quot;0&quot;,&quot;N_HOMALT_SCZ_nfe&quot;:&quot;1&quot;,&quot;AN_OthDISEASE&quot;:&quot;12&quot;,&quot;AF_SCZ_nfe&quot;:&quot;0.108974&quot;,&quot;FREQ_HET_BD_amr&quot;:&quot;0&quot;,&quot;FREQ_HOMALT_BD&quot;:&quot;0&quot;,&quot;FREQ_HOMALT_SCZ_oth&quot;:&quot;0&quot;}</td><td style=\"white-space: nowrap; max-width: 500px; overflow: hidden; text-overflow: ellipsis; \">[&quot;AC&quot;,&quot;AC_BD&quot;,&quot;AC_BD_afr&quot;,&quot;AC_BD_ami&quot;,&quot;AC_BD_amr&quot;,&quot;AC_BD_asj&quot;,&quot;AC_BD_fin&quot;,&quot;AC_BD_nfe&quot;,&quot;AC_BD_oth&quot;,&quot;AC_CASE&quot;,&quot;AC_CASE_nfe&quot;,&quot;AC_CTRL&quot;,&quot;AC_CTRL_afr&quot;,&quot;AC_CTRL_ami&quot;,&quot;AC_CTRL_amr&quot;,&quot;AC_CTRL_asj&quot;,&quot;AC_CTRL_eas&quot;,&quot;AC_CTRL_fin&quot;,&quot;AC_CTRL_mid&quot;,&quot;AC_CTRL_nfe&quot;,&quot;AC_CTRL_oth&quot;,&quot;AC_CTRL_sas&quot;,&quot;AC_OthDISEASE&quot;,&quot;AC_SCZ&quot;,&quot;AC_SCZ_afr&quot;,&quot;AC_SCZ_amr&quot;,&quot;AC_SCZ_asj&quot;,&quot;AC_SCZ_fin&quot;,&quot;AC_SCZ_mid&quot;,&quot;AC_SCZ_nfe&quot;,&quot;AC_SCZ_oth&quot;,&quot;AC_SCZ_sas&quot;,&quot;AC_afr&quot;,&quot;AC_ami&quot;,&quot;AC_amr&quot;,&quot;AC_asj&quot;,&quot;AC_eas&quot;,&quot;AC_fin&quot;,&quot;AC_mid&quot;,&quot;AC_nfe&quot;,&quot;AC_oth&quot;,&quot;AC_sas&quot;,&quot;AF&quot;,&quot;AF_BD&quot;,&quot;AF_BD_afr&quot;,&quot;AF_BD_ami&quot;,&quot;AF_BD_amr&quot;,&quot;AF_BD_asj&quot;,&quot;AF_BD_fin&quot;,&quot;AF_BD_nfe&quot;,&quot;AF_BD_oth&quot;,&quot;AF_CASE&quot;,&quot;AF_CASE_nfe&quot;,&quot;AF_CTRL&quot;,&quot;AF_CTRL_afr&quot;,&quot;AF_CTRL_ami&quot;,&quot;AF_CTRL_amr&quot;,&quot;AF_CTRL_asj&quot;,&quot;AF_CTRL_eas&quot;,&quot;AF_CTRL_fin&quot;,&quot;AF_CTRL_mid&quot;,&quot;AF_CTRL_nfe&quot;,&quot;AF_CTRL_oth&quot;,&quot;AF_CTRL_sas&quot;,&quot;AF_OthDISEASE&quot;,&quot;AF_SCZ&quot;,&quot;AF_SCZ_afr&quot;,&quot;AF_SCZ_amr&quot;,&quot;AF_SCZ_asj&quot;,&quot;AF_SCZ_fin&quot;,&quot;AF_SCZ_mid&quot;,&quot;AF_SCZ_nfe&quot;,&quot;AF_SCZ_oth&quot;,&quot;AF_SCZ_sas&quot;,&quot;AF_afr&quot;,&quot;AF_ami&quot;,&quot;AF_amr&quot;,&quot;AF_asj&quot;,&quot;AF_eas&quot;,&quot;AF_fin&quot;,&quot;AF_mid&quot;,&quot;AF_nfe&quot;,&quot;AF_oth&quot;,&quot;AF_sas&quot;,&quot;ALGORITHMS&quot;,&quot;AN&quot;,&quot;AN_BD&quot;,&quot;AN_BD_afr&quot;,&quot;AN_BD_ami&quot;,&quot;AN_BD_amr&quot;,&quot;AN_BD_asj&quot;,&quot;AN_BD_fin&quot;,&quot;AN_BD_nfe&quot;,&quot;AN_BD_oth&quot;,&quot;AN_CASE&quot;,&quot;AN_CASE_nfe&quot;,&quot;AN_CTRL&quot;,&quot;AN_CTRL_afr&quot;,&quot;AN_CTRL_ami&quot;,&quot;AN_CTRL_amr&quot;,&quot;AN_CTRL_asj&quot;,&quot;AN_CTRL_eas&quot;,&quot;AN_CTRL_fin&quot;,&quot;AN_CTRL_mid&quot;,&quot;AN_CTRL_nfe&quot;,&quot;AN_CTRL_oth&quot;,&quot;AN_CTRL_sas&quot;,&quot;AN_OthDISEASE&quot;,&quot;AN_SCZ&quot;,&quot;AN_SCZ_afr&quot;,&quot;AN_SCZ_amr&quot;,&quot;AN_SCZ_asj&quot;,&quot;AN_SCZ_fin&quot;,&quot;AN_SCZ_mid&quot;,&quot;AN_SCZ_nfe&quot;,&quot;AN_SCZ_oth&quot;,&quot;AN_SCZ_sas&quot;,&quot;AN_afr&quot;,&quot;AN_ami&quot;,&quot;AN_amr&quot;,&quot;AN_asj&quot;,&quot;AN_eas&quot;,&quot;AN_fin&quot;,&quot;AN_mid&quot;,&quot;AN_nfe&quot;,&quot;AN_oth&quot;,&quot;AN_sas&quot;,&quot;BOTHSIDES_SUPPORT&quot;,&quot;CHR2&quot;,&quot;END&quot;,&quot;END2&quot;,&quot;EVIDENCE&quot;,&quot;FREQ_HET&quot;,&quot;FREQ_HET_BD&quot;,&quot;FREQ_HET_BD_afr&quot;,&quot;FREQ_HET_BD_ami&quot;,&quot;FREQ_HET_BD_amr&quot;,&quot;FREQ_HET_BD_asj&quot;,&quot;FREQ_HET_BD_fin&quot;,&quot;FREQ_HET_BD_nfe&quot;,&quot;FREQ_HET_BD_oth&quot;,&quot;FREQ_HET_CASE&quot;,&quot;FREQ_HET_CASE_nfe&quot;,&quot;FREQ_HET_CTRL&quot;,&quot;FREQ_HET_CTRL_afr&quot;,&quot;FREQ_HET_CTRL_ami&quot;,&quot;FREQ_HET_CTRL_amr&quot;,&quot;FREQ_HET_CTRL_asj&quot;,&quot;FREQ_HET_CTRL_eas&quot;,&quot;FREQ_HET_CTRL_fin&quot;,&quot;FREQ_HET_CTRL_mid&quot;,&quot;FREQ_HET_CTRL_nfe&quot;,&quot;FREQ_HET_CTRL_oth&quot;,&quot;FREQ_HET_CTRL_sas&quot;,&quot;FREQ_HET_OthDISEASE&quot;,&quot;FREQ_HET_SCZ&quot;,&quot;FREQ_HET_SCZ_afr&quot;,&quot;FREQ_HET_SCZ_amr&quot;,&quot;FREQ_HET_SCZ_asj&quot;,&quot;FREQ_HET_SCZ_fin&quot;,&quot;FREQ_HET_SCZ_mid&quot;,&quot;FREQ_HET_SCZ_nfe&quot;,&quot;FREQ_HET_SCZ_oth&quot;,&quot;FREQ_HET_SCZ_sas&quot;,&quot;FREQ_HET_afr&quot;,&quot;FREQ_HET_ami&quot;,&quot;FREQ_HET_amr&quot;,&quot;FREQ_HET_asj&quot;,&quot;FREQ_HET_eas&quot;,&quot;FREQ_HET_fin&quot;,&quot;FREQ_HET_mid&quot;,&quot;FREQ_HET_nfe&quot;,&quot;FREQ_HET_oth&quot;,&quot;FREQ_HET_sas&quot;,&quot;FREQ_HOMALT&quot;,&quot;FREQ_HOMALT_BD&quot;,&quot;FREQ_HOMALT_BD_afr&quot;,&quot;FREQ_HOMALT_BD_ami&quot;,&quot;FREQ_HOMALT_BD_amr&quot;,&quot;FREQ_HOMALT_BD_asj&quot;,&quot;FREQ_HOMALT_BD_fin&quot;,&quot;FREQ_HOMALT_BD_nfe&quot;,&quot;FREQ_HOMALT_BD_oth&quot;,&quot;FREQ_HOMALT_CASE&quot;,&quot;FREQ_HOMALT_CASE_nfe&quot;,&quot;FREQ_HOMALT_CTRL&quot;,&quot;FREQ_HOMALT_CTRL_afr&quot;,&quot;FREQ_HOMALT_CTRL_ami&quot;,&quot;FREQ_HOMALT_CTRL_amr&quot;,&quot;FREQ_HOMALT_CTRL_asj&quot;,&quot;FREQ_HOMALT_CTRL_eas&quot;,&quot;FREQ_HOMALT_CTRL_fin&quot;,&quot;FREQ_HOMALT_CTRL_mid&quot;,&quot;FREQ_HOMALT_CTRL_nfe&quot;,&quot;FREQ_HOMALT_CTRL_oth&quot;,&quot;FREQ_HOMALT_CTRL_sas&quot;,&quot;FREQ_HOMALT_OthDISEASE&quot;,&quot;FREQ_HOMALT_SCZ&quot;,&quot;FREQ_HOMALT_SCZ_afr&quot;,&quot;FREQ_HOMALT_SCZ_amr&quot;,&quot;FREQ_HOMALT_SCZ_asj&quot;,&quot;FREQ_HOMALT_SCZ_fin&quot;,&quot;FREQ_HOMALT_SCZ_mid&quot;,&quot;FREQ_HOMALT_SCZ_nfe&quot;,&quot;FREQ_HOMALT_SCZ_oth&quot;,&quot;FREQ_HOMALT_SCZ_sas&quot;,&quot;FREQ_HOMALT_afr&quot;,&quot;FREQ_HOMALT_ami&quot;,&quot;FREQ_HOMALT_amr&quot;,&quot;FREQ_HOMALT_asj&quot;,&quot;FREQ_HOMALT_eas&quot;,&quot;FREQ_HOMALT_fin&quot;,&quot;FREQ_HOMALT_mid&quot;,&quot;FREQ_HOMALT_nfe&quot;,&quot;FREQ_HOMALT_oth&quot;,&quot;FREQ_HOMALT_sas&quot;,&quot;FREQ_HOMREF&quot;,&quot;FREQ_HOMREF_BD&quot;,&quot;FREQ_HOMREF_BD_afr&quot;,&quot;FREQ_HOMREF_BD_ami&quot;,&quot;FREQ_HOMREF_BD_amr&quot;,&quot;FREQ_HOMREF_BD_asj&quot;,&quot;FREQ_HOMREF_BD_fin&quot;,&quot;FREQ_HOMREF_BD_nfe&quot;,&quot;FREQ_HOMREF_BD_oth&quot;,&quot;FREQ_HOMREF_CASE&quot;,&quot;FREQ_HOMREF_CASE_nfe&quot;,&quot;FREQ_HOMREF_CTRL&quot;,&quot;FREQ_HOMREF_CTRL_afr&quot;,&quot;FREQ_HOMREF_CTRL_ami&quot;,&quot;FREQ_HOMREF_CTRL_amr&quot;,&quot;FREQ_HOMREF_CTRL_asj&quot;,&quot;FREQ_HOMREF_CTRL_eas&quot;,&quot;FREQ_HOMREF_CTRL_fin&quot;,&quot;FREQ_HOMREF_CTRL_mid&quot;,&quot;FREQ_HOMREF_CTRL_nfe&quot;,&quot;FREQ_HOMREF_CTRL_oth&quot;,&quot;FREQ_HOMREF_CTRL_sas&quot;,&quot;FREQ_HOMREF_OthDISEASE&quot;,&quot;FREQ_HOMREF_SCZ&quot;,&quot;FREQ_HOMREF_SCZ_afr&quot;,&quot;FREQ_HOMREF_SCZ_amr&quot;,&quot;FREQ_HOMREF_SCZ_asj&quot;,&quot;FREQ_HOMREF_SCZ_fin&quot;,&quot;FREQ_HOMREF_SCZ_mid&quot;,&quot;FREQ_HOMREF_SCZ_nfe&quot;,&quot;FREQ_HOMREF_SCZ_oth&quot;,&quot;FREQ_HOMREF_SCZ_sas&quot;,&quot;FREQ_HOMREF_afr&quot;,&quot;FREQ_HOMREF_ami&quot;,&quot;FREQ_HOMREF_amr&quot;,&quot;FREQ_HOMREF_asj&quot;,&quot;FREQ_HOMREF_eas&quot;,&quot;FREQ_HOMREF_fin&quot;,&quot;FREQ_HOMREF_mid&quot;,&quot;FREQ_HOMREF_nfe&quot;,&quot;FREQ_HOMREF_oth&quot;,&quot;FREQ_HOMREF_sas&quot;,&quot;NCR&quot;,&quot;N_BI_GENOS&quot;,&quot;N_BI_GENOS_BD&quot;,&quot;N_BI_GENOS_BD_afr&quot;,&quot;N_BI_GENOS_BD_ami&quot;,&quot;N_BI_GENOS_BD_amr&quot;,&quot;N_BI_GENOS_BD_asj&quot;,&quot;N_BI_GENOS_BD_fin&quot;,&quot;N_BI_GENOS_BD_nfe&quot;,&quot;N_BI_GENOS_BD_oth&quot;,&quot;N_BI_GENOS_CASE&quot;,&quot;N_BI_GENOS_CASE_nfe&quot;,&quot;N_BI_GENOS_CTRL&quot;,&quot;N_BI_GENOS_CTRL_afr&quot;,&quot;N_BI_GENOS_CTRL_ami&quot;,&quot;N_BI_GENOS_CTRL_amr&quot;,&quot;N_BI_GENOS_CTRL_asj&quot;,&quot;N_BI_GENOS_CTRL_eas&quot;,&quot;N_BI_GENOS_CTRL_fin&quot;,&quot;N_BI_GENOS_CTRL_mid&quot;,&quot;N_BI_GENOS_CTRL_nfe&quot;,&quot;N_BI_GENOS_CTRL_oth&quot;,&quot;N_BI_GENOS_CTRL_sas&quot;,&quot;N_BI_GENOS_OthDISEASE&quot;,&quot;N_BI_GENOS_SCZ&quot;,&quot;N_BI_GENOS_SCZ_afr&quot;,&quot;N_BI_GENOS_SCZ_amr&quot;,&quot;N_BI_GENOS_SCZ_asj&quot;,&quot;N_BI_GENOS_SCZ_fin&quot;,&quot;N_BI_GENOS_SCZ_mid&quot;,&quot;N_BI_GENOS_SCZ_nfe&quot;,&quot;N_BI_GENOS_SCZ_oth&quot;,&quot;N_BI_GENOS_SCZ_sas&quot;,&quot;N_BI_GENOS_afr&quot;,&quot;N_BI_GENOS_ami&quot;,&quot;N_BI_GENOS_amr&quot;,&quot;N_BI_GENOS_asj&quot;,&quot;N_BI_GENOS_eas&quot;,&quot;N_BI_GENOS_fin&quot;,&quot;N_BI_GENOS_mid&quot;,&quot;N_BI_GENOS_nfe&quot;,&quot;N_BI_GENOS_oth&quot;,&quot;N_BI_GENOS_sas&quot;,&quot;N_HET&quot;,&quot;N_HET_BD&quot;,&quot;N_HET_BD_afr&quot;,&quot;N_HET_BD_ami&quot;,&quot;N_HET_BD_amr&quot;,&quot;N_HET_BD_asj&quot;,&quot;N_HET_BD_fin&quot;,&quot;N_HET_BD_nfe&quot;,&quot;N_HET_BD_oth&quot;,&quot;N_HET_CASE&quot;,&quot;N_HET_CASE_nfe&quot;,&quot;N_HET_CTRL&quot;,&quot;N_HET_CTRL_afr&quot;,&quot;N_HET_CTRL_ami&quot;,&quot;N_HET_CTRL_amr&quot;,&quot;N_HET_CTRL_asj&quot;,&quot;N_HET_CTRL_eas&quot;,&quot;N_HET_CTRL_fin&quot;,&quot;N_HET_CTRL_mid&quot;,&quot;N_HET_CTRL_nfe&quot;,&quot;N_HET_CTRL_oth&quot;,&quot;N_HET_CTRL_sas&quot;,&quot;N_HET_OthDISEASE&quot;,&quot;N_HET_SCZ&quot;,&quot;N_HET_SCZ_afr&quot;,&quot;N_HET_SCZ_amr&quot;,&quot;N_HET_SCZ_asj&quot;,&quot;N_HET_SCZ_fin&quot;,&quot;N_HET_SCZ_mid&quot;,&quot;N_HET_SCZ_nfe&quot;,&quot;N_HET_SCZ_oth&quot;,&quot;N_HET_SCZ_sas&quot;,&quot;N_HET_afr&quot;,&quot;N_HET_ami&quot;,&quot;N_HET_amr&quot;,&quot;N_HET_asj&quot;,&quot;N_HET_eas&quot;,&quot;N_HET_fin&quot;,&quot;N_HET_mid&quot;,&quot;N_HET_nfe&quot;,&quot;N_HET_oth&quot;,&quot;N_HET_sas&quot;,&quot;N_HOMALT&quot;,&quot;N_HOMALT_BD&quot;,&quot;N_HOMALT_BD_afr&quot;,&quot;N_HOMALT_BD_ami&quot;,&quot;N_HOMALT_BD_amr&quot;,&quot;N_HOMALT_BD_asj&quot;,&quot;N_HOMALT_BD_fin&quot;,&quot;N_HOMALT_BD_nfe&quot;,&quot;N_HOMALT_BD_oth&quot;,&quot;N_HOMALT_CASE&quot;,&quot;N_HOMALT_CASE_nfe&quot;,&quot;N_HOMALT_CTRL&quot;,&quot;N_HOMALT_CTRL_afr&quot;,&quot;N_HOMALT_CTRL_ami&quot;,&quot;N_HOMALT_CTRL_amr&quot;,&quot;N_HOMALT_CTRL_asj&quot;,&quot;N_HOMALT_CTRL_eas&quot;,&quot;N_HOMALT_CTRL_fin&quot;,&quot;N_HOMALT_CTRL_mid&quot;,&quot;N_HOMALT_CTRL_nfe&quot;,&quot;N_HOMALT_CTRL_oth&quot;,&quot;N_HOMALT_CTRL_sas&quot;,&quot;N_HOMALT_OthDISEASE&quot;,&quot;N_HOMALT_SCZ&quot;,&quot;N_HOMALT_SCZ_afr&quot;,&quot;N_HOMALT_SCZ_amr&quot;,&quot;N_HOMALT_SCZ_asj&quot;,&quot;N_HOMALT_SCZ_fin&quot;,&quot;N_HOMALT_SCZ_mid&quot;,&quot;N_HOMALT_SCZ_nfe&quot;,&quot;N_HOMALT_SCZ_oth&quot;,&quot;N_HOMALT_SCZ_sas&quot;,&quot;N_HOMALT_afr&quot;,&quot;N_HOMALT_ami&quot;,&quot;N_HOMALT_amr&quot;,&quot;N_HOMALT_asj&quot;,&quot;N_HOMALT_eas&quot;,&quot;N_HOMALT_fin&quot;,&quot;N_HOMALT_mid&quot;,&quot;N_HOMALT_nfe&quot;,&quot;N_HOMALT_oth&quot;,&quot;N_HOMALT_sas&quot;,&quot;N_HOMREF&quot;,&quot;N_HOMREF_BD&quot;,&quot;N_HOMREF_BD_afr&quot;,&quot;N_HOMREF_BD_ami&quot;,&quot;N_HOMREF_BD_amr&quot;,&quot;N_HOMREF_BD_asj&quot;,&quot;N_HOMREF_BD_fin&quot;,&quot;N_HOMREF_BD_nfe&quot;,&quot;N_HOMREF_BD_oth&quot;,&quot;N_HOMREF_CASE&quot;,&quot;N_HOMREF_CASE_nfe&quot;,&quot;N_HOMREF_CTRL&quot;,&quot;N_HOMREF_CTRL_afr&quot;,&quot;N_HOMREF_CTRL_ami&quot;,&quot;N_HOMREF_CTRL_amr&quot;,&quot;N_HOMREF_CTRL_asj&quot;,&quot;N_HOMREF_CTRL_eas&quot;,&quot;N_HOMREF_CTRL_fin&quot;,&quot;N_HOMREF_CTRL_mid&quot;,&quot;N_HOMREF_CTRL_nfe&quot;,&quot;N_HOMREF_CTRL_oth&quot;,&quot;N_HOMREF_CTRL_sas&quot;,&quot;N_HOMREF_OthDISEASE&quot;,&quot;N_HOMREF_SCZ&quot;,&quot;N_HOMREF_SCZ_afr&quot;,&quot;N_HOMREF_SCZ_amr&quot;,&quot;N_HOMREF_SCZ_asj&quot;,&quot;N_HOMREF_SCZ_fin&quot;,&quot;N_HOMREF_SCZ_mid&quot;,&quot;N_HOMREF_SCZ_nfe&quot;,&quot;N_HOMREF_SCZ_oth&quot;,&quot;N_HOMREF_SCZ_sas&quot;,&quot;N_HOMREF_afr&quot;,&quot;N_HOMREF_ami&quot;,&quot;N_HOMREF_amr&quot;,&quot;N_HOMREF_asj&quot;,&quot;N_HOMREF_eas&quot;,&quot;N_HOMREF_fin&quot;,&quot;N_HOMREF_mid&quot;,&quot;N_HOMREF_nfe&quot;,&quot;N_HOMREF_oth&quot;,&quot;N_HOMREF_sas&quot;,&quot;PCRMINUS_NCR&quot;,&quot;PCRPLUS_NCR&quot;,&quot;POPMAX_AF&quot;,&quot;POS2&quot;,&quot;PREDICTED_INTERGENIC&quot;,&quot;PREDICTED_NEAREST_TSS&quot;,&quot;SVLEN&quot;,&quot;SVTYPE&quot;,&quot;UNRESOLVED_TYPE&quot;]</td></tr>\n",
       "<tr><td style=\"white-space: nowrap; max-width: 500px; overflow: hidden; text-overflow: ellipsis; \">chr1:10440</td><td style=\"white-space: nowrap; max-width: 500px; overflow: hidden; text-overflow: ellipsis; \">&quot;gnomAD-SV_v3_BND_chr1_3fa36917&quot;</td><td style=\"white-space: nowrap; max-width: 500px; overflow: hidden; text-overflow: ellipsis; \">&quot;BND&quot;</td><td style=\"white-space: nowrap; max-width: 500px; overflow: hidden; text-overflow: ellipsis; \">&quot;198&quot;</td><td style=\"white-space: nowrap; max-width: 500px; overflow: hidden; text-overflow: ellipsis; \">[&quot;HIGH_NCR&quot;,&quot;UNRESOLVED&quot;]</td><td style=\"white-space: nowrap; max-width: 500px; overflow: hidden; text-overflow: ellipsis; \">{&quot;N_HOMALT_CTRL&quot;:&quot;0&quot;,&quot;AF_CTRL_oth&quot;:&quot;0.006812&quot;,&quot;FREQ_HOMALT_CTRL_mid&quot;:&quot;0&quot;,&quot;N_HOMALT_CTRL_fin&quot;:&quot;0&quot;,&quot;AC_CASE_nfe&quot;:&quot;0&quot;,&quot;N_HOMREF_nfe&quot;:&quot;7119&quot;,&quot;FREQ_HOMREF_sas&quot;:&quot;1&quot;,&quot;N_HET_eas&quot;:&quot;0&quot;,&quot;N_HOMALT_CASE_nfe&quot;:&quot;0&quot;,&quot;FREQ_HOMALT_CTRL_fin&quot;:&quot;0&quot;,&quot;N_HOMREF_mid&quot;:&quot;8&quot;,&quot;AF_SCZ&quot;:&quot;0.004727&quot;,&quot;AN_CTRL_mid&quot;:&quot;10&quot;,&quot;FREQ_HET_SCZ_mid&quot;:&quot;0&quot;,&quot;N_HET_BD_fin&quot;:&quot;0&quot;,&quot;N_HOMALT_SCZ_afr&quot;:&quot;0&quot;,&quot;N_HOMREF_SCZ_oth&quot;:&quot;18&quot;,&quot;AC_SCZ_fin&quot;:&quot;0&quot;,&quot;N_HOMREF_SCZ_fin&quot;:&quot;564&quot;,&quot;FREQ_HOMREF_BD_nfe&quot;:&quot;0.996503&quot;,&quot;END2&quot;:&quot;10977&quot;,&quot;AF_CASE_nfe&quot;:&quot;0&quot;,&quot;FREQ_HET_CTRL_asj&quot;:&quot;0.016&quot;,&quot;N_HET&quot;:&quot;466&quot;,&quot;AN_SCZ&quot;:&quot;9096&quot;,&quot;FREQ_HET_BD&quot;:&quot;0.00258565&quot;,&quot;AN_CTRL_nfe&quot;:&quot;11290&quot;,&quot;AF_BD_asj&quot;:&quot;0&quot;,&quot;N_HOMALT_oth&quot;:&quot;0&quot;,&quot;AN_SCZ_afr&quot;:&quot;5782&quot;,&quot;N_HET_SCZ_amr&quot;:&quot;0&quot;,&quot;AF_SCZ_fin&quot;:&quot;0&quot;,&quot;FREQ_HET_SCZ_nfe&quot;:&quot;0.00854701&quot;,&quot;AC_amr&quot;:&quot;21&quot;,&quot;AF_SCZ_sas&quot;:&quot;0&quot;,&quot;N_HOMREF_OthDISEASE&quot;:&quot;6&quot;,&quot;AN_BD_ami&quot;:&quot;6&quot;,&quot;FREQ_HET_BD_oth&quot;:&quot;0&quot;,&quot;FREQ_HET_CTRL_sas&quot;:&quot;0&quot;,&quot;FREQ_HOMREF_CTRL_nfe&quot;:&quot;0.994686&quot;,&quot;FREQ_HOMREF_BD_oth&quot;:&quot;1&quot;,&quot;N_HOMALT_fin&quot;:&quot;0&quot;,&quot;FREQ_HOMALT_CTRL_ami&quot;:&quot;0&quot;,&quot;N_BI_GENOS_CASE_nfe&quot;:&quot;6&quot;,&quot;N_HOMREF_CASE_nfe&quot;:&quot;6&quot;,&quot;AC_CTRL_asj&quot;:&quot;4&quot;,&quot;N_HET_amr&quot;:&quot;21&quot;,&quot;AC&quot;:&quot;466&quot;,&quot;FREQ_HOMREF_oth&quot;:&quot;0.987113&quot;,&quot;N_BI_GENOS_amr&quot;:&quot;1639&quot;,&quot;AC_afr&quot;:&quot;87&quot;,&quot;N_HOMALT_BD_afr&quot;:&quot;0&quot;,&quot;N_HOMALT_CTRL_ami&quot;:&quot;0&quot;,&quot;N_HET_CTRL_nfe&quot;:&quot;30&quot;,&quot;N_HOMALT_BD_amr&quot;:&quot;0&quot;,&quot;N_BI_GENOS&quot;:&quot;55468&quot;,&quot;FREQ_HET_CTRL&quot;:&quot;0.00916779&quot;,&quot;AC_BD_asj&quot;:&quot;0&quot;,&quot;N_HOMREF_SCZ_nfe&quot;:&quot;928&quot;,&quot;N_HOMREF_asj&quot;:&quot;269&quot;,&quot;N_HOMALT_SCZ_mid&quot;:&quot;0&quot;,&quot;AC_CTRL_sas&quot;:&quot;0&quot;,&quot;N_HET_BD_amr&quot;:&quot;0&quot;,&quot;N_HOMALT_SCZ_oth&quot;:&quot;0&quot;,&quot;AC_BD_oth&quot;:&quot;0&quot;,&quot;FREQ_HET_oth&quot;:&quot;0.0128866&quot;,&quot;N_HET_CTRL_oth&quot;:&quot;5&quot;,&quot;N_BI_GENOS_sas&quot;:&quot;21&quot;,&quot;N_BI_GENOS_CTRL_fin&quot;:&quot;1388&quot;,&quot;FREQ_HOMREF_ami&quot;:&quot;1&quot;,&quot;N_HET_CTRL_afr&quot;:&quot;50&quot;,&quot;N_HET_fin&quot;:&quot;19&quot;,&quot;N_HOMREF_CTRL_oth&quot;:&quot;362&quot;,&quot;N_BI_GENOS_eas&quot;:&quot;29&quot;,&quot;N_HET_CTRL&quot;:&quot;129&quot;,&quot;AN_CTRL_asj&quot;:&quot;500&quot;,&quot;N_HOMREF_BD_ami&quot;:&quot;3&quot;,&quot;UNRESOLVED_TYPE&quot;:&quot;SINGLE_ENDER_+-&quot;,&quot;N_BI_GENOS_ami&quot;:&quot;19&quot;,&quot;AF_CTRL_fin&quot;:&quot;0.006844&quot;,&quot;N_HOMREF_CTRL_mid&quot;:&quot;5&quot;,&quot;FREQ_HOMALT_afr&quot;:&quot;0&quot;,&quot;FREQ_HET_SCZ_amr&quot;:&quot;0&quot;,&quot;FREQ_HOMREF_CTRL_afr&quot;:&quot;0.989663&quot;,&quot;AF_SCZ_amr&quot;:&quot;0&quot;,&quot;AN_CTRL_eas&quot;:&quot;58&quot;,&quot;FREQ_HOMREF_CTRL_ami&quot;:&quot;1&quot;,&quot;N_BI_GENOS_BD_asj&quot;:&quot;1&quot;,&quot;N_HET_SCZ_nfe&quot;:&quot;8&quot;,&quot;FREQ_HET_CTRL_afr&quot;:&quot;0.010337&quot;,&quot;AN_eas&quot;:&quot;58&quot;,&quot;FREQ_HOMALT_asj&quot;:&quot;0&quot;,&quot;FREQ_HOMREF_SCZ_afr&quot;:&quot;0.987893&quot;,&quot;AC_eas&quot;:&quot;0&quot;,&quot;N_BI_GENOS_SCZ_fin&quot;:&quot;564&quot;,&quot;N_HET_BD_afr&quot;:&quot;2&quot;,&quot;FREQ_HOMALT_CASE_nfe&quot;:&quot;0&quot;,&quot;AC_ami&quot;:&quot;0&quot;,&quot;AN_fin&quot;:&quot;4254&quot;,&quot;AF_BD_ami&quot;:&quot;0&quot;,&quot;AC_BD_amr&quot;:&quot;0&quot;,&quot;N_HOMREF_CTRL_nfe&quot;:&quot;5615&quot;,&quot;AN&quot;:&quot;110936&quot;,&quot;N_HOMALT_CASE&quot;:&quot;0&quot;,&quot;AF_ami&quot;:&quot;0&quot;,&quot;PREDICTED_INTERGENIC&quot;:&quot;&quot;,&quot;N_BI_GENOS_SCZ_nfe&quot;:&quot;936&quot;,&quot;AN_oth&quot;:&quot;776&quot;,&quot;AF_asj&quot;:&quot;0.007326&quot;,&quot;AN_BD_oth&quot;:&quot;6&quot;,&quot;FREQ_HOMREF_CASE&quot;:&quot;0.992296&quot;,&quot;FREQ_HET_SCZ_oth&quot;:&quot;0&quot;,&quot;N_HOMALT_SCZ&quot;:&quot;0&quot;,&quot;N_BI_GENOS_CTRL_sas&quot;:&quot;20&quot;,&quot;FREQ_HOMALT_SCZ_amr&quot;:&quot;0&quot;,&quot;N_HET_BD_ami&quot;:&quot;0&quot;,&quot;FREQ_HOMREF_BD_afr&quot;:&quot;0.997439&quot;,&quot;N_HOMALT_BD_asj&quot;:&quot;0&quot;,&quot;AF_BD_oth&quot;:&quot;0&quot;,&quot;AF_SCZ_afr&quot;:&quot;0.006053&quot;,&quot;FREQ_HET_CTRL_eas&quot;:&quot;0&quot;,&quot;N_HET_BD_asj&quot;:&quot;0&quot;,&quot;AC_BD_fin&quot;:&quot;0&quot;,&quot;AC_CTRL&quot;:&quot;129&quot;,&quot;FREQ_HOMREF_afr&quot;:&quot;0.989776&quot;,&quot;N_BI_GENOS_asj&quot;:&quot;273&quot;,&quot;N_BI_GENOS_CTRL_asj&quot;:&quot;250&quot;,&quot;N_BI_GENOS_CTRL_mid&quot;:&quot;5&quot;,&quot;AF_SCZ_mid&quot;:&quot;0&quot;,&quot;N_BI_GENOS_SCZ_afr&quot;:&quot;2891&quot;,&quot;FREQ_HOMALT_SCZ_afr&quot;:&quot;0&quot;,&quot;FREQ_HET_BD_afr&quot;:&quot;0.00256082&quot;,&quot;AC_BD_ami&quot;:&quot;0&quot;,&quot;N_HOMREF_CTRL_sas&quot;:&quot;20&quot;,&quot;AN_CTRL_ami&quot;:&quot;32&quot;,&quot;AC_BD_afr&quot;:&quot;2&quot;,&quot;FREQ_HOMALT_ami&quot;:&quot;0&quot;,&quot;AF_OthDISEASE&quot;:&quot;0&quot;,&quot;N_HOMREF_SCZ_mid&quot;:&quot;3&quot;,&quot;N_HOMALT_CTRL_afr&quot;:&quot;0&quot;,&quot;N_BI_GENOS_BD_ami&quot;:&quot;3&quot;,&quot;FREQ_HET_ami&quot;:&quot;0&quot;,&quot;AN_CASE_nfe&quot;:&quot;12&quot;,&quot;FREQ_HOMREF_CTRL_oth&quot;:&quot;0.986376&quot;,&quot;N_HET_BD&quot;:&quot;4&quot;,&quot;N_HOMREF_CTRL_asj&quot;:&quot;246&quot;,&quot;FREQ_HET_CTRL_mid&quot;:&quot;0&quot;,&quot;N_HET_SCZ_sas&quot;:&quot;0&quot;,&quot;FREQ_HET_CTRL_amr&quot;:&quot;0.0138705&quot;,&quot;N_BI_GENOS_mid&quot;:&quot;8&quot;,&quot;N_HOMREF_CTRL_afr&quot;:&quot;4787&quot;,&quot;FREQ_HOMALT_OthDISEASE&quot;:&quot;0&quot;,&quot;N_HOMALT&quot;:&quot;0&quot;,&quot;N_HOMALT_sas&quot;:&quot;0&quot;,&quot;N_BI_GENOS_BD&quot;:&quot;1547&quot;,&quot;N_BI_GENOS_CTRL_eas&quot;:&quot;29&quot;,&quot;AN_SCZ_nfe&quot;:&quot;1872&quot;,&quot;FREQ_HET&quot;:&quot;0.00840124&quot;,&quot;FREQ_HET_amr&quot;:&quot;0.0128127&quot;,&quot;N_HET_afr&quot;:&quot;87&quot;,&quot;FREQ_HOMALT_CTRL_nfe&quot;:&quot;0&quot;,&quot;FREQ_HET_CASE_nfe&quot;:&quot;0&quot;,&quot;FREQ_HET_SCZ_asj&quot;:&quot;0&quot;,&quot;N_BI_GENOS_CTRL_nfe&quot;:&quot;5645&quot;,&quot;AF&quot;:&quot;0.004201&quot;,&quot;FREQ_HOMREF_nfe&quot;:&quot;0.994413&quot;,&quot;AF_nfe&quot;:&quot;0.002794&quot;,&quot;FREQ_HOMREF_OthDISEASE&quot;:&quot;1&quot;,&quot;AC_SCZ_afr&quot;:&quot;35&quot;,&quot;N_HET_oth&quot;:&quot;5&quot;,&quot;N_HOMREF_BD&quot;:&quot;1543&quot;,&quot;AF_BD_fin&quot;:&quot;0&quot;,&quot;FREQ_HOMREF_CTRL_mid&quot;:&quot;1&quot;,&quot;N_HOMALT_eas&quot;:&quot;0&quot;,&quot;FREQ_HET_SCZ_fin&quot;:&quot;0&quot;,&quot;AF_BD_amr&quot;:&quot;0&quot;,&quot;N_HET_mid&quot;:&quot;0&quot;,&quot;N_HET_SCZ_fin&quot;:&quot;0&quot;,&quot;AN_BD_amr&quot;:&quot;24&quot;,&quot;AC_SCZ_amr&quot;:&quot;0&quot;,&quot;FREQ_HOMREF_mid&quot;:&quot;1&quot;,&quot;FREQ_HOMALT_BD_nfe&quot;:&quot;0&quot;,&quot;N_BI_GENOS_CTRL_afr&quot;:&quot;4837&quot;,&quot;FREQ_HET_CTRL_oth&quot;:&quot;0.013624&quot;,&quot;N_BI_GENOS_fin&quot;:&quot;2127&quot;,&quot;N_BI_GENOS_CTRL_amr&quot;:&quot;1514&quot;,&quot;FREQ_HOMREF_SCZ_amr&quot;:&quot;1&quot;,&quot;FREQ_HOMREF_SCZ_fin&quot;:&quot;1&quot;,&quot;N_HOMREF_sas&quot;:&quot;21&quot;,&quot;AC_BD_nfe&quot;:&quot;2&quot;,&quot;FREQ_HOMREF_BD_ami&quot;:&quot;1&quot;,&quot;FREQ_HET_SCZ&quot;:&quot;0.00945471&quot;,&quot;AF_SCZ_oth&quot;:&quot;0&quot;,&quot;POS2&quot;:&quot;10976&quot;,&quot;AN_CTRL_fin&quot;:&quot;2776&quot;,&quot;FREQ_HOMREF_CTRL&quot;:&quot;0.990832&quot;,&quot;AC_CTRL_fin&quot;:&quot;19&quot;,&quot;NCR&quot;:&quot;0.112276&quot;,&quot;FREQ_HOMREF_SCZ_mid&quot;:&quot;1&quot;,&quot;N_HET_sas&quot;:&quot;0&quot;,&quot;N_HOMREF_oth&quot;:&quot;383&quot;,&quot;AN_CTRL_sas&quot;:&quot;40&quot;,&quot;AF_oth&quot;:&quot;0.006443&quot;,&quot;FREQ_HOMREF_CTRL_amr&quot;:&quot;0.986129&quot;,&quot;N_HOMREF_SCZ_asj&quot;:&quot;22&quot;,&quot;AN_amr&quot;:&quot;3278&quot;,&quot;FREQ_HOMALT_oth&quot;:&quot;0&quot;,&quot;FREQ_HOMALT_BD_fin&quot;:&quot;0&quot;,&quot;FREQ_HOMREF_SCZ_nfe&quot;:&quot;0.991453&quot;,&quot;AN_BD_asj&quot;:&quot;2&quot;,&quot;N_HOMREF_fin&quot;:&quot;2108&quot;,&quot;N_HOMALT_BD_ami&quot;:&quot;0&quot;,&quot;CHR2&quot;:&quot;chr3&quot;,&quot;N_HOMREF_CASE&quot;:&quot;6054&quot;,&quot;POPMAX_AF&quot;:&quot;0.008&quot;,&quot;FREQ_HET_CASE&quot;:&quot;0.00770365&quot;,&quot;AN_BD_nfe&quot;:&quot;1144&quot;,&quot;FREQ_HOMALT_BD_asj&quot;:&quot;0&quot;,&quot;AF_BD_nfe&quot;:&quot;0.001748&quot;,&quot;AN_SCZ_amr&quot;:&quot;226&quot;,&quot;N_HOMALT_amr&quot;:&quot;0&quot;,&quot;AF_BD&quot;:&quot;0.001293&quot;,&quot;N_HET_asj&quot;:&quot;4&quot;,&quot;N_BI_GENOS_CTRL_oth&quot;:&quot;367&quot;,&quot;FREQ_HOMALT_amr&quot;:&quot;0&quot;,&quot;FREQ_HOMREF_CTRL_fin&quot;:&quot;0.986311&quot;,&quot;N_HOMALT_CTRL_sas&quot;:&quot;0&quot;,&quot;N_HOMREF_eas&quot;:&quot;29&quot;,&quot;AN_SCZ_mid&quot;:&quot;6&quot;,&quot;N_HOMALT_afr&quot;:&quot;0&quot;,&quot;AC_CTRL_amr&quot;:&quot;21&quot;,&quot;FREQ_HOMALT_CTRL&quot;:&quot;0&quot;,&quot;N_HOMALT_OthDISEASE&quot;:&quot;0&quot;,&quot;FREQ_HOMALT&quot;:&quot;0&quot;,&quot;FREQ_HOMALT_BD_oth&quot;:&quot;0&quot;,&quot;FREQ_HOMREF_CTRL_sas&quot;:&quot;1&quot;,&quot;N_HET_CTRL_eas&quot;:&quot;0&quot;,&quot;FREQ_HOMREF_CASE_nfe&quot;:&quot;1&quot;,&quot;AN_BD&quot;:&quot;3094&quot;,&quot;AF_fin&quot;:&quot;0.004466&quot;,&quot;N_HOMREF_CTRL&quot;:&quot;13942&quot;,&quot;N_HET_BD_nfe&quot;:&quot;2&quot;,&quot;SVLEN&quot;:&quot;-1&quot;,&quot;AC_mid&quot;:&quot;0&quot;,&quot;AN_SCZ_sas&quot;:&quot;2&quot;,&quot;AF_amr&quot;:&quot;0.006406&quot;,&quot;AF_CTRL_mid&quot;:&quot;0&quot;,&quot;AF_SCZ_asj&quot;:&quot;0&quot;,&quot;AC_CTRL_afr&quot;:&quot;50&quot;,&quot;N_HOMREF_BD_asj&quot;:&quot;1&quot;,&quot;FREQ_HOMALT_SCZ&quot;:&quot;0&quot;,&quot;N_HOMREF_CTRL_fin&quot;:&quot;1369&quot;,&quot;N_BI_GENOS_SCZ_oth&quot;:&quot;18&quot;,&quot;N_HET_ami&quot;:&quot;0&quot;,&quot;AC_SCZ&quot;:&quot;43&quot;,&quot;N_HET_CASE&quot;:&quot;47&quot;,&quot;FREQ_HOMALT_SCZ_mid&quot;:&quot;0&quot;,&quot;N_HOMREF_CTRL_ami&quot;:&quot;16&quot;,&quot;N_BI_GENOS_BD_amr&quot;:&quot;12&quot;,&quot;FREQ_HOMALT_BD_amr&quot;:&quot;0&quot;,&quot;N_HOMREF_SCZ_amr&quot;:&quot;113&quot;,&quot;N_HOMREF_BD_oth&quot;:&quot;3&quot;,&quot;N_HOMALT_SCZ_sas&quot;:&quot;0&quot;,&quot;FREQ_HOMREF_SCZ_sas&quot;:&quot;1&quot;,&quot;PREDICTED_NEAREST_TSS&quot;:&quot;CHL1,OR4F5&quot;,&quot;AC_SCZ_mid&quot;:&quot;0&quot;,&quot;FREQ_HOMALT_CTRL_asj&quot;:&quot;0&quot;,&quot;N_HET_CTRL_fin&quot;:&quot;19&quot;,&quot;N_HOMALT_CTRL_nfe&quot;:&quot;0&quot;,&quot;N_HOMREF_BD_afr&quot;:&quot;779&quot;,&quot;N_HOMREF_SCZ&quot;:&quot;4505&quot;,&quot;FREQ_HOMREF_SCZ&quot;:&quot;0.990545&quot;,&quot;AF_afr&quot;:&quot;0.005112&quot;,&quot;AN_BD_fin&quot;:&quot;350&quot;,&quot;AN_mid&quot;:&quot;16&quot;,&quot;AF_mid&quot;:&quot;0&quot;,&quot;AN_ami&quot;:&quot;38&quot;,&quot;AF_CASE&quot;:&quot;0.003852&quot;,&quot;FREQ_HOMALT_eas&quot;:&quot;0&quot;,&quot;AC_SCZ_nfe&quot;:&quot;8&quot;,&quot;AC_CTRL_ami&quot;:&quot;0&quot;,&quot;FREQ_HOMALT_nfe&quot;:&quot;0&quot;,&quot;N_HET_OthDISEASE&quot;:&quot;0&quot;,&quot;N_HET_CTRL_ami&quot;:&quot;0&quot;,&quot;AN_CTRL_oth&quot;:&quot;734&quot;,&quot;N_HET_nfe&quot;:&quot;40&quot;,&quot;AN_SCZ_asj&quot;:&quot;44&quot;,&quot;N_HOMALT_CTRL_eas&quot;:&quot;0&quot;,&quot;AF_CTRL_sas&quot;:&quot;0&quot;,&quot;FREQ_HET_sas&quot;:&quot;0&quot;,&quot;AN_CTRL_amr&quot;:&quot;3028&quot;,&quot;N_BI_GENOS_CASE&quot;:&quot;6101&quot;,&quot;FREQ_HET_CTRL_fin&quot;:&quot;0.0136888&quot;,&quot;N_HOMALT_BD_oth&quot;:&quot;0&quot;,&quot;FREQ_HET_BD_ami&quot;:&quot;0&quot;,&quot;AC_BD&quot;:&quot;4&quot;,&quot;N_BI_GENOS_BD_afr&quot;:&quot;781&quot;,&quot;N_HOMREF_BD_fin&quot;:&quot;175&quot;,&quot;N_HET_CTRL_asj&quot;:&quot;4&quot;,&quot;FREQ_HOMALT_SCZ_nfe&quot;:&quot;0&quot;,&quot;ALGORITHMS&quot;:&quot;manta&quot;,&quot;N_HOMREF_amr&quot;:&quot;1618&quot;,&quot;FREQ_HET_eas&quot;:&quot;0&quot;,&quot;N_HET_SCZ_mid&quot;:&quot;0&quot;,&quot;N_HOMREF_ami&quot;:&quot;19&quot;,&quot;AN_CASE&quot;:&quot;12202&quot;,&quot;FREQ_HET_nfe&quot;:&quot;0.00558737&quot;,&quot;N_HOMALT_asj&quot;:&quot;0&quot;,&quot;N_HOMALT_SCZ_asj&quot;:&quot;0&quot;,&quot;N_BI_GENOS_CTRL&quot;:&quot;14071&quot;,&quot;AN_CTRL_afr&quot;:&quot;9674&quot;,&quot;FREQ_HOMALT_CTRL_amr&quot;:&quot;0&quot;,&quot;AC_CTRL_eas&quot;:&quot;0&quot;,&quot;FREQ_HET_afr&quot;:&quot;0.0102245&quot;,&quot;FREQ_HOMREF_CTRL_asj&quot;:&quot;0.984&quot;,&quot;FREQ_HOMALT_BD_afr&quot;:&quot;0&quot;,&quot;N_BI_GENOS_BD_nfe&quot;:&quot;572&quot;,&quot;AN_asj&quot;:&quot;546&quot;,&quot;N_HOMREF_afr&quot;:&quot;8422&quot;,&quot;AF_sas&quot;:&quot;0&quot;,&quot;N_HET_BD_oth&quot;:&quot;0&quot;,&quot;N_HOMALT_SCZ_amr&quot;:&quot;0&quot;,&quot;FREQ_HOMREF_BD&quot;:&quot;0.997414&quot;,&quot;N_HET_CTRL_sas&quot;:&quot;0&quot;,&quot;FREQ_HOMREF_CTRL_eas&quot;:&quot;1&quot;,&quot;N_BI_GENOS_SCZ&quot;:&quot;4548&quot;,&quot;N_HOMREF_BD_nfe&quot;:&quot;570&quot;,&quot;FREQ_HOMREF_BD_fin&quot;:&quot;1&quot;,&quot;FREQ_HET_fin&quot;:&quot;0.00893277&quot;,&quot;AC_nfe&quot;:&quot;40&quot;,&quot;AC_CTRL_mid&quot;:&quot;0&quot;,&quot;N_HOMREF_SCZ_sas&quot;:&quot;1&quot;,&quot;FREQ_HOMALT_mid&quot;:&quot;0&quot;,&quot;N_BI_GENOS_oth&quot;:&quot;388&quot;,&quot;N_HOMREF_CTRL_amr&quot;:&quot;1493&quot;,&quot;N_HET_SCZ_oth&quot;:&quot;0&quot;,&quot;N_HOMALT_ami&quot;:&quot;0&quot;,&quot;END&quot;:&quot;10440&quot;,&quot;AF_CTRL_eas&quot;:&quot;0&quot;,&quot;N_BI_GENOS_CTRL_ami&quot;:&quot;16&quot;,&quot;PCRMINUS_NCR&quot;:&quot;0.113804&quot;,&quot;N_BI_GENOS_SCZ_amr&quot;:&quot;113&quot;,&quot;N_HET_CTRL_mid&quot;:&quot;0&quot;,&quot;AN_sas&quot;:&quot;42&quot;,&quot;FREQ_HOMALT_fin&quot;:&quot;0&quot;,&quot;FREQ_HOMREF_fin&quot;:&quot;0.991067&quot;,&quot;FREQ_HET_BD_nfe&quot;:&quot;0.0034965&quot;,&quot;AN_SCZ_fin&quot;:&quot;1128&quot;,&quot;FREQ_HET_asj&quot;:&quot;0.014652&quot;,&quot;AF_CTRL_asj&quot;:&quot;0.008&quot;,&quot;AN_afr&quot;:&quot;17018&quot;,&quot;PCRPLUS_NCR&quot;:&quot;0.0949319&quot;,&quot;FREQ_HOMALT_CTRL_oth&quot;:&quot;0&quot;,&quot;N_HOMALT_mid&quot;:&quot;0&quot;,&quot;FREQ_HET_CTRL_nfe&quot;:&quot;0.00531444&quot;,&quot;N_HET_SCZ_afr&quot;:&quot;35&quot;,&quot;AF_CTRL_afr&quot;:&quot;0.005168&quot;,&quot;N_HET_CASE_nfe&quot;:&quot;0&quot;,&quot;AN_SCZ_oth&quot;:&quot;36&quot;,&quot;N_HOMREF&quot;:&quot;55002&quot;,&quot;FREQ_HOMREF_amr&quot;:&quot;0.987187&quot;,&quot;N_HOMALT_CTRL_mid&quot;:&quot;0&quot;,&quot;FREQ_HOMREF_eas&quot;:&quot;1&quot;,&quot;N_HOMREF_SCZ_afr&quot;:&quot;2856&quot;,&quot;N_HOMALT_BD&quot;:&quot;0&quot;,&quot;N_BI_GENOS_BD_fin&quot;:&quot;175&quot;,&quot;FREQ_HOMALT_sas&quot;:&quot;0&quot;,&quot;FREQ_HET_CTRL_ami&quot;:&quot;0&quot;,&quot;EVIDENCE&quot;:&quot;SR&quot;,&quot;AN_nfe&quot;:&quot;14318&quot;,&quot;FREQ_HOMREF_BD_amr&quot;:&quot;1&quot;,&quot;AF_CTRL&quot;:&quot;0.004584&quot;,&quot;FREQ_HOMALT_CASE&quot;:&quot;0&quot;,&quot;N_HOMREF_BD_amr&quot;:&quot;12&quot;,&quot;N_HOMALT_BD_fin&quot;:&quot;0&quot;,&quot;FREQ_HOMALT_CTRL_eas&quot;:&quot;0&quot;,&quot;AF_CTRL_amr&quot;:&quot;0.006935&quot;,&quot;FREQ_HOMALT_CTRL_afr&quot;:&quot;0&quot;,&quot;FREQ_HOMREF_BD_asj&quot;:&quot;1&quot;,&quot;N_HET_SCZ_asj&quot;:&quot;0&quot;,&quot;FREQ_HOMALT_CTRL_sas&quot;:&quot;0&quot;,&quot;AF_BD_afr&quot;:&quot;0.00128&quot;,&quot;N_HOMALT_CTRL_asj&quot;:&quot;0&quot;,&quot;FREQ_HOMREF_SCZ_oth&quot;:&quot;1&quot;,&quot;AC_sas&quot;:&quot;0&quot;,&quot;N_BI_GENOS_SCZ_sas&quot;:&quot;1&quot;,&quot;FREQ_HOMALT_SCZ_asj&quot;:&quot;0&quot;,&quot;AC_asj&quot;:&quot;4&quot;,&quot;BOTHSIDES_SUPPORT&quot;:&quot;&quot;,&quot;FREQ_HOMALT_SCZ_sas&quot;:&quot;0&quot;,&quot;AF_eas&quot;:&quot;0&quot;,&quot;AC_oth&quot;:&quot;5&quot;,&quot;FREQ_HET_BD_fin&quot;:&quot;0&quot;,&quot;FREQ_HOMALT_BD_ami&quot;:&quot;0&quot;,&quot;AC_SCZ_oth&quot;:&quot;0&quot;,&quot;N_HOMALT_BD_nfe&quot;:&quot;0&quot;,&quot;AC_CTRL_oth&quot;:&quot;5&quot;,&quot;AC_SCZ_sas&quot;:&quot;0&quot;,&quot;AC_OthDISEASE&quot;:&quot;0&quot;,&quot;AC_CASE&quot;:&quot;47&quot;,&quot;AC_fin&quot;:&quot;19&quot;,&quot;FREQ_HOMALT_SCZ_fin&quot;:&quot;0&quot;,&quot;N_BI_GENOS_SCZ_mid&quot;:&quot;3&quot;,&quot;N_BI_GENOS_nfe&quot;:&quot;7159&quot;,&quot;FREQ_HOMREF_SCZ_asj&quot;:&quot;1&quot;,&quot;AC_SCZ_asj&quot;:&quot;0&quot;,&quot;N_BI_GENOS_afr&quot;:&quot;8509&quot;,&quot;FREQ_HET_BD_asj&quot;:&quot;0&quot;,&quot;FREQ_HET_OthDISEASE&quot;:&quot;0&quot;,&quot;AF_CTRL_nfe&quot;:&quot;0.002657&quot;,&quot;SVTYPE&quot;:&quot;BND&quot;,&quot;FREQ_HET_mid&quot;:&quot;0&quot;,&quot;AF_CTRL_ami&quot;:&quot;0&quot;,&quot;AC_CTRL_nfe&quot;:&quot;30&quot;,&quot;AN_BD_afr&quot;:&quot;1562&quot;,&quot;AN_CTRL&quot;:&quot;28142&quot;,&quot;N_HOMALT_CTRL_amr&quot;:&quot;0&quot;,&quot;FREQ_HOMREF_asj&quot;:&quot;0.985348&quot;,&quot;FREQ_HOMREF&quot;:&quot;0.991599&quot;,&quot;N_BI_GENOS_BD_oth&quot;:&quot;3&quot;,&quot;N_HET_CTRL_amr&quot;:&quot;21&quot;,&quot;N_HOMALT_nfe&quot;:&quot;0&quot;,&quot;N_HOMALT_CTRL_oth&quot;:&quot;0&quot;,&quot;N_HOMREF_CTRL_eas&quot;:&quot;29&quot;,&quot;N_HET_SCZ&quot;:&quot;43&quot;,&quot;FREQ_HET_SCZ_afr&quot;:&quot;0.0121065&quot;,&quot;N_BI_GENOS_SCZ_asj&quot;:&quot;22&quot;,&quot;FREQ_HET_SCZ_sas&quot;:&quot;0&quot;,&quot;N_BI_GENOS_OthDISEASE&quot;:&quot;6&quot;,&quot;N_HOMALT_SCZ_fin&quot;:&quot;0&quot;,&quot;N_HOMALT_SCZ_nfe&quot;:&quot;0&quot;,&quot;AN_OthDISEASE&quot;:&quot;12&quot;,&quot;AF_SCZ_nfe&quot;:&quot;0.004274&quot;,&quot;FREQ_HET_BD_amr&quot;:&quot;0&quot;,&quot;FREQ_HOMALT_BD&quot;:&quot;0&quot;,&quot;FREQ_HOMALT_SCZ_oth&quot;:&quot;0&quot;}</td><td style=\"white-space: nowrap; max-width: 500px; overflow: hidden; text-overflow: ellipsis; \">[&quot;AC&quot;,&quot;AC_BD&quot;,&quot;AC_BD_afr&quot;,&quot;AC_BD_ami&quot;,&quot;AC_BD_amr&quot;,&quot;AC_BD_asj&quot;,&quot;AC_BD_fin&quot;,&quot;AC_BD_nfe&quot;,&quot;AC_BD_oth&quot;,&quot;AC_CASE&quot;,&quot;AC_CASE_nfe&quot;,&quot;AC_CTRL&quot;,&quot;AC_CTRL_afr&quot;,&quot;AC_CTRL_ami&quot;,&quot;AC_CTRL_amr&quot;,&quot;AC_CTRL_asj&quot;,&quot;AC_CTRL_eas&quot;,&quot;AC_CTRL_fin&quot;,&quot;AC_CTRL_mid&quot;,&quot;AC_CTRL_nfe&quot;,&quot;AC_CTRL_oth&quot;,&quot;AC_CTRL_sas&quot;,&quot;AC_OthDISEASE&quot;,&quot;AC_SCZ&quot;,&quot;AC_SCZ_afr&quot;,&quot;AC_SCZ_amr&quot;,&quot;AC_SCZ_asj&quot;,&quot;AC_SCZ_fin&quot;,&quot;AC_SCZ_mid&quot;,&quot;AC_SCZ_nfe&quot;,&quot;AC_SCZ_oth&quot;,&quot;AC_SCZ_sas&quot;,&quot;AC_afr&quot;,&quot;AC_ami&quot;,&quot;AC_amr&quot;,&quot;AC_asj&quot;,&quot;AC_eas&quot;,&quot;AC_fin&quot;,&quot;AC_mid&quot;,&quot;AC_nfe&quot;,&quot;AC_oth&quot;,&quot;AC_sas&quot;,&quot;AF&quot;,&quot;AF_BD&quot;,&quot;AF_BD_afr&quot;,&quot;AF_BD_ami&quot;,&quot;AF_BD_amr&quot;,&quot;AF_BD_asj&quot;,&quot;AF_BD_fin&quot;,&quot;AF_BD_nfe&quot;,&quot;AF_BD_oth&quot;,&quot;AF_CASE&quot;,&quot;AF_CASE_nfe&quot;,&quot;AF_CTRL&quot;,&quot;AF_CTRL_afr&quot;,&quot;AF_CTRL_ami&quot;,&quot;AF_CTRL_amr&quot;,&quot;AF_CTRL_asj&quot;,&quot;AF_CTRL_eas&quot;,&quot;AF_CTRL_fin&quot;,&quot;AF_CTRL_mid&quot;,&quot;AF_CTRL_nfe&quot;,&quot;AF_CTRL_oth&quot;,&quot;AF_CTRL_sas&quot;,&quot;AF_OthDISEASE&quot;,&quot;AF_SCZ&quot;,&quot;AF_SCZ_afr&quot;,&quot;AF_SCZ_amr&quot;,&quot;AF_SCZ_asj&quot;,&quot;AF_SCZ_fin&quot;,&quot;AF_SCZ_mid&quot;,&quot;AF_SCZ_nfe&quot;,&quot;AF_SCZ_oth&quot;,&quot;AF_SCZ_sas&quot;,&quot;AF_afr&quot;,&quot;AF_ami&quot;,&quot;AF_amr&quot;,&quot;AF_asj&quot;,&quot;AF_eas&quot;,&quot;AF_fin&quot;,&quot;AF_mid&quot;,&quot;AF_nfe&quot;,&quot;AF_oth&quot;,&quot;AF_sas&quot;,&quot;ALGORITHMS&quot;,&quot;AN&quot;,&quot;AN_BD&quot;,&quot;AN_BD_afr&quot;,&quot;AN_BD_ami&quot;,&quot;AN_BD_amr&quot;,&quot;AN_BD_asj&quot;,&quot;AN_BD_fin&quot;,&quot;AN_BD_nfe&quot;,&quot;AN_BD_oth&quot;,&quot;AN_CASE&quot;,&quot;AN_CASE_nfe&quot;,&quot;AN_CTRL&quot;,&quot;AN_CTRL_afr&quot;,&quot;AN_CTRL_ami&quot;,&quot;AN_CTRL_amr&quot;,&quot;AN_CTRL_asj&quot;,&quot;AN_CTRL_eas&quot;,&quot;AN_CTRL_fin&quot;,&quot;AN_CTRL_mid&quot;,&quot;AN_CTRL_nfe&quot;,&quot;AN_CTRL_oth&quot;,&quot;AN_CTRL_sas&quot;,&quot;AN_OthDISEASE&quot;,&quot;AN_SCZ&quot;,&quot;AN_SCZ_afr&quot;,&quot;AN_SCZ_amr&quot;,&quot;AN_SCZ_asj&quot;,&quot;AN_SCZ_fin&quot;,&quot;AN_SCZ_mid&quot;,&quot;AN_SCZ_nfe&quot;,&quot;AN_SCZ_oth&quot;,&quot;AN_SCZ_sas&quot;,&quot;AN_afr&quot;,&quot;AN_ami&quot;,&quot;AN_amr&quot;,&quot;AN_asj&quot;,&quot;AN_eas&quot;,&quot;AN_fin&quot;,&quot;AN_mid&quot;,&quot;AN_nfe&quot;,&quot;AN_oth&quot;,&quot;AN_sas&quot;,&quot;BOTHSIDES_SUPPORT&quot;,&quot;CHR2&quot;,&quot;END&quot;,&quot;END2&quot;,&quot;EVIDENCE&quot;,&quot;FREQ_HET&quot;,&quot;FREQ_HET_BD&quot;,&quot;FREQ_HET_BD_afr&quot;,&quot;FREQ_HET_BD_ami&quot;,&quot;FREQ_HET_BD_amr&quot;,&quot;FREQ_HET_BD_asj&quot;,&quot;FREQ_HET_BD_fin&quot;,&quot;FREQ_HET_BD_nfe&quot;,&quot;FREQ_HET_BD_oth&quot;,&quot;FREQ_HET_CASE&quot;,&quot;FREQ_HET_CASE_nfe&quot;,&quot;FREQ_HET_CTRL&quot;,&quot;FREQ_HET_CTRL_afr&quot;,&quot;FREQ_HET_CTRL_ami&quot;,&quot;FREQ_HET_CTRL_amr&quot;,&quot;FREQ_HET_CTRL_asj&quot;,&quot;FREQ_HET_CTRL_eas&quot;,&quot;FREQ_HET_CTRL_fin&quot;,&quot;FREQ_HET_CTRL_mid&quot;,&quot;FREQ_HET_CTRL_nfe&quot;,&quot;FREQ_HET_CTRL_oth&quot;,&quot;FREQ_HET_CTRL_sas&quot;,&quot;FREQ_HET_OthDISEASE&quot;,&quot;FREQ_HET_SCZ&quot;,&quot;FREQ_HET_SCZ_afr&quot;,&quot;FREQ_HET_SCZ_amr&quot;,&quot;FREQ_HET_SCZ_asj&quot;,&quot;FREQ_HET_SCZ_fin&quot;,&quot;FREQ_HET_SCZ_mid&quot;,&quot;FREQ_HET_SCZ_nfe&quot;,&quot;FREQ_HET_SCZ_oth&quot;,&quot;FREQ_HET_SCZ_sas&quot;,&quot;FREQ_HET_afr&quot;,&quot;FREQ_HET_ami&quot;,&quot;FREQ_HET_amr&quot;,&quot;FREQ_HET_asj&quot;,&quot;FREQ_HET_eas&quot;,&quot;FREQ_HET_fin&quot;,&quot;FREQ_HET_mid&quot;,&quot;FREQ_HET_nfe&quot;,&quot;FREQ_HET_oth&quot;,&quot;FREQ_HET_sas&quot;,&quot;FREQ_HOMALT&quot;,&quot;FREQ_HOMALT_BD&quot;,&quot;FREQ_HOMALT_BD_afr&quot;,&quot;FREQ_HOMALT_BD_ami&quot;,&quot;FREQ_HOMALT_BD_amr&quot;,&quot;FREQ_HOMALT_BD_asj&quot;,&quot;FREQ_HOMALT_BD_fin&quot;,&quot;FREQ_HOMALT_BD_nfe&quot;,&quot;FREQ_HOMALT_BD_oth&quot;,&quot;FREQ_HOMALT_CASE&quot;,&quot;FREQ_HOMALT_CASE_nfe&quot;,&quot;FREQ_HOMALT_CTRL&quot;,&quot;FREQ_HOMALT_CTRL_afr&quot;,&quot;FREQ_HOMALT_CTRL_ami&quot;,&quot;FREQ_HOMALT_CTRL_amr&quot;,&quot;FREQ_HOMALT_CTRL_asj&quot;,&quot;FREQ_HOMALT_CTRL_eas&quot;,&quot;FREQ_HOMALT_CTRL_fin&quot;,&quot;FREQ_HOMALT_CTRL_mid&quot;,&quot;FREQ_HOMALT_CTRL_nfe&quot;,&quot;FREQ_HOMALT_CTRL_oth&quot;,&quot;FREQ_HOMALT_CTRL_sas&quot;,&quot;FREQ_HOMALT_OthDISEASE&quot;,&quot;FREQ_HOMALT_SCZ&quot;,&quot;FREQ_HOMALT_SCZ_afr&quot;,&quot;FREQ_HOMALT_SCZ_amr&quot;,&quot;FREQ_HOMALT_SCZ_asj&quot;,&quot;FREQ_HOMALT_SCZ_fin&quot;,&quot;FREQ_HOMALT_SCZ_mid&quot;,&quot;FREQ_HOMALT_SCZ_nfe&quot;,&quot;FREQ_HOMALT_SCZ_oth&quot;,&quot;FREQ_HOMALT_SCZ_sas&quot;,&quot;FREQ_HOMALT_afr&quot;,&quot;FREQ_HOMALT_ami&quot;,&quot;FREQ_HOMALT_amr&quot;,&quot;FREQ_HOMALT_asj&quot;,&quot;FREQ_HOMALT_eas&quot;,&quot;FREQ_HOMALT_fin&quot;,&quot;FREQ_HOMALT_mid&quot;,&quot;FREQ_HOMALT_nfe&quot;,&quot;FREQ_HOMALT_oth&quot;,&quot;FREQ_HOMALT_sas&quot;,&quot;FREQ_HOMREF&quot;,&quot;FREQ_HOMREF_BD&quot;,&quot;FREQ_HOMREF_BD_afr&quot;,&quot;FREQ_HOMREF_BD_ami&quot;,&quot;FREQ_HOMREF_BD_amr&quot;,&quot;FREQ_HOMREF_BD_asj&quot;,&quot;FREQ_HOMREF_BD_fin&quot;,&quot;FREQ_HOMREF_BD_nfe&quot;,&quot;FREQ_HOMREF_BD_oth&quot;,&quot;FREQ_HOMREF_CASE&quot;,&quot;FREQ_HOMREF_CASE_nfe&quot;,&quot;FREQ_HOMREF_CTRL&quot;,&quot;FREQ_HOMREF_CTRL_afr&quot;,&quot;FREQ_HOMREF_CTRL_ami&quot;,&quot;FREQ_HOMREF_CTRL_amr&quot;,&quot;FREQ_HOMREF_CTRL_asj&quot;,&quot;FREQ_HOMREF_CTRL_eas&quot;,&quot;FREQ_HOMREF_CTRL_fin&quot;,&quot;FREQ_HOMREF_CTRL_mid&quot;,&quot;FREQ_HOMREF_CTRL_nfe&quot;,&quot;FREQ_HOMREF_CTRL_oth&quot;,&quot;FREQ_HOMREF_CTRL_sas&quot;,&quot;FREQ_HOMREF_OthDISEASE&quot;,&quot;FREQ_HOMREF_SCZ&quot;,&quot;FREQ_HOMREF_SCZ_afr&quot;,&quot;FREQ_HOMREF_SCZ_amr&quot;,&quot;FREQ_HOMREF_SCZ_asj&quot;,&quot;FREQ_HOMREF_SCZ_fin&quot;,&quot;FREQ_HOMREF_SCZ_mid&quot;,&quot;FREQ_HOMREF_SCZ_nfe&quot;,&quot;FREQ_HOMREF_SCZ_oth&quot;,&quot;FREQ_HOMREF_SCZ_sas&quot;,&quot;FREQ_HOMREF_afr&quot;,&quot;FREQ_HOMREF_ami&quot;,&quot;FREQ_HOMREF_amr&quot;,&quot;FREQ_HOMREF_asj&quot;,&quot;FREQ_HOMREF_eas&quot;,&quot;FREQ_HOMREF_fin&quot;,&quot;FREQ_HOMREF_mid&quot;,&quot;FREQ_HOMREF_nfe&quot;,&quot;FREQ_HOMREF_oth&quot;,&quot;FREQ_HOMREF_sas&quot;,&quot;NCR&quot;,&quot;N_BI_GENOS&quot;,&quot;N_BI_GENOS_BD&quot;,&quot;N_BI_GENOS_BD_afr&quot;,&quot;N_BI_GENOS_BD_ami&quot;,&quot;N_BI_GENOS_BD_amr&quot;,&quot;N_BI_GENOS_BD_asj&quot;,&quot;N_BI_GENOS_BD_fin&quot;,&quot;N_BI_GENOS_BD_nfe&quot;,&quot;N_BI_GENOS_BD_oth&quot;,&quot;N_BI_GENOS_CASE&quot;,&quot;N_BI_GENOS_CASE_nfe&quot;,&quot;N_BI_GENOS_CTRL&quot;,&quot;N_BI_GENOS_CTRL_afr&quot;,&quot;N_BI_GENOS_CTRL_ami&quot;,&quot;N_BI_GENOS_CTRL_amr&quot;,&quot;N_BI_GENOS_CTRL_asj&quot;,&quot;N_BI_GENOS_CTRL_eas&quot;,&quot;N_BI_GENOS_CTRL_fin&quot;,&quot;N_BI_GENOS_CTRL_mid&quot;,&quot;N_BI_GENOS_CTRL_nfe&quot;,&quot;N_BI_GENOS_CTRL_oth&quot;,&quot;N_BI_GENOS_CTRL_sas&quot;,&quot;N_BI_GENOS_OthDISEASE&quot;,&quot;N_BI_GENOS_SCZ&quot;,&quot;N_BI_GENOS_SCZ_afr&quot;,&quot;N_BI_GENOS_SCZ_amr&quot;,&quot;N_BI_GENOS_SCZ_asj&quot;,&quot;N_BI_GENOS_SCZ_fin&quot;,&quot;N_BI_GENOS_SCZ_mid&quot;,&quot;N_BI_GENOS_SCZ_nfe&quot;,&quot;N_BI_GENOS_SCZ_oth&quot;,&quot;N_BI_GENOS_SCZ_sas&quot;,&quot;N_BI_GENOS_afr&quot;,&quot;N_BI_GENOS_ami&quot;,&quot;N_BI_GENOS_amr&quot;,&quot;N_BI_GENOS_asj&quot;,&quot;N_BI_GENOS_eas&quot;,&quot;N_BI_GENOS_fin&quot;,&quot;N_BI_GENOS_mid&quot;,&quot;N_BI_GENOS_nfe&quot;,&quot;N_BI_GENOS_oth&quot;,&quot;N_BI_GENOS_sas&quot;,&quot;N_HET&quot;,&quot;N_HET_BD&quot;,&quot;N_HET_BD_afr&quot;,&quot;N_HET_BD_ami&quot;,&quot;N_HET_BD_amr&quot;,&quot;N_HET_BD_asj&quot;,&quot;N_HET_BD_fin&quot;,&quot;N_HET_BD_nfe&quot;,&quot;N_HET_BD_oth&quot;,&quot;N_HET_CASE&quot;,&quot;N_HET_CASE_nfe&quot;,&quot;N_HET_CTRL&quot;,&quot;N_HET_CTRL_afr&quot;,&quot;N_HET_CTRL_ami&quot;,&quot;N_HET_CTRL_amr&quot;,&quot;N_HET_CTRL_asj&quot;,&quot;N_HET_CTRL_eas&quot;,&quot;N_HET_CTRL_fin&quot;,&quot;N_HET_CTRL_mid&quot;,&quot;N_HET_CTRL_nfe&quot;,&quot;N_HET_CTRL_oth&quot;,&quot;N_HET_CTRL_sas&quot;,&quot;N_HET_OthDISEASE&quot;,&quot;N_HET_SCZ&quot;,&quot;N_HET_SCZ_afr&quot;,&quot;N_HET_SCZ_amr&quot;,&quot;N_HET_SCZ_asj&quot;,&quot;N_HET_SCZ_fin&quot;,&quot;N_HET_SCZ_mid&quot;,&quot;N_HET_SCZ_nfe&quot;,&quot;N_HET_SCZ_oth&quot;,&quot;N_HET_SCZ_sas&quot;,&quot;N_HET_afr&quot;,&quot;N_HET_ami&quot;,&quot;N_HET_amr&quot;,&quot;N_HET_asj&quot;,&quot;N_HET_eas&quot;,&quot;N_HET_fin&quot;,&quot;N_HET_mid&quot;,&quot;N_HET_nfe&quot;,&quot;N_HET_oth&quot;,&quot;N_HET_sas&quot;,&quot;N_HOMALT&quot;,&quot;N_HOMALT_BD&quot;,&quot;N_HOMALT_BD_afr&quot;,&quot;N_HOMALT_BD_ami&quot;,&quot;N_HOMALT_BD_amr&quot;,&quot;N_HOMALT_BD_asj&quot;,&quot;N_HOMALT_BD_fin&quot;,&quot;N_HOMALT_BD_nfe&quot;,&quot;N_HOMALT_BD_oth&quot;,&quot;N_HOMALT_CASE&quot;,&quot;N_HOMALT_CASE_nfe&quot;,&quot;N_HOMALT_CTRL&quot;,&quot;N_HOMALT_CTRL_afr&quot;,&quot;N_HOMALT_CTRL_ami&quot;,&quot;N_HOMALT_CTRL_amr&quot;,&quot;N_HOMALT_CTRL_asj&quot;,&quot;N_HOMALT_CTRL_eas&quot;,&quot;N_HOMALT_CTRL_fin&quot;,&quot;N_HOMALT_CTRL_mid&quot;,&quot;N_HOMALT_CTRL_nfe&quot;,&quot;N_HOMALT_CTRL_oth&quot;,&quot;N_HOMALT_CTRL_sas&quot;,&quot;N_HOMALT_OthDISEASE&quot;,&quot;N_HOMALT_SCZ&quot;,&quot;N_HOMALT_SCZ_afr&quot;,&quot;N_HOMALT_SCZ_amr&quot;,&quot;N_HOMALT_SCZ_asj&quot;,&quot;N_HOMALT_SCZ_fin&quot;,&quot;N_HOMALT_SCZ_mid&quot;,&quot;N_HOMALT_SCZ_nfe&quot;,&quot;N_HOMALT_SCZ_oth&quot;,&quot;N_HOMALT_SCZ_sas&quot;,&quot;N_HOMALT_afr&quot;,&quot;N_HOMALT_ami&quot;,&quot;N_HOMALT_amr&quot;,&quot;N_HOMALT_asj&quot;,&quot;N_HOMALT_eas&quot;,&quot;N_HOMALT_fin&quot;,&quot;N_HOMALT_mid&quot;,&quot;N_HOMALT_nfe&quot;,&quot;N_HOMALT_oth&quot;,&quot;N_HOMALT_sas&quot;,&quot;N_HOMREF&quot;,&quot;N_HOMREF_BD&quot;,&quot;N_HOMREF_BD_afr&quot;,&quot;N_HOMREF_BD_ami&quot;,&quot;N_HOMREF_BD_amr&quot;,&quot;N_HOMREF_BD_asj&quot;,&quot;N_HOMREF_BD_fin&quot;,&quot;N_HOMREF_BD_nfe&quot;,&quot;N_HOMREF_BD_oth&quot;,&quot;N_HOMREF_CASE&quot;,&quot;N_HOMREF_CASE_nfe&quot;,&quot;N_HOMREF_CTRL&quot;,&quot;N_HOMREF_CTRL_afr&quot;,&quot;N_HOMREF_CTRL_ami&quot;,&quot;N_HOMREF_CTRL_amr&quot;,&quot;N_HOMREF_CTRL_asj&quot;,&quot;N_HOMREF_CTRL_eas&quot;,&quot;N_HOMREF_CTRL_fin&quot;,&quot;N_HOMREF_CTRL_mid&quot;,&quot;N_HOMREF_CTRL_nfe&quot;,&quot;N_HOMREF_CTRL_oth&quot;,&quot;N_HOMREF_CTRL_sas&quot;,&quot;N_HOMREF_OthDISEASE&quot;,&quot;N_HOMREF_SCZ&quot;,&quot;N_HOMREF_SCZ_afr&quot;,&quot;N_HOMREF_SCZ_amr&quot;,&quot;N_HOMREF_SCZ_asj&quot;,&quot;N_HOMREF_SCZ_fin&quot;,&quot;N_HOMREF_SCZ_mid&quot;,&quot;N_HOMREF_SCZ_nfe&quot;,&quot;N_HOMREF_SCZ_oth&quot;,&quot;N_HOMREF_SCZ_sas&quot;,&quot;N_HOMREF_afr&quot;,&quot;N_HOMREF_ami&quot;,&quot;N_HOMREF_amr&quot;,&quot;N_HOMREF_asj&quot;,&quot;N_HOMREF_eas&quot;,&quot;N_HOMREF_fin&quot;,&quot;N_HOMREF_mid&quot;,&quot;N_HOMREF_nfe&quot;,&quot;N_HOMREF_oth&quot;,&quot;N_HOMREF_sas&quot;,&quot;PCRMINUS_NCR&quot;,&quot;PCRPLUS_NCR&quot;,&quot;POPMAX_AF&quot;,&quot;POS2&quot;,&quot;PREDICTED_INTERGENIC&quot;,&quot;PREDICTED_NEAREST_TSS&quot;,&quot;SVLEN&quot;,&quot;SVTYPE&quot;,&quot;UNRESOLVED_TYPE&quot;]</td></tr>\n",
       "<tr><td style=\"white-space: nowrap; max-width: 500px; overflow: hidden; text-overflow: ellipsis; \">chr1:10450</td><td style=\"white-space: nowrap; max-width: 500px; overflow: hidden; text-overflow: ellipsis; \">&quot;gnomAD-SV_v3_BND_chr1_933a2971&quot;</td><td style=\"white-space: nowrap; max-width: 500px; overflow: hidden; text-overflow: ellipsis; \">&quot;BND&quot;</td><td style=\"white-space: nowrap; max-width: 500px; overflow: hidden; text-overflow: ellipsis; \">&quot;287&quot;</td><td style=\"white-space: nowrap; max-width: 500px; overflow: hidden; text-overflow: ellipsis; \">[&quot;HIGH_NCR&quot;,&quot;UNRESOLVED&quot;]</td><td style=\"white-space: nowrap; max-width: 500px; overflow: hidden; text-overflow: ellipsis; \">{&quot;N_HOMALT_CTRL&quot;:&quot;20&quot;,&quot;AF_CTRL_oth&quot;:&quot;0.365854&quot;,&quot;FREQ_HOMALT_CTRL_mid&quot;:&quot;0&quot;,&quot;N_HOMALT_CTRL_fin&quot;:&quot;4&quot;,&quot;AC_CASE_nfe&quot;:&quot;2&quot;,&quot;N_HOMREF_nfe&quot;:&quot;1498&quot;,&quot;FREQ_HOMREF_sas&quot;:&quot;0.25&quot;,&quot;N_HET_eas&quot;:&quot;9&quot;,&quot;N_HOMALT_CASE_nfe&quot;:&quot;0&quot;,&quot;FREQ_HOMALT_CTRL_fin&quot;:&quot;0.00412371&quot;,&quot;N_HOMREF_mid&quot;:&quot;1&quot;,&quot;AF_SCZ&quot;:&quot;0.294381&quot;,&quot;AN_CTRL_mid&quot;:&quot;4&quot;,&quot;FREQ_HET_SCZ_mid&quot;:&quot;1&quot;,&quot;N_HET_BD_fin&quot;:&quot;21&quot;,&quot;N_HOMALT_SCZ_afr&quot;:&quot;7&quot;,&quot;N_HOMREF_SCZ_oth&quot;:&quot;7&quot;,&quot;AC_SCZ_fin&quot;:&quot;76&quot;,&quot;N_HOMREF_SCZ_fin&quot;:&quot;250&quot;,&quot;FREQ_HOMREF_BD_nfe&quot;:&quot;0.382979&quot;,&quot;END2&quot;:&quot;80258275&quot;,&quot;AF_CASE_nfe&quot;:&quot;0.25&quot;,&quot;FREQ_HET_CTRL_asj&quot;:&quot;0.666667&quot;,&quot;N_HET&quot;:&quot;21616&quot;,&quot;AN_SCZ&quot;:&quot;5588&quot;,&quot;FREQ_HET_BD&quot;:&quot;0.596721&quot;,&quot;AN_CTRL_nfe&quot;:&quot;6296&quot;,&quot;AF_BD_asj&quot;:&quot;0&quot;,&quot;N_HOMALT_oth&quot;:&quot;1&quot;,&quot;AN_SCZ_afr&quot;:&quot;3484&quot;,&quot;N_HET_SCZ_amr&quot;:&quot;24&quot;,&quot;AF_SCZ_fin&quot;:&quot;0.116564&quot;,&quot;FREQ_HET_SCZ_nfe&quot;:&quot;0.646782&quot;,&quot;AC_amr&quot;:&quot;826&quot;,&quot;AF_SCZ_sas&quot;:&quot;0.5&quot;,&quot;N_HOMREF_OthDISEASE&quot;:&quot;2&quot;,&quot;AN_BD_ami&quot;:&quot;2&quot;,&quot;FREQ_HET_BD_oth&quot;:&quot;0&quot;,&quot;FREQ_HET_CTRL_sas&quot;:&quot;0.727273&quot;,&quot;FREQ_HOMREF_CTRL_nfe&quot;:&quot;0.370394&quot;,&quot;FREQ_HOMREF_BD_oth&quot;:&quot;1&quot;,&quot;N_HOMALT_fin&quot;:&quot;4&quot;,&quot;FREQ_HOMALT_CTRL_ami&quot;:&quot;0&quot;,&quot;N_BI_GENOS_CASE_nfe&quot;:&quot;4&quot;,&quot;N_HOMREF_CASE_nfe&quot;:&quot;2&quot;,&quot;AC_CTRL_asj&quot;:&quot;92&quot;,&quot;N_HET_amr&quot;:&quot;810&quot;,&quot;AC&quot;:&quot;21766&quot;,&quot;FREQ_HOMREF_oth&quot;:&quot;0.292308&quot;,&quot;N_BI_GENOS_amr&quot;:&quot;1181&quot;,&quot;AC_afr&quot;:&quot;3384&quot;,&quot;N_HOMALT_BD_afr&quot;:&quot;1&quot;,&quot;N_HOMALT_CTRL_ami&quot;:&quot;0&quot;,&quot;N_HET_CTRL_nfe&quot;:&quot;1979&quot;,&quot;N_HOMALT_BD_amr&quot;:&quot;0&quot;,&quot;N_BI_GENOS&quot;:&quot;33600&quot;,&quot;FREQ_HET_CTRL&quot;:&quot;0.655755&quot;,&quot;AC_BD_asj&quot;:&quot;0&quot;,&quot;N_HOMREF_SCZ_nfe&quot;:&quot;222&quot;,&quot;N_HOMREF_asj&quot;:&quot;52&quot;,&quot;N_HOMALT_SCZ_mid&quot;:&quot;0&quot;,&quot;AC_CTRL_sas&quot;:&quot;8&quot;,&quot;N_HET_BD_amr&quot;:&quot;4&quot;,&quot;N_HOMALT_SCZ_oth&quot;:&quot;0&quot;,&quot;AC_BD_oth&quot;:&quot;0&quot;,&quot;FREQ_HET_oth&quot;:&quot;0.703846&quot;,&quot;N_HET_CTRL_oth&quot;:&quot;178&quot;,&quot;N_BI_GENOS_sas&quot;:&quot;12&quot;,&quot;N_BI_GENOS_CTRL_fin&quot;:&quot;970&quot;,&quot;FREQ_HOMREF_ami&quot;:&quot;0.454545&quot;,&quot;N_HET_CTRL_afr&quot;:&quot;1916&quot;,&quot;N_HET_fin&quot;:&quot;755&quot;,&quot;N_HOMREF_CTRL_oth&quot;:&quot;67&quot;,&quot;N_BI_GENOS_eas&quot;:&quot;16&quot;,&quot;N_HET_CTRL&quot;:&quot;5629&quot;,&quot;AN_CTRL_asj&quot;:&quot;276&quot;,&quot;N_HOMREF_BD_ami&quot;:&quot;1&quot;,&quot;UNRESOLVED_TYPE&quot;:&quot;MIXED_BREAKENDS&quot;,&quot;N_BI_GENOS_ami&quot;:&quot;11&quot;,&quot;AF_CTRL_fin&quot;:&quot;0.343299&quot;,&quot;N_HOMREF_CTRL_mid&quot;:&quot;1&quot;,&quot;FREQ_HOMALT_afr&quot;:&quot;0.00231214&quot;,&quot;FREQ_HET_SCZ_amr&quot;:&quot;0.393443&quot;,&quot;FREQ_HOMREF_CTRL_afr&quot;:&quot;0.344038&quot;,&quot;AF_SCZ_amr&quot;:&quot;0.196721&quot;,&quot;AN_CTRL_eas&quot;:&quot;32&quot;,&quot;FREQ_HOMREF_CTRL_ami&quot;:&quot;0.4&quot;,&quot;N_BI_GENOS_BD_asj&quot;:&quot;1&quot;,&quot;N_HET_SCZ_nfe&quot;:&quot;412&quot;,&quot;FREQ_HET_CTRL_afr&quot;:&quot;0.654595&quot;,&quot;AN_eas&quot;:&quot;32&quot;,&quot;FREQ_HOMALT_asj&quot;:&quot;0&quot;,&quot;FREQ_HOMREF_SCZ_afr&quot;:&quot;0.366246&quot;,&quot;AC_eas&quot;:&quot;9&quot;,&quot;N_BI_GENOS_SCZ_fin&quot;:&quot;326&quot;,&quot;N_HET_BD_afr&quot;:&quot;347&quot;,&quot;FREQ_HOMALT_CASE_nfe&quot;:&quot;0&quot;,&quot;AC_ami&quot;:&quot;6&quot;,&quot;AN_fin&quot;:&quot;2800&quot;,&quot;AF_BD_ami&quot;:&quot;0&quot;,&quot;AC_BD_amr&quot;:&quot;4&quot;,&quot;N_HOMREF_CTRL_nfe&quot;:&quot;1166&quot;,&quot;AN&quot;:&quot;67200&quot;,&quot;N_HOMALT_CASE&quot;:&quot;11&quot;,&quot;AF_ami&quot;:&quot;0.272727&quot;,&quot;PREDICTED_INTERGENIC&quot;:&quot;&quot;,&quot;N_BI_GENOS_SCZ_nfe&quot;:&quot;637&quot;,&quot;AN_oth&quot;:&quot;520&quot;,&quot;AF_asj&quot;:&quot;0.330065&quot;,&quot;AN_BD_oth&quot;:&quot;4&quot;,&quot;FREQ_HOMREF_CASE&quot;:&quot;0.411796&quot;,&quot;FREQ_HET_SCZ_oth&quot;:&quot;0.416667&quot;,&quot;N_HOMALT_SCZ&quot;:&quot;10&quot;,&quot;N_BI_GENOS_CTRL_sas&quot;:&quot;11&quot;,&quot;FREQ_HOMALT_SCZ_amr&quot;:&quot;0&quot;,&quot;N_HET_BD_ami&quot;:&quot;0&quot;,&quot;FREQ_HOMREF_BD_afr&quot;:&quot;0.332054&quot;,&quot;N_HOMALT_BD_asj&quot;:&quot;0&quot;,&quot;AF_BD_oth&quot;:&quot;0&quot;,&quot;AF_SCZ_afr&quot;:&quot;0.318886&quot;,&quot;FREQ_HET_CTRL_eas&quot;:&quot;0.5625&quot;,&quot;N_HET_BD_asj&quot;:&quot;0&quot;,&quot;AC_BD_fin&quot;:&quot;21&quot;,&quot;AC_CTRL&quot;:&quot;5669&quot;,&quot;FREQ_HOMREF_afr&quot;:&quot;0.350289&quot;,&quot;N_BI_GENOS_asj&quot;:&quot;153&quot;,&quot;N_BI_GENOS_CTRL_asj&quot;:&quot;138&quot;,&quot;N_BI_GENOS_CTRL_mid&quot;:&quot;2&quot;,&quot;AF_SCZ_mid&quot;:&quot;0.5&quot;,&quot;N_BI_GENOS_SCZ_afr&quot;:&quot;1742&quot;,&quot;FREQ_HOMALT_SCZ_afr&quot;:&quot;0.00401837&quot;,&quot;FREQ_HET_BD_afr&quot;:&quot;0.666027&quot;,&quot;AC_BD_ami&quot;:&quot;0&quot;,&quot;N_HOMREF_CTRL_sas&quot;:&quot;3&quot;,&quot;AN_CTRL_ami&quot;:&quot;20&quot;,&quot;AC_BD_afr&quot;:&quot;349&quot;,&quot;FREQ_HOMALT_ami&quot;:&quot;0&quot;,&quot;AF_OthDISEASE&quot;:&quot;0.25&quot;,&quot;N_HOMREF_SCZ_mid&quot;:&quot;0&quot;,&quot;N_HOMALT_CTRL_afr&quot;:&quot;4&quot;,&quot;N_BI_GENOS_BD_ami&quot;:&quot;1&quot;,&quot;FREQ_HET_ami&quot;:&quot;0.545455&quot;,&quot;AN_CASE_nfe&quot;:&quot;8&quot;,&quot;FREQ_HOMREF_CTRL_oth&quot;:&quot;0.272358&quot;,&quot;N_HET_BD&quot;:&quot;546&quot;,&quot;N_HOMREF_CTRL_asj&quot;:&quot;46&quot;,&quot;FREQ_HET_CTRL_mid&quot;:&quot;0.5&quot;,&quot;N_HET_SCZ_sas&quot;:&quot;1&quot;,&quot;FREQ_HET_CTRL_amr&quot;:&quot;0.700717&quot;,&quot;N_BI_GENOS_mid&quot;:&quot;3&quot;,&quot;N_HOMREF_CTRL_afr&quot;:&quot;1007&quot;,&quot;FREQ_HOMALT_OthDISEASE&quot;:&quot;0&quot;,&quot;N_HOMALT&quot;:&quot;75&quot;,&quot;N_HOMALT_sas&quot;:&quot;0&quot;,&quot;N_BI_GENOS_BD&quot;:&quot;915&quot;,&quot;N_BI_GENOS_CTRL_eas&quot;:&quot;16&quot;,&quot;AN_SCZ_nfe&quot;:&quot;1274&quot;,&quot;FREQ_HET&quot;:&quot;0.643333&quot;,&quot;FREQ_HET_amr&quot;:&quot;0.685859&quot;,&quot;N_HET_afr&quot;:&quot;3360&quot;,&quot;FREQ_HOMALT_CTRL_nfe&quot;:&quot;0.000952986&quot;,&quot;FREQ_HET_CASE_nfe&quot;:&quot;0.5&quot;,&quot;FREQ_HET_SCZ_asj&quot;:&quot;0.642857&quot;,&quot;N_BI_GENOS_CTRL_nfe&quot;:&quot;3148&quot;,&quot;AF&quot;:&quot;0.323899&quot;,&quot;FREQ_HOMREF_nfe&quot;:&quot;0.367969&quot;,&quot;AF_nfe&quot;:&quot;0.316753&quot;,&quot;FREQ_HOMREF_OthDISEASE&quot;:&quot;0.5&quot;,&quot;AC_SCZ_afr&quot;:&quot;1111&quot;,&quot;N_HET_oth&quot;:&quot;183&quot;,&quot;N_HOMREF_BD&quot;:&quot;368&quot;,&quot;AF_BD_fin&quot;:&quot;0.100962&quot;,&quot;FREQ_HOMREF_CTRL_mid&quot;:&quot;0.5&quot;,&quot;N_HOMALT_eas&quot;:&quot;0&quot;,&quot;FREQ_HET_SCZ_fin&quot;:&quot;0.233129&quot;,&quot;AF_BD_amr&quot;:&quot;0.5&quot;,&quot;N_HET_mid&quot;:&quot;2&quot;,&quot;N_HET_SCZ_fin&quot;:&quot;76&quot;,&quot;AN_BD_amr&quot;:&quot;8&quot;,&quot;AC_SCZ_amr&quot;:&quot;24&quot;,&quot;FREQ_HOMREF_mid&quot;:&quot;0.333333&quot;,&quot;FREQ_HOMALT_BD_nfe&quot;:&quot;0&quot;,&quot;N_BI_GENOS_CTRL_afr&quot;:&quot;2927&quot;,&quot;FREQ_HET_CTRL_oth&quot;:&quot;0.723577&quot;,&quot;N_BI_GENOS_fin&quot;:&quot;1400&quot;,&quot;N_BI_GENOS_CTRL_amr&quot;:&quot;1116&quot;,&quot;FREQ_HOMREF_SCZ_amr&quot;:&quot;0.606557&quot;,&quot;FREQ_HOMREF_SCZ_fin&quot;:&quot;0.766871&quot;,&quot;N_HOMREF_sas&quot;:&quot;3&quot;,&quot;AC_BD_nfe&quot;:&quot;174&quot;,&quot;FREQ_HOMREF_BD_ami&quot;:&quot;1&quot;,&quot;FREQ_HET_SCZ&quot;:&quot;0.581603&quot;,&quot;AF_SCZ_oth&quot;:&quot;0.208333&quot;,&quot;POS2&quot;:&quot;80258274&quot;,&quot;AN_CTRL_fin&quot;:&quot;1940&quot;,&quot;FREQ_HOMREF_CTRL&quot;:&quot;0.341915&quot;,&quot;AC_CTRL_fin&quot;:&quot;666&quot;,&quot;NCR&quot;:&quot;0.468505&quot;,&quot;FREQ_HOMREF_SCZ_mid&quot;:&quot;0&quot;,&quot;N_HET_sas&quot;:&quot;9&quot;,&quot;N_HOMREF_oth&quot;:&quot;76&quot;,&quot;AN_CTRL_sas&quot;:&quot;22&quot;,&quot;AF_oth&quot;:&quot;0.355769&quot;,&quot;FREQ_HOMREF_CTRL_amr&quot;:&quot;0.292115&quot;,&quot;N_HOMREF_SCZ_asj&quot;:&quot;5&quot;,&quot;AN_amr&quot;:&quot;2362&quot;,&quot;FREQ_HOMALT_oth&quot;:&quot;0.00384615&quot;,&quot;FREQ_HOMALT_BD_fin&quot;:&quot;0&quot;,&quot;FREQ_HOMREF_SCZ_nfe&quot;:&quot;0.348509&quot;,&quot;AN_BD_asj&quot;:&quot;2&quot;,&quot;N_HOMREF_fin&quot;:&quot;641&quot;,&quot;N_HOMALT_BD_ami&quot;:&quot;0&quot;,&quot;CHR2&quot;:&quot;chr18&quot;,&quot;N_HOMREF_CASE&quot;:&quot;1529&quot;,&quot;POPMAX_AF&quot;:&quot;0.5&quot;,&quot;FREQ_HET_CASE&quot;:&quot;0.585241&quot;,&quot;AN_BD_nfe&quot;:&quot;564&quot;,&quot;FREQ_HOMALT_BD_asj&quot;:&quot;0&quot;,&quot;AF_BD_nfe&quot;:&quot;0.308511&quot;,&quot;AN_SCZ_amr&quot;:&quot;122&quot;,&quot;N_HOMALT_amr&quot;:&quot;8&quot;,&quot;AF_BD&quot;:&quot;0.299454&quot;,&quot;N_HET_asj&quot;:&quot;101&quot;,&quot;N_BI_GENOS_CTRL_oth&quot;:&quot;246&quot;,&quot;FREQ_HOMALT_amr&quot;:&quot;0.00677392&quot;,&quot;FREQ_HOMREF_CTRL_fin&quot;:&quot;0.317526&quot;,&quot;N_HOMALT_CTRL_sas&quot;:&quot;0&quot;,&quot;N_HOMREF_eas&quot;:&quot;7&quot;,&quot;AN_SCZ_mid&quot;:&quot;2&quot;,&quot;N_HOMALT_afr&quot;:&quot;12&quot;,&quot;AC_CTRL_amr&quot;:&quot;798&quot;,&quot;FREQ_HOMALT_CTRL&quot;:&quot;0.00232992&quot;,&quot;N_HOMALT_OthDISEASE&quot;:&quot;0&quot;,&quot;FREQ_HOMALT&quot;:&quot;0.00223214&quot;,&quot;FREQ_HOMALT_BD_oth&quot;:&quot;0&quot;,&quot;FREQ_HOMREF_CTRL_sas&quot;:&quot;0.272727&quot;,&quot;N_HET_CTRL_eas&quot;:&quot;9&quot;,&quot;FREQ_HOMREF_CASE_nfe&quot;:&quot;0.5&quot;,&quot;AN_BD&quot;:&quot;1830&quot;,&quot;AF_fin&quot;:&quot;0.2725&quot;,&quot;N_HOMREF_CTRL&quot;:&quot;2935&quot;,&quot;N_HET_BD_nfe&quot;:&quot;174&quot;,&quot;SVLEN&quot;:&quot;-1&quot;,&quot;AC_mid&quot;:&quot;2&quot;,&quot;AN_SCZ_sas&quot;:&quot;2&quot;,&quot;AF_amr&quot;:&quot;0.349704&quot;,&quot;AF_CTRL_mid&quot;:&quot;0.25&quot;,&quot;AF_SCZ_asj&quot;:&quot;0.321429&quot;,&quot;AC_CTRL_afr&quot;:&quot;1924&quot;,&quot;N_HOMREF_BD_asj&quot;:&quot;1&quot;,&quot;FREQ_HOMALT_SCZ&quot;:&quot;0.0035791&quot;,&quot;N_HOMREF_CTRL_fin&quot;:&quot;308&quot;,&quot;N_BI_GENOS_SCZ_oth&quot;:&quot;12&quot;,&quot;N_HET_ami&quot;:&quot;6&quot;,&quot;AC_SCZ&quot;:&quot;1645&quot;,&quot;N_HET_CASE&quot;:&quot;2173&quot;,&quot;FREQ_HOMALT_SCZ_mid&quot;:&quot;0&quot;,&quot;N_HOMREF_CTRL_ami&quot;:&quot;4&quot;,&quot;N_BI_GENOS_BD_amr&quot;:&quot;4&quot;,&quot;FREQ_HOMALT_BD_amr&quot;:&quot;0&quot;,&quot;N_HOMREF_SCZ_amr&quot;:&quot;37&quot;,&quot;N_HOMREF_BD_oth&quot;:&quot;2&quot;,&quot;N_HOMALT_SCZ_sas&quot;:&quot;0&quot;,&quot;FREQ_HOMREF_SCZ_sas&quot;:&quot;0&quot;,&quot;PREDICTED_NEAREST_TSS&quot;:&quot;OR4F5,PARD6G&quot;,&quot;AC_SCZ_mid&quot;:&quot;1&quot;,&quot;FREQ_HOMALT_CTRL_asj&quot;:&quot;0&quot;,&quot;N_HET_CTRL_fin&quot;:&quot;658&quot;,&quot;N_HOMALT_CTRL_nfe&quot;:&quot;3&quot;,&quot;N_HOMREF_BD_afr&quot;:&quot;173&quot;,&quot;N_HOMREF_SCZ&quot;:&quot;1159&quot;,&quot;FREQ_HOMREF_SCZ&quot;:&quot;0.414817&quot;,&quot;AF_afr&quot;:&quot;0.326012&quot;,&quot;AN_BD_fin&quot;:&quot;208&quot;,&quot;AN_mid&quot;:&quot;6&quot;,&quot;AF_mid&quot;:&quot;0.333333&quot;,&quot;AN_ami&quot;:&quot;22&quot;,&quot;AF_CASE&quot;:&quot;0.295583&quot;,&quot;FREQ_HOMALT_eas&quot;:&quot;0&quot;,&quot;AC_SCZ_nfe&quot;:&quot;418&quot;,&quot;AC_CTRL_ami&quot;:&quot;6&quot;,&quot;FREQ_HOMALT_nfe&quot;:&quot;0.00147384&quot;,&quot;N_HET_OthDISEASE&quot;:&quot;2&quot;,&quot;N_HET_CTRL_ami&quot;:&quot;6&quot;,&quot;AN_CTRL_oth&quot;:&quot;492&quot;,&quot;N_HET_nfe&quot;:&quot;2567&quot;,&quot;AN_SCZ_asj&quot;:&quot;28&quot;,&quot;N_HOMALT_CTRL_eas&quot;:&quot;0&quot;,&quot;AF_CTRL_sas&quot;:&quot;0.363636&quot;,&quot;FREQ_HET_sas&quot;:&quot;0.75&quot;,&quot;AN_CTRL_amr&quot;:&quot;2232&quot;,&quot;N_BI_GENOS_CASE&quot;:&quot;3713&quot;,&quot;FREQ_HET_CTRL_fin&quot;:&quot;0.678351&quot;,&quot;N_HOMALT_BD_oth&quot;:&quot;0&quot;,&quot;FREQ_HET_BD_ami&quot;:&quot;0&quot;,&quot;AC_BD&quot;:&quot;548&quot;,&quot;N_BI_GENOS_BD_afr&quot;:&quot;521&quot;,&quot;N_HOMREF_BD_fin&quot;:&quot;83&quot;,&quot;N_HET_CTRL_asj&quot;:&quot;92&quot;,&quot;FREQ_HOMALT_SCZ_nfe&quot;:&quot;0.00470958&quot;,&quot;ALGORITHMS&quot;:&quot;manta&quot;,&quot;N_HOMREF_amr&quot;:&quot;363&quot;,&quot;FREQ_HET_eas&quot;:&quot;0.5625&quot;,&quot;N_HET_SCZ_mid&quot;:&quot;1&quot;,&quot;N_HOMREF_ami&quot;:&quot;5&quot;,&quot;AN_CASE&quot;:&quot;7426&quot;,&quot;FREQ_HET_nfe&quot;:&quot;0.630558&quot;,&quot;N_HOMALT_asj&quot;:&quot;0&quot;,&quot;N_HOMALT_SCZ_asj&quot;:&quot;0&quot;,&quot;N_BI_GENOS_CTRL&quot;:&quot;8584&quot;,&quot;AN_CTRL_afr&quot;:&quot;5854&quot;,&quot;FREQ_HOMALT_CTRL_amr&quot;:&quot;0.00716846&quot;,&quot;AC_CTRL_eas&quot;:&quot;9&quot;,&quot;FREQ_HET_afr&quot;:&quot;0.647399&quot;,&quot;FREQ_HOMREF_CTRL_asj&quot;:&quot;0.333333&quot;,&quot;FREQ_HOMALT_BD_afr&quot;:&quot;0.00191939&quot;,&quot;N_BI_GENOS_BD_nfe&quot;:&quot;282&quot;,&quot;AN_asj&quot;:&quot;306&quot;,&quot;N_HOMREF_afr&quot;:&quot;1818&quot;,&quot;AF_sas&quot;:&quot;0.375&quot;,&quot;N_HET_BD_oth&quot;:&quot;0&quot;,&quot;N_HOMALT_SCZ_amr&quot;:&quot;0&quot;,&quot;FREQ_HOMREF_BD&quot;:&quot;0.402186&quot;,&quot;N_HET_CTRL_sas&quot;:&quot;8&quot;,&quot;FREQ_HOMREF_CTRL_eas&quot;:&quot;0.4375&quot;,&quot;N_BI_GENOS_SCZ&quot;:&quot;2794&quot;,&quot;N_HOMREF_BD_nfe&quot;:&quot;108&quot;,&quot;FREQ_HOMREF_BD_fin&quot;:&quot;0.798077&quot;,&quot;FREQ_HET_fin&quot;:&quot;0.539286&quot;,&quot;AC_nfe&quot;:&quot;2579&quot;,&quot;AC_CTRL_mid&quot;:&quot;1&quot;,&quot;N_HOMREF_SCZ_sas&quot;:&quot;0&quot;,&quot;FREQ_HOMALT_mid&quot;:&quot;0&quot;,&quot;N_BI_GENOS_oth&quot;:&quot;260&quot;,&quot;N_HOMREF_CTRL_amr&quot;:&quot;326&quot;,&quot;N_HET_SCZ_oth&quot;:&quot;5&quot;,&quot;N_HOMALT_ami&quot;:&quot;0&quot;,&quot;END&quot;:&quot;10450&quot;,&quot;AF_CTRL_eas&quot;:&quot;0.28125&quot;,&quot;N_BI_GENOS_CTRL_ami&quot;:&quot;10&quot;,&quot;PCRMINUS_NCR&quot;:&quot;0.472369&quot;,&quot;N_BI_GENOS_SCZ_amr&quot;:&quot;61&quot;,&quot;N_HET_CTRL_mid&quot;:&quot;1&quot;,&quot;AN_sas&quot;:&quot;24&quot;,&quot;FREQ_HOMALT_fin&quot;:&quot;0.00285714&quot;,&quot;FREQ_HOMREF_fin&quot;:&quot;0.457857&quot;,&quot;FREQ_HET_BD_nfe&quot;:&quot;0.617021&quot;,&quot;AN_SCZ_fin&quot;:&quot;652&quot;,&quot;FREQ_HET_asj&quot;:&quot;0.660131&quot;,&quot;AF_CTRL_asj&quot;:&quot;0.333333&quot;,&quot;AN_afr&quot;:&quot;10380&quot;,&quot;PCRPLUS_NCR&quot;:&quot;0.424641&quot;,&quot;FREQ_HOMALT_CTRL_oth&quot;:&quot;0.00406504&quot;,&quot;N_HOMALT_mid&quot;:&quot;0&quot;,&quot;FREQ_HET_CTRL_nfe&quot;:&quot;0.628653&quot;,&quot;N_HET_SCZ_afr&quot;:&quot;1097&quot;,&quot;AF_CTRL_afr&quot;:&quot;0.328664&quot;,&quot;N_HET_CASE_nfe&quot;:&quot;2&quot;,&quot;AN_SCZ_oth&quot;:&quot;24&quot;,&quot;N_HOMREF&quot;:&quot;11909&quot;,&quot;FREQ_HOMREF_amr&quot;:&quot;0.307367&quot;,&quot;N_HOMALT_CTRL_mid&quot;:&quot;0&quot;,&quot;FREQ_HOMREF_eas&quot;:&quot;0.4375&quot;,&quot;N_HOMREF_SCZ_afr&quot;:&quot;638&quot;,&quot;N_HOMALT_BD&quot;:&quot;1&quot;,&quot;N_BI_GENOS_BD_fin&quot;:&quot;104&quot;,&quot;FREQ_HOMALT_sas&quot;:&quot;0&quot;,&quot;FREQ_HET_CTRL_ami&quot;:&quot;0.6&quot;,&quot;EVIDENCE&quot;:&quot;SR&quot;,&quot;AN_nfe&quot;:&quot;8142&quot;,&quot;FREQ_HOMREF_BD_amr&quot;:&quot;0&quot;,&quot;AF_CTRL&quot;:&quot;0.330207&quot;,&quot;FREQ_HOMALT_CASE&quot;:&quot;0.00296256&quot;,&quot;N_HOMREF_BD_amr&quot;:&quot;0&quot;,&quot;N_HOMALT_BD_fin&quot;:&quot;0&quot;,&quot;FREQ_HOMALT_CTRL_eas&quot;:&quot;0&quot;,&quot;AF_CTRL_amr&quot;:&quot;0.357527&quot;,&quot;FREQ_HOMALT_CTRL_afr&quot;:&quot;0.00136659&quot;,&quot;FREQ_HOMREF_BD_asj&quot;:&quot;1&quot;,&quot;N_HET_SCZ_asj&quot;:&quot;9&quot;,&quot;FREQ_HOMALT_CTRL_sas&quot;:&quot;0&quot;,&quot;AF_BD_afr&quot;:&quot;0.334933&quot;,&quot;N_HOMALT_CTRL_asj&quot;:&quot;0&quot;,&quot;FREQ_HOMREF_SCZ_oth&quot;:&quot;0.583333&quot;,&quot;AC_sas&quot;:&quot;9&quot;,&quot;N_BI_GENOS_SCZ_sas&quot;:&quot;1&quot;,&quot;FREQ_HOMALT_SCZ_asj&quot;:&quot;0&quot;,&quot;AC_asj&quot;:&quot;101&quot;,&quot;BOTHSIDES_SUPPORT&quot;:&quot;&quot;,&quot;FREQ_HOMALT_SCZ_sas&quot;:&quot;0&quot;,&quot;AF_eas&quot;:&quot;0.28125&quot;,&quot;AC_oth&quot;:&quot;185&quot;,&quot;FREQ_HET_BD_fin&quot;:&quot;0.201923&quot;,&quot;FREQ_HOMALT_BD_ami&quot;:&quot;0&quot;,&quot;AC_SCZ_oth&quot;:&quot;5&quot;,&quot;N_HOMALT_BD_nfe&quot;:&quot;0&quot;,&quot;AC_CTRL_oth&quot;:&quot;180&quot;,&quot;AC_SCZ_sas&quot;:&quot;1&quot;,&quot;AC_OthDISEASE&quot;:&quot;2&quot;,&quot;AC_CASE&quot;:&quot;2195&quot;,&quot;AC_fin&quot;:&quot;763&quot;,&quot;FREQ_HOMALT_SCZ_fin&quot;:&quot;0&quot;,&quot;N_BI_GENOS_SCZ_mid&quot;:&quot;1&quot;,&quot;N_BI_GENOS_nfe&quot;:&quot;4071&quot;,&quot;FREQ_HOMREF_SCZ_asj&quot;:&quot;0.357143&quot;,&quot;AC_SCZ_asj&quot;:&quot;9&quot;,&quot;N_BI_GENOS_afr&quot;:&quot;5190&quot;,&quot;FREQ_HET_BD_asj&quot;:&quot;0&quot;,&quot;FREQ_HET_OthDISEASE&quot;:&quot;0.5&quot;,&quot;AF_CTRL_nfe&quot;:&quot;0.31528&quot;,&quot;SVTYPE&quot;:&quot;BND&quot;,&quot;FREQ_HET_mid&quot;:&quot;0.666667&quot;,&quot;AF_CTRL_ami&quot;:&quot;0.3&quot;,&quot;AC_CTRL_nfe&quot;:&quot;1985&quot;,&quot;AN_BD_afr&quot;:&quot;1042&quot;,&quot;AN_CTRL&quot;:&quot;17168&quot;,&quot;N_HOMALT_CTRL_amr&quot;:&quot;8&quot;,&quot;FREQ_HOMREF_asj&quot;:&quot;0.339869&quot;,&quot;FREQ_HOMREF&quot;:&quot;0.354435&quot;,&quot;N_BI_GENOS_BD_oth&quot;:&quot;2&quot;,&quot;N_HET_CTRL_amr&quot;:&quot;782&quot;,&quot;N_HOMALT_nfe&quot;:&quot;6&quot;,&quot;N_HOMALT_CTRL_oth&quot;:&quot;1&quot;,&quot;N_HOMREF_CTRL_eas&quot;:&quot;7&quot;,&quot;N_HET_SCZ&quot;:&quot;1625&quot;,&quot;FREQ_HET_SCZ_afr&quot;:&quot;0.629736&quot;,&quot;N_BI_GENOS_SCZ_asj&quot;:&quot;14&quot;,&quot;FREQ_HET_SCZ_sas&quot;:&quot;1&quot;,&quot;N_BI_GENOS_OthDISEASE&quot;:&quot;4&quot;,&quot;N_HOMALT_SCZ_fin&quot;:&quot;0&quot;,&quot;N_HOMALT_SCZ_nfe&quot;:&quot;3&quot;,&quot;AN_OthDISEASE&quot;:&quot;8&quot;,&quot;AF_SCZ_nfe&quot;:&quot;0.3281&quot;,&quot;FREQ_HET_BD_amr&quot;:&quot;1&quot;,&quot;FREQ_HOMALT_BD&quot;:&quot;0.0010929&quot;,&quot;FREQ_HOMALT_SCZ_oth&quot;:&quot;0&quot;}</td><td style=\"white-space: nowrap; max-width: 500px; overflow: hidden; text-overflow: ellipsis; \">[&quot;AC&quot;,&quot;AC_BD&quot;,&quot;AC_BD_afr&quot;,&quot;AC_BD_ami&quot;,&quot;AC_BD_amr&quot;,&quot;AC_BD_asj&quot;,&quot;AC_BD_fin&quot;,&quot;AC_BD_nfe&quot;,&quot;AC_BD_oth&quot;,&quot;AC_CASE&quot;,&quot;AC_CASE_nfe&quot;,&quot;AC_CTRL&quot;,&quot;AC_CTRL_afr&quot;,&quot;AC_CTRL_ami&quot;,&quot;AC_CTRL_amr&quot;,&quot;AC_CTRL_asj&quot;,&quot;AC_CTRL_eas&quot;,&quot;AC_CTRL_fin&quot;,&quot;AC_CTRL_mid&quot;,&quot;AC_CTRL_nfe&quot;,&quot;AC_CTRL_oth&quot;,&quot;AC_CTRL_sas&quot;,&quot;AC_OthDISEASE&quot;,&quot;AC_SCZ&quot;,&quot;AC_SCZ_afr&quot;,&quot;AC_SCZ_amr&quot;,&quot;AC_SCZ_asj&quot;,&quot;AC_SCZ_fin&quot;,&quot;AC_SCZ_mid&quot;,&quot;AC_SCZ_nfe&quot;,&quot;AC_SCZ_oth&quot;,&quot;AC_SCZ_sas&quot;,&quot;AC_afr&quot;,&quot;AC_ami&quot;,&quot;AC_amr&quot;,&quot;AC_asj&quot;,&quot;AC_eas&quot;,&quot;AC_fin&quot;,&quot;AC_mid&quot;,&quot;AC_nfe&quot;,&quot;AC_oth&quot;,&quot;AC_sas&quot;,&quot;AF&quot;,&quot;AF_BD&quot;,&quot;AF_BD_afr&quot;,&quot;AF_BD_ami&quot;,&quot;AF_BD_amr&quot;,&quot;AF_BD_asj&quot;,&quot;AF_BD_fin&quot;,&quot;AF_BD_nfe&quot;,&quot;AF_BD_oth&quot;,&quot;AF_CASE&quot;,&quot;AF_CASE_nfe&quot;,&quot;AF_CTRL&quot;,&quot;AF_CTRL_afr&quot;,&quot;AF_CTRL_ami&quot;,&quot;AF_CTRL_amr&quot;,&quot;AF_CTRL_asj&quot;,&quot;AF_CTRL_eas&quot;,&quot;AF_CTRL_fin&quot;,&quot;AF_CTRL_mid&quot;,&quot;AF_CTRL_nfe&quot;,&quot;AF_CTRL_oth&quot;,&quot;AF_CTRL_sas&quot;,&quot;AF_OthDISEASE&quot;,&quot;AF_SCZ&quot;,&quot;AF_SCZ_afr&quot;,&quot;AF_SCZ_amr&quot;,&quot;AF_SCZ_asj&quot;,&quot;AF_SCZ_fin&quot;,&quot;AF_SCZ_mid&quot;,&quot;AF_SCZ_nfe&quot;,&quot;AF_SCZ_oth&quot;,&quot;AF_SCZ_sas&quot;,&quot;AF_afr&quot;,&quot;AF_ami&quot;,&quot;AF_amr&quot;,&quot;AF_asj&quot;,&quot;AF_eas&quot;,&quot;AF_fin&quot;,&quot;AF_mid&quot;,&quot;AF_nfe&quot;,&quot;AF_oth&quot;,&quot;AF_sas&quot;,&quot;ALGORITHMS&quot;,&quot;AN&quot;,&quot;AN_BD&quot;,&quot;AN_BD_afr&quot;,&quot;AN_BD_ami&quot;,&quot;AN_BD_amr&quot;,&quot;AN_BD_asj&quot;,&quot;AN_BD_fin&quot;,&quot;AN_BD_nfe&quot;,&quot;AN_BD_oth&quot;,&quot;AN_CASE&quot;,&quot;AN_CASE_nfe&quot;,&quot;AN_CTRL&quot;,&quot;AN_CTRL_afr&quot;,&quot;AN_CTRL_ami&quot;,&quot;AN_CTRL_amr&quot;,&quot;AN_CTRL_asj&quot;,&quot;AN_CTRL_eas&quot;,&quot;AN_CTRL_fin&quot;,&quot;AN_CTRL_mid&quot;,&quot;AN_CTRL_nfe&quot;,&quot;AN_CTRL_oth&quot;,&quot;AN_CTRL_sas&quot;,&quot;AN_OthDISEASE&quot;,&quot;AN_SCZ&quot;,&quot;AN_SCZ_afr&quot;,&quot;AN_SCZ_amr&quot;,&quot;AN_SCZ_asj&quot;,&quot;AN_SCZ_fin&quot;,&quot;AN_SCZ_mid&quot;,&quot;AN_SCZ_nfe&quot;,&quot;AN_SCZ_oth&quot;,&quot;AN_SCZ_sas&quot;,&quot;AN_afr&quot;,&quot;AN_ami&quot;,&quot;AN_amr&quot;,&quot;AN_asj&quot;,&quot;AN_eas&quot;,&quot;AN_fin&quot;,&quot;AN_mid&quot;,&quot;AN_nfe&quot;,&quot;AN_oth&quot;,&quot;AN_sas&quot;,&quot;BOTHSIDES_SUPPORT&quot;,&quot;CHR2&quot;,&quot;END&quot;,&quot;END2&quot;,&quot;EVIDENCE&quot;,&quot;FREQ_HET&quot;,&quot;FREQ_HET_BD&quot;,&quot;FREQ_HET_BD_afr&quot;,&quot;FREQ_HET_BD_ami&quot;,&quot;FREQ_HET_BD_amr&quot;,&quot;FREQ_HET_BD_asj&quot;,&quot;FREQ_HET_BD_fin&quot;,&quot;FREQ_HET_BD_nfe&quot;,&quot;FREQ_HET_BD_oth&quot;,&quot;FREQ_HET_CASE&quot;,&quot;FREQ_HET_CASE_nfe&quot;,&quot;FREQ_HET_CTRL&quot;,&quot;FREQ_HET_CTRL_afr&quot;,&quot;FREQ_HET_CTRL_ami&quot;,&quot;FREQ_HET_CTRL_amr&quot;,&quot;FREQ_HET_CTRL_asj&quot;,&quot;FREQ_HET_CTRL_eas&quot;,&quot;FREQ_HET_CTRL_fin&quot;,&quot;FREQ_HET_CTRL_mid&quot;,&quot;FREQ_HET_CTRL_nfe&quot;,&quot;FREQ_HET_CTRL_oth&quot;,&quot;FREQ_HET_CTRL_sas&quot;,&quot;FREQ_HET_OthDISEASE&quot;,&quot;FREQ_HET_SCZ&quot;,&quot;FREQ_HET_SCZ_afr&quot;,&quot;FREQ_HET_SCZ_amr&quot;,&quot;FREQ_HET_SCZ_asj&quot;,&quot;FREQ_HET_SCZ_fin&quot;,&quot;FREQ_HET_SCZ_mid&quot;,&quot;FREQ_HET_SCZ_nfe&quot;,&quot;FREQ_HET_SCZ_oth&quot;,&quot;FREQ_HET_SCZ_sas&quot;,&quot;FREQ_HET_afr&quot;,&quot;FREQ_HET_ami&quot;,&quot;FREQ_HET_amr&quot;,&quot;FREQ_HET_asj&quot;,&quot;FREQ_HET_eas&quot;,&quot;FREQ_HET_fin&quot;,&quot;FREQ_HET_mid&quot;,&quot;FREQ_HET_nfe&quot;,&quot;FREQ_HET_oth&quot;,&quot;FREQ_HET_sas&quot;,&quot;FREQ_HOMALT&quot;,&quot;FREQ_HOMALT_BD&quot;,&quot;FREQ_HOMALT_BD_afr&quot;,&quot;FREQ_HOMALT_BD_ami&quot;,&quot;FREQ_HOMALT_BD_amr&quot;,&quot;FREQ_HOMALT_BD_asj&quot;,&quot;FREQ_HOMALT_BD_fin&quot;,&quot;FREQ_HOMALT_BD_nfe&quot;,&quot;FREQ_HOMALT_BD_oth&quot;,&quot;FREQ_HOMALT_CASE&quot;,&quot;FREQ_HOMALT_CASE_nfe&quot;,&quot;FREQ_HOMALT_CTRL&quot;,&quot;FREQ_HOMALT_CTRL_afr&quot;,&quot;FREQ_HOMALT_CTRL_ami&quot;,&quot;FREQ_HOMALT_CTRL_amr&quot;,&quot;FREQ_HOMALT_CTRL_asj&quot;,&quot;FREQ_HOMALT_CTRL_eas&quot;,&quot;FREQ_HOMALT_CTRL_fin&quot;,&quot;FREQ_HOMALT_CTRL_mid&quot;,&quot;FREQ_HOMALT_CTRL_nfe&quot;,&quot;FREQ_HOMALT_CTRL_oth&quot;,&quot;FREQ_HOMALT_CTRL_sas&quot;,&quot;FREQ_HOMALT_OthDISEASE&quot;,&quot;FREQ_HOMALT_SCZ&quot;,&quot;FREQ_HOMALT_SCZ_afr&quot;,&quot;FREQ_HOMALT_SCZ_amr&quot;,&quot;FREQ_HOMALT_SCZ_asj&quot;,&quot;FREQ_HOMALT_SCZ_fin&quot;,&quot;FREQ_HOMALT_SCZ_mid&quot;,&quot;FREQ_HOMALT_SCZ_nfe&quot;,&quot;FREQ_HOMALT_SCZ_oth&quot;,&quot;FREQ_HOMALT_SCZ_sas&quot;,&quot;FREQ_HOMALT_afr&quot;,&quot;FREQ_HOMALT_ami&quot;,&quot;FREQ_HOMALT_amr&quot;,&quot;FREQ_HOMALT_asj&quot;,&quot;FREQ_HOMALT_eas&quot;,&quot;FREQ_HOMALT_fin&quot;,&quot;FREQ_HOMALT_mid&quot;,&quot;FREQ_HOMALT_nfe&quot;,&quot;FREQ_HOMALT_oth&quot;,&quot;FREQ_HOMALT_sas&quot;,&quot;FREQ_HOMREF&quot;,&quot;FREQ_HOMREF_BD&quot;,&quot;FREQ_HOMREF_BD_afr&quot;,&quot;FREQ_HOMREF_BD_ami&quot;,&quot;FREQ_HOMREF_BD_amr&quot;,&quot;FREQ_HOMREF_BD_asj&quot;,&quot;FREQ_HOMREF_BD_fin&quot;,&quot;FREQ_HOMREF_BD_nfe&quot;,&quot;FREQ_HOMREF_BD_oth&quot;,&quot;FREQ_HOMREF_CASE&quot;,&quot;FREQ_HOMREF_CASE_nfe&quot;,&quot;FREQ_HOMREF_CTRL&quot;,&quot;FREQ_HOMREF_CTRL_afr&quot;,&quot;FREQ_HOMREF_CTRL_ami&quot;,&quot;FREQ_HOMREF_CTRL_amr&quot;,&quot;FREQ_HOMREF_CTRL_asj&quot;,&quot;FREQ_HOMREF_CTRL_eas&quot;,&quot;FREQ_HOMREF_CTRL_fin&quot;,&quot;FREQ_HOMREF_CTRL_mid&quot;,&quot;FREQ_HOMREF_CTRL_nfe&quot;,&quot;FREQ_HOMREF_CTRL_oth&quot;,&quot;FREQ_HOMREF_CTRL_sas&quot;,&quot;FREQ_HOMREF_OthDISEASE&quot;,&quot;FREQ_HOMREF_SCZ&quot;,&quot;FREQ_HOMREF_SCZ_afr&quot;,&quot;FREQ_HOMREF_SCZ_amr&quot;,&quot;FREQ_HOMREF_SCZ_asj&quot;,&quot;FREQ_HOMREF_SCZ_fin&quot;,&quot;FREQ_HOMREF_SCZ_mid&quot;,&quot;FREQ_HOMREF_SCZ_nfe&quot;,&quot;FREQ_HOMREF_SCZ_oth&quot;,&quot;FREQ_HOMREF_SCZ_sas&quot;,&quot;FREQ_HOMREF_afr&quot;,&quot;FREQ_HOMREF_ami&quot;,&quot;FREQ_HOMREF_amr&quot;,&quot;FREQ_HOMREF_asj&quot;,&quot;FREQ_HOMREF_eas&quot;,&quot;FREQ_HOMREF_fin&quot;,&quot;FREQ_HOMREF_mid&quot;,&quot;FREQ_HOMREF_nfe&quot;,&quot;FREQ_HOMREF_oth&quot;,&quot;FREQ_HOMREF_sas&quot;,&quot;NCR&quot;,&quot;N_BI_GENOS&quot;,&quot;N_BI_GENOS_BD&quot;,&quot;N_BI_GENOS_BD_afr&quot;,&quot;N_BI_GENOS_BD_ami&quot;,&quot;N_BI_GENOS_BD_amr&quot;,&quot;N_BI_GENOS_BD_asj&quot;,&quot;N_BI_GENOS_BD_fin&quot;,&quot;N_BI_GENOS_BD_nfe&quot;,&quot;N_BI_GENOS_BD_oth&quot;,&quot;N_BI_GENOS_CASE&quot;,&quot;N_BI_GENOS_CASE_nfe&quot;,&quot;N_BI_GENOS_CTRL&quot;,&quot;N_BI_GENOS_CTRL_afr&quot;,&quot;N_BI_GENOS_CTRL_ami&quot;,&quot;N_BI_GENOS_CTRL_amr&quot;,&quot;N_BI_GENOS_CTRL_asj&quot;,&quot;N_BI_GENOS_CTRL_eas&quot;,&quot;N_BI_GENOS_CTRL_fin&quot;,&quot;N_BI_GENOS_CTRL_mid&quot;,&quot;N_BI_GENOS_CTRL_nfe&quot;,&quot;N_BI_GENOS_CTRL_oth&quot;,&quot;N_BI_GENOS_CTRL_sas&quot;,&quot;N_BI_GENOS_OthDISEASE&quot;,&quot;N_BI_GENOS_SCZ&quot;,&quot;N_BI_GENOS_SCZ_afr&quot;,&quot;N_BI_GENOS_SCZ_amr&quot;,&quot;N_BI_GENOS_SCZ_asj&quot;,&quot;N_BI_GENOS_SCZ_fin&quot;,&quot;N_BI_GENOS_SCZ_mid&quot;,&quot;N_BI_GENOS_SCZ_nfe&quot;,&quot;N_BI_GENOS_SCZ_oth&quot;,&quot;N_BI_GENOS_SCZ_sas&quot;,&quot;N_BI_GENOS_afr&quot;,&quot;N_BI_GENOS_ami&quot;,&quot;N_BI_GENOS_amr&quot;,&quot;N_BI_GENOS_asj&quot;,&quot;N_BI_GENOS_eas&quot;,&quot;N_BI_GENOS_fin&quot;,&quot;N_BI_GENOS_mid&quot;,&quot;N_BI_GENOS_nfe&quot;,&quot;N_BI_GENOS_oth&quot;,&quot;N_BI_GENOS_sas&quot;,&quot;N_HET&quot;,&quot;N_HET_BD&quot;,&quot;N_HET_BD_afr&quot;,&quot;N_HET_BD_ami&quot;,&quot;N_HET_BD_amr&quot;,&quot;N_HET_BD_asj&quot;,&quot;N_HET_BD_fin&quot;,&quot;N_HET_BD_nfe&quot;,&quot;N_HET_BD_oth&quot;,&quot;N_HET_CASE&quot;,&quot;N_HET_CASE_nfe&quot;,&quot;N_HET_CTRL&quot;,&quot;N_HET_CTRL_afr&quot;,&quot;N_HET_CTRL_ami&quot;,&quot;N_HET_CTRL_amr&quot;,&quot;N_HET_CTRL_asj&quot;,&quot;N_HET_CTRL_eas&quot;,&quot;N_HET_CTRL_fin&quot;,&quot;N_HET_CTRL_mid&quot;,&quot;N_HET_CTRL_nfe&quot;,&quot;N_HET_CTRL_oth&quot;,&quot;N_HET_CTRL_sas&quot;,&quot;N_HET_OthDISEASE&quot;,&quot;N_HET_SCZ&quot;,&quot;N_HET_SCZ_afr&quot;,&quot;N_HET_SCZ_amr&quot;,&quot;N_HET_SCZ_asj&quot;,&quot;N_HET_SCZ_fin&quot;,&quot;N_HET_SCZ_mid&quot;,&quot;N_HET_SCZ_nfe&quot;,&quot;N_HET_SCZ_oth&quot;,&quot;N_HET_SCZ_sas&quot;,&quot;N_HET_afr&quot;,&quot;N_HET_ami&quot;,&quot;N_HET_amr&quot;,&quot;N_HET_asj&quot;,&quot;N_HET_eas&quot;,&quot;N_HET_fin&quot;,&quot;N_HET_mid&quot;,&quot;N_HET_nfe&quot;,&quot;N_HET_oth&quot;,&quot;N_HET_sas&quot;,&quot;N_HOMALT&quot;,&quot;N_HOMALT_BD&quot;,&quot;N_HOMALT_BD_afr&quot;,&quot;N_HOMALT_BD_ami&quot;,&quot;N_HOMALT_BD_amr&quot;,&quot;N_HOMALT_BD_asj&quot;,&quot;N_HOMALT_BD_fin&quot;,&quot;N_HOMALT_BD_nfe&quot;,&quot;N_HOMALT_BD_oth&quot;,&quot;N_HOMALT_CASE&quot;,&quot;N_HOMALT_CASE_nfe&quot;,&quot;N_HOMALT_CTRL&quot;,&quot;N_HOMALT_CTRL_afr&quot;,&quot;N_HOMALT_CTRL_ami&quot;,&quot;N_HOMALT_CTRL_amr&quot;,&quot;N_HOMALT_CTRL_asj&quot;,&quot;N_HOMALT_CTRL_eas&quot;,&quot;N_HOMALT_CTRL_fin&quot;,&quot;N_HOMALT_CTRL_mid&quot;,&quot;N_HOMALT_CTRL_nfe&quot;,&quot;N_HOMALT_CTRL_oth&quot;,&quot;N_HOMALT_CTRL_sas&quot;,&quot;N_HOMALT_OthDISEASE&quot;,&quot;N_HOMALT_SCZ&quot;,&quot;N_HOMALT_SCZ_afr&quot;,&quot;N_HOMALT_SCZ_amr&quot;,&quot;N_HOMALT_SCZ_asj&quot;,&quot;N_HOMALT_SCZ_fin&quot;,&quot;N_HOMALT_SCZ_mid&quot;,&quot;N_HOMALT_SCZ_nfe&quot;,&quot;N_HOMALT_SCZ_oth&quot;,&quot;N_HOMALT_SCZ_sas&quot;,&quot;N_HOMALT_afr&quot;,&quot;N_HOMALT_ami&quot;,&quot;N_HOMALT_amr&quot;,&quot;N_HOMALT_asj&quot;,&quot;N_HOMALT_eas&quot;,&quot;N_HOMALT_fin&quot;,&quot;N_HOMALT_mid&quot;,&quot;N_HOMALT_nfe&quot;,&quot;N_HOMALT_oth&quot;,&quot;N_HOMALT_sas&quot;,&quot;N_HOMREF&quot;,&quot;N_HOMREF_BD&quot;,&quot;N_HOMREF_BD_afr&quot;,&quot;N_HOMREF_BD_ami&quot;,&quot;N_HOMREF_BD_amr&quot;,&quot;N_HOMREF_BD_asj&quot;,&quot;N_HOMREF_BD_fin&quot;,&quot;N_HOMREF_BD_nfe&quot;,&quot;N_HOMREF_BD_oth&quot;,&quot;N_HOMREF_CASE&quot;,&quot;N_HOMREF_CASE_nfe&quot;,&quot;N_HOMREF_CTRL&quot;,&quot;N_HOMREF_CTRL_afr&quot;,&quot;N_HOMREF_CTRL_ami&quot;,&quot;N_HOMREF_CTRL_amr&quot;,&quot;N_HOMREF_CTRL_asj&quot;,&quot;N_HOMREF_CTRL_eas&quot;,&quot;N_HOMREF_CTRL_fin&quot;,&quot;N_HOMREF_CTRL_mid&quot;,&quot;N_HOMREF_CTRL_nfe&quot;,&quot;N_HOMREF_CTRL_oth&quot;,&quot;N_HOMREF_CTRL_sas&quot;,&quot;N_HOMREF_OthDISEASE&quot;,&quot;N_HOMREF_SCZ&quot;,&quot;N_HOMREF_SCZ_afr&quot;,&quot;N_HOMREF_SCZ_amr&quot;,&quot;N_HOMREF_SCZ_asj&quot;,&quot;N_HOMREF_SCZ_fin&quot;,&quot;N_HOMREF_SCZ_mid&quot;,&quot;N_HOMREF_SCZ_nfe&quot;,&quot;N_HOMREF_SCZ_oth&quot;,&quot;N_HOMREF_SCZ_sas&quot;,&quot;N_HOMREF_afr&quot;,&quot;N_HOMREF_ami&quot;,&quot;N_HOMREF_amr&quot;,&quot;N_HOMREF_asj&quot;,&quot;N_HOMREF_eas&quot;,&quot;N_HOMREF_fin&quot;,&quot;N_HOMREF_mid&quot;,&quot;N_HOMREF_nfe&quot;,&quot;N_HOMREF_oth&quot;,&quot;N_HOMREF_sas&quot;,&quot;PCRMINUS_NCR&quot;,&quot;PCRPLUS_NCR&quot;,&quot;POPMAX_AF&quot;,&quot;POS2&quot;,&quot;PREDICTED_INTERGENIC&quot;,&quot;PREDICTED_NEAREST_TSS&quot;,&quot;SVLEN&quot;,&quot;SVTYPE&quot;,&quot;UNRESOLVED_TYPE&quot;]</td></tr>\n",
       "<tr><td style=\"white-space: nowrap; max-width: 500px; overflow: hidden; text-overflow: ellipsis; \">chr1:10464</td><td style=\"white-space: nowrap; max-width: 500px; overflow: hidden; text-overflow: ellipsis; \">&quot;gnomAD-SV_v3_BND_chr1_7bbf34b5&quot;</td><td style=\"white-space: nowrap; max-width: 500px; overflow: hidden; text-overflow: ellipsis; \">&quot;BND&quot;</td><td style=\"white-space: nowrap; max-width: 500px; overflow: hidden; text-overflow: ellipsis; \">&quot;198&quot;</td><td style=\"white-space: nowrap; max-width: 500px; overflow: hidden; text-overflow: ellipsis; \">[&quot;HIGH_NCR&quot;,&quot;UNRESOLVED&quot;]</td><td style=\"white-space: nowrap; max-width: 500px; overflow: hidden; text-overflow: ellipsis; \">{&quot;N_HOMALT_CTRL&quot;:&quot;0&quot;,&quot;AF_CTRL_oth&quot;:&quot;0.034884&quot;,&quot;FREQ_HOMALT_CTRL_mid&quot;:&quot;0&quot;,&quot;N_HOMALT_CTRL_fin&quot;:&quot;0&quot;,&quot;AC_CASE_nfe&quot;:&quot;1&quot;,&quot;N_HOMREF_nfe&quot;:&quot;5163&quot;,&quot;FREQ_HOMREF_sas&quot;:&quot;0.916667&quot;,&quot;N_HET_eas&quot;:&quot;1&quot;,&quot;N_HOMALT_CASE_nfe&quot;:&quot;0&quot;,&quot;FREQ_HOMALT_CTRL_fin&quot;:&quot;0&quot;,&quot;N_HOMREF_mid&quot;:&quot;5&quot;,&quot;AF_SCZ&quot;:&quot;0.027135&quot;,&quot;AN_CTRL_mid&quot;:&quot;6&quot;,&quot;FREQ_HET_SCZ_mid&quot;:&quot;0&quot;,&quot;N_HET_BD_fin&quot;:&quot;6&quot;,&quot;N_HOMALT_SCZ_afr&quot;:&quot;0&quot;,&quot;N_HOMREF_SCZ_oth&quot;:&quot;19&quot;,&quot;AC_SCZ_fin&quot;:&quot;34&quot;,&quot;N_HOMREF_SCZ_fin&quot;:&quot;406&quot;,&quot;FREQ_HOMREF_BD_nfe&quot;:&quot;0.922518&quot;,&quot;END2&quot;:&quot;10502&quot;,&quot;AF_CASE_nfe&quot;:&quot;0.1&quot;,&quot;FREQ_HET_CTRL_asj&quot;:&quot;0.0444444&quot;,&quot;N_HET&quot;:&quot;3115&quot;,&quot;AN_SCZ&quot;:&quot;7260&quot;,&quot;FREQ_HET_BD&quot;:&quot;0.0597015&quot;,&quot;AN_CTRL_nfe&quot;:&quot;8574&quot;,&quot;AF_BD_asj&quot;:&quot;0&quot;,&quot;N_HOMALT_oth&quot;:&quot;0&quot;,&quot;AN_SCZ_afr&quot;:&quot;4578&quot;,&quot;N_HET_SCZ_amr&quot;:&quot;1&quot;,&quot;AF_SCZ_fin&quot;:&quot;0.038636&quot;,&quot;FREQ_HET_SCZ_nfe&quot;:&quot;0.0596026&quot;,&quot;AC_amr&quot;:&quot;106&quot;,&quot;AF_SCZ_sas&quot;:&quot;0&quot;,&quot;N_HOMREF_OthDISEASE&quot;:&quot;4&quot;,&quot;AN_BD_ami&quot;:&quot;4&quot;,&quot;FREQ_HET_BD_oth&quot;:&quot;0&quot;,&quot;FREQ_HET_CTRL_sas&quot;:&quot;0.0833333&quot;,&quot;FREQ_HOMREF_CTRL_nfe&quot;:&quot;0.948915&quot;,&quot;FREQ_HOMREF_BD_oth&quot;:&quot;1&quot;,&quot;N_HOMALT_fin&quot;:&quot;0&quot;,&quot;FREQ_HOMALT_CTRL_ami&quot;:&quot;0&quot;,&quot;N_BI_GENOS_CASE_nfe&quot;:&quot;5&quot;,&quot;N_HOMREF_CASE_nfe&quot;:&quot;4&quot;,&quot;AC_CTRL_asj&quot;:&quot;8&quot;,&quot;N_HET_amr&quot;:&quot;106&quot;,&quot;AC&quot;:&quot;3119&quot;,&quot;FREQ_HOMREF_oth&quot;:&quot;0.934783&quot;,&quot;N_BI_GENOS_amr&quot;:&quot;1385&quot;,&quot;AC_afr&quot;:&quot;294&quot;,&quot;N_HOMALT_BD_afr&quot;:&quot;0&quot;,&quot;N_HOMALT_CTRL_ami&quot;:&quot;0&quot;,&quot;N_HET_CTRL_nfe&quot;:&quot;219&quot;,&quot;N_HOMALT_BD_amr&quot;:&quot;0&quot;,&quot;N_BI_GENOS&quot;:&quot;42166&quot;,&quot;FREQ_HET_CTRL&quot;:&quot;0.0626683&quot;,&quot;AC_BD_asj&quot;:&quot;0&quot;,&quot;N_HOMREF_SCZ_nfe&quot;:&quot;710&quot;,&quot;N_HOMREF_asj&quot;:&quot;193&quot;,&quot;N_HOMALT_SCZ_mid&quot;:&quot;0&quot;,&quot;AC_CTRL_sas&quot;:&quot;1&quot;,&quot;N_HET_BD_amr&quot;:&quot;2&quot;,&quot;N_HOMALT_SCZ_oth&quot;:&quot;0&quot;,&quot;AC_BD_oth&quot;:&quot;0&quot;,&quot;FREQ_HET_oth&quot;:&quot;0.0652174&quot;,&quot;N_HET_CTRL_oth&quot;:&quot;21&quot;,&quot;N_BI_GENOS_sas&quot;:&quot;12&quot;,&quot;N_BI_GENOS_CTRL_fin&quot;:&quot;1064&quot;,&quot;FREQ_HOMREF_ami&quot;:&quot;0.928571&quot;,&quot;N_HET_CTRL_afr&quot;:&quot;145&quot;,&quot;N_HET_fin&quot;:&quot;239&quot;,&quot;N_HOMREF_CTRL_oth&quot;:&quot;280&quot;,&quot;N_BI_GENOS_eas&quot;:&quot;26&quot;,&quot;N_HET_CTRL&quot;:&quot;698&quot;,&quot;AN_CTRL_asj&quot;:&quot;360&quot;,&quot;N_HOMREF_BD_ami&quot;:&quot;2&quot;,&quot;UNRESOLVED_TYPE&quot;:&quot;SINGLE_ENDER_+-&quot;,&quot;N_BI_GENOS_ami&quot;:&quot;14&quot;,&quot;AF_CTRL_fin&quot;:&quot;0.093515&quot;,&quot;N_HOMREF_CTRL_mid&quot;:&quot;3&quot;,&quot;FREQ_HOMALT_afr&quot;:&quot;0&quot;,&quot;FREQ_HET_SCZ_amr&quot;:&quot;0.00961538&quot;,&quot;FREQ_HOMREF_CTRL_afr&quot;:&quot;0.963559&quot;,&quot;AF_SCZ_amr&quot;:&quot;0.004808&quot;,&quot;AN_CTRL_eas&quot;:&quot;52&quot;,&quot;FREQ_HOMREF_CTRL_ami&quot;:&quot;0.916667&quot;,&quot;N_BI_GENOS_BD_asj&quot;:&quot;0&quot;,&quot;N_HET_SCZ_nfe&quot;:&quot;45&quot;,&quot;FREQ_HET_CTRL_afr&quot;:&quot;0.0364413&quot;,&quot;AN_eas&quot;:&quot;52&quot;,&quot;FREQ_HOMALT_asj&quot;:&quot;0&quot;,&quot;FREQ_HOMREF_SCZ_afr&quot;:&quot;0.948886&quot;,&quot;AC_eas&quot;:&quot;1&quot;,&quot;N_BI_GENOS_SCZ_fin&quot;:&quot;440&quot;,&quot;N_HET_BD_afr&quot;:&quot;32&quot;,&quot;FREQ_HOMALT_CASE_nfe&quot;:&quot;0&quot;,&quot;AC_ami&quot;:&quot;1&quot;,&quot;AN_fin&quot;:&quot;3278&quot;,&quot;AF_BD_ami&quot;:&quot;0&quot;,&quot;AC_BD_amr&quot;:&quot;2&quot;,&quot;N_HOMREF_CTRL_nfe&quot;:&quot;4068&quot;,&quot;AN&quot;:&quot;84332&quot;,&quot;N_HOMALT_CASE&quot;:&quot;0&quot;,&quot;AF_ami&quot;:&quot;0.035714&quot;,&quot;PREDICTED_INTERGENIC&quot;:&quot;&quot;,&quot;N_BI_GENOS_SCZ_nfe&quot;:&quot;755&quot;,&quot;AN_oth&quot;:&quot;644&quot;,&quot;AF_asj&quot;:&quot;0.0199&quot;,&quot;AN_BD_oth&quot;:&quot;4&quot;,&quot;FREQ_HOMREF_CASE&quot;:&quot;0.944226&quot;,&quot;FREQ_HET_SCZ_oth&quot;:&quot;0&quot;,&quot;N_HOMALT_SCZ&quot;:&quot;0&quot;,&quot;N_BI_GENOS_CTRL_sas&quot;:&quot;12&quot;,&quot;FREQ_HOMALT_SCZ_amr&quot;:&quot;0&quot;,&quot;N_HET_BD_ami&quot;:&quot;0&quot;,&quot;FREQ_HOMREF_BD_afr&quot;:&quot;0.950541&quot;,&quot;N_HOMALT_BD_asj&quot;:&quot;0&quot;,&quot;AF_BD_oth&quot;:&quot;0&quot;,&quot;AF_SCZ_afr&quot;:&quot;0.025557&quot;,&quot;FREQ_HET_CTRL_eas&quot;:&quot;0.0384615&quot;,&quot;N_HET_BD_asj&quot;:&quot;0&quot;,&quot;AC_BD_fin&quot;:&quot;6&quot;,&quot;AC_CTRL&quot;:&quot;698&quot;,&quot;FREQ_HOMREF_afr&quot;:&quot;0.957484&quot;,&quot;N_BI_GENOS_asj&quot;:&quot;201&quot;,&quot;N_BI_GENOS_CTRL_asj&quot;:&quot;180&quot;,&quot;N_BI_GENOS_CTRL_mid&quot;:&quot;3&quot;,&quot;AF_SCZ_mid&quot;:&quot;0&quot;,&quot;N_BI_GENOS_SCZ_afr&quot;:&quot;2289&quot;,&quot;FREQ_HOMALT_SCZ_afr&quot;:&quot;0&quot;,&quot;FREQ_HET_BD_afr&quot;:&quot;0.049459&quot;,&quot;AC_BD_ami&quot;:&quot;0&quot;,&quot;N_HOMREF_CTRL_sas&quot;:&quot;11&quot;,&quot;AN_CTRL_ami&quot;:&quot;24&quot;,&quot;AC_BD_afr&quot;:&quot;32&quot;,&quot;FREQ_HOMALT_ami&quot;:&quot;0&quot;,&quot;AF_OthDISEASE&quot;:&quot;0.1&quot;,&quot;N_HOMREF_SCZ_mid&quot;:&quot;2&quot;,&quot;N_HOMALT_CTRL_afr&quot;:&quot;0&quot;,&quot;N_BI_GENOS_BD_ami&quot;:&quot;2&quot;,&quot;FREQ_HET_ami&quot;:&quot;0.0714286&quot;,&quot;AN_CASE_nfe&quot;:&quot;10&quot;,&quot;FREQ_HOMREF_CTRL_oth&quot;:&quot;0.930233&quot;,&quot;N_HET_BD&quot;:&quot;72&quot;,&quot;N_HOMREF_CTRL_asj&quot;:&quot;172&quot;,&quot;FREQ_HET_CTRL_mid&quot;:&quot;0&quot;,&quot;N_HET_SCZ_sas&quot;:&quot;0&quot;,&quot;FREQ_HET_CTRL_amr&quot;:&quot;0.0808477&quot;,&quot;N_BI_GENOS_mid&quot;:&quot;5&quot;,&quot;N_HOMREF_CTRL_afr&quot;:&quot;3834&quot;,&quot;FREQ_HOMALT_OthDISEASE&quot;:&quot;0&quot;,&quot;N_HOMALT&quot;:&quot;2&quot;,&quot;N_HOMALT_sas&quot;:&quot;0&quot;,&quot;N_BI_GENOS_BD&quot;:&quot;1206&quot;,&quot;N_BI_GENOS_CTRL_eas&quot;:&quot;26&quot;,&quot;AN_SCZ_nfe&quot;:&quot;1510&quot;,&quot;FREQ_HET&quot;:&quot;0.0738747&quot;,&quot;FREQ_HET_amr&quot;:&quot;0.0765343&quot;,&quot;N_HET_afr&quot;:&quot;294&quot;,&quot;FREQ_HOMALT_CTRL_nfe&quot;:&quot;0&quot;,&quot;FREQ_HET_CASE_nfe&quot;:&quot;0.2&quot;,&quot;FREQ_HET_SCZ_asj&quot;:&quot;0&quot;,&quot;N_BI_GENOS_CTRL_nfe&quot;:&quot;4287&quot;,&quot;AF&quot;:&quot;0.036985&quot;,&quot;FREQ_HOMREF_nfe&quot;:&quot;0.945604&quot;,&quot;AF_nfe&quot;:&quot;0.027198&quot;,&quot;FREQ_HOMREF_OthDISEASE&quot;:&quot;0.8&quot;,&quot;AC_SCZ_afr&quot;:&quot;117&quot;,&quot;N_HET_oth&quot;:&quot;21&quot;,&quot;N_HOMREF_BD&quot;:&quot;1134&quot;,&quot;AF_BD_fin&quot;:&quot;0.022222&quot;,&quot;FREQ_HOMREF_CTRL_mid&quot;:&quot;1&quot;,&quot;N_HOMALT_eas&quot;:&quot;0&quot;,&quot;FREQ_HET_SCZ_fin&quot;:&quot;0.0772727&quot;,&quot;AF_BD_amr&quot;:&quot;0.142857&quot;,&quot;N_HET_mid&quot;:&quot;0&quot;,&quot;N_HET_SCZ_fin&quot;:&quot;34&quot;,&quot;AN_BD_amr&quot;:&quot;14&quot;,&quot;AC_SCZ_amr&quot;:&quot;1&quot;,&quot;FREQ_HOMREF_mid&quot;:&quot;1&quot;,&quot;FREQ_HOMALT_BD_nfe&quot;:&quot;0&quot;,&quot;N_BI_GENOS_CTRL_afr&quot;:&quot;3979&quot;,&quot;FREQ_HET_CTRL_oth&quot;:&quot;0.0697674&quot;,&quot;N_BI_GENOS_fin&quot;:&quot;1639&quot;,&quot;N_BI_GENOS_CTRL_amr&quot;:&quot;1274&quot;,&quot;FREQ_HOMREF_SCZ_amr&quot;:&quot;0.990385&quot;,&quot;FREQ_HOMREF_SCZ_fin&quot;:&quot;0.922727&quot;,&quot;N_HOMREF_sas&quot;:&quot;11&quot;,&quot;AC_BD_nfe&quot;:&quot;32&quot;,&quot;FREQ_HOMREF_BD_ami&quot;:&quot;1&quot;,&quot;FREQ_HET_SCZ&quot;:&quot;0.05427&quot;,&quot;AF_SCZ_oth&quot;:&quot;0&quot;,&quot;POS2&quot;:&quot;10501&quot;,&quot;AN_CTRL_fin&quot;:&quot;2128&quot;,&quot;FREQ_HOMREF_CTRL&quot;:&quot;0.937332&quot;,&quot;AC_CTRL_fin&quot;:&quot;199&quot;,&quot;NCR&quot;:&quot;0.331616&quot;,&quot;FREQ_HOMREF_SCZ_mid&quot;:&quot;1&quot;,&quot;N_HET_sas&quot;:&quot;1&quot;,&quot;N_HOMREF_oth&quot;:&quot;301&quot;,&quot;AN_CTRL_sas&quot;:&quot;24&quot;,&quot;AF_oth&quot;:&quot;0.032609&quot;,&quot;FREQ_HOMREF_CTRL_amr&quot;:&quot;0.919152&quot;,&quot;N_HOMREF_SCZ_asj&quot;:&quot;21&quot;,&quot;AN_amr&quot;:&quot;2770&quot;,&quot;FREQ_HOMALT_oth&quot;:&quot;0&quot;,&quot;FREQ_HOMALT_BD_fin&quot;:&quot;0&quot;,&quot;FREQ_HOMREF_SCZ_nfe&quot;:&quot;0.940397&quot;,&quot;AN_BD_asj&quot;:&quot;0&quot;,&quot;N_HOMREF_fin&quot;:&quot;1400&quot;,&quot;N_HOMALT_BD_ami&quot;:&quot;0&quot;,&quot;CHR2&quot;:&quot;chr12&quot;,&quot;N_HOMREF_CASE&quot;:&quot;4571&quot;,&quot;POPMAX_AF&quot;:&quot;0.142857&quot;,&quot;FREQ_HET_CASE&quot;:&quot;0.0557736&quot;,&quot;AN_BD_nfe&quot;:&quot;826&quot;,&quot;FREQ_HOMALT_BD_asj&quot;:&quot;0&quot;,&quot;AF_BD_nfe&quot;:&quot;0.038741&quot;,&quot;AN_SCZ_amr&quot;:&quot;208&quot;,&quot;N_HOMALT_amr&quot;:&quot;0&quot;,&quot;AF_BD&quot;:&quot;0.029851&quot;,&quot;N_HET_asj&quot;:&quot;8&quot;,&quot;N_BI_GENOS_CTRL_oth&quot;:&quot;301&quot;,&quot;FREQ_HOMALT_amr&quot;:&quot;0&quot;,&quot;FREQ_HOMREF_CTRL_fin&quot;:&quot;0.81297&quot;,&quot;N_HOMALT_CTRL_sas&quot;:&quot;0&quot;,&quot;N_HOMREF_eas&quot;:&quot;25&quot;,&quot;AN_SCZ_mid&quot;:&quot;4&quot;,&quot;N_HOMALT_afr&quot;:&quot;0&quot;,&quot;AC_CTRL_amr&quot;:&quot;103&quot;,&quot;FREQ_HOMALT_CTRL&quot;:&quot;0&quot;,&quot;N_HOMALT_OthDISEASE&quot;:&quot;0&quot;,&quot;FREQ_HOMALT&quot;:&quot;4.74316e-05&quot;,&quot;FREQ_HOMALT_BD_oth&quot;:&quot;0&quot;,&quot;FREQ_HOMREF_CTRL_sas&quot;:&quot;0.916667&quot;,&quot;N_HET_CTRL_eas&quot;:&quot;1&quot;,&quot;FREQ_HOMREF_CASE_nfe&quot;:&quot;0.8&quot;,&quot;AN_BD&quot;:&quot;2412&quot;,&quot;AF_fin&quot;:&quot;0.07291&quot;,&quot;N_HOMREF_CTRL&quot;:&quot;10440&quot;,&quot;N_HET_BD_nfe&quot;:&quot;32&quot;,&quot;SVLEN&quot;:&quot;-1&quot;,&quot;AC_mid&quot;:&quot;0&quot;,&quot;AN_SCZ_sas&quot;:&quot;0&quot;,&quot;AF_amr&quot;:&quot;0.038267&quot;,&quot;AF_CTRL_mid&quot;:&quot;0&quot;,&quot;AF_SCZ_asj&quot;:&quot;0&quot;,&quot;AC_CTRL_afr&quot;:&quot;145&quot;,&quot;N_HOMREF_BD_asj&quot;:&quot;0&quot;,&quot;FREQ_HOMALT_SCZ&quot;:&quot;0&quot;,&quot;N_HOMREF_CTRL_fin&quot;:&quot;865&quot;,&quot;N_BI_GENOS_SCZ_oth&quot;:&quot;19&quot;,&quot;N_HET_ami&quot;:&quot;1&quot;,&quot;AC_SCZ&quot;:&quot;197&quot;,&quot;N_HET_CASE&quot;:&quot;270&quot;,&quot;FREQ_HOMALT_SCZ_mid&quot;:&quot;0&quot;,&quot;N_HOMREF_CTRL_ami&quot;:&quot;11&quot;,&quot;N_BI_GENOS_BD_amr&quot;:&quot;7&quot;,&quot;FREQ_HOMALT_BD_amr&quot;:&quot;0&quot;,&quot;N_HOMREF_SCZ_amr&quot;:&quot;103&quot;,&quot;N_HOMREF_BD_oth&quot;:&quot;2&quot;,&quot;N_HOMALT_SCZ_sas&quot;:&quot;0&quot;,&quot;FREQ_HOMREF_SCZ_sas&quot;:&quot;0&quot;,&quot;PREDICTED_NEAREST_TSS&quot;:&quot;IQSEC3,OR4F5&quot;,&quot;AC_SCZ_mid&quot;:&quot;0&quot;,&quot;FREQ_HOMALT_CTRL_asj&quot;:&quot;0&quot;,&quot;N_HET_CTRL_fin&quot;:&quot;199&quot;,&quot;N_HOMALT_CTRL_nfe&quot;:&quot;0&quot;,&quot;N_HOMREF_BD_afr&quot;:&quot;615&quot;,&quot;N_HOMREF_SCZ&quot;:&quot;3433&quot;,&quot;FREQ_HOMREF_SCZ&quot;:&quot;0.94573&quot;,&quot;AF_afr&quot;:&quot;0.021258&quot;,&quot;AN_BD_fin&quot;:&quot;270&quot;,&quot;AN_mid&quot;:&quot;10&quot;,&quot;AF_mid&quot;:&quot;0&quot;,&quot;AN_ami&quot;:&quot;28&quot;,&quot;AF_CASE&quot;:&quot;0.027887&quot;,&quot;FREQ_HOMALT_eas&quot;:&quot;0&quot;,&quot;AC_SCZ_nfe&quot;:&quot;45&quot;,&quot;AC_CTRL_ami&quot;:&quot;1&quot;,&quot;FREQ_HOMALT_nfe&quot;:&quot;0&quot;,&quot;N_HET_OthDISEASE&quot;:&quot;1&quot;,&quot;N_HET_CTRL_ami&quot;:&quot;1&quot;,&quot;AN_CTRL_oth&quot;:&quot;602&quot;,&quot;N_HET_nfe&quot;:&quot;297&quot;,&quot;AN_SCZ_asj&quot;:&quot;42&quot;,&quot;N_HOMALT_CTRL_eas&quot;:&quot;0&quot;,&quot;AF_CTRL_sas&quot;:&quot;0.041667&quot;,&quot;FREQ_HET_sas&quot;:&quot;0.0833333&quot;,&quot;AN_CTRL_amr&quot;:&quot;2548&quot;,&quot;N_BI_GENOS_CASE&quot;:&quot;4841&quot;,&quot;FREQ_HET_CTRL_fin&quot;:&quot;0.18703&quot;,&quot;N_HOMALT_BD_oth&quot;:&quot;0&quot;,&quot;FREQ_HET_BD_ami&quot;:&quot;0&quot;,&quot;AC_BD&quot;:&quot;72&quot;,&quot;N_BI_GENOS_BD_afr&quot;:&quot;647&quot;,&quot;N_HOMREF_BD_fin&quot;:&quot;129&quot;,&quot;N_HET_CTRL_asj&quot;:&quot;8&quot;,&quot;FREQ_HOMALT_SCZ_nfe&quot;:&quot;0&quot;,&quot;ALGORITHMS&quot;:&quot;manta&quot;,&quot;N_HOMREF_amr&quot;:&quot;1279&quot;,&quot;FREQ_HET_eas&quot;:&quot;0.0384615&quot;,&quot;N_HET_SCZ_mid&quot;:&quot;0&quot;,&quot;N_HOMREF_ami&quot;:&quot;13&quot;,&quot;AN_CASE&quot;:&quot;9682&quot;,&quot;FREQ_HET_nfe&quot;:&quot;0.0543956&quot;,&quot;N_HOMALT_asj&quot;:&quot;0&quot;,&quot;N_HOMALT_SCZ_asj&quot;:&quot;0&quot;,&quot;N_BI_GENOS_CTRL&quot;:&quot;11138&quot;,&quot;AN_CTRL_afr&quot;:&quot;7958&quot;,&quot;FREQ_HOMALT_CTRL_amr&quot;:&quot;0&quot;,&quot;AC_CTRL_eas&quot;:&quot;1&quot;,&quot;FREQ_HET_afr&quot;:&quot;0.0425163&quot;,&quot;FREQ_HOMREF_CTRL_asj&quot;:&quot;0.955556&quot;,&quot;FREQ_HOMALT_BD_afr&quot;:&quot;0&quot;,&quot;N_BI_GENOS_BD_nfe&quot;:&quot;413&quot;,&quot;AN_asj&quot;:&quot;402&quot;,&quot;N_HOMREF_afr&quot;:&quot;6621&quot;,&quot;AF_sas&quot;:&quot;0.041667&quot;,&quot;N_HET_BD_oth&quot;:&quot;0&quot;,&quot;N_HOMALT_SCZ_amr&quot;:&quot;0&quot;,&quot;FREQ_HOMREF_BD&quot;:&quot;0.940298&quot;,&quot;N_HET_CTRL_sas&quot;:&quot;1&quot;,&quot;FREQ_HOMREF_CTRL_eas&quot;:&quot;0.961538&quot;,&quot;N_BI_GENOS_SCZ&quot;:&quot;3630&quot;,&quot;N_HOMREF_BD_nfe&quot;:&quot;381&quot;,&quot;FREQ_HOMREF_BD_fin&quot;:&quot;0.955556&quot;,&quot;FREQ_HET_fin&quot;:&quot;0.145821&quot;,&quot;AC_nfe&quot;:&quot;297&quot;,&quot;AC_CTRL_mid&quot;:&quot;0&quot;,&quot;N_HOMREF_SCZ_sas&quot;:&quot;0&quot;,&quot;FREQ_HOMALT_mid&quot;:&quot;0&quot;,&quot;N_BI_GENOS_oth&quot;:&quot;322&quot;,&quot;N_HOMREF_CTRL_amr&quot;:&quot;1171&quot;,&quot;N_HET_SCZ_oth&quot;:&quot;0&quot;,&quot;N_HOMALT_ami&quot;:&quot;0&quot;,&quot;END&quot;:&quot;10464&quot;,&quot;AF_CTRL_eas&quot;:&quot;0.019231&quot;,&quot;N_BI_GENOS_CTRL_ami&quot;:&quot;12&quot;,&quot;PCRMINUS_NCR&quot;:&quot;0.332617&quot;,&quot;N_BI_GENOS_SCZ_amr&quot;:&quot;104&quot;,&quot;N_HET_CTRL_mid&quot;:&quot;0&quot;,&quot;AN_sas&quot;:&quot;24&quot;,&quot;FREQ_HOMALT_fin&quot;:&quot;0&quot;,&quot;FREQ_HOMREF_fin&quot;:&quot;0.854179&quot;,&quot;FREQ_HET_BD_nfe&quot;:&quot;0.0774818&quot;,&quot;AN_SCZ_fin&quot;:&quot;880&quot;,&quot;FREQ_HET_asj&quot;:&quot;0.039801&quot;,&quot;AF_CTRL_asj&quot;:&quot;0.022222&quot;,&quot;AN_afr&quot;:&quot;13830&quot;,&quot;PCRPLUS_NCR&quot;:&quot;0.320253&quot;,&quot;FREQ_HOMALT_CTRL_oth&quot;:&quot;0&quot;,&quot;N_HOMALT_mid&quot;:&quot;0&quot;,&quot;FREQ_HET_CTRL_nfe&quot;:&quot;0.0510847&quot;,&quot;N_HET_SCZ_afr&quot;:&quot;117&quot;,&quot;AF_CTRL_afr&quot;:&quot;0.018221&quot;,&quot;N_HET_CASE_nfe&quot;:&quot;1&quot;,&quot;AN_SCZ_oth&quot;:&quot;38&quot;,&quot;N_HOMREF&quot;:&quot;39049&quot;,&quot;FREQ_HOMREF_amr&quot;:&quot;0.923466&quot;,&quot;N_HOMALT_CTRL_mid&quot;:&quot;0&quot;,&quot;FREQ_HOMREF_eas&quot;:&quot;0.961538&quot;,&quot;N_HOMREF_SCZ_afr&quot;:&quot;2172&quot;,&quot;N_HOMALT_BD&quot;:&quot;0&quot;,&quot;N_BI_GENOS_BD_fin&quot;:&quot;135&quot;,&quot;FREQ_HOMALT_sas&quot;:&quot;0&quot;,&quot;FREQ_HET_CTRL_ami&quot;:&quot;0.0833333&quot;,&quot;EVIDENCE&quot;:&quot;SR&quot;,&quot;AN_nfe&quot;:&quot;10920&quot;,&quot;FREQ_HOMREF_BD_amr&quot;:&quot;0.714286&quot;,&quot;AF_CTRL&quot;:&quot;0.031334&quot;,&quot;FREQ_HOMALT_CASE&quot;:&quot;0&quot;,&quot;N_HOMREF_BD_amr&quot;:&quot;5&quot;,&quot;N_HOMALT_BD_fin&quot;:&quot;0&quot;,&quot;FREQ_HOMALT_CTRL_eas&quot;:&quot;0&quot;,&quot;AF_CTRL_amr&quot;:&quot;0.040424&quot;,&quot;FREQ_HOMALT_CTRL_afr&quot;:&quot;0&quot;,&quot;FREQ_HOMREF_BD_asj&quot;:&quot;0&quot;,&quot;N_HET_SCZ_asj&quot;:&quot;0&quot;,&quot;FREQ_HOMALT_CTRL_sas&quot;:&quot;0&quot;,&quot;AF_BD_afr&quot;:&quot;0.02473&quot;,&quot;N_HOMALT_CTRL_asj&quot;:&quot;0&quot;,&quot;FREQ_HOMREF_SCZ_oth&quot;:&quot;1&quot;,&quot;AC_sas&quot;:&quot;1&quot;,&quot;N_BI_GENOS_SCZ_sas&quot;:&quot;0&quot;,&quot;FREQ_HOMALT_SCZ_asj&quot;:&quot;0&quot;,&quot;AC_asj&quot;:&quot;8&quot;,&quot;BOTHSIDES_SUPPORT&quot;:&quot;&quot;,&quot;FREQ_HOMALT_SCZ_sas&quot;:&quot;0&quot;,&quot;AF_eas&quot;:&quot;0.019231&quot;,&quot;AC_oth&quot;:&quot;21&quot;,&quot;FREQ_HET_BD_fin&quot;:&quot;0.0444444&quot;,&quot;FREQ_HOMALT_BD_ami&quot;:&quot;0&quot;,&quot;AC_SCZ_oth&quot;:&quot;0&quot;,&quot;N_HOMALT_BD_nfe&quot;:&quot;0&quot;,&quot;AC_CTRL_oth&quot;:&quot;21&quot;,&quot;AC_SCZ_sas&quot;:&quot;0&quot;,&quot;AC_OthDISEASE&quot;:&quot;1&quot;,&quot;AC_CASE&quot;:&quot;270&quot;,&quot;AC_fin&quot;:&quot;239&quot;,&quot;FREQ_HOMALT_SCZ_fin&quot;:&quot;0&quot;,&quot;N_BI_GENOS_SCZ_mid&quot;:&quot;2&quot;,&quot;N_BI_GENOS_nfe&quot;:&quot;5460&quot;,&quot;FREQ_HOMREF_SCZ_asj&quot;:&quot;1&quot;,&quot;AC_SCZ_asj&quot;:&quot;0&quot;,&quot;N_BI_GENOS_afr&quot;:&quot;6915&quot;,&quot;FREQ_HET_BD_asj&quot;:&quot;0&quot;,&quot;FREQ_HET_OthDISEASE&quot;:&quot;0.2&quot;,&quot;AF_CTRL_nfe&quot;:&quot;0.025542&quot;,&quot;SVTYPE&quot;:&quot;BND&quot;,&quot;FREQ_HET_mid&quot;:&quot;0&quot;,&quot;AF_CTRL_ami&quot;:&quot;0.041667&quot;,&quot;AC_CTRL_nfe&quot;:&quot;219&quot;,&quot;AN_BD_afr&quot;:&quot;1294&quot;,&quot;AN_CTRL&quot;:&quot;22276&quot;,&quot;N_HOMALT_CTRL_amr&quot;:&quot;0&quot;,&quot;FREQ_HOMREF_asj&quot;:&quot;0.960199&quot;,&quot;FREQ_HOMREF&quot;:&quot;0.926078&quot;,&quot;N_BI_GENOS_BD_oth&quot;:&quot;2&quot;,&quot;N_HET_CTRL_amr&quot;:&quot;103&quot;,&quot;N_HOMALT_nfe&quot;:&quot;0&quot;,&quot;N_HOMALT_CTRL_oth&quot;:&quot;0&quot;,&quot;N_HOMREF_CTRL_eas&quot;:&quot;25&quot;,&quot;N_HET_SCZ&quot;:&quot;197&quot;,&quot;FREQ_HET_SCZ_afr&quot;:&quot;0.051114&quot;,&quot;N_BI_GENOS_SCZ_asj&quot;:&quot;21&quot;,&quot;FREQ_HET_SCZ_sas&quot;:&quot;0&quot;,&quot;N_BI_GENOS_OthDISEASE&quot;:&quot;5&quot;,&quot;N_HOMALT_SCZ_fin&quot;:&quot;0&quot;,&quot;N_HOMALT_SCZ_nfe&quot;:&quot;0&quot;,&quot;AN_OthDISEASE&quot;:&quot;10&quot;,&quot;AF_SCZ_nfe&quot;:&quot;0.029801&quot;,&quot;FREQ_HET_BD_amr&quot;:&quot;0.285714&quot;,&quot;FREQ_HOMALT_BD&quot;:&quot;0&quot;,&quot;FREQ_HOMALT_SCZ_oth&quot;:&quot;0&quot;}</td><td style=\"white-space: nowrap; max-width: 500px; overflow: hidden; text-overflow: ellipsis; \">[&quot;AC&quot;,&quot;AC_BD&quot;,&quot;AC_BD_afr&quot;,&quot;AC_BD_ami&quot;,&quot;AC_BD_amr&quot;,&quot;AC_BD_asj&quot;,&quot;AC_BD_fin&quot;,&quot;AC_BD_nfe&quot;,&quot;AC_BD_oth&quot;,&quot;AC_CASE&quot;,&quot;AC_CASE_nfe&quot;,&quot;AC_CTRL&quot;,&quot;AC_CTRL_afr&quot;,&quot;AC_CTRL_ami&quot;,&quot;AC_CTRL_amr&quot;,&quot;AC_CTRL_asj&quot;,&quot;AC_CTRL_eas&quot;,&quot;AC_CTRL_fin&quot;,&quot;AC_CTRL_mid&quot;,&quot;AC_CTRL_nfe&quot;,&quot;AC_CTRL_oth&quot;,&quot;AC_CTRL_sas&quot;,&quot;AC_OthDISEASE&quot;,&quot;AC_SCZ&quot;,&quot;AC_SCZ_afr&quot;,&quot;AC_SCZ_amr&quot;,&quot;AC_SCZ_asj&quot;,&quot;AC_SCZ_fin&quot;,&quot;AC_SCZ_mid&quot;,&quot;AC_SCZ_nfe&quot;,&quot;AC_SCZ_oth&quot;,&quot;AC_SCZ_sas&quot;,&quot;AC_afr&quot;,&quot;AC_ami&quot;,&quot;AC_amr&quot;,&quot;AC_asj&quot;,&quot;AC_eas&quot;,&quot;AC_fin&quot;,&quot;AC_mid&quot;,&quot;AC_nfe&quot;,&quot;AC_oth&quot;,&quot;AC_sas&quot;,&quot;AF&quot;,&quot;AF_BD&quot;,&quot;AF_BD_afr&quot;,&quot;AF_BD_ami&quot;,&quot;AF_BD_amr&quot;,&quot;AF_BD_asj&quot;,&quot;AF_BD_fin&quot;,&quot;AF_BD_nfe&quot;,&quot;AF_BD_oth&quot;,&quot;AF_CASE&quot;,&quot;AF_CASE_nfe&quot;,&quot;AF_CTRL&quot;,&quot;AF_CTRL_afr&quot;,&quot;AF_CTRL_ami&quot;,&quot;AF_CTRL_amr&quot;,&quot;AF_CTRL_asj&quot;,&quot;AF_CTRL_eas&quot;,&quot;AF_CTRL_fin&quot;,&quot;AF_CTRL_mid&quot;,&quot;AF_CTRL_nfe&quot;,&quot;AF_CTRL_oth&quot;,&quot;AF_CTRL_sas&quot;,&quot;AF_OthDISEASE&quot;,&quot;AF_SCZ&quot;,&quot;AF_SCZ_afr&quot;,&quot;AF_SCZ_amr&quot;,&quot;AF_SCZ_asj&quot;,&quot;AF_SCZ_fin&quot;,&quot;AF_SCZ_mid&quot;,&quot;AF_SCZ_nfe&quot;,&quot;AF_SCZ_oth&quot;,&quot;AF_SCZ_sas&quot;,&quot;AF_afr&quot;,&quot;AF_ami&quot;,&quot;AF_amr&quot;,&quot;AF_asj&quot;,&quot;AF_eas&quot;,&quot;AF_fin&quot;,&quot;AF_mid&quot;,&quot;AF_nfe&quot;,&quot;AF_oth&quot;,&quot;AF_sas&quot;,&quot;ALGORITHMS&quot;,&quot;AN&quot;,&quot;AN_BD&quot;,&quot;AN_BD_afr&quot;,&quot;AN_BD_ami&quot;,&quot;AN_BD_amr&quot;,&quot;AN_BD_asj&quot;,&quot;AN_BD_fin&quot;,&quot;AN_BD_nfe&quot;,&quot;AN_BD_oth&quot;,&quot;AN_CASE&quot;,&quot;AN_CASE_nfe&quot;,&quot;AN_CTRL&quot;,&quot;AN_CTRL_afr&quot;,&quot;AN_CTRL_ami&quot;,&quot;AN_CTRL_amr&quot;,&quot;AN_CTRL_asj&quot;,&quot;AN_CTRL_eas&quot;,&quot;AN_CTRL_fin&quot;,&quot;AN_CTRL_mid&quot;,&quot;AN_CTRL_nfe&quot;,&quot;AN_CTRL_oth&quot;,&quot;AN_CTRL_sas&quot;,&quot;AN_OthDISEASE&quot;,&quot;AN_SCZ&quot;,&quot;AN_SCZ_afr&quot;,&quot;AN_SCZ_amr&quot;,&quot;AN_SCZ_asj&quot;,&quot;AN_SCZ_fin&quot;,&quot;AN_SCZ_mid&quot;,&quot;AN_SCZ_nfe&quot;,&quot;AN_SCZ_oth&quot;,&quot;AN_SCZ_sas&quot;,&quot;AN_afr&quot;,&quot;AN_ami&quot;,&quot;AN_amr&quot;,&quot;AN_asj&quot;,&quot;AN_eas&quot;,&quot;AN_fin&quot;,&quot;AN_mid&quot;,&quot;AN_nfe&quot;,&quot;AN_oth&quot;,&quot;AN_sas&quot;,&quot;BOTHSIDES_SUPPORT&quot;,&quot;CHR2&quot;,&quot;END&quot;,&quot;END2&quot;,&quot;EVIDENCE&quot;,&quot;FREQ_HET&quot;,&quot;FREQ_HET_BD&quot;,&quot;FREQ_HET_BD_afr&quot;,&quot;FREQ_HET_BD_ami&quot;,&quot;FREQ_HET_BD_amr&quot;,&quot;FREQ_HET_BD_asj&quot;,&quot;FREQ_HET_BD_fin&quot;,&quot;FREQ_HET_BD_nfe&quot;,&quot;FREQ_HET_BD_oth&quot;,&quot;FREQ_HET_CASE&quot;,&quot;FREQ_HET_CASE_nfe&quot;,&quot;FREQ_HET_CTRL&quot;,&quot;FREQ_HET_CTRL_afr&quot;,&quot;FREQ_HET_CTRL_ami&quot;,&quot;FREQ_HET_CTRL_amr&quot;,&quot;FREQ_HET_CTRL_asj&quot;,&quot;FREQ_HET_CTRL_eas&quot;,&quot;FREQ_HET_CTRL_fin&quot;,&quot;FREQ_HET_CTRL_mid&quot;,&quot;FREQ_HET_CTRL_nfe&quot;,&quot;FREQ_HET_CTRL_oth&quot;,&quot;FREQ_HET_CTRL_sas&quot;,&quot;FREQ_HET_OthDISEASE&quot;,&quot;FREQ_HET_SCZ&quot;,&quot;FREQ_HET_SCZ_afr&quot;,&quot;FREQ_HET_SCZ_amr&quot;,&quot;FREQ_HET_SCZ_asj&quot;,&quot;FREQ_HET_SCZ_fin&quot;,&quot;FREQ_HET_SCZ_mid&quot;,&quot;FREQ_HET_SCZ_nfe&quot;,&quot;FREQ_HET_SCZ_oth&quot;,&quot;FREQ_HET_SCZ_sas&quot;,&quot;FREQ_HET_afr&quot;,&quot;FREQ_HET_ami&quot;,&quot;FREQ_HET_amr&quot;,&quot;FREQ_HET_asj&quot;,&quot;FREQ_HET_eas&quot;,&quot;FREQ_HET_fin&quot;,&quot;FREQ_HET_mid&quot;,&quot;FREQ_HET_nfe&quot;,&quot;FREQ_HET_oth&quot;,&quot;FREQ_HET_sas&quot;,&quot;FREQ_HOMALT&quot;,&quot;FREQ_HOMALT_BD&quot;,&quot;FREQ_HOMALT_BD_afr&quot;,&quot;FREQ_HOMALT_BD_ami&quot;,&quot;FREQ_HOMALT_BD_amr&quot;,&quot;FREQ_HOMALT_BD_asj&quot;,&quot;FREQ_HOMALT_BD_fin&quot;,&quot;FREQ_HOMALT_BD_nfe&quot;,&quot;FREQ_HOMALT_BD_oth&quot;,&quot;FREQ_HOMALT_CASE&quot;,&quot;FREQ_HOMALT_CASE_nfe&quot;,&quot;FREQ_HOMALT_CTRL&quot;,&quot;FREQ_HOMALT_CTRL_afr&quot;,&quot;FREQ_HOMALT_CTRL_ami&quot;,&quot;FREQ_HOMALT_CTRL_amr&quot;,&quot;FREQ_HOMALT_CTRL_asj&quot;,&quot;FREQ_HOMALT_CTRL_eas&quot;,&quot;FREQ_HOMALT_CTRL_fin&quot;,&quot;FREQ_HOMALT_CTRL_mid&quot;,&quot;FREQ_HOMALT_CTRL_nfe&quot;,&quot;FREQ_HOMALT_CTRL_oth&quot;,&quot;FREQ_HOMALT_CTRL_sas&quot;,&quot;FREQ_HOMALT_OthDISEASE&quot;,&quot;FREQ_HOMALT_SCZ&quot;,&quot;FREQ_HOMALT_SCZ_afr&quot;,&quot;FREQ_HOMALT_SCZ_amr&quot;,&quot;FREQ_HOMALT_SCZ_asj&quot;,&quot;FREQ_HOMALT_SCZ_fin&quot;,&quot;FREQ_HOMALT_SCZ_mid&quot;,&quot;FREQ_HOMALT_SCZ_nfe&quot;,&quot;FREQ_HOMALT_SCZ_oth&quot;,&quot;FREQ_HOMALT_SCZ_sas&quot;,&quot;FREQ_HOMALT_afr&quot;,&quot;FREQ_HOMALT_ami&quot;,&quot;FREQ_HOMALT_amr&quot;,&quot;FREQ_HOMALT_asj&quot;,&quot;FREQ_HOMALT_eas&quot;,&quot;FREQ_HOMALT_fin&quot;,&quot;FREQ_HOMALT_mid&quot;,&quot;FREQ_HOMALT_nfe&quot;,&quot;FREQ_HOMALT_oth&quot;,&quot;FREQ_HOMALT_sas&quot;,&quot;FREQ_HOMREF&quot;,&quot;FREQ_HOMREF_BD&quot;,&quot;FREQ_HOMREF_BD_afr&quot;,&quot;FREQ_HOMREF_BD_ami&quot;,&quot;FREQ_HOMREF_BD_amr&quot;,&quot;FREQ_HOMREF_BD_asj&quot;,&quot;FREQ_HOMREF_BD_fin&quot;,&quot;FREQ_HOMREF_BD_nfe&quot;,&quot;FREQ_HOMREF_BD_oth&quot;,&quot;FREQ_HOMREF_CASE&quot;,&quot;FREQ_HOMREF_CASE_nfe&quot;,&quot;FREQ_HOMREF_CTRL&quot;,&quot;FREQ_HOMREF_CTRL_afr&quot;,&quot;FREQ_HOMREF_CTRL_ami&quot;,&quot;FREQ_HOMREF_CTRL_amr&quot;,&quot;FREQ_HOMREF_CTRL_asj&quot;,&quot;FREQ_HOMREF_CTRL_eas&quot;,&quot;FREQ_HOMREF_CTRL_fin&quot;,&quot;FREQ_HOMREF_CTRL_mid&quot;,&quot;FREQ_HOMREF_CTRL_nfe&quot;,&quot;FREQ_HOMREF_CTRL_oth&quot;,&quot;FREQ_HOMREF_CTRL_sas&quot;,&quot;FREQ_HOMREF_OthDISEASE&quot;,&quot;FREQ_HOMREF_SCZ&quot;,&quot;FREQ_HOMREF_SCZ_afr&quot;,&quot;FREQ_HOMREF_SCZ_amr&quot;,&quot;FREQ_HOMREF_SCZ_asj&quot;,&quot;FREQ_HOMREF_SCZ_fin&quot;,&quot;FREQ_HOMREF_SCZ_mid&quot;,&quot;FREQ_HOMREF_SCZ_nfe&quot;,&quot;FREQ_HOMREF_SCZ_oth&quot;,&quot;FREQ_HOMREF_SCZ_sas&quot;,&quot;FREQ_HOMREF_afr&quot;,&quot;FREQ_HOMREF_ami&quot;,&quot;FREQ_HOMREF_amr&quot;,&quot;FREQ_HOMREF_asj&quot;,&quot;FREQ_HOMREF_eas&quot;,&quot;FREQ_HOMREF_fin&quot;,&quot;FREQ_HOMREF_mid&quot;,&quot;FREQ_HOMREF_nfe&quot;,&quot;FREQ_HOMREF_oth&quot;,&quot;FREQ_HOMREF_sas&quot;,&quot;NCR&quot;,&quot;N_BI_GENOS&quot;,&quot;N_BI_GENOS_BD&quot;,&quot;N_BI_GENOS_BD_afr&quot;,&quot;N_BI_GENOS_BD_ami&quot;,&quot;N_BI_GENOS_BD_amr&quot;,&quot;N_BI_GENOS_BD_asj&quot;,&quot;N_BI_GENOS_BD_fin&quot;,&quot;N_BI_GENOS_BD_nfe&quot;,&quot;N_BI_GENOS_BD_oth&quot;,&quot;N_BI_GENOS_CASE&quot;,&quot;N_BI_GENOS_CASE_nfe&quot;,&quot;N_BI_GENOS_CTRL&quot;,&quot;N_BI_GENOS_CTRL_afr&quot;,&quot;N_BI_GENOS_CTRL_ami&quot;,&quot;N_BI_GENOS_CTRL_amr&quot;,&quot;N_BI_GENOS_CTRL_asj&quot;,&quot;N_BI_GENOS_CTRL_eas&quot;,&quot;N_BI_GENOS_CTRL_fin&quot;,&quot;N_BI_GENOS_CTRL_mid&quot;,&quot;N_BI_GENOS_CTRL_nfe&quot;,&quot;N_BI_GENOS_CTRL_oth&quot;,&quot;N_BI_GENOS_CTRL_sas&quot;,&quot;N_BI_GENOS_OthDISEASE&quot;,&quot;N_BI_GENOS_SCZ&quot;,&quot;N_BI_GENOS_SCZ_afr&quot;,&quot;N_BI_GENOS_SCZ_amr&quot;,&quot;N_BI_GENOS_SCZ_asj&quot;,&quot;N_BI_GENOS_SCZ_fin&quot;,&quot;N_BI_GENOS_SCZ_mid&quot;,&quot;N_BI_GENOS_SCZ_nfe&quot;,&quot;N_BI_GENOS_SCZ_oth&quot;,&quot;N_BI_GENOS_SCZ_sas&quot;,&quot;N_BI_GENOS_afr&quot;,&quot;N_BI_GENOS_ami&quot;,&quot;N_BI_GENOS_amr&quot;,&quot;N_BI_GENOS_asj&quot;,&quot;N_BI_GENOS_eas&quot;,&quot;N_BI_GENOS_fin&quot;,&quot;N_BI_GENOS_mid&quot;,&quot;N_BI_GENOS_nfe&quot;,&quot;N_BI_GENOS_oth&quot;,&quot;N_BI_GENOS_sas&quot;,&quot;N_HET&quot;,&quot;N_HET_BD&quot;,&quot;N_HET_BD_afr&quot;,&quot;N_HET_BD_ami&quot;,&quot;N_HET_BD_amr&quot;,&quot;N_HET_BD_asj&quot;,&quot;N_HET_BD_fin&quot;,&quot;N_HET_BD_nfe&quot;,&quot;N_HET_BD_oth&quot;,&quot;N_HET_CASE&quot;,&quot;N_HET_CASE_nfe&quot;,&quot;N_HET_CTRL&quot;,&quot;N_HET_CTRL_afr&quot;,&quot;N_HET_CTRL_ami&quot;,&quot;N_HET_CTRL_amr&quot;,&quot;N_HET_CTRL_asj&quot;,&quot;N_HET_CTRL_eas&quot;,&quot;N_HET_CTRL_fin&quot;,&quot;N_HET_CTRL_mid&quot;,&quot;N_HET_CTRL_nfe&quot;,&quot;N_HET_CTRL_oth&quot;,&quot;N_HET_CTRL_sas&quot;,&quot;N_HET_OthDISEASE&quot;,&quot;N_HET_SCZ&quot;,&quot;N_HET_SCZ_afr&quot;,&quot;N_HET_SCZ_amr&quot;,&quot;N_HET_SCZ_asj&quot;,&quot;N_HET_SCZ_fin&quot;,&quot;N_HET_SCZ_mid&quot;,&quot;N_HET_SCZ_nfe&quot;,&quot;N_HET_SCZ_oth&quot;,&quot;N_HET_SCZ_sas&quot;,&quot;N_HET_afr&quot;,&quot;N_HET_ami&quot;,&quot;N_HET_amr&quot;,&quot;N_HET_asj&quot;,&quot;N_HET_eas&quot;,&quot;N_HET_fin&quot;,&quot;N_HET_mid&quot;,&quot;N_HET_nfe&quot;,&quot;N_HET_oth&quot;,&quot;N_HET_sas&quot;,&quot;N_HOMALT&quot;,&quot;N_HOMALT_BD&quot;,&quot;N_HOMALT_BD_afr&quot;,&quot;N_HOMALT_BD_ami&quot;,&quot;N_HOMALT_BD_amr&quot;,&quot;N_HOMALT_BD_asj&quot;,&quot;N_HOMALT_BD_fin&quot;,&quot;N_HOMALT_BD_nfe&quot;,&quot;N_HOMALT_BD_oth&quot;,&quot;N_HOMALT_CASE&quot;,&quot;N_HOMALT_CASE_nfe&quot;,&quot;N_HOMALT_CTRL&quot;,&quot;N_HOMALT_CTRL_afr&quot;,&quot;N_HOMALT_CTRL_ami&quot;,&quot;N_HOMALT_CTRL_amr&quot;,&quot;N_HOMALT_CTRL_asj&quot;,&quot;N_HOMALT_CTRL_eas&quot;,&quot;N_HOMALT_CTRL_fin&quot;,&quot;N_HOMALT_CTRL_mid&quot;,&quot;N_HOMALT_CTRL_nfe&quot;,&quot;N_HOMALT_CTRL_oth&quot;,&quot;N_HOMALT_CTRL_sas&quot;,&quot;N_HOMALT_OthDISEASE&quot;,&quot;N_HOMALT_SCZ&quot;,&quot;N_HOMALT_SCZ_afr&quot;,&quot;N_HOMALT_SCZ_amr&quot;,&quot;N_HOMALT_SCZ_asj&quot;,&quot;N_HOMALT_SCZ_fin&quot;,&quot;N_HOMALT_SCZ_mid&quot;,&quot;N_HOMALT_SCZ_nfe&quot;,&quot;N_HOMALT_SCZ_oth&quot;,&quot;N_HOMALT_SCZ_sas&quot;,&quot;N_HOMALT_afr&quot;,&quot;N_HOMALT_ami&quot;,&quot;N_HOMALT_amr&quot;,&quot;N_HOMALT_asj&quot;,&quot;N_HOMALT_eas&quot;,&quot;N_HOMALT_fin&quot;,&quot;N_HOMALT_mid&quot;,&quot;N_HOMALT_nfe&quot;,&quot;N_HOMALT_oth&quot;,&quot;N_HOMALT_sas&quot;,&quot;N_HOMREF&quot;,&quot;N_HOMREF_BD&quot;,&quot;N_HOMREF_BD_afr&quot;,&quot;N_HOMREF_BD_ami&quot;,&quot;N_HOMREF_BD_amr&quot;,&quot;N_HOMREF_BD_asj&quot;,&quot;N_HOMREF_BD_fin&quot;,&quot;N_HOMREF_BD_nfe&quot;,&quot;N_HOMREF_BD_oth&quot;,&quot;N_HOMREF_CASE&quot;,&quot;N_HOMREF_CASE_nfe&quot;,&quot;N_HOMREF_CTRL&quot;,&quot;N_HOMREF_CTRL_afr&quot;,&quot;N_HOMREF_CTRL_ami&quot;,&quot;N_HOMREF_CTRL_amr&quot;,&quot;N_HOMREF_CTRL_asj&quot;,&quot;N_HOMREF_CTRL_eas&quot;,&quot;N_HOMREF_CTRL_fin&quot;,&quot;N_HOMREF_CTRL_mid&quot;,&quot;N_HOMREF_CTRL_nfe&quot;,&quot;N_HOMREF_CTRL_oth&quot;,&quot;N_HOMREF_CTRL_sas&quot;,&quot;N_HOMREF_OthDISEASE&quot;,&quot;N_HOMREF_SCZ&quot;,&quot;N_HOMREF_SCZ_afr&quot;,&quot;N_HOMREF_SCZ_amr&quot;,&quot;N_HOMREF_SCZ_asj&quot;,&quot;N_HOMREF_SCZ_fin&quot;,&quot;N_HOMREF_SCZ_mid&quot;,&quot;N_HOMREF_SCZ_nfe&quot;,&quot;N_HOMREF_SCZ_oth&quot;,&quot;N_HOMREF_SCZ_sas&quot;,&quot;N_HOMREF_afr&quot;,&quot;N_HOMREF_ami&quot;,&quot;N_HOMREF_amr&quot;,&quot;N_HOMREF_asj&quot;,&quot;N_HOMREF_eas&quot;,&quot;N_HOMREF_fin&quot;,&quot;N_HOMREF_mid&quot;,&quot;N_HOMREF_nfe&quot;,&quot;N_HOMREF_oth&quot;,&quot;N_HOMREF_sas&quot;,&quot;PCRMINUS_NCR&quot;,&quot;PCRPLUS_NCR&quot;,&quot;POPMAX_AF&quot;,&quot;POS2&quot;,&quot;PREDICTED_INTERGENIC&quot;,&quot;PREDICTED_NEAREST_TSS&quot;,&quot;SVLEN&quot;,&quot;SVTYPE&quot;,&quot;UNRESOLVED_TYPE&quot;]</td></tr>\n",
       "<tr><td style=\"white-space: nowrap; max-width: 500px; overflow: hidden; text-overflow: ellipsis; \">chr1:10533</td><td style=\"white-space: nowrap; max-width: 500px; overflow: hidden; text-overflow: ellipsis; \">&quot;gnomAD-SV_v3_BND_chr1_5403ba60&quot;</td><td style=\"white-space: nowrap; max-width: 500px; overflow: hidden; text-overflow: ellipsis; \">&quot;BND&quot;</td><td style=\"white-space: nowrap; max-width: 500px; overflow: hidden; text-overflow: ellipsis; \">&quot;289&quot;</td><td style=\"white-space: nowrap; max-width: 500px; overflow: hidden; text-overflow: ellipsis; \">[&quot;HIGH_NCR&quot;,&quot;UNRESOLVED&quot;]</td><td style=\"white-space: nowrap; max-width: 500px; overflow: hidden; text-overflow: ellipsis; \">{&quot;N_HOMALT_CTRL&quot;:&quot;7&quot;,&quot;AF_CTRL_oth&quot;:&quot;0.110887&quot;,&quot;FREQ_HOMALT_CTRL_mid&quot;:&quot;0&quot;,&quot;N_HOMALT_CTRL_fin&quot;:&quot;0&quot;,&quot;AC_CASE_nfe&quot;:&quot;0&quot;,&quot;N_HOMREF_nfe&quot;:&quot;4843&quot;,&quot;FREQ_HOMREF_sas&quot;:&quot;0.846154&quot;,&quot;N_HET_eas&quot;:&quot;7&quot;,&quot;N_HOMALT_CASE_nfe&quot;:&quot;0&quot;,&quot;FREQ_HOMALT_CTRL_fin&quot;:&quot;0&quot;,&quot;N_HOMREF_mid&quot;:&quot;3&quot;,&quot;AF_SCZ&quot;:&quot;0.130469&quot;,&quot;AN_CTRL_mid&quot;:&quot;4&quot;,&quot;FREQ_HET_SCZ_mid&quot;:&quot;0&quot;,&quot;N_HET_BD_fin&quot;:&quot;6&quot;,&quot;N_HOMALT_SCZ_afr&quot;:&quot;1&quot;,&quot;N_HOMREF_SCZ_oth&quot;:&quot;17&quot;,&quot;AC_SCZ_fin&quot;:&quot;12&quot;,&quot;N_HOMREF_SCZ_fin&quot;:&quot;455&quot;,&quot;FREQ_HOMREF_BD_nfe&quot;:&quot;0.932432&quot;,&quot;END2&quot;:&quot;101980239&quot;,&quot;AF_CASE_nfe&quot;:&quot;0&quot;,&quot;FREQ_HET_CTRL_asj&quot;:&quot;0.0698925&quot;,&quot;N_HET&quot;:&quot;7992&quot;,&quot;AN_SCZ&quot;:&quot;6400&quot;,&quot;FREQ_HET_BD&quot;:&quot;0.221239&quot;,&quot;AN_CTRL_nfe&quot;:&quot;8336&quot;,&quot;AF_BD_asj&quot;:&quot;0&quot;,&quot;N_HOMALT_oth&quot;:&quot;0&quot;,&quot;AN_SCZ_afr&quot;:&quot;3702&quot;,&quot;N_HET_SCZ_amr&quot;:&quot;3&quot;,&quot;AF_SCZ_fin&quot;:&quot;0.012848&quot;,&quot;FREQ_HET_SCZ_nfe&quot;:&quot;0.0922659&quot;,&quot;AC_amr&quot;:&quot;240&quot;,&quot;AF_SCZ_sas&quot;:&quot;0&quot;,&quot;N_HOMREF_OthDISEASE&quot;:&quot;4&quot;,&quot;AN_BD_ami&quot;:&quot;2&quot;,&quot;FREQ_HET_BD_oth&quot;:&quot;0&quot;,&quot;FREQ_HET_CTRL_sas&quot;:&quot;0.153846&quot;,&quot;FREQ_HOMREF_CTRL_nfe&quot;:&quot;0.901152&quot;,&quot;FREQ_HOMREF_BD_oth&quot;:&quot;1&quot;,&quot;N_HOMALT_fin&quot;:&quot;0&quot;,&quot;FREQ_HOMALT_CTRL_ami&quot;:&quot;0&quot;,&quot;N_BI_GENOS_CASE_nfe&quot;:&quot;4&quot;,&quot;N_HOMREF_CASE_nfe&quot;:&quot;4&quot;,&quot;AC_CTRL_asj&quot;:&quot;13&quot;,&quot;N_HET_amr&quot;:&quot;238&quot;,&quot;AC&quot;:&quot;8080&quot;,&quot;FREQ_HOMREF_oth&quot;:&quot;0.791045&quot;,&quot;N_BI_GENOS_amr&quot;:&quot;1251&quot;,&quot;AC_afr&quot;:&quot;2180&quot;,&quot;N_HOMALT_BD_afr&quot;:&quot;0&quot;,&quot;N_HOMALT_CTRL_ami&quot;:&quot;0&quot;,&quot;N_HET_CTRL_nfe&quot;:&quot;409&quot;,&quot;N_HOMALT_BD_amr&quot;:&quot;0&quot;,&quot;N_BI_GENOS&quot;:&quot;39708&quot;,&quot;FREQ_HET_CTRL&quot;:&quot;0.218216&quot;,&quot;AC_BD_asj&quot;:&quot;0&quot;,&quot;N_HOMREF_SCZ_nfe&quot;:&quot;669&quot;,&quot;N_HOMREF_asj&quot;:&quot;192&quot;,&quot;N_HOMALT_SCZ_mid&quot;:&quot;0&quot;,&quot;AC_CTRL_sas&quot;:&quot;2&quot;,&quot;N_HET_BD_amr&quot;:&quot;3&quot;,&quot;N_HOMALT_SCZ_oth&quot;:&quot;0&quot;,&quot;AC_BD_oth&quot;:&quot;0&quot;,&quot;FREQ_HET_oth&quot;:&quot;0.208955&quot;,&quot;N_HET_CTRL_oth&quot;:&quot;55&quot;,&quot;N_BI_GENOS_sas&quot;:&quot;13&quot;,&quot;N_BI_GENOS_CTRL_fin&quot;:&quot;972&quot;,&quot;FREQ_HOMREF_ami&quot;:&quot;0.923077&quot;,&quot;N_HET_CTRL_afr&quot;:&quot;1213&quot;,&quot;N_HET_fin&quot;:&quot;204&quot;,&quot;N_HOMREF_CTRL_oth&quot;:&quot;193&quot;,&quot;N_BI_GENOS_eas&quot;:&quot;22&quot;,&quot;N_HET_CTRL&quot;:&quot;2118&quot;,&quot;AN_CTRL_asj&quot;:&quot;372&quot;,&quot;N_HOMREF_BD_ami&quot;:&quot;1&quot;,&quot;UNRESOLVED_TYPE&quot;:&quot;MIXED_BREAKENDS&quot;,&quot;N_BI_GENOS_ami&quot;:&quot;13&quot;,&quot;AF_CTRL_fin&quot;:&quot;0.095679&quot;,&quot;N_HOMREF_CTRL_mid&quot;:&quot;2&quot;,&quot;FREQ_HOMALT_afr&quot;:&quot;0.000749766&quot;,&quot;FREQ_HET_SCZ_amr&quot;:&quot;0.0283019&quot;,&quot;FREQ_HOMREF_CTRL_afr&quot;:&quot;0.587097&quot;,&quot;AF_SCZ_amr&quot;:&quot;0.014151&quot;,&quot;AN_CTRL_eas&quot;:&quot;44&quot;,&quot;FREQ_HOMREF_CTRL_ami&quot;:&quot;0.916667&quot;,&quot;N_BI_GENOS_BD_asj&quot;:&quot;0&quot;,&quot;N_HET_SCZ_nfe&quot;:&quot;68&quot;,&quot;FREQ_HET_CTRL_afr&quot;:&quot;0.411885&quot;,&quot;AN_eas&quot;:&quot;44&quot;,&quot;FREQ_HOMALT_asj&quot;:&quot;0&quot;,&quot;FREQ_HOMREF_SCZ_afr&quot;:&quot;0.595354&quot;,&quot;AC_eas&quot;:&quot;7&quot;,&quot;N_BI_GENOS_SCZ_fin&quot;:&quot;467&quot;,&quot;N_HET_BD_afr&quot;:&quot;211&quot;,&quot;FREQ_HOMALT_CASE_nfe&quot;:&quot;0&quot;,&quot;AC_ami&quot;:&quot;1&quot;,&quot;AN_fin&quot;:&quot;3152&quot;,&quot;AF_BD_ami&quot;:&quot;0&quot;,&quot;AC_BD_amr&quot;:&quot;3&quot;,&quot;N_HOMREF_CTRL_nfe&quot;:&quot;3756&quot;,&quot;AN&quot;:&quot;79416&quot;,&quot;N_HOMALT_CASE&quot;:&quot;1&quot;,&quot;AF_ami&quot;:&quot;0.038462&quot;,&quot;PREDICTED_INTERGENIC&quot;:&quot;&quot;,&quot;N_BI_GENOS_SCZ_nfe&quot;:&quot;737&quot;,&quot;AN_oth&quot;:&quot;536&quot;,&quot;AF_asj&quot;:&quot;0.033981&quot;,&quot;AN_BD_oth&quot;:&quot;4&quot;,&quot;FREQ_HOMREF_CASE&quot;:&quot;0.749885&quot;,&quot;FREQ_HET_SCZ_oth&quot;:&quot;0.0555556&quot;,&quot;N_HOMALT_SCZ&quot;:&quot;1&quot;,&quot;N_BI_GENOS_CTRL_sas&quot;:&quot;13&quot;,&quot;FREQ_HOMALT_SCZ_amr&quot;:&quot;0&quot;,&quot;N_HET_BD_ami&quot;:&quot;0&quot;,&quot;FREQ_HOMREF_BD_afr&quot;:&quot;0.608534&quot;,&quot;N_HOMALT_BD_asj&quot;:&quot;0&quot;,&quot;AF_BD_oth&quot;:&quot;0&quot;,&quot;AF_SCZ_afr&quot;:&quot;0.202593&quot;,&quot;FREQ_HET_CTRL_eas&quot;:&quot;0.318182&quot;,&quot;N_HET_BD_asj&quot;:&quot;0&quot;,&quot;AC_BD_fin&quot;:&quot;6&quot;,&quot;AC_CTRL&quot;:&quot;2132&quot;,&quot;FREQ_HOMREF_afr&quot;:&quot;0.592127&quot;,&quot;N_BI_GENOS_asj&quot;:&quot;206&quot;,&quot;N_BI_GENOS_CTRL_asj&quot;:&quot;186&quot;,&quot;N_BI_GENOS_CTRL_mid&quot;:&quot;2&quot;,&quot;AF_SCZ_mid&quot;:&quot;0&quot;,&quot;N_BI_GENOS_SCZ_afr&quot;:&quot;1851&quot;,&quot;FREQ_HOMALT_SCZ_afr&quot;:&quot;0.000540249&quot;,&quot;FREQ_HET_BD_afr&quot;:&quot;0.391466&quot;,&quot;AC_BD_ami&quot;:&quot;0&quot;,&quot;N_HOMREF_CTRL_sas&quot;:&quot;11&quot;,&quot;AN_CTRL_ami&quot;:&quot;24&quot;,&quot;AC_BD_afr&quot;:&quot;211&quot;,&quot;FREQ_HOMALT_ami&quot;:&quot;0&quot;,&quot;AF_OthDISEASE&quot;:&quot;0&quot;,&quot;N_HOMREF_SCZ_mid&quot;:&quot;1&quot;,&quot;N_HOMALT_CTRL_afr&quot;:&quot;3&quot;,&quot;N_BI_GENOS_BD_ami&quot;:&quot;1&quot;,&quot;FREQ_HET_ami&quot;:&quot;0.0769231&quot;,&quot;AN_CASE_nfe&quot;:&quot;8&quot;,&quot;FREQ_HOMREF_CTRL_oth&quot;:&quot;0.778226&quot;,&quot;N_HET_BD&quot;:&quot;250&quot;,&quot;N_HOMREF_CTRL_asj&quot;:&quot;173&quot;,&quot;FREQ_HET_CTRL_mid&quot;:&quot;0&quot;,&quot;N_HET_SCZ_sas&quot;:&quot;0&quot;,&quot;FREQ_HET_CTRL_amr&quot;:&quot;0.203866&quot;,&quot;N_BI_GENOS_mid&quot;:&quot;3&quot;,&quot;N_HOMREF_CTRL_afr&quot;:&quot;1729&quot;,&quot;FREQ_HOMALT_OthDISEASE&quot;:&quot;0&quot;,&quot;N_HOMALT&quot;:&quot;44&quot;,&quot;N_HOMALT_sas&quot;:&quot;0&quot;,&quot;N_BI_GENOS_BD&quot;:&quot;1130&quot;,&quot;N_BI_GENOS_CTRL_eas&quot;:&quot;22&quot;,&quot;AN_SCZ_nfe&quot;:&quot;1474&quot;,&quot;FREQ_HET&quot;:&quot;0.201269&quot;,&quot;FREQ_HET_amr&quot;:&quot;0.190248&quot;,&quot;N_HET_afr&quot;:&quot;2172&quot;,&quot;FREQ_HOMALT_CTRL_nfe&quot;:&quot;0.00071977&quot;,&quot;FREQ_HET_CASE_nfe&quot;:&quot;0&quot;,&quot;FREQ_HET_SCZ_asj&quot;:&quot;0.05&quot;,&quot;N_BI_GENOS_CTRL_nfe&quot;:&quot;4168&quot;,&quot;AF&quot;:&quot;0.101743&quot;,&quot;FREQ_HOMREF_nfe&quot;:&quot;0.904726&quot;,&quot;AF_nfe&quot;:&quot;0.047917&quot;,&quot;FREQ_HOMREF_OthDISEASE&quot;:&quot;1&quot;,&quot;AC_SCZ_afr&quot;:&quot;750&quot;,&quot;N_HET_oth&quot;:&quot;56&quot;,&quot;N_HOMREF_BD&quot;:&quot;880&quot;,&quot;AF_BD_fin&quot;:&quot;0.021898&quot;,&quot;FREQ_HOMREF_CTRL_mid&quot;:&quot;1&quot;,&quot;N_HOMALT_eas&quot;:&quot;0&quot;,&quot;FREQ_HET_SCZ_fin&quot;:&quot;0.0256959&quot;,&quot;AF_BD_amr&quot;:&quot;0.214286&quot;,&quot;N_HET_mid&quot;:&quot;0&quot;,&quot;N_HET_SCZ_fin&quot;:&quot;12&quot;,&quot;AN_BD_amr&quot;:&quot;14&quot;,&quot;AC_SCZ_amr&quot;:&quot;3&quot;,&quot;FREQ_HOMREF_mid&quot;:&quot;1&quot;,&quot;FREQ_HOMALT_BD_nfe&quot;:&quot;0&quot;,&quot;N_BI_GENOS_CTRL_afr&quot;:&quot;2945&quot;,&quot;FREQ_HET_CTRL_oth&quot;:&quot;0.221774&quot;,&quot;N_BI_GENOS_fin&quot;:&quot;1576&quot;,&quot;N_BI_GENOS_CTRL_amr&quot;:&quot;1138&quot;,&quot;FREQ_HOMREF_SCZ_amr&quot;:&quot;0.971698&quot;,&quot;FREQ_HOMREF_SCZ_fin&quot;:&quot;0.974304&quot;,&quot;N_HOMREF_sas&quot;:&quot;11&quot;,&quot;AC_BD_nfe&quot;:&quot;30&quot;,&quot;FREQ_HOMREF_BD_ami&quot;:&quot;1&quot;,&quot;FREQ_HET_SCZ&quot;:&quot;0.260312&quot;,&quot;AF_SCZ_oth&quot;:&quot;0.027778&quot;,&quot;POS2&quot;:&quot;101980238&quot;,&quot;AN_CTRL_fin&quot;:&quot;1944&quot;,&quot;FREQ_HOMREF_CTRL&quot;:&quot;0.781063&quot;,&quot;AC_CTRL_fin&quot;:&quot;186&quot;,&quot;NCR&quot;:&quot;0.350341&quot;,&quot;FREQ_HOMREF_SCZ_mid&quot;:&quot;1&quot;,&quot;N_HET_sas&quot;:&quot;2&quot;,&quot;N_HOMREF_oth&quot;:&quot;212&quot;,&quot;AN_CTRL_sas&quot;:&quot;26&quot;,&quot;AF_oth&quot;:&quot;0.104478&quot;,&quot;FREQ_HOMREF_CTRL_amr&quot;:&quot;0.795255&quot;,&quot;N_HOMREF_SCZ_asj&quot;:&quot;19&quot;,&quot;AN_amr&quot;:&quot;2502&quot;,&quot;FREQ_HOMALT_oth&quot;:&quot;0&quot;,&quot;FREQ_HOMALT_BD_fin&quot;:&quot;0&quot;,&quot;FREQ_HOMREF_SCZ_nfe&quot;:&quot;0.907734&quot;,&quot;AN_BD_asj&quot;:&quot;0&quot;,&quot;N_HOMREF_fin&quot;:&quot;1372&quot;,&quot;N_HOMALT_BD_ami&quot;:&quot;0&quot;,&quot;CHR2&quot;:&quot;chr15&quot;,&quot;N_HOMREF_CASE&quot;:&quot;3250&quot;,&quot;POPMAX_AF&quot;:&quot;0.214286&quot;,&quot;FREQ_HET_CASE&quot;:&quot;0.249885&quot;,&quot;AN_BD_nfe&quot;:&quot;888&quot;,&quot;FREQ_HOMALT_BD_asj&quot;:&quot;0&quot;,&quot;AF_BD_nfe&quot;:&quot;0.033784&quot;,&quot;AN_SCZ_amr&quot;:&quot;212&quot;,&quot;N_HOMALT_amr&quot;:&quot;1&quot;,&quot;AF_BD&quot;:&quot;0.110619&quot;,&quot;N_HET_asj&quot;:&quot;14&quot;,&quot;N_BI_GENOS_CTRL_oth&quot;:&quot;248&quot;,&quot;FREQ_HOMALT_amr&quot;:&quot;0.000799361&quot;,&quot;FREQ_HOMREF_CTRL_fin&quot;:&quot;0.808642&quot;,&quot;N_HOMALT_CTRL_sas&quot;:&quot;0&quot;,&quot;N_HOMREF_eas&quot;:&quot;15&quot;,&quot;AN_SCZ_mid&quot;:&quot;2&quot;,&quot;N_HOMALT_afr&quot;:&quot;4&quot;,&quot;AC_CTRL_amr&quot;:&quot;234&quot;,&quot;FREQ_HOMALT_CTRL&quot;:&quot;0.000721203&quot;,&quot;N_HOMALT_OthDISEASE&quot;:&quot;0&quot;,&quot;FREQ_HOMALT&quot;:&quot;0.00110809&quot;,&quot;FREQ_HOMALT_BD_oth&quot;:&quot;0&quot;,&quot;FREQ_HOMREF_CTRL_sas&quot;:&quot;0.846154&quot;,&quot;N_HET_CTRL_eas&quot;:&quot;7&quot;,&quot;FREQ_HOMREF_CASE_nfe&quot;:&quot;1&quot;,&quot;AN_BD&quot;:&quot;2260&quot;,&quot;AF_fin&quot;:&quot;0.064721&quot;,&quot;N_HOMREF_CTRL&quot;:&quot;7581&quot;,&quot;N_HET_BD_nfe&quot;:&quot;30&quot;,&quot;SVLEN&quot;:&quot;-1&quot;,&quot;AC_mid&quot;:&quot;0&quot;,&quot;AN_SCZ_sas&quot;:&quot;0&quot;,&quot;AF_amr&quot;:&quot;0.095923&quot;,&quot;AF_CTRL_mid&quot;:&quot;0&quot;,&quot;AF_SCZ_asj&quot;:&quot;0.025&quot;,&quot;AC_CTRL_afr&quot;:&quot;1219&quot;,&quot;N_HOMREF_BD_asj&quot;:&quot;0&quot;,&quot;FREQ_HOMALT_SCZ&quot;:&quot;0.0003125&quot;,&quot;N_HOMREF_CTRL_fin&quot;:&quot;786&quot;,&quot;N_BI_GENOS_SCZ_oth&quot;:&quot;18&quot;,&quot;N_HET_ami&quot;:&quot;1&quot;,&quot;AC_SCZ&quot;:&quot;835&quot;,&quot;N_HET_CASE&quot;:&quot;1083&quot;,&quot;FREQ_HOMALT_SCZ_mid&quot;:&quot;0&quot;,&quot;N_HOMREF_CTRL_ami&quot;:&quot;11&quot;,&quot;N_BI_GENOS_BD_amr&quot;:&quot;7&quot;,&quot;FREQ_HOMALT_BD_amr&quot;:&quot;0&quot;,&quot;N_HOMREF_SCZ_amr&quot;:&quot;103&quot;,&quot;N_HOMREF_BD_oth&quot;:&quot;2&quot;,&quot;N_HOMALT_SCZ_sas&quot;:&quot;0&quot;,&quot;FREQ_HOMREF_SCZ_sas&quot;:&quot;0&quot;,&quot;PREDICTED_NEAREST_TSS&quot;:&quot;OR4F4,OR4F5&quot;,&quot;AC_SCZ_mid&quot;:&quot;0&quot;,&quot;FREQ_HOMALT_CTRL_asj&quot;:&quot;0&quot;,&quot;N_HET_CTRL_fin&quot;:&quot;186&quot;,&quot;N_HOMALT_CTRL_nfe&quot;:&quot;3&quot;,&quot;N_HOMREF_BD_afr&quot;:&quot;328&quot;,&quot;N_HOMREF_SCZ&quot;:&quot;2366&quot;,&quot;FREQ_HOMREF_SCZ&quot;:&quot;0.739375&quot;,&quot;AF_afr&quot;:&quot;0.204311&quot;,&quot;AN_BD_fin&quot;:&quot;274&quot;,&quot;AN_mid&quot;:&quot;6&quot;,&quot;AF_mid&quot;:&quot;0&quot;,&quot;AN_ami&quot;:&quot;26&quot;,&quot;AF_CASE&quot;:&quot;0.125173&quot;,&quot;FREQ_HOMALT_eas&quot;:&quot;0&quot;,&quot;AC_SCZ_nfe&quot;:&quot;68&quot;,&quot;AC_CTRL_ami&quot;:&quot;1&quot;,&quot;FREQ_HOMALT_nfe&quot;:&quot;0.000560433&quot;,&quot;N_HET_OthDISEASE&quot;:&quot;0&quot;,&quot;N_HET_CTRL_ami&quot;:&quot;1&quot;,&quot;AN_CTRL_oth&quot;:&quot;496&quot;,&quot;N_HET_nfe&quot;:&quot;507&quot;,&quot;AN_SCZ_asj&quot;:&quot;40&quot;,&quot;N_HOMALT_CTRL_eas&quot;:&quot;0&quot;,&quot;AF_CTRL_sas&quot;:&quot;0.076923&quot;,&quot;FREQ_HET_sas&quot;:&quot;0.153846&quot;,&quot;AN_CTRL_amr&quot;:&quot;2276&quot;,&quot;N_BI_GENOS_CASE&quot;:&quot;4334&quot;,&quot;FREQ_HET_CTRL_fin&quot;:&quot;0.191358&quot;,&quot;N_HOMALT_BD_oth&quot;:&quot;0&quot;,&quot;FREQ_HET_BD_ami&quot;:&quot;0&quot;,&quot;AC_BD&quot;:&quot;250&quot;,&quot;N_BI_GENOS_BD_afr&quot;:&quot;539&quot;,&quot;N_HOMREF_BD_fin&quot;:&quot;131&quot;,&quot;N_HET_CTRL_asj&quot;:&quot;13&quot;,&quot;FREQ_HOMALT_SCZ_nfe&quot;:&quot;0&quot;,&quot;ALGORITHMS&quot;:&quot;manta&quot;,&quot;N_HOMREF_amr&quot;:&quot;1012&quot;,&quot;FREQ_HET_eas&quot;:&quot;0.318182&quot;,&quot;N_HET_SCZ_mid&quot;:&quot;0&quot;,&quot;N_HOMREF_ami&quot;:&quot;12&quot;,&quot;AN_CASE&quot;:&quot;8668&quot;,&quot;FREQ_HET_nfe&quot;:&quot;0.0947132&quot;,&quot;N_HOMALT_asj&quot;:&quot;0&quot;,&quot;N_HOMALT_SCZ_asj&quot;:&quot;0&quot;,&quot;N_BI_GENOS_CTRL&quot;:&quot;9706&quot;,&quot;AN_CTRL_afr&quot;:&quot;5890&quot;,&quot;FREQ_HOMALT_CTRL_amr&quot;:&quot;0.000878735&quot;,&quot;AC_CTRL_eas&quot;:&quot;7&quot;,&quot;FREQ_HET_afr&quot;:&quot;0.407123&quot;,&quot;FREQ_HOMREF_CTRL_asj&quot;:&quot;0.930108&quot;,&quot;FREQ_HOMALT_BD_afr&quot;:&quot;0&quot;,&quot;N_BI_GENOS_BD_nfe&quot;:&quot;444&quot;,&quot;AN_asj&quot;:&quot;412&quot;,&quot;N_HOMREF_afr&quot;:&quot;3159&quot;,&quot;AF_sas&quot;:&quot;0.076923&quot;,&quot;N_HET_BD_oth&quot;:&quot;0&quot;,&quot;N_HOMALT_SCZ_amr&quot;:&quot;0&quot;,&quot;FREQ_HOMREF_BD&quot;:&quot;0.778761&quot;,&quot;N_HET_CTRL_sas&quot;:&quot;2&quot;,&quot;FREQ_HOMREF_CTRL_eas&quot;:&quot;0.681818&quot;,&quot;N_BI_GENOS_SCZ&quot;:&quot;3200&quot;,&quot;N_HOMREF_BD_nfe&quot;:&quot;414&quot;,&quot;FREQ_HOMREF_BD_fin&quot;:&quot;0.956204&quot;,&quot;FREQ_HET_fin&quot;:&quot;0.129442&quot;,&quot;AC_nfe&quot;:&quot;513&quot;,&quot;AC_CTRL_mid&quot;:&quot;0&quot;,&quot;N_HOMREF_SCZ_sas&quot;:&quot;0&quot;,&quot;FREQ_HOMALT_mid&quot;:&quot;0&quot;,&quot;N_BI_GENOS_oth&quot;:&quot;268&quot;,&quot;N_HOMREF_CTRL_amr&quot;:&quot;905&quot;,&quot;N_HET_SCZ_oth&quot;:&quot;1&quot;,&quot;N_HOMALT_ami&quot;:&quot;0&quot;,&quot;END&quot;:&quot;10533&quot;,&quot;AF_CTRL_eas&quot;:&quot;0.159091&quot;,&quot;N_BI_GENOS_CTRL_ami&quot;:&quot;12&quot;,&quot;PCRMINUS_NCR&quot;:&quot;0.364646&quot;,&quot;N_BI_GENOS_SCZ_amr&quot;:&quot;106&quot;,&quot;N_HET_CTRL_mid&quot;:&quot;0&quot;,&quot;AN_sas&quot;:&quot;26&quot;,&quot;FREQ_HOMALT_fin&quot;:&quot;0&quot;,&quot;FREQ_HOMREF_fin&quot;:&quot;0.870558&quot;,&quot;FREQ_HET_BD_nfe&quot;:&quot;0.0675676&quot;,&quot;AN_SCZ_fin&quot;:&quot;934&quot;,&quot;FREQ_HET_asj&quot;:&quot;0.0679612&quot;,&quot;AF_CTRL_asj&quot;:&quot;0.034946&quot;,&quot;AN_afr&quot;:&quot;10670&quot;,&quot;PCRPLUS_NCR&quot;:&quot;0.187973&quot;,&quot;FREQ_HOMALT_CTRL_oth&quot;:&quot;0&quot;,&quot;N_HOMALT_mid&quot;:&quot;0&quot;,&quot;FREQ_HET_CTRL_nfe&quot;:&quot;0.0981286&quot;,&quot;N_HET_SCZ_afr&quot;:&quot;748&quot;,&quot;AF_CTRL_afr&quot;:&quot;0.206961&quot;,&quot;N_HET_CASE_nfe&quot;:&quot;0&quot;,&quot;AN_SCZ_oth&quot;:&quot;36&quot;,&quot;N_HOMREF&quot;:&quot;31672&quot;,&quot;FREQ_HOMREF_amr&quot;:&quot;0.808953&quot;,&quot;N_HOMALT_CTRL_mid&quot;:&quot;0&quot;,&quot;FREQ_HOMREF_eas&quot;:&quot;0.681818&quot;,&quot;N_HOMREF_SCZ_afr&quot;:&quot;1102&quot;,&quot;N_HOMALT_BD&quot;:&quot;0&quot;,&quot;N_BI_GENOS_BD_fin&quot;:&quot;137&quot;,&quot;FREQ_HOMALT_sas&quot;:&quot;0&quot;,&quot;FREQ_HET_CTRL_ami&quot;:&quot;0.0833333&quot;,&quot;EVIDENCE&quot;:&quot;SR&quot;,&quot;AN_nfe&quot;:&quot;10706&quot;,&quot;FREQ_HOMREF_BD_amr&quot;:&quot;0.571429&quot;,&quot;AF_CTRL&quot;:&quot;0.109829&quot;,&quot;FREQ_HOMALT_CASE&quot;:&quot;0.000230734&quot;,&quot;N_HOMREF_BD_amr&quot;:&quot;4&quot;,&quot;N_HOMALT_BD_fin&quot;:&quot;0&quot;,&quot;FREQ_HOMALT_CTRL_eas&quot;:&quot;0&quot;,&quot;AF_CTRL_amr&quot;:&quot;0.102812&quot;,&quot;FREQ_HOMALT_CTRL_afr&quot;:&quot;0.00101868&quot;,&quot;FREQ_HOMREF_BD_asj&quot;:&quot;0&quot;,&quot;N_HET_SCZ_asj&quot;:&quot;1&quot;,&quot;FREQ_HOMALT_CTRL_sas&quot;:&quot;0&quot;,&quot;AF_BD_afr&quot;:&quot;0.195733&quot;,&quot;N_HOMALT_CTRL_asj&quot;:&quot;0&quot;,&quot;FREQ_HOMREF_SCZ_oth&quot;:&quot;0.944444&quot;,&quot;AC_sas&quot;:&quot;2&quot;,&quot;N_BI_GENOS_SCZ_sas&quot;:&quot;0&quot;,&quot;FREQ_HOMALT_SCZ_asj&quot;:&quot;0&quot;,&quot;AC_asj&quot;:&quot;14&quot;,&quot;BOTHSIDES_SUPPORT&quot;:&quot;&quot;,&quot;FREQ_HOMALT_SCZ_sas&quot;:&quot;0&quot;,&quot;AF_eas&quot;:&quot;0.159091&quot;,&quot;AC_oth&quot;:&quot;56&quot;,&quot;FREQ_HET_BD_fin&quot;:&quot;0.0437956&quot;,&quot;FREQ_HOMALT_BD_ami&quot;:&quot;0&quot;,&quot;AC_SCZ_oth&quot;:&quot;1&quot;,&quot;N_HOMALT_BD_nfe&quot;:&quot;0&quot;,&quot;AC_CTRL_oth&quot;:&quot;55&quot;,&quot;AC_SCZ_sas&quot;:&quot;0&quot;,&quot;AC_OthDISEASE&quot;:&quot;0&quot;,&quot;AC_CASE&quot;:&quot;1085&quot;,&quot;AC_fin&quot;:&quot;204&quot;,&quot;FREQ_HOMALT_SCZ_fin&quot;:&quot;0&quot;,&quot;N_BI_GENOS_SCZ_mid&quot;:&quot;1&quot;,&quot;N_BI_GENOS_nfe&quot;:&quot;5353&quot;,&quot;FREQ_HOMREF_SCZ_asj&quot;:&quot;0.95&quot;,&quot;AC_SCZ_asj&quot;:&quot;1&quot;,&quot;N_BI_GENOS_afr&quot;:&quot;5335&quot;,&quot;FREQ_HET_BD_asj&quot;:&quot;0&quot;,&quot;FREQ_HET_OthDISEASE&quot;:&quot;0&quot;,&quot;AF_CTRL_nfe&quot;:&quot;0.049784&quot;,&quot;SVTYPE&quot;:&quot;BND&quot;,&quot;FREQ_HET_mid&quot;:&quot;0&quot;,&quot;AF_CTRL_ami&quot;:&quot;0.041667&quot;,&quot;AC_CTRL_nfe&quot;:&quot;415&quot;,&quot;AN_BD_afr&quot;:&quot;1078&quot;,&quot;AN_CTRL&quot;:&quot;19412&quot;,&quot;N_HOMALT_CTRL_amr&quot;:&quot;1&quot;,&quot;FREQ_HOMREF_asj&quot;:&quot;0.932039&quot;,&quot;FREQ_HOMREF&quot;:&quot;0.797623&quot;,&quot;N_BI_GENOS_BD_oth&quot;:&quot;2&quot;,&quot;N_HET_CTRL_amr&quot;:&quot;232&quot;,&quot;N_HOMALT_nfe&quot;:&quot;3&quot;,&quot;N_HOMALT_CTRL_oth&quot;:&quot;0&quot;,&quot;N_HOMREF_CTRL_eas&quot;:&quot;15&quot;,&quot;N_HET_SCZ&quot;:&quot;833&quot;,&quot;FREQ_HET_SCZ_afr&quot;:&quot;0.404106&quot;,&quot;N_BI_GENOS_SCZ_asj&quot;:&quot;20&quot;,&quot;FREQ_HET_SCZ_sas&quot;:&quot;0&quot;,&quot;N_BI_GENOS_OthDISEASE&quot;:&quot;4&quot;,&quot;N_HOMALT_SCZ_fin&quot;:&quot;0&quot;,&quot;N_HOMALT_SCZ_nfe&quot;:&quot;0&quot;,&quot;AN_OthDISEASE&quot;:&quot;8&quot;,&quot;AF_SCZ_nfe&quot;:&quot;0.046133&quot;,&quot;FREQ_HET_BD_amr&quot;:&quot;0.428571&quot;,&quot;FREQ_HOMALT_BD&quot;:&quot;0&quot;,&quot;FREQ_HOMALT_SCZ_oth&quot;:&quot;0&quot;}</td><td style=\"white-space: nowrap; max-width: 500px; overflow: hidden; text-overflow: ellipsis; \">[&quot;AC&quot;,&quot;AC_BD&quot;,&quot;AC_BD_afr&quot;,&quot;AC_BD_ami&quot;,&quot;AC_BD_amr&quot;,&quot;AC_BD_asj&quot;,&quot;AC_BD_fin&quot;,&quot;AC_BD_nfe&quot;,&quot;AC_BD_oth&quot;,&quot;AC_CASE&quot;,&quot;AC_CASE_nfe&quot;,&quot;AC_CTRL&quot;,&quot;AC_CTRL_afr&quot;,&quot;AC_CTRL_ami&quot;,&quot;AC_CTRL_amr&quot;,&quot;AC_CTRL_asj&quot;,&quot;AC_CTRL_eas&quot;,&quot;AC_CTRL_fin&quot;,&quot;AC_CTRL_mid&quot;,&quot;AC_CTRL_nfe&quot;,&quot;AC_CTRL_oth&quot;,&quot;AC_CTRL_sas&quot;,&quot;AC_OthDISEASE&quot;,&quot;AC_SCZ&quot;,&quot;AC_SCZ_afr&quot;,&quot;AC_SCZ_amr&quot;,&quot;AC_SCZ_asj&quot;,&quot;AC_SCZ_fin&quot;,&quot;AC_SCZ_mid&quot;,&quot;AC_SCZ_nfe&quot;,&quot;AC_SCZ_oth&quot;,&quot;AC_SCZ_sas&quot;,&quot;AC_afr&quot;,&quot;AC_ami&quot;,&quot;AC_amr&quot;,&quot;AC_asj&quot;,&quot;AC_eas&quot;,&quot;AC_fin&quot;,&quot;AC_mid&quot;,&quot;AC_nfe&quot;,&quot;AC_oth&quot;,&quot;AC_sas&quot;,&quot;AF&quot;,&quot;AF_BD&quot;,&quot;AF_BD_afr&quot;,&quot;AF_BD_ami&quot;,&quot;AF_BD_amr&quot;,&quot;AF_BD_asj&quot;,&quot;AF_BD_fin&quot;,&quot;AF_BD_nfe&quot;,&quot;AF_BD_oth&quot;,&quot;AF_CASE&quot;,&quot;AF_CASE_nfe&quot;,&quot;AF_CTRL&quot;,&quot;AF_CTRL_afr&quot;,&quot;AF_CTRL_ami&quot;,&quot;AF_CTRL_amr&quot;,&quot;AF_CTRL_asj&quot;,&quot;AF_CTRL_eas&quot;,&quot;AF_CTRL_fin&quot;,&quot;AF_CTRL_mid&quot;,&quot;AF_CTRL_nfe&quot;,&quot;AF_CTRL_oth&quot;,&quot;AF_CTRL_sas&quot;,&quot;AF_OthDISEASE&quot;,&quot;AF_SCZ&quot;,&quot;AF_SCZ_afr&quot;,&quot;AF_SCZ_amr&quot;,&quot;AF_SCZ_asj&quot;,&quot;AF_SCZ_fin&quot;,&quot;AF_SCZ_mid&quot;,&quot;AF_SCZ_nfe&quot;,&quot;AF_SCZ_oth&quot;,&quot;AF_SCZ_sas&quot;,&quot;AF_afr&quot;,&quot;AF_ami&quot;,&quot;AF_amr&quot;,&quot;AF_asj&quot;,&quot;AF_eas&quot;,&quot;AF_fin&quot;,&quot;AF_mid&quot;,&quot;AF_nfe&quot;,&quot;AF_oth&quot;,&quot;AF_sas&quot;,&quot;ALGORITHMS&quot;,&quot;AN&quot;,&quot;AN_BD&quot;,&quot;AN_BD_afr&quot;,&quot;AN_BD_ami&quot;,&quot;AN_BD_amr&quot;,&quot;AN_BD_asj&quot;,&quot;AN_BD_fin&quot;,&quot;AN_BD_nfe&quot;,&quot;AN_BD_oth&quot;,&quot;AN_CASE&quot;,&quot;AN_CASE_nfe&quot;,&quot;AN_CTRL&quot;,&quot;AN_CTRL_afr&quot;,&quot;AN_CTRL_ami&quot;,&quot;AN_CTRL_amr&quot;,&quot;AN_CTRL_asj&quot;,&quot;AN_CTRL_eas&quot;,&quot;AN_CTRL_fin&quot;,&quot;AN_CTRL_mid&quot;,&quot;AN_CTRL_nfe&quot;,&quot;AN_CTRL_oth&quot;,&quot;AN_CTRL_sas&quot;,&quot;AN_OthDISEASE&quot;,&quot;AN_SCZ&quot;,&quot;AN_SCZ_afr&quot;,&quot;AN_SCZ_amr&quot;,&quot;AN_SCZ_asj&quot;,&quot;AN_SCZ_fin&quot;,&quot;AN_SCZ_mid&quot;,&quot;AN_SCZ_nfe&quot;,&quot;AN_SCZ_oth&quot;,&quot;AN_SCZ_sas&quot;,&quot;AN_afr&quot;,&quot;AN_ami&quot;,&quot;AN_amr&quot;,&quot;AN_asj&quot;,&quot;AN_eas&quot;,&quot;AN_fin&quot;,&quot;AN_mid&quot;,&quot;AN_nfe&quot;,&quot;AN_oth&quot;,&quot;AN_sas&quot;,&quot;BOTHSIDES_SUPPORT&quot;,&quot;CHR2&quot;,&quot;END&quot;,&quot;END2&quot;,&quot;EVIDENCE&quot;,&quot;FREQ_HET&quot;,&quot;FREQ_HET_BD&quot;,&quot;FREQ_HET_BD_afr&quot;,&quot;FREQ_HET_BD_ami&quot;,&quot;FREQ_HET_BD_amr&quot;,&quot;FREQ_HET_BD_asj&quot;,&quot;FREQ_HET_BD_fin&quot;,&quot;FREQ_HET_BD_nfe&quot;,&quot;FREQ_HET_BD_oth&quot;,&quot;FREQ_HET_CASE&quot;,&quot;FREQ_HET_CASE_nfe&quot;,&quot;FREQ_HET_CTRL&quot;,&quot;FREQ_HET_CTRL_afr&quot;,&quot;FREQ_HET_CTRL_ami&quot;,&quot;FREQ_HET_CTRL_amr&quot;,&quot;FREQ_HET_CTRL_asj&quot;,&quot;FREQ_HET_CTRL_eas&quot;,&quot;FREQ_HET_CTRL_fin&quot;,&quot;FREQ_HET_CTRL_mid&quot;,&quot;FREQ_HET_CTRL_nfe&quot;,&quot;FREQ_HET_CTRL_oth&quot;,&quot;FREQ_HET_CTRL_sas&quot;,&quot;FREQ_HET_OthDISEASE&quot;,&quot;FREQ_HET_SCZ&quot;,&quot;FREQ_HET_SCZ_afr&quot;,&quot;FREQ_HET_SCZ_amr&quot;,&quot;FREQ_HET_SCZ_asj&quot;,&quot;FREQ_HET_SCZ_fin&quot;,&quot;FREQ_HET_SCZ_mid&quot;,&quot;FREQ_HET_SCZ_nfe&quot;,&quot;FREQ_HET_SCZ_oth&quot;,&quot;FREQ_HET_SCZ_sas&quot;,&quot;FREQ_HET_afr&quot;,&quot;FREQ_HET_ami&quot;,&quot;FREQ_HET_amr&quot;,&quot;FREQ_HET_asj&quot;,&quot;FREQ_HET_eas&quot;,&quot;FREQ_HET_fin&quot;,&quot;FREQ_HET_mid&quot;,&quot;FREQ_HET_nfe&quot;,&quot;FREQ_HET_oth&quot;,&quot;FREQ_HET_sas&quot;,&quot;FREQ_HOMALT&quot;,&quot;FREQ_HOMALT_BD&quot;,&quot;FREQ_HOMALT_BD_afr&quot;,&quot;FREQ_HOMALT_BD_ami&quot;,&quot;FREQ_HOMALT_BD_amr&quot;,&quot;FREQ_HOMALT_BD_asj&quot;,&quot;FREQ_HOMALT_BD_fin&quot;,&quot;FREQ_HOMALT_BD_nfe&quot;,&quot;FREQ_HOMALT_BD_oth&quot;,&quot;FREQ_HOMALT_CASE&quot;,&quot;FREQ_HOMALT_CASE_nfe&quot;,&quot;FREQ_HOMALT_CTRL&quot;,&quot;FREQ_HOMALT_CTRL_afr&quot;,&quot;FREQ_HOMALT_CTRL_ami&quot;,&quot;FREQ_HOMALT_CTRL_amr&quot;,&quot;FREQ_HOMALT_CTRL_asj&quot;,&quot;FREQ_HOMALT_CTRL_eas&quot;,&quot;FREQ_HOMALT_CTRL_fin&quot;,&quot;FREQ_HOMALT_CTRL_mid&quot;,&quot;FREQ_HOMALT_CTRL_nfe&quot;,&quot;FREQ_HOMALT_CTRL_oth&quot;,&quot;FREQ_HOMALT_CTRL_sas&quot;,&quot;FREQ_HOMALT_OthDISEASE&quot;,&quot;FREQ_HOMALT_SCZ&quot;,&quot;FREQ_HOMALT_SCZ_afr&quot;,&quot;FREQ_HOMALT_SCZ_amr&quot;,&quot;FREQ_HOMALT_SCZ_asj&quot;,&quot;FREQ_HOMALT_SCZ_fin&quot;,&quot;FREQ_HOMALT_SCZ_mid&quot;,&quot;FREQ_HOMALT_SCZ_nfe&quot;,&quot;FREQ_HOMALT_SCZ_oth&quot;,&quot;FREQ_HOMALT_SCZ_sas&quot;,&quot;FREQ_HOMALT_afr&quot;,&quot;FREQ_HOMALT_ami&quot;,&quot;FREQ_HOMALT_amr&quot;,&quot;FREQ_HOMALT_asj&quot;,&quot;FREQ_HOMALT_eas&quot;,&quot;FREQ_HOMALT_fin&quot;,&quot;FREQ_HOMALT_mid&quot;,&quot;FREQ_HOMALT_nfe&quot;,&quot;FREQ_HOMALT_oth&quot;,&quot;FREQ_HOMALT_sas&quot;,&quot;FREQ_HOMREF&quot;,&quot;FREQ_HOMREF_BD&quot;,&quot;FREQ_HOMREF_BD_afr&quot;,&quot;FREQ_HOMREF_BD_ami&quot;,&quot;FREQ_HOMREF_BD_amr&quot;,&quot;FREQ_HOMREF_BD_asj&quot;,&quot;FREQ_HOMREF_BD_fin&quot;,&quot;FREQ_HOMREF_BD_nfe&quot;,&quot;FREQ_HOMREF_BD_oth&quot;,&quot;FREQ_HOMREF_CASE&quot;,&quot;FREQ_HOMREF_CASE_nfe&quot;,&quot;FREQ_HOMREF_CTRL&quot;,&quot;FREQ_HOMREF_CTRL_afr&quot;,&quot;FREQ_HOMREF_CTRL_ami&quot;,&quot;FREQ_HOMREF_CTRL_amr&quot;,&quot;FREQ_HOMREF_CTRL_asj&quot;,&quot;FREQ_HOMREF_CTRL_eas&quot;,&quot;FREQ_HOMREF_CTRL_fin&quot;,&quot;FREQ_HOMREF_CTRL_mid&quot;,&quot;FREQ_HOMREF_CTRL_nfe&quot;,&quot;FREQ_HOMREF_CTRL_oth&quot;,&quot;FREQ_HOMREF_CTRL_sas&quot;,&quot;FREQ_HOMREF_OthDISEASE&quot;,&quot;FREQ_HOMREF_SCZ&quot;,&quot;FREQ_HOMREF_SCZ_afr&quot;,&quot;FREQ_HOMREF_SCZ_amr&quot;,&quot;FREQ_HOMREF_SCZ_asj&quot;,&quot;FREQ_HOMREF_SCZ_fin&quot;,&quot;FREQ_HOMREF_SCZ_mid&quot;,&quot;FREQ_HOMREF_SCZ_nfe&quot;,&quot;FREQ_HOMREF_SCZ_oth&quot;,&quot;FREQ_HOMREF_SCZ_sas&quot;,&quot;FREQ_HOMREF_afr&quot;,&quot;FREQ_HOMREF_ami&quot;,&quot;FREQ_HOMREF_amr&quot;,&quot;FREQ_HOMREF_asj&quot;,&quot;FREQ_HOMREF_eas&quot;,&quot;FREQ_HOMREF_fin&quot;,&quot;FREQ_HOMREF_mid&quot;,&quot;FREQ_HOMREF_nfe&quot;,&quot;FREQ_HOMREF_oth&quot;,&quot;FREQ_HOMREF_sas&quot;,&quot;NCR&quot;,&quot;N_BI_GENOS&quot;,&quot;N_BI_GENOS_BD&quot;,&quot;N_BI_GENOS_BD_afr&quot;,&quot;N_BI_GENOS_BD_ami&quot;,&quot;N_BI_GENOS_BD_amr&quot;,&quot;N_BI_GENOS_BD_asj&quot;,&quot;N_BI_GENOS_BD_fin&quot;,&quot;N_BI_GENOS_BD_nfe&quot;,&quot;N_BI_GENOS_BD_oth&quot;,&quot;N_BI_GENOS_CASE&quot;,&quot;N_BI_GENOS_CASE_nfe&quot;,&quot;N_BI_GENOS_CTRL&quot;,&quot;N_BI_GENOS_CTRL_afr&quot;,&quot;N_BI_GENOS_CTRL_ami&quot;,&quot;N_BI_GENOS_CTRL_amr&quot;,&quot;N_BI_GENOS_CTRL_asj&quot;,&quot;N_BI_GENOS_CTRL_eas&quot;,&quot;N_BI_GENOS_CTRL_fin&quot;,&quot;N_BI_GENOS_CTRL_mid&quot;,&quot;N_BI_GENOS_CTRL_nfe&quot;,&quot;N_BI_GENOS_CTRL_oth&quot;,&quot;N_BI_GENOS_CTRL_sas&quot;,&quot;N_BI_GENOS_OthDISEASE&quot;,&quot;N_BI_GENOS_SCZ&quot;,&quot;N_BI_GENOS_SCZ_afr&quot;,&quot;N_BI_GENOS_SCZ_amr&quot;,&quot;N_BI_GENOS_SCZ_asj&quot;,&quot;N_BI_GENOS_SCZ_fin&quot;,&quot;N_BI_GENOS_SCZ_mid&quot;,&quot;N_BI_GENOS_SCZ_nfe&quot;,&quot;N_BI_GENOS_SCZ_oth&quot;,&quot;N_BI_GENOS_SCZ_sas&quot;,&quot;N_BI_GENOS_afr&quot;,&quot;N_BI_GENOS_ami&quot;,&quot;N_BI_GENOS_amr&quot;,&quot;N_BI_GENOS_asj&quot;,&quot;N_BI_GENOS_eas&quot;,&quot;N_BI_GENOS_fin&quot;,&quot;N_BI_GENOS_mid&quot;,&quot;N_BI_GENOS_nfe&quot;,&quot;N_BI_GENOS_oth&quot;,&quot;N_BI_GENOS_sas&quot;,&quot;N_HET&quot;,&quot;N_HET_BD&quot;,&quot;N_HET_BD_afr&quot;,&quot;N_HET_BD_ami&quot;,&quot;N_HET_BD_amr&quot;,&quot;N_HET_BD_asj&quot;,&quot;N_HET_BD_fin&quot;,&quot;N_HET_BD_nfe&quot;,&quot;N_HET_BD_oth&quot;,&quot;N_HET_CASE&quot;,&quot;N_HET_CASE_nfe&quot;,&quot;N_HET_CTRL&quot;,&quot;N_HET_CTRL_afr&quot;,&quot;N_HET_CTRL_ami&quot;,&quot;N_HET_CTRL_amr&quot;,&quot;N_HET_CTRL_asj&quot;,&quot;N_HET_CTRL_eas&quot;,&quot;N_HET_CTRL_fin&quot;,&quot;N_HET_CTRL_mid&quot;,&quot;N_HET_CTRL_nfe&quot;,&quot;N_HET_CTRL_oth&quot;,&quot;N_HET_CTRL_sas&quot;,&quot;N_HET_OthDISEASE&quot;,&quot;N_HET_SCZ&quot;,&quot;N_HET_SCZ_afr&quot;,&quot;N_HET_SCZ_amr&quot;,&quot;N_HET_SCZ_asj&quot;,&quot;N_HET_SCZ_fin&quot;,&quot;N_HET_SCZ_mid&quot;,&quot;N_HET_SCZ_nfe&quot;,&quot;N_HET_SCZ_oth&quot;,&quot;N_HET_SCZ_sas&quot;,&quot;N_HET_afr&quot;,&quot;N_HET_ami&quot;,&quot;N_HET_amr&quot;,&quot;N_HET_asj&quot;,&quot;N_HET_eas&quot;,&quot;N_HET_fin&quot;,&quot;N_HET_mid&quot;,&quot;N_HET_nfe&quot;,&quot;N_HET_oth&quot;,&quot;N_HET_sas&quot;,&quot;N_HOMALT&quot;,&quot;N_HOMALT_BD&quot;,&quot;N_HOMALT_BD_afr&quot;,&quot;N_HOMALT_BD_ami&quot;,&quot;N_HOMALT_BD_amr&quot;,&quot;N_HOMALT_BD_asj&quot;,&quot;N_HOMALT_BD_fin&quot;,&quot;N_HOMALT_BD_nfe&quot;,&quot;N_HOMALT_BD_oth&quot;,&quot;N_HOMALT_CASE&quot;,&quot;N_HOMALT_CASE_nfe&quot;,&quot;N_HOMALT_CTRL&quot;,&quot;N_HOMALT_CTRL_afr&quot;,&quot;N_HOMALT_CTRL_ami&quot;,&quot;N_HOMALT_CTRL_amr&quot;,&quot;N_HOMALT_CTRL_asj&quot;,&quot;N_HOMALT_CTRL_eas&quot;,&quot;N_HOMALT_CTRL_fin&quot;,&quot;N_HOMALT_CTRL_mid&quot;,&quot;N_HOMALT_CTRL_nfe&quot;,&quot;N_HOMALT_CTRL_oth&quot;,&quot;N_HOMALT_CTRL_sas&quot;,&quot;N_HOMALT_OthDISEASE&quot;,&quot;N_HOMALT_SCZ&quot;,&quot;N_HOMALT_SCZ_afr&quot;,&quot;N_HOMALT_SCZ_amr&quot;,&quot;N_HOMALT_SCZ_asj&quot;,&quot;N_HOMALT_SCZ_fin&quot;,&quot;N_HOMALT_SCZ_mid&quot;,&quot;N_HOMALT_SCZ_nfe&quot;,&quot;N_HOMALT_SCZ_oth&quot;,&quot;N_HOMALT_SCZ_sas&quot;,&quot;N_HOMALT_afr&quot;,&quot;N_HOMALT_ami&quot;,&quot;N_HOMALT_amr&quot;,&quot;N_HOMALT_asj&quot;,&quot;N_HOMALT_eas&quot;,&quot;N_HOMALT_fin&quot;,&quot;N_HOMALT_mid&quot;,&quot;N_HOMALT_nfe&quot;,&quot;N_HOMALT_oth&quot;,&quot;N_HOMALT_sas&quot;,&quot;N_HOMREF&quot;,&quot;N_HOMREF_BD&quot;,&quot;N_HOMREF_BD_afr&quot;,&quot;N_HOMREF_BD_ami&quot;,&quot;N_HOMREF_BD_amr&quot;,&quot;N_HOMREF_BD_asj&quot;,&quot;N_HOMREF_BD_fin&quot;,&quot;N_HOMREF_BD_nfe&quot;,&quot;N_HOMREF_BD_oth&quot;,&quot;N_HOMREF_CASE&quot;,&quot;N_HOMREF_CASE_nfe&quot;,&quot;N_HOMREF_CTRL&quot;,&quot;N_HOMREF_CTRL_afr&quot;,&quot;N_HOMREF_CTRL_ami&quot;,&quot;N_HOMREF_CTRL_amr&quot;,&quot;N_HOMREF_CTRL_asj&quot;,&quot;N_HOMREF_CTRL_eas&quot;,&quot;N_HOMREF_CTRL_fin&quot;,&quot;N_HOMREF_CTRL_mid&quot;,&quot;N_HOMREF_CTRL_nfe&quot;,&quot;N_HOMREF_CTRL_oth&quot;,&quot;N_HOMREF_CTRL_sas&quot;,&quot;N_HOMREF_OthDISEASE&quot;,&quot;N_HOMREF_SCZ&quot;,&quot;N_HOMREF_SCZ_afr&quot;,&quot;N_HOMREF_SCZ_amr&quot;,&quot;N_HOMREF_SCZ_asj&quot;,&quot;N_HOMREF_SCZ_fin&quot;,&quot;N_HOMREF_SCZ_mid&quot;,&quot;N_HOMREF_SCZ_nfe&quot;,&quot;N_HOMREF_SCZ_oth&quot;,&quot;N_HOMREF_SCZ_sas&quot;,&quot;N_HOMREF_afr&quot;,&quot;N_HOMREF_ami&quot;,&quot;N_HOMREF_amr&quot;,&quot;N_HOMREF_asj&quot;,&quot;N_HOMREF_eas&quot;,&quot;N_HOMREF_fin&quot;,&quot;N_HOMREF_mid&quot;,&quot;N_HOMREF_nfe&quot;,&quot;N_HOMREF_oth&quot;,&quot;N_HOMREF_sas&quot;,&quot;PCRMINUS_NCR&quot;,&quot;PCRPLUS_NCR&quot;,&quot;POPMAX_AF&quot;,&quot;POS2&quot;,&quot;PREDICTED_INTERGENIC&quot;,&quot;PREDICTED_NEAREST_TSS&quot;,&quot;SVLEN&quot;,&quot;SVTYPE&quot;,&quot;UNRESOLVED_TYPE&quot;]</td></tr>\n",
       "<tr><td style=\"white-space: nowrap; max-width: 500px; overflow: hidden; text-overflow: ellipsis; \">chr1:10590</td><td style=\"white-space: nowrap; max-width: 500px; overflow: hidden; text-overflow: ellipsis; \">&quot;gnomAD-SV_v3_BND_chr1_adce94ec&quot;</td><td style=\"white-space: nowrap; max-width: 500px; overflow: hidden; text-overflow: ellipsis; \">&quot;BND&quot;</td><td style=\"white-space: nowrap; max-width: 500px; overflow: hidden; text-overflow: ellipsis; \">&quot;162&quot;</td><td style=\"white-space: nowrap; max-width: 500px; overflow: hidden; text-overflow: ellipsis; \">[&quot;HIGH_NCR&quot;,&quot;UNRESOLVED&quot;]</td><td style=\"white-space: nowrap; max-width: 500px; overflow: hidden; text-overflow: ellipsis; \">{&quot;N_HOMALT_CTRL&quot;:&quot;0&quot;,&quot;AF_CTRL_oth&quot;:&quot;0.024024&quot;,&quot;FREQ_HOMALT_CTRL_mid&quot;:&quot;0&quot;,&quot;N_HOMALT_CTRL_fin&quot;:&quot;0&quot;,&quot;AC_CASE_nfe&quot;:&quot;0&quot;,&quot;N_HOMREF_nfe&quot;:&quot;5675&quot;,&quot;FREQ_HOMREF_sas&quot;:&quot;1&quot;,&quot;N_HET_eas&quot;:&quot;1&quot;,&quot;N_HOMALT_CASE_nfe&quot;:&quot;0&quot;,&quot;FREQ_HOMALT_CTRL_fin&quot;:&quot;0&quot;,&quot;N_HOMREF_mid&quot;:&quot;7&quot;,&quot;AF_SCZ&quot;:&quot;0.015804&quot;,&quot;AN_CTRL_mid&quot;:&quot;10&quot;,&quot;FREQ_HET_SCZ_mid&quot;:&quot;0&quot;,&quot;N_HET_BD_fin&quot;:&quot;3&quot;,&quot;N_HOMALT_SCZ_afr&quot;:&quot;0&quot;,&quot;N_HOMREF_SCZ_oth&quot;:&quot;16&quot;,&quot;AC_SCZ_fin&quot;:&quot;14&quot;,&quot;N_HOMREF_SCZ_fin&quot;:&quot;468&quot;,&quot;FREQ_HOMREF_BD_nfe&quot;:&quot;0.97066&quot;,&quot;AF_CASE_nfe&quot;:&quot;0&quot;,&quot;FREQ_HET_CTRL_asj&quot;:&quot;0.039801&quot;,&quot;N_HET&quot;:&quot;1655&quot;,&quot;AN_SCZ&quot;:&quot;7846&quot;,&quot;FREQ_HET_BD&quot;:&quot;0.02249&quot;,&quot;AN_CTRL_nfe&quot;:&quot;9274&quot;,&quot;AF_BD_asj&quot;:&quot;0&quot;,&quot;N_HOMALT_oth&quot;:&quot;0&quot;,&quot;AN_SCZ_afr&quot;:&quot;5028&quot;,&quot;N_HET_SCZ_amr&quot;:&quot;1&quot;,&quot;AF_SCZ_fin&quot;:&quot;0.014523&quot;,&quot;FREQ_HET_SCZ_nfe&quot;:&quot;0.0487805&quot;,&quot;AC_amr&quot;:&quot;74&quot;,&quot;AF_SCZ_sas&quot;:&quot;0&quot;,&quot;N_HOMREF_OthDISEASE&quot;:&quot;4&quot;,&quot;AN_BD_ami&quot;:&quot;4&quot;,&quot;FREQ_HET_BD_oth&quot;:&quot;0&quot;,&quot;FREQ_HET_CTRL_sas&quot;:&quot;0&quot;,&quot;FREQ_HOMREF_CTRL_nfe&quot;:&quot;0.977572&quot;,&quot;FREQ_HOMREF_BD_oth&quot;:&quot;1&quot;,&quot;N_HOMALT_fin&quot;:&quot;0&quot;,&quot;FREQ_HOMALT_CTRL_ami&quot;:&quot;0&quot;,&quot;N_BI_GENOS_CASE_nfe&quot;:&quot;4&quot;,&quot;N_HOMREF_CASE_nfe&quot;:&quot;4&quot;,&quot;AC_CTRL_asj&quot;:&quot;8&quot;,&quot;N_HET_amr&quot;:&quot;74&quot;,&quot;AC&quot;:&quot;1655&quot;,&quot;FREQ_HOMREF_oth&quot;:&quot;0.94382&quot;,&quot;N_BI_GENOS_amr&quot;:&quot;1394&quot;,&quot;AC_afr&quot;:&quot;168&quot;,&quot;N_HOMALT_BD_afr&quot;:&quot;0&quot;,&quot;N_HOMALT_CTRL_ami&quot;:&quot;0&quot;,&quot;N_HET_CTRL_nfe&quot;:&quot;104&quot;,&quot;N_HOMALT_BD_amr&quot;:&quot;0&quot;,&quot;N_BI_GENOS&quot;:&quot;45032&quot;,&quot;FREQ_HET_CTRL&quot;:&quot;0.0349574&quot;,&quot;AC_BD_asj&quot;:&quot;0&quot;,&quot;N_HOMREF_SCZ_nfe&quot;:&quot;741&quot;,&quot;N_HOMREF_asj&quot;:&quot;215&quot;,&quot;N_HOMALT_SCZ_mid&quot;:&quot;0&quot;,&quot;AC_CTRL_sas&quot;:&quot;0&quot;,&quot;N_HET_BD_amr&quot;:&quot;0&quot;,&quot;N_HOMALT_SCZ_oth&quot;:&quot;0&quot;,&quot;AC_BD_oth&quot;:&quot;0&quot;,&quot;FREQ_HET_oth&quot;:&quot;0.0561798&quot;,&quot;N_HET_CTRL_oth&quot;:&quot;16&quot;,&quot;N_BI_GENOS_sas&quot;:&quot;15&quot;,&quot;N_BI_GENOS_CTRL_fin&quot;:&quot;1057&quot;,&quot;FREQ_HOMREF_ami&quot;:&quot;0.947368&quot;,&quot;N_HET_CTRL_afr&quot;:&quot;89&quot;,&quot;N_HET_fin&quot;:&quot;139&quot;,&quot;N_HOMREF_CTRL_oth&quot;:&quot;317&quot;,&quot;N_BI_GENOS_eas&quot;:&quot;27&quot;,&quot;N_HET_CTRL&quot;:&quot;414&quot;,&quot;AN_CTRL_asj&quot;:&quot;402&quot;,&quot;N_HOMREF_BD_ami&quot;:&quot;2&quot;,&quot;UNRESOLVED_TYPE&quot;:&quot;SINGLE_ENDER_+-&quot;,&quot;N_BI_GENOS_ami&quot;:&quot;19&quot;,&quot;AF_CTRL_fin&quot;:&quot;0.057711&quot;,&quot;N_HOMREF_CTRL_mid&quot;:&quot;5&quot;,&quot;FREQ_HOMALT_afr&quot;:&quot;0&quot;,&quot;FREQ_HET_SCZ_amr&quot;:&quot;0.00970874&quot;,&quot;FREQ_HOMREF_CTRL_afr&quot;:&quot;0.979157&quot;,&quot;AF_SCZ_amr&quot;:&quot;0.004854&quot;,&quot;AN_CTRL_eas&quot;:&quot;54&quot;,&quot;FREQ_HOMREF_CTRL_ami&quot;:&quot;0.941176&quot;,&quot;N_BI_GENOS_BD_asj&quot;:&quot;1&quot;,&quot;N_HET_SCZ_nfe&quot;:&quot;38&quot;,&quot;FREQ_HET_CTRL_afr&quot;:&quot;0.0208431&quot;,&quot;AN_eas&quot;:&quot;54&quot;,&quot;FREQ_HOMALT_asj&quot;:&quot;0&quot;,&quot;FREQ_HOMREF_SCZ_afr&quot;:&quot;0.973747&quot;,&quot;AC_eas&quot;:&quot;1&quot;,&quot;N_BI_GENOS_SCZ_fin&quot;:&quot;482&quot;,&quot;N_HET_BD_afr&quot;:&quot;13&quot;,&quot;FREQ_HOMALT_CASE_nfe&quot;:&quot;0&quot;,&quot;AC_ami&quot;:&quot;1&quot;,&quot;AN_fin&quot;:&quot;3370&quot;,&quot;AF_BD_ami&quot;:&quot;0&quot;,&quot;AC_BD_amr&quot;:&quot;0&quot;,&quot;N_HOMREF_CTRL_nfe&quot;:&quot;4533&quot;,&quot;AN&quot;:&quot;90064&quot;,&quot;N_HOMALT_CASE&quot;:&quot;0&quot;,&quot;AF_ami&quot;:&quot;0.026316&quot;,&quot;PREDICTED_INTERGENIC&quot;:&quot;&quot;,&quot;N_BI_GENOS_SCZ_nfe&quot;:&quot;779&quot;,&quot;AN_oth&quot;:&quot;712&quot;,&quot;AF_asj&quot;:&quot;0.020089&quot;,&quot;AN_BD_oth&quot;:&quot;6&quot;,&quot;FREQ_HOMREF_CASE&quot;:&quot;0.970611&quot;,&quot;FREQ_HET_SCZ_oth&quot;:&quot;0.2&quot;,&quot;N_HOMALT_SCZ&quot;:&quot;0&quot;,&quot;N_BI_GENOS_CTRL_sas&quot;:&quot;14&quot;,&quot;FREQ_HOMALT_SCZ_amr&quot;:&quot;0&quot;,&quot;N_HET_BD_ami&quot;:&quot;0&quot;,&quot;FREQ_HOMREF_BD_afr&quot;:&quot;0.980741&quot;,&quot;N_HOMALT_BD_asj&quot;:&quot;0&quot;,&quot;AF_BD_oth&quot;:&quot;0&quot;,&quot;AF_SCZ_afr&quot;:&quot;0.013126&quot;,&quot;FREQ_HET_CTRL_eas&quot;:&quot;0.037037&quot;,&quot;N_HET_BD_asj&quot;:&quot;0&quot;,&quot;AC_BD_fin&quot;:&quot;3&quot;,&quot;AC_CTRL&quot;:&quot;414&quot;,&quot;FREQ_HOMREF_afr&quot;:&quot;0.977477&quot;,&quot;N_BI_GENOS_asj&quot;:&quot;224&quot;,&quot;N_BI_GENOS_CTRL_asj&quot;:&quot;201&quot;,&quot;N_BI_GENOS_CTRL_mid&quot;:&quot;5&quot;,&quot;AF_SCZ_mid&quot;:&quot;0&quot;,&quot;N_BI_GENOS_SCZ_afr&quot;:&quot;2514&quot;,&quot;FREQ_HOMALT_SCZ_afr&quot;:&quot;0&quot;,&quot;FREQ_HET_BD_afr&quot;:&quot;0.0192593&quot;,&quot;AC_BD_ami&quot;:&quot;0&quot;,&quot;N_HOMREF_CTRL_sas&quot;:&quot;14&quot;,&quot;AN_CTRL_ami&quot;:&quot;34&quot;,&quot;AC_BD_afr&quot;:&quot;13&quot;,&quot;FREQ_HOMALT_ami&quot;:&quot;0&quot;,&quot;AF_OthDISEASE&quot;:&quot;0&quot;,&quot;N_HOMREF_SCZ_mid&quot;:&quot;2&quot;,&quot;N_HOMALT_CTRL_afr&quot;:&quot;0&quot;,&quot;N_BI_GENOS_BD_ami&quot;:&quot;2&quot;,&quot;FREQ_HET_ami&quot;:&quot;0.0526316&quot;,&quot;AN_CASE_nfe&quot;:&quot;8&quot;,&quot;FREQ_HOMREF_CTRL_oth&quot;:&quot;0.951952&quot;,&quot;N_HET_BD&quot;:&quot;28&quot;,&quot;N_HOMREF_CTRL_asj&quot;:&quot;193&quot;,&quot;FREQ_HET_CTRL_mid&quot;:&quot;0&quot;,&quot;N_HET_SCZ_sas&quot;:&quot;0&quot;,&quot;FREQ_HET_CTRL_amr&quot;:&quot;0.0569423&quot;,&quot;N_BI_GENOS_mid&quot;:&quot;7&quot;,&quot;N_HOMREF_CTRL_afr&quot;:&quot;4181&quot;,&quot;FREQ_HOMALT_OthDISEASE&quot;:&quot;0&quot;,&quot;N_HOMALT&quot;:&quot;0&quot;,&quot;N_HOMALT_sas&quot;:&quot;0&quot;,&quot;N_BI_GENOS_BD&quot;:&quot;1245&quot;,&quot;N_BI_GENOS_CTRL_eas&quot;:&quot;27&quot;,&quot;AN_SCZ_nfe&quot;:&quot;1558&quot;,&quot;FREQ_HET&quot;:&quot;0.0367516&quot;,&quot;FREQ_HET_amr&quot;:&quot;0.0530846&quot;,&quot;N_HET_afr&quot;:&quot;168&quot;,&quot;FREQ_HOMALT_CTRL_nfe&quot;:&quot;0&quot;,&quot;FREQ_HET_CASE_nfe&quot;:&quot;0&quot;,&quot;FREQ_HET_SCZ_asj&quot;:&quot;0.0454545&quot;,&quot;N_BI_GENOS_CTRL_nfe&quot;:&quot;4637&quot;,&quot;AF&quot;:&quot;0.018376&quot;,&quot;FREQ_HOMREF_nfe&quot;:&quot;0.97358&quot;,&quot;AF_nfe&quot;:&quot;0.01321&quot;,&quot;FREQ_HOMREF_OthDISEASE&quot;:&quot;1&quot;,&quot;AC_SCZ_afr&quot;:&quot;66&quot;,&quot;N_HET_oth&quot;:&quot;20&quot;,&quot;N_HOMREF_BD&quot;:&quot;1217&quot;,&quot;AF_BD_fin&quot;:&quot;0.010274&quot;,&quot;FREQ_HOMREF_CTRL_mid&quot;:&quot;1&quot;,&quot;N_HOMALT_eas&quot;:&quot;0&quot;,&quot;FREQ_HET_SCZ_fin&quot;:&quot;0.0290456&quot;,&quot;AF_BD_amr&quot;:&quot;0&quot;,&quot;N_HET_mid&quot;:&quot;0&quot;,&quot;N_HET_SCZ_fin&quot;:&quot;14&quot;,&quot;AN_BD_amr&quot;:&quot;18&quot;,&quot;AC_SCZ_amr&quot;:&quot;1&quot;,&quot;FREQ_HOMREF_mid&quot;:&quot;1&quot;,&quot;FREQ_HOMALT_BD_nfe&quot;:&quot;0&quot;,&quot;N_BI_GENOS_CTRL_afr&quot;:&quot;4270&quot;,&quot;FREQ_HET_CTRL_oth&quot;:&quot;0.048048&quot;,&quot;N_BI_GENOS_fin&quot;:&quot;1685&quot;,&quot;N_BI_GENOS_CTRL_amr&quot;:&quot;1282&quot;,&quot;FREQ_HOMREF_SCZ_amr&quot;:&quot;0.990291&quot;,&quot;FREQ_HOMREF_SCZ_fin&quot;:&quot;0.970954&quot;,&quot;N_HOMREF_sas&quot;:&quot;15&quot;,&quot;AC_BD_nfe&quot;:&quot;12&quot;,&quot;FREQ_HOMREF_BD_ami&quot;:&quot;1&quot;,&quot;FREQ_HET_SCZ&quot;:&quot;0.0316085&quot;,&quot;AF_SCZ_oth&quot;:&quot;0.1&quot;,&quot;AN_CTRL_fin&quot;:&quot;2114&quot;,&quot;FREQ_HOMREF_CTRL&quot;:&quot;0.965043&quot;,&quot;AC_CTRL_fin&quot;:&quot;122&quot;,&quot;NCR&quot;:&quot;0.280109&quot;,&quot;FREQ_HOMREF_SCZ_mid&quot;:&quot;1&quot;,&quot;N_HET_sas&quot;:&quot;0&quot;,&quot;N_HOMREF_oth&quot;:&quot;336&quot;,&quot;AN_CTRL_sas&quot;:&quot;28&quot;,&quot;AF_oth&quot;:&quot;0.02809&quot;,&quot;FREQ_HOMREF_CTRL_amr&quot;:&quot;0.943058&quot;,&quot;N_HOMREF_SCZ_asj&quot;:&quot;21&quot;,&quot;AN_amr&quot;:&quot;2788&quot;,&quot;FREQ_HOMALT_oth&quot;:&quot;0&quot;,&quot;FREQ_HOMALT_BD_fin&quot;:&quot;0&quot;,&quot;FREQ_HOMREF_SCZ_nfe&quot;:&quot;0.951219&quot;,&quot;AN_BD_asj&quot;:&quot;2&quot;,&quot;N_HOMREF_fin&quot;:&quot;1546&quot;,&quot;N_HOMALT_BD_ami&quot;:&quot;0&quot;,&quot;CHR2&quot;:&quot;chr1&quot;,&quot;N_HOMREF_CASE&quot;:&quot;5020&quot;,&quot;POPMAX_AF&quot;:&quot;0.1&quot;,&quot;FREQ_HET_CASE&quot;:&quot;0.029389&quot;,&quot;AN_BD_nfe&quot;:&quot;818&quot;,&quot;FREQ_HOMALT_BD_asj&quot;:&quot;0&quot;,&quot;AF_BD_nfe&quot;:&quot;0.01467&quot;,&quot;AN_SCZ_amr&quot;:&quot;206&quot;,&quot;N_HOMALT_amr&quot;:&quot;0&quot;,&quot;AF_BD&quot;:&quot;0.011245&quot;,&quot;N_HET_asj&quot;:&quot;9&quot;,&quot;N_BI_GENOS_CTRL_oth&quot;:&quot;333&quot;,&quot;FREQ_HOMALT_amr&quot;:&quot;0&quot;,&quot;FREQ_HOMREF_CTRL_fin&quot;:&quot;0.884579&quot;,&quot;N_HOMALT_CTRL_sas&quot;:&quot;0&quot;,&quot;N_HOMREF_eas&quot;:&quot;26&quot;,&quot;AN_SCZ_mid&quot;:&quot;4&quot;,&quot;N_HOMALT_afr&quot;:&quot;0&quot;,&quot;AC_CTRL_amr&quot;:&quot;73&quot;,&quot;FREQ_HOMALT_CTRL&quot;:&quot;0&quot;,&quot;N_HOMALT_OthDISEASE&quot;:&quot;0&quot;,&quot;FREQ_HOMALT&quot;:&quot;0&quot;,&quot;FREQ_HOMALT_BD_oth&quot;:&quot;0&quot;,&quot;FREQ_HOMREF_CTRL_sas&quot;:&quot;1&quot;,&quot;N_HET_CTRL_eas&quot;:&quot;1&quot;,&quot;FREQ_HOMREF_CASE_nfe&quot;:&quot;1&quot;,&quot;AN_BD&quot;:&quot;2490&quot;,&quot;AF_fin&quot;:&quot;0.041246&quot;,&quot;N_HOMREF_CTRL&quot;:&quot;11429&quot;,&quot;N_HET_BD_nfe&quot;:&quot;12&quot;,&quot;SVLEN&quot;:&quot;170329&quot;,&quot;AC_mid&quot;:&quot;0&quot;,&quot;AN_SCZ_sas&quot;:&quot;2&quot;,&quot;AF_amr&quot;:&quot;0.026542&quot;,&quot;AF_CTRL_mid&quot;:&quot;0&quot;,&quot;AF_SCZ_asj&quot;:&quot;0.022727&quot;,&quot;AC_CTRL_afr&quot;:&quot;89&quot;,&quot;N_HOMREF_BD_asj&quot;:&quot;1&quot;,&quot;FREQ_HOMALT_SCZ&quot;:&quot;0&quot;,&quot;N_HOMREF_CTRL_fin&quot;:&quot;935&quot;,&quot;N_BI_GENOS_SCZ_oth&quot;:&quot;20&quot;,&quot;N_HET_ami&quot;:&quot;1&quot;,&quot;AC_SCZ&quot;:&quot;124&quot;,&quot;N_HET_CASE&quot;:&quot;152&quot;,&quot;FREQ_HOMALT_SCZ_mid&quot;:&quot;0&quot;,&quot;N_HOMREF_CTRL_ami&quot;:&quot;16&quot;,&quot;N_BI_GENOS_BD_amr&quot;:&quot;9&quot;,&quot;FREQ_HOMALT_BD_amr&quot;:&quot;0&quot;,&quot;N_HOMREF_SCZ_amr&quot;:&quot;102&quot;,&quot;N_HOMREF_BD_oth&quot;:&quot;3&quot;,&quot;N_HOMALT_SCZ_sas&quot;:&quot;0&quot;,&quot;FREQ_HOMREF_SCZ_sas&quot;:&quot;1&quot;,&quot;PREDICTED_NEAREST_TSS&quot;:&quot;OR4F5&quot;,&quot;AC_SCZ_mid&quot;:&quot;0&quot;,&quot;FREQ_HOMALT_CTRL_asj&quot;:&quot;0&quot;,&quot;N_HET_CTRL_fin&quot;:&quot;122&quot;,&quot;N_HOMALT_CTRL_nfe&quot;:&quot;0&quot;,&quot;N_HOMREF_BD_afr&quot;:&quot;662&quot;,&quot;N_HOMREF_SCZ&quot;:&quot;3799&quot;,&quot;FREQ_HOMREF_SCZ&quot;:&quot;0.968392&quot;,&quot;AF_afr&quot;:&quot;0.011262&quot;,&quot;AN_BD_fin&quot;:&quot;292&quot;,&quot;AN_mid&quot;:&quot;14&quot;,&quot;AF_mid&quot;:&quot;0&quot;,&quot;AN_ami&quot;:&quot;38&quot;,&quot;AF_CASE&quot;:&quot;0.014695&quot;,&quot;FREQ_HOMALT_eas&quot;:&quot;0&quot;,&quot;AC_SCZ_nfe&quot;:&quot;38&quot;,&quot;AC_CTRL_ami&quot;:&quot;1&quot;,&quot;FREQ_HOMALT_nfe&quot;:&quot;0&quot;,&quot;N_HET_OthDISEASE&quot;:&quot;0&quot;,&quot;N_HET_CTRL_ami&quot;:&quot;1&quot;,&quot;AN_CTRL_oth&quot;:&quot;666&quot;,&quot;N_HET_nfe&quot;:&quot;154&quot;,&quot;AN_SCZ_asj&quot;:&quot;44&quot;,&quot;N_HOMALT_CTRL_eas&quot;:&quot;0&quot;,&quot;AF_CTRL_sas&quot;:&quot;0&quot;,&quot;FREQ_HET_sas&quot;:&quot;0&quot;,&quot;AN_CTRL_amr&quot;:&quot;2564&quot;,&quot;N_BI_GENOS_CASE&quot;:&quot;5172&quot;,&quot;FREQ_HET_CTRL_fin&quot;:&quot;0.115421&quot;,&quot;N_HOMALT_BD_oth&quot;:&quot;0&quot;,&quot;FREQ_HET_BD_ami&quot;:&quot;0&quot;,&quot;AC_BD&quot;:&quot;28&quot;,&quot;N_BI_GENOS_BD_afr&quot;:&quot;675&quot;,&quot;N_HOMREF_BD_fin&quot;:&quot;143&quot;,&quot;N_HET_CTRL_asj&quot;:&quot;8&quot;,&quot;FREQ_HOMALT_SCZ_nfe&quot;:&quot;0&quot;,&quot;ALGORITHMS&quot;:&quot;manta&quot;,&quot;N_HOMREF_amr&quot;:&quot;1320&quot;,&quot;FREQ_HET_eas&quot;:&quot;0.037037&quot;,&quot;N_HET_SCZ_mid&quot;:&quot;0&quot;,&quot;N_HOMREF_ami&quot;:&quot;18&quot;,&quot;AN_CASE&quot;:&quot;10344&quot;,&quot;FREQ_HET_nfe&quot;:&quot;0.0264196&quot;,&quot;N_HOMALT_asj&quot;:&quot;0&quot;,&quot;N_HOMALT_SCZ_asj&quot;:&quot;0&quot;,&quot;N_BI_GENOS_CTRL&quot;:&quot;11843&quot;,&quot;AN_CTRL_afr&quot;:&quot;8540&quot;,&quot;FREQ_HOMALT_CTRL_amr&quot;:&quot;0&quot;,&quot;AC_CTRL_eas&quot;:&quot;1&quot;,&quot;FREQ_HET_afr&quot;:&quot;0.0225231&quot;,&quot;FREQ_HOMREF_CTRL_asj&quot;:&quot;0.960199&quot;,&quot;FREQ_HOMALT_BD_afr&quot;:&quot;0&quot;,&quot;N_BI_GENOS_BD_nfe&quot;:&quot;409&quot;,&quot;AN_asj&quot;:&quot;448&quot;,&quot;N_HOMREF_afr&quot;:&quot;7291&quot;,&quot;AF_sas&quot;:&quot;0&quot;,&quot;N_HET_BD_oth&quot;:&quot;0&quot;,&quot;N_HOMALT_SCZ_amr&quot;:&quot;0&quot;,&quot;FREQ_HOMREF_BD&quot;:&quot;0.97751&quot;,&quot;N_HET_CTRL_sas&quot;:&quot;0&quot;,&quot;FREQ_HOMREF_CTRL_eas&quot;:&quot;0.962963&quot;,&quot;N_BI_GENOS_SCZ&quot;:&quot;3923&quot;,&quot;N_HOMREF_BD_nfe&quot;:&quot;397&quot;,&quot;FREQ_HOMREF_BD_fin&quot;:&quot;0.979452&quot;,&quot;FREQ_HET_fin&quot;:&quot;0.0824926&quot;,&quot;AC_nfe&quot;:&quot;154&quot;,&quot;AC_CTRL_mid&quot;:&quot;0&quot;,&quot;N_HOMREF_SCZ_sas&quot;:&quot;1&quot;,&quot;FREQ_HOMALT_mid&quot;:&quot;0&quot;,&quot;N_BI_GENOS_oth&quot;:&quot;356&quot;,&quot;N_HOMREF_CTRL_amr&quot;:&quot;1209&quot;,&quot;N_HET_SCZ_oth&quot;:&quot;4&quot;,&quot;N_HOMALT_ami&quot;:&quot;0&quot;,&quot;END&quot;:&quot;10590&quot;,&quot;AF_CTRL_eas&quot;:&quot;0.018519&quot;,&quot;N_BI_GENOS_CTRL_ami&quot;:&quot;17&quot;,&quot;PCRMINUS_NCR&quot;:&quot;0.280096&quot;,&quot;N_BI_GENOS_SCZ_amr&quot;:&quot;103&quot;,&quot;N_HET_CTRL_mid&quot;:&quot;0&quot;,&quot;AN_sas&quot;:&quot;30&quot;,&quot;FREQ_HOMALT_fin&quot;:&quot;0&quot;,&quot;FREQ_HOMREF_fin&quot;:&quot;0.917507&quot;,&quot;FREQ_HET_BD_nfe&quot;:&quot;0.0293399&quot;,&quot;AN_SCZ_fin&quot;:&quot;964&quot;,&quot;FREQ_HET_asj&quot;:&quot;0.0401786&quot;,&quot;AF_CTRL_asj&quot;:&quot;0.0199&quot;,&quot;AN_afr&quot;:&quot;14918&quot;,&quot;PCRPLUS_NCR&quot;:&quot;0.280257&quot;,&quot;FREQ_HOMALT_CTRL_oth&quot;:&quot;0&quot;,&quot;N_HOMALT_mid&quot;:&quot;0&quot;,&quot;FREQ_HET_CTRL_nfe&quot;:&quot;0.0224283&quot;,&quot;N_HET_SCZ_afr&quot;:&quot;66&quot;,&quot;AF_CTRL_afr&quot;:&quot;0.010422&quot;,&quot;N_HET_CASE_nfe&quot;:&quot;0&quot;,&quot;AN_SCZ_oth&quot;:&quot;40&quot;,&quot;N_HOMREF&quot;:&quot;43377&quot;,&quot;FREQ_HOMREF_amr&quot;:&quot;0.946915&quot;,&quot;N_HOMALT_CTRL_mid&quot;:&quot;0&quot;,&quot;FREQ_HOMREF_eas&quot;:&quot;0.962963&quot;,&quot;N_HOMREF_SCZ_afr&quot;:&quot;2448&quot;,&quot;N_HOMALT_BD&quot;:&quot;0&quot;,&quot;N_BI_GENOS_BD_fin&quot;:&quot;146&quot;,&quot;FREQ_HOMALT_sas&quot;:&quot;0&quot;,&quot;FREQ_HET_CTRL_ami&quot;:&quot;0.0588235&quot;,&quot;EVIDENCE&quot;:&quot;SR&quot;,&quot;AN_nfe&quot;:&quot;11658&quot;,&quot;FREQ_HOMREF_BD_amr&quot;:&quot;1&quot;,&quot;AF_CTRL&quot;:&quot;0.017479&quot;,&quot;FREQ_HOMALT_CASE&quot;:&quot;0&quot;,&quot;N_HOMREF_BD_amr&quot;:&quot;9&quot;,&quot;N_HOMALT_BD_fin&quot;:&quot;0&quot;,&quot;FREQ_HOMALT_CTRL_eas&quot;:&quot;0&quot;,&quot;AF_CTRL_amr&quot;:&quot;0.028471&quot;,&quot;FREQ_HOMALT_CTRL_afr&quot;:&quot;0&quot;,&quot;FREQ_HOMREF_BD_asj&quot;:&quot;1&quot;,&quot;N_HET_SCZ_asj&quot;:&quot;1&quot;,&quot;FREQ_HOMALT_CTRL_sas&quot;:&quot;0&quot;,&quot;AF_BD_afr&quot;:&quot;0.00963&quot;,&quot;N_HOMALT_CTRL_asj&quot;:&quot;0&quot;,&quot;FREQ_HOMREF_SCZ_oth&quot;:&quot;0.8&quot;,&quot;AC_sas&quot;:&quot;0&quot;,&quot;N_BI_GENOS_SCZ_sas&quot;:&quot;1&quot;,&quot;FREQ_HOMALT_SCZ_asj&quot;:&quot;0&quot;,&quot;AC_asj&quot;:&quot;9&quot;,&quot;BOTHSIDES_SUPPORT&quot;:&quot;&quot;,&quot;FREQ_HOMALT_SCZ_sas&quot;:&quot;0&quot;,&quot;AF_eas&quot;:&quot;0.018519&quot;,&quot;AC_oth&quot;:&quot;20&quot;,&quot;FREQ_HET_BD_fin&quot;:&quot;0.0205479&quot;,&quot;FREQ_HOMALT_BD_ami&quot;:&quot;0&quot;,&quot;AC_SCZ_oth&quot;:&quot;4&quot;,&quot;N_HOMALT_BD_nfe&quot;:&quot;0&quot;,&quot;AC_CTRL_oth&quot;:&quot;16&quot;,&quot;AC_SCZ_sas&quot;:&quot;0&quot;,&quot;AC_OthDISEASE&quot;:&quot;0&quot;,&quot;AC_CASE&quot;:&quot;152&quot;,&quot;AC_fin&quot;:&quot;139&quot;,&quot;FREQ_HOMALT_SCZ_fin&quot;:&quot;0&quot;,&quot;N_BI_GENOS_SCZ_mid&quot;:&quot;2&quot;,&quot;N_BI_GENOS_nfe&quot;:&quot;5829&quot;,&quot;FREQ_HOMREF_SCZ_asj&quot;:&quot;0.954545&quot;,&quot;AC_SCZ_asj&quot;:&quot;1&quot;,&quot;N_BI_GENOS_afr&quot;:&quot;7459&quot;,&quot;FREQ_HET_BD_asj&quot;:&quot;0&quot;,&quot;FREQ_HET_OthDISEASE&quot;:&quot;0&quot;,&quot;AF_CTRL_nfe&quot;:&quot;0.011214&quot;,&quot;SVTYPE&quot;:&quot;BND&quot;,&quot;FREQ_HET_mid&quot;:&quot;0&quot;,&quot;AF_CTRL_ami&quot;:&quot;0.029412&quot;,&quot;AC_CTRL_nfe&quot;:&quot;104&quot;,&quot;AN_BD_afr&quot;:&quot;1350&quot;,&quot;AN_CTRL&quot;:&quot;23686&quot;,&quot;N_HOMALT_CTRL_amr&quot;:&quot;0&quot;,&quot;FREQ_HOMREF_asj&quot;:&quot;0.959821&quot;,&quot;FREQ_HOMREF&quot;:&quot;0.963248&quot;,&quot;N_BI_GENOS_BD_oth&quot;:&quot;3&quot;,&quot;N_HET_CTRL_amr&quot;:&quot;73&quot;,&quot;N_HOMALT_nfe&quot;:&quot;0&quot;,&quot;N_HOMALT_CTRL_oth&quot;:&quot;0&quot;,&quot;N_HOMREF_CTRL_eas&quot;:&quot;26&quot;,&quot;N_HET_SCZ&quot;:&quot;124&quot;,&quot;FREQ_HET_SCZ_afr&quot;:&quot;0.026253&quot;,&quot;N_BI_GENOS_SCZ_asj&quot;:&quot;22&quot;,&quot;FREQ_HET_SCZ_sas&quot;:&quot;0&quot;,&quot;N_BI_GENOS_OthDISEASE&quot;:&quot;4&quot;,&quot;N_HOMALT_SCZ_fin&quot;:&quot;0&quot;,&quot;N_HOMALT_SCZ_nfe&quot;:&quot;0&quot;,&quot;AN_OthDISEASE&quot;:&quot;8&quot;,&quot;AF_SCZ_nfe&quot;:&quot;0.02439&quot;,&quot;FREQ_HET_BD_amr&quot;:&quot;0&quot;,&quot;FREQ_HOMALT_BD&quot;:&quot;0&quot;,&quot;FREQ_HOMALT_SCZ_oth&quot;:&quot;0&quot;}</td><td style=\"white-space: nowrap; max-width: 500px; overflow: hidden; text-overflow: ellipsis; \">[&quot;AC&quot;,&quot;AC_BD&quot;,&quot;AC_BD_afr&quot;,&quot;AC_BD_ami&quot;,&quot;AC_BD_amr&quot;,&quot;AC_BD_asj&quot;,&quot;AC_BD_fin&quot;,&quot;AC_BD_nfe&quot;,&quot;AC_BD_oth&quot;,&quot;AC_CASE&quot;,&quot;AC_CASE_nfe&quot;,&quot;AC_CTRL&quot;,&quot;AC_CTRL_afr&quot;,&quot;AC_CTRL_ami&quot;,&quot;AC_CTRL_amr&quot;,&quot;AC_CTRL_asj&quot;,&quot;AC_CTRL_eas&quot;,&quot;AC_CTRL_fin&quot;,&quot;AC_CTRL_mid&quot;,&quot;AC_CTRL_nfe&quot;,&quot;AC_CTRL_oth&quot;,&quot;AC_CTRL_sas&quot;,&quot;AC_OthDISEASE&quot;,&quot;AC_SCZ&quot;,&quot;AC_SCZ_afr&quot;,&quot;AC_SCZ_amr&quot;,&quot;AC_SCZ_asj&quot;,&quot;AC_SCZ_fin&quot;,&quot;AC_SCZ_mid&quot;,&quot;AC_SCZ_nfe&quot;,&quot;AC_SCZ_oth&quot;,&quot;AC_SCZ_sas&quot;,&quot;AC_afr&quot;,&quot;AC_ami&quot;,&quot;AC_amr&quot;,&quot;AC_asj&quot;,&quot;AC_eas&quot;,&quot;AC_fin&quot;,&quot;AC_mid&quot;,&quot;AC_nfe&quot;,&quot;AC_oth&quot;,&quot;AC_sas&quot;,&quot;AF&quot;,&quot;AF_BD&quot;,&quot;AF_BD_afr&quot;,&quot;AF_BD_ami&quot;,&quot;AF_BD_amr&quot;,&quot;AF_BD_asj&quot;,&quot;AF_BD_fin&quot;,&quot;AF_BD_nfe&quot;,&quot;AF_BD_oth&quot;,&quot;AF_CASE&quot;,&quot;AF_CASE_nfe&quot;,&quot;AF_CTRL&quot;,&quot;AF_CTRL_afr&quot;,&quot;AF_CTRL_ami&quot;,&quot;AF_CTRL_amr&quot;,&quot;AF_CTRL_asj&quot;,&quot;AF_CTRL_eas&quot;,&quot;AF_CTRL_fin&quot;,&quot;AF_CTRL_mid&quot;,&quot;AF_CTRL_nfe&quot;,&quot;AF_CTRL_oth&quot;,&quot;AF_CTRL_sas&quot;,&quot;AF_OthDISEASE&quot;,&quot;AF_SCZ&quot;,&quot;AF_SCZ_afr&quot;,&quot;AF_SCZ_amr&quot;,&quot;AF_SCZ_asj&quot;,&quot;AF_SCZ_fin&quot;,&quot;AF_SCZ_mid&quot;,&quot;AF_SCZ_nfe&quot;,&quot;AF_SCZ_oth&quot;,&quot;AF_SCZ_sas&quot;,&quot;AF_afr&quot;,&quot;AF_ami&quot;,&quot;AF_amr&quot;,&quot;AF_asj&quot;,&quot;AF_eas&quot;,&quot;AF_fin&quot;,&quot;AF_mid&quot;,&quot;AF_nfe&quot;,&quot;AF_oth&quot;,&quot;AF_sas&quot;,&quot;ALGORITHMS&quot;,&quot;AN&quot;,&quot;AN_BD&quot;,&quot;AN_BD_afr&quot;,&quot;AN_BD_ami&quot;,&quot;AN_BD_amr&quot;,&quot;AN_BD_asj&quot;,&quot;AN_BD_fin&quot;,&quot;AN_BD_nfe&quot;,&quot;AN_BD_oth&quot;,&quot;AN_CASE&quot;,&quot;AN_CASE_nfe&quot;,&quot;AN_CTRL&quot;,&quot;AN_CTRL_afr&quot;,&quot;AN_CTRL_ami&quot;,&quot;AN_CTRL_amr&quot;,&quot;AN_CTRL_asj&quot;,&quot;AN_CTRL_eas&quot;,&quot;AN_CTRL_fin&quot;,&quot;AN_CTRL_mid&quot;,&quot;AN_CTRL_nfe&quot;,&quot;AN_CTRL_oth&quot;,&quot;AN_CTRL_sas&quot;,&quot;AN_OthDISEASE&quot;,&quot;AN_SCZ&quot;,&quot;AN_SCZ_afr&quot;,&quot;AN_SCZ_amr&quot;,&quot;AN_SCZ_asj&quot;,&quot;AN_SCZ_fin&quot;,&quot;AN_SCZ_mid&quot;,&quot;AN_SCZ_nfe&quot;,&quot;AN_SCZ_oth&quot;,&quot;AN_SCZ_sas&quot;,&quot;AN_afr&quot;,&quot;AN_ami&quot;,&quot;AN_amr&quot;,&quot;AN_asj&quot;,&quot;AN_eas&quot;,&quot;AN_fin&quot;,&quot;AN_mid&quot;,&quot;AN_nfe&quot;,&quot;AN_oth&quot;,&quot;AN_sas&quot;,&quot;BOTHSIDES_SUPPORT&quot;,&quot;CHR2&quot;,&quot;END&quot;,&quot;EVIDENCE&quot;,&quot;FREQ_HET&quot;,&quot;FREQ_HET_BD&quot;,&quot;FREQ_HET_BD_afr&quot;,&quot;FREQ_HET_BD_ami&quot;,&quot;FREQ_HET_BD_amr&quot;,&quot;FREQ_HET_BD_asj&quot;,&quot;FREQ_HET_BD_fin&quot;,&quot;FREQ_HET_BD_nfe&quot;,&quot;FREQ_HET_BD_oth&quot;,&quot;FREQ_HET_CASE&quot;,&quot;FREQ_HET_CASE_nfe&quot;,&quot;FREQ_HET_CTRL&quot;,&quot;FREQ_HET_CTRL_afr&quot;,&quot;FREQ_HET_CTRL_ami&quot;,&quot;FREQ_HET_CTRL_amr&quot;,&quot;FREQ_HET_CTRL_asj&quot;,&quot;FREQ_HET_CTRL_eas&quot;,&quot;FREQ_HET_CTRL_fin&quot;,&quot;FREQ_HET_CTRL_mid&quot;,&quot;FREQ_HET_CTRL_nfe&quot;,&quot;FREQ_HET_CTRL_oth&quot;,&quot;FREQ_HET_CTRL_sas&quot;,&quot;FREQ_HET_OthDISEASE&quot;,&quot;FREQ_HET_SCZ&quot;,&quot;FREQ_HET_SCZ_afr&quot;,&quot;FREQ_HET_SCZ_amr&quot;,&quot;FREQ_HET_SCZ_asj&quot;,&quot;FREQ_HET_SCZ_fin&quot;,&quot;FREQ_HET_SCZ_mid&quot;,&quot;FREQ_HET_SCZ_nfe&quot;,&quot;FREQ_HET_SCZ_oth&quot;,&quot;FREQ_HET_SCZ_sas&quot;,&quot;FREQ_HET_afr&quot;,&quot;FREQ_HET_ami&quot;,&quot;FREQ_HET_amr&quot;,&quot;FREQ_HET_asj&quot;,&quot;FREQ_HET_eas&quot;,&quot;FREQ_HET_fin&quot;,&quot;FREQ_HET_mid&quot;,&quot;FREQ_HET_nfe&quot;,&quot;FREQ_HET_oth&quot;,&quot;FREQ_HET_sas&quot;,&quot;FREQ_HOMALT&quot;,&quot;FREQ_HOMALT_BD&quot;,&quot;FREQ_HOMALT_BD_afr&quot;,&quot;FREQ_HOMALT_BD_ami&quot;,&quot;FREQ_HOMALT_BD_amr&quot;,&quot;FREQ_HOMALT_BD_asj&quot;,&quot;FREQ_HOMALT_BD_fin&quot;,&quot;FREQ_HOMALT_BD_nfe&quot;,&quot;FREQ_HOMALT_BD_oth&quot;,&quot;FREQ_HOMALT_CASE&quot;,&quot;FREQ_HOMALT_CASE_nfe&quot;,&quot;FREQ_HOMALT_CTRL&quot;,&quot;FREQ_HOMALT_CTRL_afr&quot;,&quot;FREQ_HOMALT_CTRL_ami&quot;,&quot;FREQ_HOMALT_CTRL_amr&quot;,&quot;FREQ_HOMALT_CTRL_asj&quot;,&quot;FREQ_HOMALT_CTRL_eas&quot;,&quot;FREQ_HOMALT_CTRL_fin&quot;,&quot;FREQ_HOMALT_CTRL_mid&quot;,&quot;FREQ_HOMALT_CTRL_nfe&quot;,&quot;FREQ_HOMALT_CTRL_oth&quot;,&quot;FREQ_HOMALT_CTRL_sas&quot;,&quot;FREQ_HOMALT_OthDISEASE&quot;,&quot;FREQ_HOMALT_SCZ&quot;,&quot;FREQ_HOMALT_SCZ_afr&quot;,&quot;FREQ_HOMALT_SCZ_amr&quot;,&quot;FREQ_HOMALT_SCZ_asj&quot;,&quot;FREQ_HOMALT_SCZ_fin&quot;,&quot;FREQ_HOMALT_SCZ_mid&quot;,&quot;FREQ_HOMALT_SCZ_nfe&quot;,&quot;FREQ_HOMALT_SCZ_oth&quot;,&quot;FREQ_HOMALT_SCZ_sas&quot;,&quot;FREQ_HOMALT_afr&quot;,&quot;FREQ_HOMALT_ami&quot;,&quot;FREQ_HOMALT_amr&quot;,&quot;FREQ_HOMALT_asj&quot;,&quot;FREQ_HOMALT_eas&quot;,&quot;FREQ_HOMALT_fin&quot;,&quot;FREQ_HOMALT_mid&quot;,&quot;FREQ_HOMALT_nfe&quot;,&quot;FREQ_HOMALT_oth&quot;,&quot;FREQ_HOMALT_sas&quot;,&quot;FREQ_HOMREF&quot;,&quot;FREQ_HOMREF_BD&quot;,&quot;FREQ_HOMREF_BD_afr&quot;,&quot;FREQ_HOMREF_BD_ami&quot;,&quot;FREQ_HOMREF_BD_amr&quot;,&quot;FREQ_HOMREF_BD_asj&quot;,&quot;FREQ_HOMREF_BD_fin&quot;,&quot;FREQ_HOMREF_BD_nfe&quot;,&quot;FREQ_HOMREF_BD_oth&quot;,&quot;FREQ_HOMREF_CASE&quot;,&quot;FREQ_HOMREF_CASE_nfe&quot;,&quot;FREQ_HOMREF_CTRL&quot;,&quot;FREQ_HOMREF_CTRL_afr&quot;,&quot;FREQ_HOMREF_CTRL_ami&quot;,&quot;FREQ_HOMREF_CTRL_amr&quot;,&quot;FREQ_HOMREF_CTRL_asj&quot;,&quot;FREQ_HOMREF_CTRL_eas&quot;,&quot;FREQ_HOMREF_CTRL_fin&quot;,&quot;FREQ_HOMREF_CTRL_mid&quot;,&quot;FREQ_HOMREF_CTRL_nfe&quot;,&quot;FREQ_HOMREF_CTRL_oth&quot;,&quot;FREQ_HOMREF_CTRL_sas&quot;,&quot;FREQ_HOMREF_OthDISEASE&quot;,&quot;FREQ_HOMREF_SCZ&quot;,&quot;FREQ_HOMREF_SCZ_afr&quot;,&quot;FREQ_HOMREF_SCZ_amr&quot;,&quot;FREQ_HOMREF_SCZ_asj&quot;,&quot;FREQ_HOMREF_SCZ_fin&quot;,&quot;FREQ_HOMREF_SCZ_mid&quot;,&quot;FREQ_HOMREF_SCZ_nfe&quot;,&quot;FREQ_HOMREF_SCZ_oth&quot;,&quot;FREQ_HOMREF_SCZ_sas&quot;,&quot;FREQ_HOMREF_afr&quot;,&quot;FREQ_HOMREF_ami&quot;,&quot;FREQ_HOMREF_amr&quot;,&quot;FREQ_HOMREF_asj&quot;,&quot;FREQ_HOMREF_eas&quot;,&quot;FREQ_HOMREF_fin&quot;,&quot;FREQ_HOMREF_mid&quot;,&quot;FREQ_HOMREF_nfe&quot;,&quot;FREQ_HOMREF_oth&quot;,&quot;FREQ_HOMREF_sas&quot;,&quot;NCR&quot;,&quot;N_BI_GENOS&quot;,&quot;N_BI_GENOS_BD&quot;,&quot;N_BI_GENOS_BD_afr&quot;,&quot;N_BI_GENOS_BD_ami&quot;,&quot;N_BI_GENOS_BD_amr&quot;,&quot;N_BI_GENOS_BD_asj&quot;,&quot;N_BI_GENOS_BD_fin&quot;,&quot;N_BI_GENOS_BD_nfe&quot;,&quot;N_BI_GENOS_BD_oth&quot;,&quot;N_BI_GENOS_CASE&quot;,&quot;N_BI_GENOS_CASE_nfe&quot;,&quot;N_BI_GENOS_CTRL&quot;,&quot;N_BI_GENOS_CTRL_afr&quot;,&quot;N_BI_GENOS_CTRL_ami&quot;,&quot;N_BI_GENOS_CTRL_amr&quot;,&quot;N_BI_GENOS_CTRL_asj&quot;,&quot;N_BI_GENOS_CTRL_eas&quot;,&quot;N_BI_GENOS_CTRL_fin&quot;,&quot;N_BI_GENOS_CTRL_mid&quot;,&quot;N_BI_GENOS_CTRL_nfe&quot;,&quot;N_BI_GENOS_CTRL_oth&quot;,&quot;N_BI_GENOS_CTRL_sas&quot;,&quot;N_BI_GENOS_OthDISEASE&quot;,&quot;N_BI_GENOS_SCZ&quot;,&quot;N_BI_GENOS_SCZ_afr&quot;,&quot;N_BI_GENOS_SCZ_amr&quot;,&quot;N_BI_GENOS_SCZ_asj&quot;,&quot;N_BI_GENOS_SCZ_fin&quot;,&quot;N_BI_GENOS_SCZ_mid&quot;,&quot;N_BI_GENOS_SCZ_nfe&quot;,&quot;N_BI_GENOS_SCZ_oth&quot;,&quot;N_BI_GENOS_SCZ_sas&quot;,&quot;N_BI_GENOS_afr&quot;,&quot;N_BI_GENOS_ami&quot;,&quot;N_BI_GENOS_amr&quot;,&quot;N_BI_GENOS_asj&quot;,&quot;N_BI_GENOS_eas&quot;,&quot;N_BI_GENOS_fin&quot;,&quot;N_BI_GENOS_mid&quot;,&quot;N_BI_GENOS_nfe&quot;,&quot;N_BI_GENOS_oth&quot;,&quot;N_BI_GENOS_sas&quot;,&quot;N_HET&quot;,&quot;N_HET_BD&quot;,&quot;N_HET_BD_afr&quot;,&quot;N_HET_BD_ami&quot;,&quot;N_HET_BD_amr&quot;,&quot;N_HET_BD_asj&quot;,&quot;N_HET_BD_fin&quot;,&quot;N_HET_BD_nfe&quot;,&quot;N_HET_BD_oth&quot;,&quot;N_HET_CASE&quot;,&quot;N_HET_CASE_nfe&quot;,&quot;N_HET_CTRL&quot;,&quot;N_HET_CTRL_afr&quot;,&quot;N_HET_CTRL_ami&quot;,&quot;N_HET_CTRL_amr&quot;,&quot;N_HET_CTRL_asj&quot;,&quot;N_HET_CTRL_eas&quot;,&quot;N_HET_CTRL_fin&quot;,&quot;N_HET_CTRL_mid&quot;,&quot;N_HET_CTRL_nfe&quot;,&quot;N_HET_CTRL_oth&quot;,&quot;N_HET_CTRL_sas&quot;,&quot;N_HET_OthDISEASE&quot;,&quot;N_HET_SCZ&quot;,&quot;N_HET_SCZ_afr&quot;,&quot;N_HET_SCZ_amr&quot;,&quot;N_HET_SCZ_asj&quot;,&quot;N_HET_SCZ_fin&quot;,&quot;N_HET_SCZ_mid&quot;,&quot;N_HET_SCZ_nfe&quot;,&quot;N_HET_SCZ_oth&quot;,&quot;N_HET_SCZ_sas&quot;,&quot;N_HET_afr&quot;,&quot;N_HET_ami&quot;,&quot;N_HET_amr&quot;,&quot;N_HET_asj&quot;,&quot;N_HET_eas&quot;,&quot;N_HET_fin&quot;,&quot;N_HET_mid&quot;,&quot;N_HET_nfe&quot;,&quot;N_HET_oth&quot;,&quot;N_HET_sas&quot;,&quot;N_HOMALT&quot;,&quot;N_HOMALT_BD&quot;,&quot;N_HOMALT_BD_afr&quot;,&quot;N_HOMALT_BD_ami&quot;,&quot;N_HOMALT_BD_amr&quot;,&quot;N_HOMALT_BD_asj&quot;,&quot;N_HOMALT_BD_fin&quot;,&quot;N_HOMALT_BD_nfe&quot;,&quot;N_HOMALT_BD_oth&quot;,&quot;N_HOMALT_CASE&quot;,&quot;N_HOMALT_CASE_nfe&quot;,&quot;N_HOMALT_CTRL&quot;,&quot;N_HOMALT_CTRL_afr&quot;,&quot;N_HOMALT_CTRL_ami&quot;,&quot;N_HOMALT_CTRL_amr&quot;,&quot;N_HOMALT_CTRL_asj&quot;,&quot;N_HOMALT_CTRL_eas&quot;,&quot;N_HOMALT_CTRL_fin&quot;,&quot;N_HOMALT_CTRL_mid&quot;,&quot;N_HOMALT_CTRL_nfe&quot;,&quot;N_HOMALT_CTRL_oth&quot;,&quot;N_HOMALT_CTRL_sas&quot;,&quot;N_HOMALT_OthDISEASE&quot;,&quot;N_HOMALT_SCZ&quot;,&quot;N_HOMALT_SCZ_afr&quot;,&quot;N_HOMALT_SCZ_amr&quot;,&quot;N_HOMALT_SCZ_asj&quot;,&quot;N_HOMALT_SCZ_fin&quot;,&quot;N_HOMALT_SCZ_mid&quot;,&quot;N_HOMALT_SCZ_nfe&quot;,&quot;N_HOMALT_SCZ_oth&quot;,&quot;N_HOMALT_SCZ_sas&quot;,&quot;N_HOMALT_afr&quot;,&quot;N_HOMALT_ami&quot;,&quot;N_HOMALT_amr&quot;,&quot;N_HOMALT_asj&quot;,&quot;N_HOMALT_eas&quot;,&quot;N_HOMALT_fin&quot;,&quot;N_HOMALT_mid&quot;,&quot;N_HOMALT_nfe&quot;,&quot;N_HOMALT_oth&quot;,&quot;N_HOMALT_sas&quot;,&quot;N_HOMREF&quot;,&quot;N_HOMREF_BD&quot;,&quot;N_HOMREF_BD_afr&quot;,&quot;N_HOMREF_BD_ami&quot;,&quot;N_HOMREF_BD_amr&quot;,&quot;N_HOMREF_BD_asj&quot;,&quot;N_HOMREF_BD_fin&quot;,&quot;N_HOMREF_BD_nfe&quot;,&quot;N_HOMREF_BD_oth&quot;,&quot;N_HOMREF_CASE&quot;,&quot;N_HOMREF_CASE_nfe&quot;,&quot;N_HOMREF_CTRL&quot;,&quot;N_HOMREF_CTRL_afr&quot;,&quot;N_HOMREF_CTRL_ami&quot;,&quot;N_HOMREF_CTRL_amr&quot;,&quot;N_HOMREF_CTRL_asj&quot;,&quot;N_HOMREF_CTRL_eas&quot;,&quot;N_HOMREF_CTRL_fin&quot;,&quot;N_HOMREF_CTRL_mid&quot;,&quot;N_HOMREF_CTRL_nfe&quot;,&quot;N_HOMREF_CTRL_oth&quot;,&quot;N_HOMREF_CTRL_sas&quot;,&quot;N_HOMREF_OthDISEASE&quot;,&quot;N_HOMREF_SCZ&quot;,&quot;N_HOMREF_SCZ_afr&quot;,&quot;N_HOMREF_SCZ_amr&quot;,&quot;N_HOMREF_SCZ_asj&quot;,&quot;N_HOMREF_SCZ_fin&quot;,&quot;N_HOMREF_SCZ_mid&quot;,&quot;N_HOMREF_SCZ_nfe&quot;,&quot;N_HOMREF_SCZ_oth&quot;,&quot;N_HOMREF_SCZ_sas&quot;,&quot;N_HOMREF_afr&quot;,&quot;N_HOMREF_ami&quot;,&quot;N_HOMREF_amr&quot;,&quot;N_HOMREF_asj&quot;,&quot;N_HOMREF_eas&quot;,&quot;N_HOMREF_fin&quot;,&quot;N_HOMREF_mid&quot;,&quot;N_HOMREF_nfe&quot;,&quot;N_HOMREF_oth&quot;,&quot;N_HOMREF_sas&quot;,&quot;PCRMINUS_NCR&quot;,&quot;PCRPLUS_NCR&quot;,&quot;POPMAX_AF&quot;,&quot;PREDICTED_INTERGENIC&quot;,&quot;PREDICTED_NEAREST_TSS&quot;,&quot;SVLEN&quot;,&quot;SVTYPE&quot;,&quot;UNRESOLVED_TYPE&quot;]</td></tr>\n",
       "<tr><td style=\"white-space: nowrap; max-width: 500px; overflow: hidden; text-overflow: ellipsis; \">chr1:11000</td><td style=\"white-space: nowrap; max-width: 500px; overflow: hidden; text-overflow: ellipsis; \">&quot;gnomAD-SV_v3_DUP_chr1_7d73682f&quot;</td><td style=\"white-space: nowrap; max-width: 500px; overflow: hidden; text-overflow: ellipsis; \">&quot;DUP&quot;</td><td style=\"white-space: nowrap; max-width: 500px; overflow: hidden; text-overflow: ellipsis; \">&quot;999&quot;</td><td style=\"white-space: nowrap; max-width: 500px; overflow: hidden; text-overflow: ellipsis; \">[&quot;PASS&quot;]</td><td style=\"white-space: nowrap; max-width: 500px; overflow: hidden; text-overflow: ellipsis; \">{&quot;N_HOMALT_CTRL&quot;:&quot;321&quot;,&quot;AF_CTRL_oth&quot;:&quot;0.026027&quot;,&quot;FREQ_HOMALT_CTRL_mid&quot;:&quot;0&quot;,&quot;N_HOMALT_CTRL_fin&quot;:&quot;0&quot;,&quot;AC_CASE_nfe&quot;:&quot;0&quot;,&quot;N_HOMREF_nfe&quot;:&quot;6526&quot;,&quot;FREQ_HOMREF_sas&quot;:&quot;0.95&quot;,&quot;N_HET_eas&quot;:&quot;1&quot;,&quot;N_HOMALT_CASE_nfe&quot;:&quot;0&quot;,&quot;FREQ_HOMALT_CTRL_fin&quot;:&quot;0&quot;,&quot;N_HOMREF_mid&quot;:&quot;6&quot;,&quot;AF_SCZ&quot;:&quot;0.119871&quot;,&quot;AN_CTRL_mid&quot;:&quot;8&quot;,&quot;FREQ_HET_SCZ_mid&quot;:&quot;0.333333&quot;,&quot;N_HET_BD_fin&quot;:&quot;1&quot;,&quot;N_HOMALT_SCZ_afr&quot;:&quot;180&quot;,&quot;N_HOMREF_SCZ_oth&quot;:&quot;17&quot;,&quot;AC_SCZ_fin&quot;:&quot;6&quot;,&quot;N_HOMREF_SCZ_fin&quot;:&quot;504&quot;,&quot;FREQ_HOMREF_BD_nfe&quot;:&quot;0.986767&quot;,&quot;AF_CASE_nfe&quot;:&quot;0&quot;,&quot;FREQ_HET_CTRL_asj&quot;:&quot;0.00416667&quot;,&quot;N_HET&quot;:&quot;4595&quot;,&quot;AN_SCZ&quot;:&quot;8384&quot;,&quot;FREQ_HET_BD&quot;:&quot;0.126359&quot;,&quot;AN_CTRL_nfe&quot;:&quot;10508&quot;,&quot;AF_BD_asj&quot;:&quot;0&quot;,&quot;N_HOMALT_oth&quot;:&quot;3&quot;,&quot;AN_SCZ_afr&quot;:&quot;5530&quot;,&quot;N_HET_SCZ_amr&quot;:&quot;4&quot;,&quot;AF_SCZ_fin&quot;:&quot;0.005882&quot;,&quot;FREQ_HET_SCZ_nfe&quot;:&quot;0.0227001&quot;,&quot;AC_amr&quot;:&quot;144&quot;,&quot;AF_SCZ_sas&quot;:&quot;0&quot;,&quot;N_HOMREF_OthDISEASE&quot;:&quot;5&quot;,&quot;AN_BD_ami&quot;:&quot;4&quot;,&quot;FREQ_HET_BD_oth&quot;:&quot;0.25&quot;,&quot;FREQ_HET_CTRL_sas&quot;:&quot;0.0526316&quot;,&quot;FREQ_HOMREF_CTRL_nfe&quot;:&quot;0.986486&quot;,&quot;FREQ_HOMREF_BD_oth&quot;:&quot;0.75&quot;,&quot;N_HOMALT_fin&quot;:&quot;0&quot;,&quot;FREQ_HOMALT_CTRL_ami&quot;:&quot;0&quot;,&quot;N_BI_GENOS_CASE_nfe&quot;:&quot;5&quot;,&quot;N_HOMREF_CASE_nfe&quot;:&quot;5&quot;,&quot;AC_CTRL_asj&quot;:&quot;1&quot;,&quot;N_HET_amr&quot;:&quot;102&quot;,&quot;AC&quot;:&quot;7119&quot;,&quot;FREQ_HOMREF_oth&quot;:&quot;0.951031&quot;,&quot;N_BI_GENOS_amr&quot;:&quot;1528&quot;,&quot;AC_afr&quot;:&quot;2865&quot;,&quot;N_HOMALT_BD_afr&quot;:&quot;49&quot;,&quot;N_HOMALT_CTRL_ami&quot;:&quot;0&quot;,&quot;N_HET_CTRL_nfe&quot;:&quot;66&quot;,&quot;N_HOMALT_BD_amr&quot;:&quot;0&quot;,&quot;N_BI_GENOS&quot;:&quot;53086&quot;,&quot;FREQ_HET_CTRL&quot;:&quot;0.0910305&quot;,&quot;AC_BD_asj&quot;:&quot;0&quot;,&quot;N_HOMREF_SCZ_nfe&quot;:&quot;816&quot;,&quot;N_HOMREF_asj&quot;:&quot;258&quot;,&quot;N_HOMALT_SCZ_mid&quot;:&quot;0&quot;,&quot;AC_CTRL_sas&quot;:&quot;1&quot;,&quot;N_HET_BD_amr&quot;:&quot;0&quot;,&quot;N_HOMALT_SCZ_oth&quot;:&quot;0&quot;,&quot;AC_BD_oth&quot;:&quot;1&quot;,&quot;FREQ_HET_oth&quot;:&quot;0.0412371&quot;,&quot;N_HET_CTRL_oth&quot;:&quot;13&quot;,&quot;N_BI_GENOS_sas&quot;:&quot;20&quot;,&quot;N_BI_GENOS_CTRL_fin&quot;:&quot;1356&quot;,&quot;FREQ_HOMREF_ami&quot;:&quot;1&quot;,&quot;N_HET_CTRL_afr&quot;:&quot;1039&quot;,&quot;N_HET_fin&quot;:&quot;15&quot;,&quot;N_HOMREF_CTRL_oth&quot;:&quot;349&quot;,&quot;N_BI_GENOS_eas&quot;:&quot;30&quot;,&quot;N_HET_CTRL&quot;:&quot;1227&quot;,&quot;AN_CTRL_asj&quot;:&quot;480&quot;,&quot;N_HOMREF_BD_ami&quot;:&quot;2&quot;,&quot;N_BI_GENOS_ami&quot;:&quot;21&quot;,&quot;AF_CTRL_fin&quot;:&quot;0.00295&quot;,&quot;N_HOMREF_CTRL_mid&quot;:&quot;4&quot;,&quot;FREQ_HOMALT_afr&quot;:&quot;0.0632957&quot;,&quot;FREQ_HET_SCZ_amr&quot;:&quot;0.105263&quot;,&quot;FREQ_HOMREF_CTRL_afr&quot;:&quot;0.717077&quot;,&quot;AF_SCZ_amr&quot;:&quot;0.078947&quot;,&quot;AN_CTRL_eas&quot;:&quot;60&quot;,&quot;FREQ_HOMREF_CTRL_ami&quot;:&quot;1&quot;,&quot;N_BI_GENOS_BD_asj&quot;:&quot;1&quot;,&quot;N_HET_SCZ_nfe&quot;:&quot;19&quot;,&quot;FREQ_HET_CTRL_afr&quot;:&quot;0.220688&quot;,&quot;AN_eas&quot;:&quot;60&quot;,&quot;FREQ_HOMALT_asj&quot;:&quot;0.00384615&quot;,&quot;FREQ_HOMREF_SCZ_afr&quot;:&quot;0.716094&quot;,&quot;AC_eas&quot;:&quot;1&quot;,&quot;N_BI_GENOS_SCZ_fin&quot;:&quot;510&quot;,&quot;N_HET_BD_afr&quot;:&quot;177&quot;,&quot;FREQ_HOMALT_CASE_nfe&quot;:&quot;0&quot;,&quot;AC_ami&quot;:&quot;0&quot;,&quot;AN_fin&quot;:&quot;4044&quot;,&quot;AF_BD_ami&quot;:&quot;0&quot;,&quot;AC_BD_amr&quot;:&quot;0&quot;,&quot;N_HOMREF_CTRL_nfe&quot;:&quot;5183&quot;,&quot;AN&quot;:&quot;106172&quot;,&quot;N_HOMALT_CASE&quot;:&quot;233&quot;,&quot;AF_ami&quot;:&quot;0&quot;,&quot;PREDICTED_INTERGENIC&quot;:&quot;&quot;,&quot;N_BI_GENOS_SCZ_nfe&quot;:&quot;837&quot;,&quot;AN_oth&quot;:&quot;776&quot;,&quot;AF_asj&quot;:&quot;0.005769&quot;,&quot;AN_BD_oth&quot;:&quot;8&quot;,&quot;FREQ_HOMREF_CASE&quot;:&quot;0.813724&quot;,&quot;FREQ_HET_SCZ_oth&quot;:&quot;0.105263&quot;,&quot;N_HOMALT_SCZ&quot;:&quot;184&quot;,&quot;N_BI_GENOS_CTRL_sas&quot;:&quot;19&quot;,&quot;FREQ_HOMALT_SCZ_amr&quot;:&quot;0.0263158&quot;,&quot;N_HET_BD_ami&quot;:&quot;0&quot;,&quot;FREQ_HOMREF_BD_afr&quot;:&quot;0.70801&quot;,&quot;N_HOMALT_BD_asj&quot;:&quot;0&quot;,&quot;AF_BD_oth&quot;:&quot;0.125&quot;,&quot;AF_SCZ_afr&quot;:&quot;0.174503&quot;,&quot;FREQ_HET_CTRL_eas&quot;:&quot;0.0333333&quot;,&quot;N_HET_BD_asj&quot;:&quot;0&quot;,&quot;AC_BD_fin&quot;:&quot;1&quot;,&quot;AC_CTRL&quot;:&quot;1869&quot;,&quot;FREQ_HOMREF_afr&quot;:&quot;0.715897&quot;,&quot;N_BI_GENOS_asj&quot;:&quot;260&quot;,&quot;N_BI_GENOS_CTRL_asj&quot;:&quot;240&quot;,&quot;N_BI_GENOS_CTRL_mid&quot;:&quot;4&quot;,&quot;AF_SCZ_mid&quot;:&quot;0.166667&quot;,&quot;N_BI_GENOS_SCZ_afr&quot;:&quot;2765&quot;,&quot;FREQ_HOMALT_SCZ_afr&quot;:&quot;0.0650995&quot;,&quot;FREQ_HET_BD_afr&quot;:&quot;0.228682&quot;,&quot;AC_BD_ami&quot;:&quot;0&quot;,&quot;N_HOMREF_CTRL_sas&quot;:&quot;18&quot;,&quot;AN_CTRL_ami&quot;:&quot;38&quot;,&quot;AC_BD_afr&quot;:&quot;275&quot;,&quot;FREQ_HOMALT_ami&quot;:&quot;0&quot;,&quot;AF_OthDISEASE&quot;:&quot;0&quot;,&quot;N_HOMREF_SCZ_mid&quot;:&quot;2&quot;,&quot;N_HOMALT_CTRL_afr&quot;:&quot;293&quot;,&quot;N_BI_GENOS_BD_ami&quot;:&quot;2&quot;,&quot;FREQ_HET_ami&quot;:&quot;0&quot;,&quot;AN_CASE_nfe&quot;:&quot;10&quot;,&quot;FREQ_HOMREF_CTRL_oth&quot;:&quot;0.956164&quot;,&quot;N_HET_BD&quot;:&quot;186&quot;,&quot;N_HOMREF_CTRL_asj&quot;:&quot;239&quot;,&quot;FREQ_HET_CTRL_mid&quot;:&quot;0&quot;,&quot;N_HET_SCZ_sas&quot;:&quot;0&quot;,&quot;FREQ_HET_CTRL_amr&quot;:&quot;0.0660377&quot;,&quot;N_BI_GENOS_mid&quot;:&quot;7&quot;,&quot;N_HOMREF_CTRL_afr&quot;:&quot;3376&quot;,&quot;FREQ_HOMALT_OthDISEASE&quot;:&quot;0&quot;,&quot;N_HOMALT&quot;:&quot;1262&quot;,&quot;N_HOMALT_sas&quot;:&quot;0&quot;,&quot;N_BI_GENOS_BD&quot;:&quot;1472&quot;,&quot;N_BI_GENOS_CTRL_eas&quot;:&quot;30&quot;,&quot;AN_SCZ_nfe&quot;:&quot;1674&quot;,&quot;FREQ_HET&quot;:&quot;0.0865577&quot;,&quot;FREQ_HET_amr&quot;:&quot;0.0667539&quot;,&quot;N_HET_afr&quot;:&quot;1821&quot;,&quot;FREQ_HOMALT_CTRL_nfe&quot;:&quot;0.000951656&quot;,&quot;FREQ_HET_CASE_nfe&quot;:&quot;0&quot;,&quot;FREQ_HET_SCZ_asj&quot;:&quot;0&quot;,&quot;N_BI_GENOS_CTRL_nfe&quot;:&quot;5254&quot;,&quot;AF&quot;:&quot;0.067052&quot;,&quot;FREQ_HOMREF_nfe&quot;:&quot;0.985057&quot;,&quot;AF_nfe&quot;:&quot;0.008&quot;,&quot;FREQ_HOMREF_OthDISEASE&quot;:&quot;1&quot;,&quot;AC_SCZ_afr&quot;:&quot;965&quot;,&quot;N_HET_oth&quot;:&quot;16&quot;,&quot;N_HOMREF_BD&quot;:&quot;1237&quot;,&quot;AF_BD_fin&quot;:&quot;0.003205&quot;,&quot;FREQ_HOMREF_CTRL_mid&quot;:&quot;1&quot;,&quot;N_HOMALT_eas&quot;:&quot;0&quot;,&quot;FREQ_HET_SCZ_fin&quot;:&quot;0.0117647&quot;,&quot;AF_BD_amr&quot;:&quot;0&quot;,&quot;N_HET_mid&quot;:&quot;1&quot;,&quot;N_HET_SCZ_fin&quot;:&quot;6&quot;,&quot;AN_BD_amr&quot;:&quot;12&quot;,&quot;AC_SCZ_amr&quot;:&quot;6&quot;,&quot;FREQ_HOMREF_mid&quot;:&quot;0.857143&quot;,&quot;FREQ_HOMALT_BD_nfe&quot;:&quot;0&quot;,&quot;N_BI_GENOS_CTRL_afr&quot;:&quot;4708&quot;,&quot;FREQ_HET_CTRL_oth&quot;:&quot;0.0356164&quot;,&quot;N_BI_GENOS_fin&quot;:&quot;2022&quot;,&quot;N_BI_GENOS_CTRL_amr&quot;:&quot;1484&quot;,&quot;FREQ_HOMREF_SCZ_amr&quot;:&quot;0.868421&quot;,&quot;FREQ_HOMREF_SCZ_fin&quot;:&quot;0.988235&quot;,&quot;N_HOMREF_sas&quot;:&quot;19&quot;,&quot;AC_BD_nfe&quot;:&quot;7&quot;,&quot;FREQ_HOMREF_BD_ami&quot;:&quot;1&quot;,&quot;FREQ_HET_SCZ&quot;:&quot;0.151956&quot;,&quot;AF_SCZ_oth&quot;:&quot;0.052632&quot;,&quot;AN_CTRL_fin&quot;:&quot;2712&quot;,&quot;FREQ_HOMREF_CTRL&quot;:&quot;0.885155&quot;,&quot;AC_CTRL_fin&quot;:&quot;8&quot;,&quot;NCR&quot;:&quot;0.177862&quot;,&quot;FREQ_HOMREF_SCZ_mid&quot;:&quot;0.666667&quot;,&quot;N_HET_sas&quot;:&quot;1&quot;,&quot;N_HOMREF_oth&quot;:&quot;369&quot;,&quot;AN_CTRL_sas&quot;:&quot;38&quot;,&quot;AF_oth&quot;:&quot;0.028351&quot;,&quot;FREQ_HOMREF_CTRL_amr&quot;:&quot;0.920485&quot;,&quot;N_HOMREF_SCZ_asj&quot;:&quot;18&quot;,&quot;AN_amr&quot;:&quot;3056&quot;,&quot;FREQ_HOMALT_oth&quot;:&quot;0.00773196&quot;,&quot;FREQ_HOMALT_BD_fin&quot;:&quot;0&quot;,&quot;FREQ_HOMREF_SCZ_nfe&quot;:&quot;0.97491&quot;,&quot;AN_BD_asj&quot;:&quot;2&quot;,&quot;N_HOMREF_fin&quot;:&quot;2007&quot;,&quot;N_HOMALT_BD_ami&quot;:&quot;0&quot;,&quot;CHR2&quot;:&quot;chr1&quot;,&quot;N_HOMREF_CASE&quot;:&quot;4613&quot;,&quot;POPMAX_AF&quot;:&quot;0.177649&quot;,&quot;FREQ_HET_CASE&quot;:&quot;0.145176&quot;,&quot;AN_BD_nfe&quot;:&quot;1058&quot;,&quot;FREQ_HOMALT_BD_asj&quot;:&quot;0&quot;,&quot;AF_BD_nfe&quot;:&quot;0.006616&quot;,&quot;AN_SCZ_amr&quot;:&quot;76&quot;,&quot;N_HOMALT_amr&quot;:&quot;21&quot;,&quot;AF_BD&quot;:&quot;0.096467&quot;,&quot;N_HET_asj&quot;:&quot;1&quot;,&quot;N_BI_GENOS_CTRL_oth&quot;:&quot;365&quot;,&quot;FREQ_HOMALT_amr&quot;:&quot;0.0137435&quot;,&quot;FREQ_HOMREF_CTRL_fin&quot;:&quot;0.9941&quot;,&quot;N_HOMALT_CTRL_sas&quot;:&quot;0&quot;,&quot;N_HOMREF_eas&quot;:&quot;29&quot;,&quot;AN_SCZ_mid&quot;:&quot;6&quot;,&quot;N_HOMALT_afr&quot;:&quot;522&quot;,&quot;AC_CTRL_amr&quot;:&quot;138&quot;,&quot;FREQ_HOMALT_CTRL&quot;:&quot;0.0238148&quot;,&quot;N_HOMALT_OthDISEASE&quot;:&quot;0&quot;,&quot;FREQ_HOMALT&quot;:&quot;0.0237727&quot;,&quot;FREQ_HOMALT_BD_oth&quot;:&quot;0&quot;,&quot;FREQ_HOMREF_CTRL_sas&quot;:&quot;0.947368&quot;,&quot;N_HET_CTRL_eas&quot;:&quot;1&quot;,&quot;FREQ_HOMREF_CASE_nfe&quot;:&quot;1&quot;,&quot;AN_BD&quot;:&quot;2944&quot;,&quot;AF_fin&quot;:&quot;0.003709&quot;,&quot;N_HOMREF_CTRL&quot;:&quot;11931&quot;,&quot;N_HET_BD_nfe&quot;:&quot;7&quot;,&quot;SVLEN&quot;:&quot;40000&quot;,&quot;AC_mid&quot;:&quot;1&quot;,&quot;AN_SCZ_sas&quot;:&quot;2&quot;,&quot;AF_amr&quot;:&quot;0.04712&quot;,&quot;AF_CTRL_mid&quot;:&quot;0&quot;,&quot;AF_SCZ_asj&quot;:&quot;0.052632&quot;,&quot;AC_CTRL_afr&quot;:&quot;1625&quot;,&quot;N_HOMREF_BD_asj&quot;:&quot;1&quot;,&quot;FREQ_HOMALT_SCZ&quot;:&quot;0.0438931&quot;,&quot;N_HOMREF_CTRL_fin&quot;:&quot;1348&quot;,&quot;N_BI_GENOS_SCZ_oth&quot;:&quot;19&quot;,&quot;N_HET_ami&quot;:&quot;0&quot;,&quot;AC_SCZ&quot;:&quot;1005&quot;,&quot;N_HET_CASE&quot;:&quot;823&quot;,&quot;FREQ_HOMALT_SCZ_mid&quot;:&quot;0&quot;,&quot;N_HOMREF_CTRL_ami&quot;:&quot;19&quot;,&quot;N_BI_GENOS_BD_amr&quot;:&quot;6&quot;,&quot;FREQ_HOMALT_BD_amr&quot;:&quot;0&quot;,&quot;N_HOMREF_SCZ_amr&quot;:&quot;33&quot;,&quot;N_HOMREF_BD_oth&quot;:&quot;3&quot;,&quot;N_HOMALT_SCZ_sas&quot;:&quot;0&quot;,&quot;FREQ_HOMREF_SCZ_sas&quot;:&quot;1&quot;,&quot;PREDICTED_NEAREST_TSS&quot;:&quot;OR4F5&quot;,&quot;AC_SCZ_mid&quot;:&quot;1&quot;,&quot;FREQ_HOMALT_CTRL_asj&quot;:&quot;0&quot;,&quot;N_HET_CTRL_fin&quot;:&quot;8&quot;,&quot;N_HOMALT_CTRL_nfe&quot;:&quot;5&quot;,&quot;N_HOMREF_BD_afr&quot;:&quot;548&quot;,&quot;N_HOMREF_SCZ&quot;:&quot;3371&quot;,&quot;FREQ_HOMREF_SCZ&quot;:&quot;0.804151&quot;,&quot;AF_afr&quot;:&quot;0.1737&quot;,&quot;AN_BD_fin&quot;:&quot;312&quot;,&quot;AN_mid&quot;:&quot;14&quot;,&quot;AF_mid&quot;:&quot;0.071429&quot;,&quot;AN_ami&quot;:&quot;42&quot;,&quot;AF_CASE&quot;:&quot;0.113688&quot;,&quot;FREQ_HOMALT_eas&quot;:&quot;0&quot;,&quot;AC_SCZ_nfe&quot;:&quot;23&quot;,&quot;AC_CTRL_ami&quot;:&quot;0&quot;,&quot;FREQ_HOMALT_nfe&quot;:&quot;0.0010566&quot;,&quot;N_HET_OthDISEASE&quot;:&quot;0&quot;,&quot;N_HET_CTRL_ami&quot;:&quot;0&quot;,&quot;AN_CTRL_oth&quot;:&quot;730&quot;,&quot;N_HET_nfe&quot;:&quot;92&quot;,&quot;AN_SCZ_asj&quot;:&quot;38&quot;,&quot;N_HOMALT_CTRL_eas&quot;:&quot;0&quot;,&quot;AF_CTRL_sas&quot;:&quot;0.026316&quot;,&quot;FREQ_HET_sas&quot;:&quot;0.05&quot;,&quot;AN_CTRL_amr&quot;:&quot;2968&quot;,&quot;N_BI_GENOS_CASE&quot;:&quot;5669&quot;,&quot;FREQ_HET_CTRL_fin&quot;:&quot;0.0058997&quot;,&quot;N_HOMALT_BD_oth&quot;:&quot;0&quot;,&quot;FREQ_HET_BD_ami&quot;:&quot;0&quot;,&quot;AC_BD&quot;:&quot;284&quot;,&quot;N_BI_GENOS_BD_afr&quot;:&quot;774&quot;,&quot;N_HOMREF_BD_fin&quot;:&quot;155&quot;,&quot;N_HET_CTRL_asj&quot;:&quot;1&quot;,&quot;FREQ_HOMALT_SCZ_nfe&quot;:&quot;0.00238949&quot;,&quot;ALGORITHMS&quot;:&quot;depth&quot;,&quot;N_HOMREF_amr&quot;:&quot;1405&quot;,&quot;FREQ_HET_eas&quot;:&quot;0.0333333&quot;,&quot;N_HET_SCZ_mid&quot;:&quot;1&quot;,&quot;N_HOMREF_ami&quot;:&quot;21&quot;,&quot;AN_CASE&quot;:&quot;11338&quot;,&quot;FREQ_HET_nfe&quot;:&quot;0.0138868&quot;,&quot;N_HOMALT_asj&quot;:&quot;1&quot;,&quot;N_HOMALT_SCZ_asj&quot;:&quot;1&quot;,&quot;N_BI_GENOS_CTRL&quot;:&quot;13479&quot;,&quot;AN_CTRL_afr&quot;:&quot;9416&quot;,&quot;FREQ_HOMALT_CTRL_amr&quot;:&quot;0.0134771&quot;,&quot;AC_CTRL_eas&quot;:&quot;1&quot;,&quot;FREQ_HET_afr&quot;:&quot;0.220808&quot;,&quot;FREQ_HOMREF_CTRL_asj&quot;:&quot;0.995833&quot;,&quot;FREQ_HOMALT_BD_afr&quot;:&quot;0.0633075&quot;,&quot;N_BI_GENOS_BD_nfe&quot;:&quot;529&quot;,&quot;AN_asj&quot;:&quot;520&quot;,&quot;N_HOMREF_afr&quot;:&quot;5904&quot;,&quot;AF_sas&quot;:&quot;0.025&quot;,&quot;N_HET_BD_oth&quot;:&quot;1&quot;,&quot;N_HOMALT_SCZ_amr&quot;:&quot;1&quot;,&quot;FREQ_HOMREF_BD&quot;:&quot;0.840353&quot;,&quot;N_HET_CTRL_sas&quot;:&quot;1&quot;,&quot;FREQ_HOMREF_CTRL_eas&quot;:&quot;0.966667&quot;,&quot;N_BI_GENOS_SCZ&quot;:&quot;4192&quot;,&quot;N_HOMREF_BD_nfe&quot;:&quot;522&quot;,&quot;FREQ_HOMREF_BD_fin&quot;:&quot;0.99359&quot;,&quot;FREQ_HET_fin&quot;:&quot;0.0074184&quot;,&quot;AC_nfe&quot;:&quot;106&quot;,&quot;AC_CTRL_mid&quot;:&quot;0&quot;,&quot;N_HOMREF_SCZ_sas&quot;:&quot;1&quot;,&quot;FREQ_HOMALT_mid&quot;:&quot;0&quot;,&quot;N_BI_GENOS_oth&quot;:&quot;388&quot;,&quot;N_HOMREF_CTRL_amr&quot;:&quot;1366&quot;,&quot;N_HET_SCZ_oth&quot;:&quot;2&quot;,&quot;N_HOMALT_ami&quot;:&quot;0&quot;,&quot;END&quot;:&quot;51000&quot;,&quot;AF_CTRL_eas&quot;:&quot;0.016667&quot;,&quot;N_BI_GENOS_CTRL_ami&quot;:&quot;19&quot;,&quot;PCRMINUS_NCR&quot;:&quot;0.13039&quot;,&quot;N_BI_GENOS_SCZ_amr&quot;:&quot;38&quot;,&quot;N_HET_CTRL_mid&quot;:&quot;0&quot;,&quot;AN_sas&quot;:&quot;40&quot;,&quot;FREQ_HOMALT_fin&quot;:&quot;0&quot;,&quot;FREQ_HOMREF_fin&quot;:&quot;0.992582&quot;,&quot;FREQ_HET_BD_nfe&quot;:&quot;0.0132325&quot;,&quot;AN_SCZ_fin&quot;:&quot;1020&quot;,&quot;FREQ_HET_asj&quot;:&quot;0.00384615&quot;,&quot;AF_CTRL_asj&quot;:&quot;0.002083&quot;,&quot;AN_afr&quot;:&quot;16494&quot;,&quot;PCRPLUS_NCR&quot;:&quot;0.716717&quot;,&quot;FREQ_HOMALT_CTRL_oth&quot;:&quot;0.00821918&quot;,&quot;N_HOMALT_mid&quot;:&quot;0&quot;,&quot;FREQ_HET_CTRL_nfe&quot;:&quot;0.0125619&quot;,&quot;N_HET_SCZ_afr&quot;:&quot;605&quot;,&quot;AF_CTRL_afr&quot;:&quot;0.172579&quot;,&quot;N_HET_CASE_nfe&quot;:&quot;0&quot;,&quot;AN_SCZ_oth&quot;:&quot;38&quot;,&quot;N_HOMREF&quot;:&quot;47229&quot;,&quot;FREQ_HOMREF_amr&quot;:&quot;0.919503&quot;,&quot;N_HOMALT_CTRL_mid&quot;:&quot;0&quot;,&quot;FREQ_HOMREF_eas&quot;:&quot;0.966667&quot;,&quot;N_HOMREF_SCZ_afr&quot;:&quot;1980&quot;,&quot;N_HOMALT_BD&quot;:&quot;49&quot;,&quot;N_BI_GENOS_BD_fin&quot;:&quot;156&quot;,&quot;FREQ_HOMALT_sas&quot;:&quot;0&quot;,&quot;FREQ_HET_CTRL_ami&quot;:&quot;0&quot;,&quot;EVIDENCE&quot;:&quot;RD&quot;,&quot;AN_nfe&quot;:&quot;13250&quot;,&quot;FREQ_HOMREF_BD_amr&quot;:&quot;1&quot;,&quot;AF_CTRL&quot;:&quot;0.06933&quot;,&quot;FREQ_HOMALT_CASE&quot;:&quot;0.0411007&quot;,&quot;N_HOMREF_BD_amr&quot;:&quot;6&quot;,&quot;N_HOMALT_BD_fin&quot;:&quot;0&quot;,&quot;FREQ_HOMALT_CTRL_eas&quot;:&quot;0&quot;,&quot;AF_CTRL_amr&quot;:&quot;0.046496&quot;,&quot;FREQ_HOMALT_CTRL_afr&quot;:&quot;0.0622345&quot;,&quot;FREQ_HOMREF_BD_asj&quot;:&quot;1&quot;,&quot;N_HET_SCZ_asj&quot;:&quot;0&quot;,&quot;FREQ_HOMALT_CTRL_sas&quot;:&quot;0&quot;,&quot;AF_BD_afr&quot;:&quot;0.177649&quot;,&quot;N_HOMALT_CTRL_asj&quot;:&quot;0&quot;,&quot;FREQ_HOMREF_SCZ_oth&quot;:&quot;0.894737&quot;,&quot;AC_sas&quot;:&quot;1&quot;,&quot;N_BI_GENOS_SCZ_sas&quot;:&quot;1&quot;,&quot;FREQ_HOMALT_SCZ_asj&quot;:&quot;0.0526316&quot;,&quot;AC_asj&quot;:&quot;3&quot;,&quot;FREQ_HOMALT_SCZ_sas&quot;:&quot;0&quot;,&quot;AF_eas&quot;:&quot;0.016667&quot;,&quot;AC_oth&quot;:&quot;22&quot;,&quot;FREQ_HET_BD_fin&quot;:&quot;0.00641026&quot;,&quot;FREQ_HOMALT_BD_ami&quot;:&quot;0&quot;,&quot;AC_SCZ_oth&quot;:&quot;2&quot;,&quot;N_HOMALT_BD_nfe&quot;:&quot;0&quot;,&quot;AC_CTRL_oth&quot;:&quot;19&quot;,&quot;LOW_CONFIDENCE_REPETITIVE_LARGE_DUP&quot;:&quot;&quot;,&quot;AC_SCZ_sas&quot;:&quot;0&quot;,&quot;AC_OthDISEASE&quot;:&quot;0&quot;,&quot;AC_CASE&quot;:&quot;1289&quot;,&quot;AC_fin&quot;:&quot;15&quot;,&quot;FREQ_HOMALT_SCZ_fin&quot;:&quot;0&quot;,&quot;N_BI_GENOS_SCZ_mid&quot;:&quot;3&quot;,&quot;N_BI_GENOS_nfe&quot;:&quot;6625&quot;,&quot;FREQ_HOMREF_SCZ_asj&quot;:&quot;0.947368&quot;,&quot;AC_SCZ_asj&quot;:&quot;2&quot;,&quot;N_BI_GENOS_afr&quot;:&quot;8247&quot;,&quot;FREQ_HET_BD_asj&quot;:&quot;0&quot;,&quot;FREQ_HET_OthDISEASE&quot;:&quot;0&quot;,&quot;AF_CTRL_nfe&quot;:&quot;0.007233&quot;,&quot;SVTYPE&quot;:&quot;DUP&quot;,&quot;FREQ_HET_mid&quot;:&quot;0.142857&quot;,&quot;AF_CTRL_ami&quot;:&quot;0&quot;,&quot;AC_CTRL_nfe&quot;:&quot;76&quot;,&quot;AN_BD_afr&quot;:&quot;1548&quot;,&quot;AN_CTRL&quot;:&quot;26958&quot;,&quot;N_HOMALT_CTRL_amr&quot;:&quot;20&quot;,&quot;FREQ_HOMREF_asj&quot;:&quot;0.992308&quot;,&quot;FREQ_HOMREF&quot;:&quot;0.88967&quot;,&quot;N_BI_GENOS_BD_oth&quot;:&quot;4&quot;,&quot;N_HET_CTRL_amr&quot;:&quot;98&quot;,&quot;N_HOMALT_nfe&quot;:&quot;7&quot;,&quot;N_HOMALT_CTRL_oth&quot;:&quot;3&quot;,&quot;N_HOMREF_CTRL_eas&quot;:&quot;29&quot;,&quot;N_HET_SCZ&quot;:&quot;637&quot;,&quot;FREQ_HET_SCZ_afr&quot;:&quot;0.218807&quot;,&quot;N_BI_GENOS_SCZ_asj&quot;:&quot;19&quot;,&quot;FREQ_HET_SCZ_sas&quot;:&quot;0&quot;,&quot;N_BI_GENOS_OthDISEASE&quot;:&quot;5&quot;,&quot;N_HOMALT_SCZ_fin&quot;:&quot;0&quot;,&quot;N_HOMALT_SCZ_nfe&quot;:&quot;2&quot;,&quot;AN_OthDISEASE&quot;:&quot;10&quot;,&quot;AF_SCZ_nfe&quot;:&quot;0.01374&quot;,&quot;FREQ_HET_BD_amr&quot;:&quot;0&quot;,&quot;FREQ_HOMALT_BD&quot;:&quot;0.033288&quot;,&quot;FREQ_HOMALT_SCZ_oth&quot;:&quot;0&quot;}</td><td style=\"white-space: nowrap; max-width: 500px; overflow: hidden; text-overflow: ellipsis; \">[&quot;AC&quot;,&quot;AC_BD&quot;,&quot;AC_BD_afr&quot;,&quot;AC_BD_ami&quot;,&quot;AC_BD_amr&quot;,&quot;AC_BD_asj&quot;,&quot;AC_BD_fin&quot;,&quot;AC_BD_nfe&quot;,&quot;AC_BD_oth&quot;,&quot;AC_CASE&quot;,&quot;AC_CASE_nfe&quot;,&quot;AC_CTRL&quot;,&quot;AC_CTRL_afr&quot;,&quot;AC_CTRL_ami&quot;,&quot;AC_CTRL_amr&quot;,&quot;AC_CTRL_asj&quot;,&quot;AC_CTRL_eas&quot;,&quot;AC_CTRL_fin&quot;,&quot;AC_CTRL_mid&quot;,&quot;AC_CTRL_nfe&quot;,&quot;AC_CTRL_oth&quot;,&quot;AC_CTRL_sas&quot;,&quot;AC_OthDISEASE&quot;,&quot;AC_SCZ&quot;,&quot;AC_SCZ_afr&quot;,&quot;AC_SCZ_amr&quot;,&quot;AC_SCZ_asj&quot;,&quot;AC_SCZ_fin&quot;,&quot;AC_SCZ_mid&quot;,&quot;AC_SCZ_nfe&quot;,&quot;AC_SCZ_oth&quot;,&quot;AC_SCZ_sas&quot;,&quot;AC_afr&quot;,&quot;AC_ami&quot;,&quot;AC_amr&quot;,&quot;AC_asj&quot;,&quot;AC_eas&quot;,&quot;AC_fin&quot;,&quot;AC_mid&quot;,&quot;AC_nfe&quot;,&quot;AC_oth&quot;,&quot;AC_sas&quot;,&quot;AF&quot;,&quot;AF_BD&quot;,&quot;AF_BD_afr&quot;,&quot;AF_BD_ami&quot;,&quot;AF_BD_amr&quot;,&quot;AF_BD_asj&quot;,&quot;AF_BD_fin&quot;,&quot;AF_BD_nfe&quot;,&quot;AF_BD_oth&quot;,&quot;AF_CASE&quot;,&quot;AF_CASE_nfe&quot;,&quot;AF_CTRL&quot;,&quot;AF_CTRL_afr&quot;,&quot;AF_CTRL_ami&quot;,&quot;AF_CTRL_amr&quot;,&quot;AF_CTRL_asj&quot;,&quot;AF_CTRL_eas&quot;,&quot;AF_CTRL_fin&quot;,&quot;AF_CTRL_mid&quot;,&quot;AF_CTRL_nfe&quot;,&quot;AF_CTRL_oth&quot;,&quot;AF_CTRL_sas&quot;,&quot;AF_OthDISEASE&quot;,&quot;AF_SCZ&quot;,&quot;AF_SCZ_afr&quot;,&quot;AF_SCZ_amr&quot;,&quot;AF_SCZ_asj&quot;,&quot;AF_SCZ_fin&quot;,&quot;AF_SCZ_mid&quot;,&quot;AF_SCZ_nfe&quot;,&quot;AF_SCZ_oth&quot;,&quot;AF_SCZ_sas&quot;,&quot;AF_afr&quot;,&quot;AF_ami&quot;,&quot;AF_amr&quot;,&quot;AF_asj&quot;,&quot;AF_eas&quot;,&quot;AF_fin&quot;,&quot;AF_mid&quot;,&quot;AF_nfe&quot;,&quot;AF_oth&quot;,&quot;AF_sas&quot;,&quot;ALGORITHMS&quot;,&quot;AN&quot;,&quot;AN_BD&quot;,&quot;AN_BD_afr&quot;,&quot;AN_BD_ami&quot;,&quot;AN_BD_amr&quot;,&quot;AN_BD_asj&quot;,&quot;AN_BD_fin&quot;,&quot;AN_BD_nfe&quot;,&quot;AN_BD_oth&quot;,&quot;AN_CASE&quot;,&quot;AN_CASE_nfe&quot;,&quot;AN_CTRL&quot;,&quot;AN_CTRL_afr&quot;,&quot;AN_CTRL_ami&quot;,&quot;AN_CTRL_amr&quot;,&quot;AN_CTRL_asj&quot;,&quot;AN_CTRL_eas&quot;,&quot;AN_CTRL_fin&quot;,&quot;AN_CTRL_mid&quot;,&quot;AN_CTRL_nfe&quot;,&quot;AN_CTRL_oth&quot;,&quot;AN_CTRL_sas&quot;,&quot;AN_OthDISEASE&quot;,&quot;AN_SCZ&quot;,&quot;AN_SCZ_afr&quot;,&quot;AN_SCZ_amr&quot;,&quot;AN_SCZ_asj&quot;,&quot;AN_SCZ_fin&quot;,&quot;AN_SCZ_mid&quot;,&quot;AN_SCZ_nfe&quot;,&quot;AN_SCZ_oth&quot;,&quot;AN_SCZ_sas&quot;,&quot;AN_afr&quot;,&quot;AN_ami&quot;,&quot;AN_amr&quot;,&quot;AN_asj&quot;,&quot;AN_eas&quot;,&quot;AN_fin&quot;,&quot;AN_mid&quot;,&quot;AN_nfe&quot;,&quot;AN_oth&quot;,&quot;AN_sas&quot;,&quot;CHR2&quot;,&quot;END&quot;,&quot;EVIDENCE&quot;,&quot;FREQ_HET&quot;,&quot;FREQ_HET_BD&quot;,&quot;FREQ_HET_BD_afr&quot;,&quot;FREQ_HET_BD_ami&quot;,&quot;FREQ_HET_BD_amr&quot;,&quot;FREQ_HET_BD_asj&quot;,&quot;FREQ_HET_BD_fin&quot;,&quot;FREQ_HET_BD_nfe&quot;,&quot;FREQ_HET_BD_oth&quot;,&quot;FREQ_HET_CASE&quot;,&quot;FREQ_HET_CASE_nfe&quot;,&quot;FREQ_HET_CTRL&quot;,&quot;FREQ_HET_CTRL_afr&quot;,&quot;FREQ_HET_CTRL_ami&quot;,&quot;FREQ_HET_CTRL_amr&quot;,&quot;FREQ_HET_CTRL_asj&quot;,&quot;FREQ_HET_CTRL_eas&quot;,&quot;FREQ_HET_CTRL_fin&quot;,&quot;FREQ_HET_CTRL_mid&quot;,&quot;FREQ_HET_CTRL_nfe&quot;,&quot;FREQ_HET_CTRL_oth&quot;,&quot;FREQ_HET_CTRL_sas&quot;,&quot;FREQ_HET_OthDISEASE&quot;,&quot;FREQ_HET_SCZ&quot;,&quot;FREQ_HET_SCZ_afr&quot;,&quot;FREQ_HET_SCZ_amr&quot;,&quot;FREQ_HET_SCZ_asj&quot;,&quot;FREQ_HET_SCZ_fin&quot;,&quot;FREQ_HET_SCZ_mid&quot;,&quot;FREQ_HET_SCZ_nfe&quot;,&quot;FREQ_HET_SCZ_oth&quot;,&quot;FREQ_HET_SCZ_sas&quot;,&quot;FREQ_HET_afr&quot;,&quot;FREQ_HET_ami&quot;,&quot;FREQ_HET_amr&quot;,&quot;FREQ_HET_asj&quot;,&quot;FREQ_HET_eas&quot;,&quot;FREQ_HET_fin&quot;,&quot;FREQ_HET_mid&quot;,&quot;FREQ_HET_nfe&quot;,&quot;FREQ_HET_oth&quot;,&quot;FREQ_HET_sas&quot;,&quot;FREQ_HOMALT&quot;,&quot;FREQ_HOMALT_BD&quot;,&quot;FREQ_HOMALT_BD_afr&quot;,&quot;FREQ_HOMALT_BD_ami&quot;,&quot;FREQ_HOMALT_BD_amr&quot;,&quot;FREQ_HOMALT_BD_asj&quot;,&quot;FREQ_HOMALT_BD_fin&quot;,&quot;FREQ_HOMALT_BD_nfe&quot;,&quot;FREQ_HOMALT_BD_oth&quot;,&quot;FREQ_HOMALT_CASE&quot;,&quot;FREQ_HOMALT_CASE_nfe&quot;,&quot;FREQ_HOMALT_CTRL&quot;,&quot;FREQ_HOMALT_CTRL_afr&quot;,&quot;FREQ_HOMALT_CTRL_ami&quot;,&quot;FREQ_HOMALT_CTRL_amr&quot;,&quot;FREQ_HOMALT_CTRL_asj&quot;,&quot;FREQ_HOMALT_CTRL_eas&quot;,&quot;FREQ_HOMALT_CTRL_fin&quot;,&quot;FREQ_HOMALT_CTRL_mid&quot;,&quot;FREQ_HOMALT_CTRL_nfe&quot;,&quot;FREQ_HOMALT_CTRL_oth&quot;,&quot;FREQ_HOMALT_CTRL_sas&quot;,&quot;FREQ_HOMALT_OthDISEASE&quot;,&quot;FREQ_HOMALT_SCZ&quot;,&quot;FREQ_HOMALT_SCZ_afr&quot;,&quot;FREQ_HOMALT_SCZ_amr&quot;,&quot;FREQ_HOMALT_SCZ_asj&quot;,&quot;FREQ_HOMALT_SCZ_fin&quot;,&quot;FREQ_HOMALT_SCZ_mid&quot;,&quot;FREQ_HOMALT_SCZ_nfe&quot;,&quot;FREQ_HOMALT_SCZ_oth&quot;,&quot;FREQ_HOMALT_SCZ_sas&quot;,&quot;FREQ_HOMALT_afr&quot;,&quot;FREQ_HOMALT_ami&quot;,&quot;FREQ_HOMALT_amr&quot;,&quot;FREQ_HOMALT_asj&quot;,&quot;FREQ_HOMALT_eas&quot;,&quot;FREQ_HOMALT_fin&quot;,&quot;FREQ_HOMALT_mid&quot;,&quot;FREQ_HOMALT_nfe&quot;,&quot;FREQ_HOMALT_oth&quot;,&quot;FREQ_HOMALT_sas&quot;,&quot;FREQ_HOMREF&quot;,&quot;FREQ_HOMREF_BD&quot;,&quot;FREQ_HOMREF_BD_afr&quot;,&quot;FREQ_HOMREF_BD_ami&quot;,&quot;FREQ_HOMREF_BD_amr&quot;,&quot;FREQ_HOMREF_BD_asj&quot;,&quot;FREQ_HOMREF_BD_fin&quot;,&quot;FREQ_HOMREF_BD_nfe&quot;,&quot;FREQ_HOMREF_BD_oth&quot;,&quot;FREQ_HOMREF_CASE&quot;,&quot;FREQ_HOMREF_CASE_nfe&quot;,&quot;FREQ_HOMREF_CTRL&quot;,&quot;FREQ_HOMREF_CTRL_afr&quot;,&quot;FREQ_HOMREF_CTRL_ami&quot;,&quot;FREQ_HOMREF_CTRL_amr&quot;,&quot;FREQ_HOMREF_CTRL_asj&quot;,&quot;FREQ_HOMREF_CTRL_eas&quot;,&quot;FREQ_HOMREF_CTRL_fin&quot;,&quot;FREQ_HOMREF_CTRL_mid&quot;,&quot;FREQ_HOMREF_CTRL_nfe&quot;,&quot;FREQ_HOMREF_CTRL_oth&quot;,&quot;FREQ_HOMREF_CTRL_sas&quot;,&quot;FREQ_HOMREF_OthDISEASE&quot;,&quot;FREQ_HOMREF_SCZ&quot;,&quot;FREQ_HOMREF_SCZ_afr&quot;,&quot;FREQ_HOMREF_SCZ_amr&quot;,&quot;FREQ_HOMREF_SCZ_asj&quot;,&quot;FREQ_HOMREF_SCZ_fin&quot;,&quot;FREQ_HOMREF_SCZ_mid&quot;,&quot;FREQ_HOMREF_SCZ_nfe&quot;,&quot;FREQ_HOMREF_SCZ_oth&quot;,&quot;FREQ_HOMREF_SCZ_sas&quot;,&quot;FREQ_HOMREF_afr&quot;,&quot;FREQ_HOMREF_ami&quot;,&quot;FREQ_HOMREF_amr&quot;,&quot;FREQ_HOMREF_asj&quot;,&quot;FREQ_HOMREF_eas&quot;,&quot;FREQ_HOMREF_fin&quot;,&quot;FREQ_HOMREF_mid&quot;,&quot;FREQ_HOMREF_nfe&quot;,&quot;FREQ_HOMREF_oth&quot;,&quot;FREQ_HOMREF_sas&quot;,&quot;LOW_CONFIDENCE_REPETITIVE_LARGE_DUP&quot;,&quot;NCR&quot;,&quot;N_BI_GENOS&quot;,&quot;N_BI_GENOS_BD&quot;,&quot;N_BI_GENOS_BD_afr&quot;,&quot;N_BI_GENOS_BD_ami&quot;,&quot;N_BI_GENOS_BD_amr&quot;,&quot;N_BI_GENOS_BD_asj&quot;,&quot;N_BI_GENOS_BD_fin&quot;,&quot;N_BI_GENOS_BD_nfe&quot;,&quot;N_BI_GENOS_BD_oth&quot;,&quot;N_BI_GENOS_CASE&quot;,&quot;N_BI_GENOS_CASE_nfe&quot;,&quot;N_BI_GENOS_CTRL&quot;,&quot;N_BI_GENOS_CTRL_afr&quot;,&quot;N_BI_GENOS_CTRL_ami&quot;,&quot;N_BI_GENOS_CTRL_amr&quot;,&quot;N_BI_GENOS_CTRL_asj&quot;,&quot;N_BI_GENOS_CTRL_eas&quot;,&quot;N_BI_GENOS_CTRL_fin&quot;,&quot;N_BI_GENOS_CTRL_mid&quot;,&quot;N_BI_GENOS_CTRL_nfe&quot;,&quot;N_BI_GENOS_CTRL_oth&quot;,&quot;N_BI_GENOS_CTRL_sas&quot;,&quot;N_BI_GENOS_OthDISEASE&quot;,&quot;N_BI_GENOS_SCZ&quot;,&quot;N_BI_GENOS_SCZ_afr&quot;,&quot;N_BI_GENOS_SCZ_amr&quot;,&quot;N_BI_GENOS_SCZ_asj&quot;,&quot;N_BI_GENOS_SCZ_fin&quot;,&quot;N_BI_GENOS_SCZ_mid&quot;,&quot;N_BI_GENOS_SCZ_nfe&quot;,&quot;N_BI_GENOS_SCZ_oth&quot;,&quot;N_BI_GENOS_SCZ_sas&quot;,&quot;N_BI_GENOS_afr&quot;,&quot;N_BI_GENOS_ami&quot;,&quot;N_BI_GENOS_amr&quot;,&quot;N_BI_GENOS_asj&quot;,&quot;N_BI_GENOS_eas&quot;,&quot;N_BI_GENOS_fin&quot;,&quot;N_BI_GENOS_mid&quot;,&quot;N_BI_GENOS_nfe&quot;,&quot;N_BI_GENOS_oth&quot;,&quot;N_BI_GENOS_sas&quot;,&quot;N_HET&quot;,&quot;N_HET_BD&quot;,&quot;N_HET_BD_afr&quot;,&quot;N_HET_BD_ami&quot;,&quot;N_HET_BD_amr&quot;,&quot;N_HET_BD_asj&quot;,&quot;N_HET_BD_fin&quot;,&quot;N_HET_BD_nfe&quot;,&quot;N_HET_BD_oth&quot;,&quot;N_HET_CASE&quot;,&quot;N_HET_CASE_nfe&quot;,&quot;N_HET_CTRL&quot;,&quot;N_HET_CTRL_afr&quot;,&quot;N_HET_CTRL_ami&quot;,&quot;N_HET_CTRL_amr&quot;,&quot;N_HET_CTRL_asj&quot;,&quot;N_HET_CTRL_eas&quot;,&quot;N_HET_CTRL_fin&quot;,&quot;N_HET_CTRL_mid&quot;,&quot;N_HET_CTRL_nfe&quot;,&quot;N_HET_CTRL_oth&quot;,&quot;N_HET_CTRL_sas&quot;,&quot;N_HET_OthDISEASE&quot;,&quot;N_HET_SCZ&quot;,&quot;N_HET_SCZ_afr&quot;,&quot;N_HET_SCZ_amr&quot;,&quot;N_HET_SCZ_asj&quot;,&quot;N_HET_SCZ_fin&quot;,&quot;N_HET_SCZ_mid&quot;,&quot;N_HET_SCZ_nfe&quot;,&quot;N_HET_SCZ_oth&quot;,&quot;N_HET_SCZ_sas&quot;,&quot;N_HET_afr&quot;,&quot;N_HET_ami&quot;,&quot;N_HET_amr&quot;,&quot;N_HET_asj&quot;,&quot;N_HET_eas&quot;,&quot;N_HET_fin&quot;,&quot;N_HET_mid&quot;,&quot;N_HET_nfe&quot;,&quot;N_HET_oth&quot;,&quot;N_HET_sas&quot;,&quot;N_HOMALT&quot;,&quot;N_HOMALT_BD&quot;,&quot;N_HOMALT_BD_afr&quot;,&quot;N_HOMALT_BD_ami&quot;,&quot;N_HOMALT_BD_amr&quot;,&quot;N_HOMALT_BD_asj&quot;,&quot;N_HOMALT_BD_fin&quot;,&quot;N_HOMALT_BD_nfe&quot;,&quot;N_HOMALT_BD_oth&quot;,&quot;N_HOMALT_CASE&quot;,&quot;N_HOMALT_CASE_nfe&quot;,&quot;N_HOMALT_CTRL&quot;,&quot;N_HOMALT_CTRL_afr&quot;,&quot;N_HOMALT_CTRL_ami&quot;,&quot;N_HOMALT_CTRL_amr&quot;,&quot;N_HOMALT_CTRL_asj&quot;,&quot;N_HOMALT_CTRL_eas&quot;,&quot;N_HOMALT_CTRL_fin&quot;,&quot;N_HOMALT_CTRL_mid&quot;,&quot;N_HOMALT_CTRL_nfe&quot;,&quot;N_HOMALT_CTRL_oth&quot;,&quot;N_HOMALT_CTRL_sas&quot;,&quot;N_HOMALT_OthDISEASE&quot;,&quot;N_HOMALT_SCZ&quot;,&quot;N_HOMALT_SCZ_afr&quot;,&quot;N_HOMALT_SCZ_amr&quot;,&quot;N_HOMALT_SCZ_asj&quot;,&quot;N_HOMALT_SCZ_fin&quot;,&quot;N_HOMALT_SCZ_mid&quot;,&quot;N_HOMALT_SCZ_nfe&quot;,&quot;N_HOMALT_SCZ_oth&quot;,&quot;N_HOMALT_SCZ_sas&quot;,&quot;N_HOMALT_afr&quot;,&quot;N_HOMALT_ami&quot;,&quot;N_HOMALT_amr&quot;,&quot;N_HOMALT_asj&quot;,&quot;N_HOMALT_eas&quot;,&quot;N_HOMALT_fin&quot;,&quot;N_HOMALT_mid&quot;,&quot;N_HOMALT_nfe&quot;,&quot;N_HOMALT_oth&quot;,&quot;N_HOMALT_sas&quot;,&quot;N_HOMREF&quot;,&quot;N_HOMREF_BD&quot;,&quot;N_HOMREF_BD_afr&quot;,&quot;N_HOMREF_BD_ami&quot;,&quot;N_HOMREF_BD_amr&quot;,&quot;N_HOMREF_BD_asj&quot;,&quot;N_HOMREF_BD_fin&quot;,&quot;N_HOMREF_BD_nfe&quot;,&quot;N_HOMREF_BD_oth&quot;,&quot;N_HOMREF_CASE&quot;,&quot;N_HOMREF_CASE_nfe&quot;,&quot;N_HOMREF_CTRL&quot;,&quot;N_HOMREF_CTRL_afr&quot;,&quot;N_HOMREF_CTRL_ami&quot;,&quot;N_HOMREF_CTRL_amr&quot;,&quot;N_HOMREF_CTRL_asj&quot;,&quot;N_HOMREF_CTRL_eas&quot;,&quot;N_HOMREF_CTRL_fin&quot;,&quot;N_HOMREF_CTRL_mid&quot;,&quot;N_HOMREF_CTRL_nfe&quot;,&quot;N_HOMREF_CTRL_oth&quot;,&quot;N_HOMREF_CTRL_sas&quot;,&quot;N_HOMREF_OthDISEASE&quot;,&quot;N_HOMREF_SCZ&quot;,&quot;N_HOMREF_SCZ_afr&quot;,&quot;N_HOMREF_SCZ_amr&quot;,&quot;N_HOMREF_SCZ_asj&quot;,&quot;N_HOMREF_SCZ_fin&quot;,&quot;N_HOMREF_SCZ_mid&quot;,&quot;N_HOMREF_SCZ_nfe&quot;,&quot;N_HOMREF_SCZ_oth&quot;,&quot;N_HOMREF_SCZ_sas&quot;,&quot;N_HOMREF_afr&quot;,&quot;N_HOMREF_ami&quot;,&quot;N_HOMREF_amr&quot;,&quot;N_HOMREF_asj&quot;,&quot;N_HOMREF_eas&quot;,&quot;N_HOMREF_fin&quot;,&quot;N_HOMREF_mid&quot;,&quot;N_HOMREF_nfe&quot;,&quot;N_HOMREF_oth&quot;,&quot;N_HOMREF_sas&quot;,&quot;PCRMINUS_NCR&quot;,&quot;PCRPLUS_NCR&quot;,&quot;POPMAX_AF&quot;,&quot;PREDICTED_INTERGENIC&quot;,&quot;PREDICTED_NEAREST_TSS&quot;,&quot;SVLEN&quot;,&quot;SVTYPE&quot;]</td></tr>\n",
       "<tr><td style=\"white-space: nowrap; max-width: 500px; overflow: hidden; text-overflow: ellipsis; \">chr1:12000</td><td style=\"white-space: nowrap; max-width: 500px; overflow: hidden; text-overflow: ellipsis; \">&quot;gnomAD-SV_v3_CNV_chr1_5e194d5e&quot;</td><td style=\"white-space: nowrap; max-width: 500px; overflow: hidden; text-overflow: ellipsis; \">&quot;CNV&quot;</td><td style=\"white-space: nowrap; max-width: 500px; overflow: hidden; text-overflow: ellipsis; \">&quot;.&quot;</td><td style=\"white-space: nowrap; max-width: 500px; overflow: hidden; text-overflow: ellipsis; \">[&quot;PASS&quot;]</td><td style=\"white-space: nowrap; max-width: 500px; overflow: hidden; text-overflow: ellipsis; \">{&quot;CN_NUMBER_SCZ_asj&quot;:&quot;26&quot;,&quot;CN_STATUS_CTRL_fin&quot;:&quot;0,1,2,3,4&quot;,&quot;CN_FREQ_amr&quot;:&quot;0,0.109351,0.702606,0.119571,0.053143,0.012264,0.002044,0.001022&quot;,&quot;CN_COUNT_CTRL_sas&quot;:&quot;0,2,15,2,2&quot;,&quot;CN_STATUS_SCZ_oth&quot;:&quot;0,1,2,3,4,5&quot;,&quot;CN_FREQ_CTRL_eas&quot;:&quot;0,0,0.71875,0.25,0.03125&quot;,&quot;CN_NONREF_FREQ_BD_amr&quot;:&quot;0.166667&quot;,&quot;CN_NUMBER_CTRL_sas&quot;:&quot;21&quot;,&quot;CN_FREQ_BD_amr&quot;:&quot;0,0.166667,0.833333&quot;,&quot;CN_NONREF_COUNT_SCZ_oth&quot;:&quot;4&quot;,&quot;CN_NUMBER_BD_ami&quot;:&quot;3&quot;,&quot;CN_COUNT_OthDISEASE&quot;:&quot;0,1,7&quot;,&quot;CN_NONREF_FREQ_SCZ_sas&quot;:&quot;0&quot;,&quot;CN_NONREF_COUNT_nfe&quot;:&quot;1874&quot;,&quot;CN_FREQ_CTRL_mid&quot;:&quot;0,0.2,0.8&quot;,&quot;CN_COUNT_CTRL_ami&quot;:&quot;0,5,15,1&quot;,&quot;CN_NUMBER_sas&quot;:&quot;22&quot;,&quot;CN_NONREF_COUNT_SCZ_fin&quot;:&quot;151&quot;,&quot;CN_STATUS_CTRL_oth&quot;:&quot;0,1,2,3,4,5,6&quot;,&quot;CN_NUMBER_BD_oth&quot;:&quot;4&quot;,&quot;CN_NUMBER_CTRL_oth&quot;:&quot;439&quot;,&quot;CN_STATUS_SCZ_nfe&quot;:&quot;0,1,2,3,4,5,6&quot;,&quot;CN_NONREF_COUNT_SCZ_asj&quot;:&quot;9&quot;,&quot;CN_NUMBER_CASE&quot;:&quot;6866&quot;,&quot;CN_STATUS_asj&quot;:&quot;0,1,2,3,4,5&quot;,&quot;CN_STATUS_CTRL&quot;:&quot;0,1,2,3,4,5,6,7,8&quot;,&quot;CN_NUMBER_fin&quot;:&quot;2477&quot;,&quot;CN_NUMBER_eas&quot;:&quot;32&quot;,&quot;CN_STATUS_CTRL_ami&quot;:&quot;0,1,2,3&quot;,&quot;CN_NUMBER_afr&quot;:&quot;9598&quot;,&quot;CN_NONREF_FREQ_oth&quot;:&quot;0.275862&quot;,&quot;CN_NUMBER_OthDISEASE&quot;:&quot;8&quot;,&quot;CN_COUNT_CTRL_asj&quot;:&quot;0,70,195,11,3&quot;,&quot;CN_STATUS_BD_asj&quot;:&quot;0,1&quot;,&quot;CN_FREQ_SCZ&quot;:&quot;0,0.065472,0.584762,0.181411,0.125682,0.034295,0.00643,0.001754,0.000195&quot;,&quot;CN_NONREF_COUNT_CTRL_eas&quot;:&quot;9&quot;,&quot;CN_FREQ_SCZ_sas&quot;:&quot;0,0,1&quot;,&quot;CN_NONREF_COUNT_CTRL_nfe&quot;:&quot;1499&quot;,&quot;CN_COUNT_BD_amr&quot;:&quot;0,2,10&quot;,&quot;CN_NONREF_FREQ_mid&quot;:&quot;0.25&quot;,&quot;CN_NUMBER_BD_amr&quot;:&quot;12&quot;,&quot;CN_NONREF_COUNT_oth&quot;:&quot;128&quot;,&quot;CN_COUNT_sas&quot;:&quot;0,2,16,2,2&quot;,&quot;CN_STATUS_SCZ_afr&quot;:&quot;0,1,2,3,4,5,6,7,8&quot;,&quot;CN_FREQ_afr&quot;:&quot;0,0.033028,0.490831,0.226506,0.179725,0.055949,0.010627,0.002813,0.000521&quot;,&quot;CN_NUMBER_SCZ_fin&quot;:&quot;615&quot;,&quot;CN_COUNT_BD_afr&quot;:&quot;0,25,426,223,147,56,10,4&quot;,&quot;CN_FREQ_SCZ_amr&quot;:&quot;0,0.04918,0.819672,0.081967,0.040984,0.008197&quot;,&quot;CN_NUMBER_CTRL_nfe&quot;:&quot;6241&quot;,&quot;CN_NONREF_FREQ_CTRL_eas&quot;:&quot;0.28125&quot;,&quot;CN_NUMBER_CTRL_eas&quot;:&quot;32&quot;,&quot;CN_COUNT_mid&quot;:&quot;0,1,6,0,1&quot;,&quot;CN_NONREF_FREQ_afr&quot;:&quot;0.509169&quot;,&quot;CN_NONREF_FREQ_CTRL_afr&quot;:&quot;0.501565&quot;,&quot;CN_NONREF_FREQ_amr&quot;:&quot;0.297394&quot;,&quot;CN_FREQ_CTRL_fin&quot;:&quot;0,0.154442,0.761479,0.07096,0.013119&quot;,&quot;CN_FREQ&quot;:&quot;0,0.09501,0.670939,0.133759,0.073962,0.020223,0.004632,0.001269,0.000143,4.8e-05,1.6e-05&quot;,&quot;CN_NUMBER_nfe&quot;:&quot;7947&quot;,&quot;CN_FREQ_BD_nfe&quot;:&quot;0,0.128571,0.796825,0.065079,0.009524&quot;,&quot;CN_FREQ_SCZ_asj&quot;:&quot;0,0.153846,0.653846,0.153846,0,0.038462&quot;,&quot;CN_NONREF_FREQ_asj&quot;:&quot;0.30719&quot;,&quot;CN_NONREF_COUNT_CTRL_mid&quot;:&quot;1&quot;,&quot;CN_FREQ_CTRL_ami&quot;:&quot;0,0.238095,0.714286,0.047619&quot;,&quot;CN_STATUS_OthDISEASE&quot;:&quot;0,1,2&quot;,&quot;CN_COUNT_SCZ_oth&quot;:&quot;0,1,17,2,0,1&quot;,&quot;CN_COUNT_CTRL_afr&quot;:&quot;0,187,2707,1172,974,313,60,14,4&quot;,&quot;CN_NUMBER_SCZ_nfe&quot;:&quot;1068&quot;,&quot;CN_COUNT_CASE_nfe&quot;:&quot;0,1,7&quot;,&quot;CN_FREQ_BD&quot;:&quot;0,0.077057,0.633835,0.158169,0.090382,0.032445,0.005794,0.002317&quot;,&quot;CN_COUNT_fin&quot;:&quot;0,398,1892,153,34&quot;,&quot;CN_FREQ_BD_ami&quot;:&quot;0,0,1&quot;,&quot;CN_STATUS_BD&quot;:&quot;0,1,2,3,4,5,6,7&quot;,&quot;PREDICTED_INTERGENIC&quot;:&quot;&quot;,&quot;CN_NUMBER_BD_asj&quot;:&quot;1&quot;,&quot;CN_COUNT_CTRL_mid&quot;:&quot;0,1,4&quot;,&quot;CN_NONREF_COUNT_sas&quot;:&quot;6&quot;,&quot;CN_NUMBER_BD_afr&quot;:&quot;891&quot;,&quot;CN_NONREF_COUNT_BD_nfe&quot;:&quot;128&quot;,&quot;CN_NONREF_FREQ&quot;:&quot;0.329061&quot;,&quot;CN_NUMBER_SCZ_oth&quot;:&quot;21&quot;,&quot;CN_FREQ_SCZ_oth&quot;:&quot;0,0.047619,0.809524,0.095238,0,0.047619&quot;,&quot;CN_COUNT&quot;:&quot;0,5990,42300,8433,4663,1275,292,80,9,3,1&quot;,&quot;CN_FREQ_CTRL_afr&quot;:&quot;0,0.034432,0.498435,0.215798,0.179341,0.057632,0.011048,0.002578,0.000737&quot;,&quot;CN_STATUS_SCZ&quot;:&quot;0,1,2,3,4,5,6,7,8&quot;,&quot;CN_STATUS_CTRL_amr&quot;:&quot;0,1,2,3,4,5,6,7&quot;,&quot;CN_COUNT_BD_oth&quot;:&quot;0,0,2,2&quot;,&quot;CN_COUNT_SCZ_afr&quot;:&quot;0,105,1578,779,604,168,32,9,1&quot;,&quot;CN_COUNT_SCZ_sas&quot;:&quot;0,0,1&quot;,&quot;CN_NONREF_COUNT_SCZ_sas&quot;:&quot;0&quot;,&quot;CN_NONREF_FREQ_CASE&quot;:&quot;0.402563&quot;,&quot;CN_NONREF_FREQ_SCZ_amr&quot;:&quot;0.180328&quot;,&quot;CN_NONREF_FREQ_sas&quot;:&quot;0.272727&quot;,&quot;CN_FREQ_asj&quot;:&quot;0,0.245098,0.69281,0.04902,0.009804,0.003268&quot;,&quot;CN_COUNT_CTRL_oth&quot;:&quot;0,53,317,45,19,4,1&quot;,&quot;CN_NONREF_FREQ_BD_afr&quot;:&quot;0.521886&quot;,&quot;CN_NUMBER_amr&quot;:&quot;1957&quot;,&quot;CN_NONREF_COUNT_asj&quot;:&quot;94&quot;,&quot;CN_NUMBER_CTRL_fin&quot;:&quot;1677&quot;,&quot;CN_NONREF_COUNT_CTRL_sas&quot;:&quot;6&quot;,&quot;CN_NONREF_FREQ_SCZ_fin&quot;:&quot;0.245528&quot;,&quot;CN_FREQ_BD_asj&quot;:&quot;0,1&quot;,&quot;CN_COUNT_nfe&quot;:&quot;0,1191,6073,545,120,17,1&quot;,&quot;CN_NONREF_COUNT_SCZ_mid&quot;:&quot;1&quot;,&quot;CN_COUNT_eas&quot;:&quot;0,0,23,8,1&quot;,&quot;CN_COUNT_ami&quot;:&quot;0,5,18,1&quot;,&quot;CN_NONREF_COUNT_SCZ_nfe&quot;:&quot;246&quot;,&quot;CN_STATUS_fin&quot;:&quot;0,1,2,3,4&quot;,&quot;CN_STATUS_BD_ami&quot;:&quot;0,1,2&quot;,&quot;CN_STATUS_SCZ_mid&quot;:&quot;0,1,2,3,4&quot;,&quot;CN_NONREF_COUNT_BD&quot;:&quot;632&quot;,&quot;CN_NONREF_FREQ_CTRL_oth&quot;:&quot;0.277904&quot;,&quot;CN_COUNT_SCZ_nfe&quot;:&quot;0,105,822,109,26,5,1&quot;,&quot;CN_NONREF_FREQ_CTRL_ami&quot;:&quot;0.285714&quot;,&quot;CN_NUMBER_CTRL_mid&quot;:&quot;5&quot;,&quot;CN_STATUS_sas&quot;:&quot;0,1,2,3,4&quot;,&quot;CN_STATUS_mid&quot;:&quot;0,1,2,3,4&quot;,&quot;CN_NUMBER_CTRL_asj&quot;:&quot;279&quot;,&quot;CN_STATUS_CTRL_mid&quot;:&quot;0,1,2&quot;,&quot;CN_FREQ_BD_afr&quot;:&quot;0,0.028058,0.478114,0.250281,0.164983,0.062851,0.011223,0.004489&quot;,&quot;CN_NONREF_COUNT_CTRL_asj&quot;:&quot;84&quot;,&quot;CN_NONREF_FREQ_SCZ_nfe&quot;:&quot;0.230337&quot;,&quot;CN_FREQ_mid&quot;:&quot;0,0.125,0.75,0,0.125&quot;,&quot;CN_FREQ_CASE&quot;:&quot;0,0.068453,0.597437,0.175357,0.116662,0.03379,0.006263,0.001893,0.000146&quot;,&quot;CHR2&quot;:&quot;chr1&quot;,&quot;CN_NUMBER_SCZ_amr&quot;:&quot;122&quot;,&quot;CN_STATUS_BD_afr&quot;:&quot;0,1,2,3,4,5,6,7&quot;,&quot;CN_FREQ_CASE_nfe&quot;:&quot;0,0.125,0.875&quot;,&quot;CN_NONREF_COUNT_afr&quot;:&quot;4887&quot;,&quot;CN_NUMBER_BD&quot;:&quot;1726&quot;,&quot;CN_NONREF_FREQ_OthDISEASE&quot;:&quot;0.125&quot;,&quot;CN_STATUS_CTRL_eas&quot;:&quot;0,1,2,3,4&quot;,&quot;CN_STATUS&quot;:&quot;0,1,2,3,4,5,6,7,8,9,10&quot;,&quot;MULTIALLELIC&quot;:&quot;&quot;,&quot;CN_NONREF_FREQ_CTRL_mid&quot;:&quot;0.2&quot;,&quot;CN_NONREF_FREQ_CTRL_fin&quot;:&quot;0.238521&quot;,&quot;CN_NONREF_FREQ_ami&quot;:&quot;0.25&quot;,&quot;CN_COUNT_afr&quot;:&quot;0,317,4711,2174,1725,537,102,27,5&quot;,&quot;CN_STATUS_eas&quot;:&quot;0,1,2,3,4&quot;,&quot;CN_COUNT_BD_asj&quot;:&quot;0,1&quot;,&quot;CN_NONREF_COUNT_CTRL_ami&quot;:&quot;6&quot;,&quot;SVLEN&quot;:&quot;20000&quot;,&quot;CN_COUNT_amr&quot;:&quot;0,214,1375,234,104,24,4,2&quot;,&quot;CN_STATUS_nfe&quot;:&quot;0,1,2,3,4,5,6&quot;,&quot;CN_STATUS_SCZ_amr&quot;:&quot;0,1,2,3,4,5&quot;,&quot;CN_NONREF_FREQ_CASE_nfe&quot;:&quot;0.125&quot;,&quot;CN_COUNT_SCZ_mid&quot;:&quot;0,0,2,0,1&quot;,&quot;CN_NONREF_COUNT_SCZ_amr&quot;:&quot;22&quot;,&quot;CN_NUMBER_SCZ_mid&quot;:&quot;3&quot;,&quot;CN_FREQ_CTRL_oth&quot;:&quot;0,0.120729,0.722096,0.102506,0.04328,0.009112,0.002278&quot;,&quot;CN_NONREF_COUNT_CASE_nfe&quot;:&quot;1&quot;,&quot;CN_NONREF_FREQ_SCZ&quot;:&quot;0.415238&quot;,&quot;CN_FREQ_ami&quot;:&quot;0,0.208333,0.75,0.041667&quot;,&quot;CN_NONREF_FREQ_fin&quot;:&quot;0.236173&quot;,&quot;PREDICTED_NEAREST_TSS&quot;:&quot;OR4F5&quot;,&quot;CN_COUNT_BD_ami&quot;:&quot;0,0,3&quot;,&quot;CN_STATUS_amr&quot;:&quot;0,1,2,3,4,5,6,7&quot;,&quot;CN_NONREF_COUNT_BD_oth&quot;:&quot;2&quot;,&quot;CN_COUNT_oth&quot;:&quot;0,54,336,49,19,5,1&quot;,&quot;CN_COUNT_CTRL_fin&quot;:&quot;0,259,1277,119,22&quot;,&quot;CN_FREQ_SCZ_fin&quot;:&quot;0,0.186992,0.754472,0.043902,0.014634&quot;,&quot;CN_NONREF_COUNT_BD_amr&quot;:&quot;2&quot;,&quot;CN_FREQ_BD_fin&quot;:&quot;0,0.12973,0.816216,0.037838,0.016216&quot;,&quot;CN_NONREF_COUNT_BD_fin&quot;:&quot;34&quot;,&quot;CN_NONREF_COUNT_mid&quot;:&quot;2&quot;,&quot;CN_STATUS_oth&quot;:&quot;0,1,2,3,4,5,6&quot;,&quot;CN_NUMBER_SCZ_sas&quot;:&quot;1&quot;,&quot;CN_NONREF_COUNT_OthDISEASE&quot;:&quot;1&quot;,&quot;CN_COUNT_BD&quot;:&quot;0,133,1094,273,156,56,10,4&quot;,&quot;CN_STATUS_CASE&quot;:&quot;0,1,2,3,4,5,6,7,8&quot;,&quot;CN_NONREF_COUNT_BD_afr&quot;:&quot;465&quot;,&quot;CN_NONREF_COUNT_CTRL_fin&quot;:&quot;400&quot;,&quot;CN_FREQ_SCZ_nfe&quot;:&quot;0,0.098315,0.769663,0.10206,0.024345,0.004682,0.000936&quot;,&quot;CN_COUNT_CASE&quot;:&quot;0,470,4102,1204,801,232,43,13,1&quot;,&quot;ALGORITHMS&quot;:&quot;depth&quot;,&quot;CN_FREQ_CTRL_sas&quot;:&quot;0,0.095238,0.714286,0.095238,0.095238&quot;,&quot;CN_FREQ_sas&quot;:&quot;0,0.090909,0.727273,0.090909,0.090909&quot;,&quot;CN_STATUS_BD_nfe&quot;:&quot;0,1,2,3,4&quot;,&quot;CN_FREQ_nfe&quot;:&quot;0,0.149868,0.764188,0.068579,0.0151,0.002139,0.000126&quot;,&quot;CN_NUMBER_ami&quot;:&quot;24&quot;,&quot;CN_NUMBER_SCZ&quot;:&quot;5132&quot;,&quot;CN_NONREF_FREQ_BD&quot;:&quot;0.366165&quot;,&quot;CN_NONREF_FREQ_BD_nfe&quot;:&quot;0.203175&quot;,&quot;CN_NONREF_FREQ_SCZ_afr&quot;:&quot;0.518315&quot;,&quot;CN_NUMBER&quot;:&quot;63046&quot;,&quot;CN_NONREF_FREQ_nfe&quot;:&quot;0.235812&quot;,&quot;CN_NUMBER_CASE_nfe&quot;:&quot;8&quot;,&quot;CN_NONREF_COUNT_SCZ_afr&quot;:&quot;1698&quot;,&quot;CN_NONREF_COUNT_CASE&quot;:&quot;2764&quot;,&quot;CN_COUNT_CTRL_eas&quot;:&quot;0,0,23,8,1&quot;,&quot;CN_NONREF_COUNT&quot;:&quot;20746&quot;,&quot;CN_COUNT_CTRL_amr&quot;:&quot;0,206,1265,224,99,23,4,2&quot;,&quot;CN_NONREF_COUNT_SCZ&quot;:&quot;2131&quot;,&quot;CN_NUMBER_BD_fin&quot;:&quot;185&quot;,&quot;CN_FREQ_SCZ_afr&quot;:&quot;0,0.032051,0.481685,0.23779,0.184371,0.051282,0.009768,0.002747,0.000305&quot;,&quot;CN_NONREF_COUNT_eas&quot;:&quot;9&quot;,&quot;CN_COUNT_SCZ_fin&quot;:&quot;0,115,464,27,9&quot;,&quot;END&quot;:&quot;32000&quot;,&quot;CN_NONREF_FREQ_BD_oth&quot;:&quot;0.5&quot;,&quot;CN_NONREF_COUNT_amr&quot;:&quot;582&quot;,&quot;CN_NONREF_FREQ_eas&quot;:&quot;0.28125&quot;,&quot;CN_NUMBER_SCZ_afr&quot;:&quot;3276&quot;,&quot;CN_NUMBER_oth&quot;:&quot;464&quot;,&quot;CN_NONREF_FREQ_SCZ_oth&quot;:&quot;0.190476&quot;,&quot;CN_NONREF_COUNT_ami&quot;:&quot;6&quot;,&quot;CN_COUNT_BD_fin&quot;:&quot;0,24,151,7,3&quot;,&quot;CN_COUNT_BD_nfe&quot;:&quot;0,81,502,41,6&quot;,&quot;CN_NONREF_COUNT_BD_asj&quot;:&quot;1&quot;,&quot;CN_NONREF_FREQ_BD_ami&quot;:&quot;0&quot;,&quot;CN_STATUS_SCZ_asj&quot;:&quot;0,1,2,3,4,5&quot;,&quot;CN_STATUS_CTRL_asj&quot;:&quot;0,1,2,3,4&quot;,&quot;CN_NUMBER_CTRL&quot;:&quot;15969&quot;,&quot;CN_NONREF_FREQ_BD_asj&quot;:&quot;1&quot;,&quot;CN_STATUS_BD_amr&quot;:&quot;0,1,2&quot;,&quot;CN_COUNT_CTRL&quot;:&quot;0,1787,10560,1977,1208,352,65,16,4&quot;,&quot;CN_NONREF_COUNT_BD_ami&quot;:&quot;0&quot;,&quot;CN_STATUS_CTRL_afr&quot;:&quot;0,1,2,3,4,5,6,7,8&quot;,&quot;CN_NONREF_FREQ_CTRL_nfe&quot;:&quot;0.240186&quot;,&quot;CN_NUMBER_CTRL_amr&quot;:&quot;1823&quot;,&quot;CN_NONREF_COUNT_CTRL_amr&quot;:&quot;558&quot;,&quot;CN_FREQ_CTRL_nfe&quot;:&quot;0,0.160872,0.759814,0.063291,0.0141,0.001923&quot;,&quot;CN_NONREF_FREQ_BD_fin&quot;:&quot;0.183784&quot;,&quot;CN_STATUS_afr&quot;:&quot;0,1,2,3,4,5,6,7,8&quot;,&quot;CN_COUNT_SCZ_asj&quot;:&quot;0,4,17,4,0,1&quot;,&quot;EVIDENCE&quot;:&quot;RD&quot;,&quot;CN_NUMBER_mid&quot;:&quot;8&quot;,&quot;CN_NONREF_FREQ_CTRL_sas&quot;:&quot;0.285714&quot;,&quot;CN_NONREF_FREQ_SCZ_asj&quot;:&quot;0.346154&quot;,&quot;CN_NUMBER_BD_nfe&quot;:&quot;630&quot;,&quot;CN_FREQ_BD_oth&quot;:&quot;0,0,0.5,0.5&quot;,&quot;CN_FREQ_eas&quot;:&quot;0,0,0.71875,0.25,0.03125&quot;,&quot;CN_NUMBER_CTRL_afr&quot;:&quot;5431&quot;,&quot;CN_NONREF_FREQ_SCZ_mid&quot;:&quot;0.333333&quot;,&quot;CN_STATUS_ami&quot;:&quot;0,1,2,3&quot;,&quot;CN_COUNT_asj&quot;:&quot;0,75,212,15,3,1&quot;,&quot;CN_COUNT_CTRL_nfe&quot;:&quot;0,1004,4742,395,88,12&quot;,&quot;CN_FREQ_CTRL&quot;:&quot;0,0.111904,0.661281,0.123802,0.075647,0.022043,0.00407,0.001002,0.00025&quot;,&quot;CN_FREQ_CTRL_amr&quot;:&quot;0,0.113001,0.693911,0.122874,0.054306,0.012617,0.002194,0.001097&quot;,&quot;CN_FREQ_oth&quot;:&quot;0,0.116379,0.724138,0.105603,0.040948,0.010776,0.002155&quot;,&quot;CN_STATUS_CTRL_nfe&quot;:&quot;0,1,2,3,4,5&quot;,&quot;CN_NONREF_COUNT_fin&quot;:&quot;585&quot;,&quot;CN_FREQ_OthDISEASE&quot;:&quot;0,0.125,0.875&quot;,&quot;CN_FREQ_fin&quot;:&quot;0,0.160678,0.763827,0.061768,0.013726&quot;,&quot;CN_NONREF_FREQ_CTRL_amr&quot;:&quot;0.306089&quot;,&quot;CN_FREQ_CTRL_asj&quot;:&quot;0,0.250896,0.698925,0.039427,0.010753&quot;,&quot;CN_NONREF_COUNT_CTRL_afr&quot;:&quot;2724&quot;,&quot;CN_COUNT_SCZ_amr&quot;:&quot;0,6,100,10,5,1&quot;,&quot;CN_NONREF_COUNT_CTRL_oth&quot;:&quot;122&quot;,&quot;CN_STATUS_CASE_nfe&quot;:&quot;0,1,2&quot;,&quot;SVTYPE&quot;:&quot;CNV&quot;,&quot;CN_NONREF_COUNT_CTRL&quot;:&quot;5409&quot;,&quot;CN_NUMBER_CTRL_ami&quot;:&quot;21&quot;,&quot;CN_COUNT_SCZ&quot;:&quot;0,336,3001,931,645,176,33,9,1&quot;,&quot;CN_STATUS_BD_fin&quot;:&quot;0,1,2,3,4&quot;,&quot;CN_STATUS_BD_oth&quot;:&quot;0,1,2,3&quot;,&quot;CN_STATUS_SCZ_sas&quot;:&quot;0,1,2&quot;,&quot;CN_NONREF_FREQ_CTRL_asj&quot;:&quot;0.301075&quot;,&quot;CN_STATUS_SCZ_fin&quot;:&quot;0,1,2,3,4&quot;,&quot;CN_FREQ_SCZ_mid&quot;:&quot;0,0,0.666667,0,0.333333&quot;,&quot;CN_NUMBER_asj&quot;:&quot;306&quot;,&quot;CN_STATUS_CTRL_sas&quot;:&quot;0,1,2,3,4&quot;,&quot;CN_NONREF_FREQ_CTRL&quot;:&quot;0.338719&quot;}</td><td style=\"white-space: nowrap; max-width: 500px; overflow: hidden; text-overflow: ellipsis; \">[&quot;ALGORITHMS&quot;,&quot;CHR2&quot;,&quot;CN_COUNT&quot;,&quot;CN_COUNT_BD&quot;,&quot;CN_COUNT_BD_afr&quot;,&quot;CN_COUNT_BD_ami&quot;,&quot;CN_COUNT_BD_amr&quot;,&quot;CN_COUNT_BD_asj&quot;,&quot;CN_COUNT_BD_fin&quot;,&quot;CN_COUNT_BD_nfe&quot;,&quot;CN_COUNT_BD_oth&quot;,&quot;CN_COUNT_CASE&quot;,&quot;CN_COUNT_CASE_nfe&quot;,&quot;CN_COUNT_CTRL&quot;,&quot;CN_COUNT_CTRL_afr&quot;,&quot;CN_COUNT_CTRL_ami&quot;,&quot;CN_COUNT_CTRL_amr&quot;,&quot;CN_COUNT_CTRL_asj&quot;,&quot;CN_COUNT_CTRL_eas&quot;,&quot;CN_COUNT_CTRL_fin&quot;,&quot;CN_COUNT_CTRL_mid&quot;,&quot;CN_COUNT_CTRL_nfe&quot;,&quot;CN_COUNT_CTRL_oth&quot;,&quot;CN_COUNT_CTRL_sas&quot;,&quot;CN_COUNT_OthDISEASE&quot;,&quot;CN_COUNT_SCZ&quot;,&quot;CN_COUNT_SCZ_afr&quot;,&quot;CN_COUNT_SCZ_amr&quot;,&quot;CN_COUNT_SCZ_asj&quot;,&quot;CN_COUNT_SCZ_fin&quot;,&quot;CN_COUNT_SCZ_mid&quot;,&quot;CN_COUNT_SCZ_nfe&quot;,&quot;CN_COUNT_SCZ_oth&quot;,&quot;CN_COUNT_SCZ_sas&quot;,&quot;CN_COUNT_afr&quot;,&quot;CN_COUNT_ami&quot;,&quot;CN_COUNT_amr&quot;,&quot;CN_COUNT_asj&quot;,&quot;CN_COUNT_eas&quot;,&quot;CN_COUNT_fin&quot;,&quot;CN_COUNT_mid&quot;,&quot;CN_COUNT_nfe&quot;,&quot;CN_COUNT_oth&quot;,&quot;CN_COUNT_sas&quot;,&quot;CN_FREQ&quot;,&quot;CN_FREQ_BD&quot;,&quot;CN_FREQ_BD_afr&quot;,&quot;CN_FREQ_BD_ami&quot;,&quot;CN_FREQ_BD_amr&quot;,&quot;CN_FREQ_BD_asj&quot;,&quot;CN_FREQ_BD_fin&quot;,&quot;CN_FREQ_BD_nfe&quot;,&quot;CN_FREQ_BD_oth&quot;,&quot;CN_FREQ_CASE&quot;,&quot;CN_FREQ_CASE_nfe&quot;,&quot;CN_FREQ_CTRL&quot;,&quot;CN_FREQ_CTRL_afr&quot;,&quot;CN_FREQ_CTRL_ami&quot;,&quot;CN_FREQ_CTRL_amr&quot;,&quot;CN_FREQ_CTRL_asj&quot;,&quot;CN_FREQ_CTRL_eas&quot;,&quot;CN_FREQ_CTRL_fin&quot;,&quot;CN_FREQ_CTRL_mid&quot;,&quot;CN_FREQ_CTRL_nfe&quot;,&quot;CN_FREQ_CTRL_oth&quot;,&quot;CN_FREQ_CTRL_sas&quot;,&quot;CN_FREQ_OthDISEASE&quot;,&quot;CN_FREQ_SCZ&quot;,&quot;CN_FREQ_SCZ_afr&quot;,&quot;CN_FREQ_SCZ_amr&quot;,&quot;CN_FREQ_SCZ_asj&quot;,&quot;CN_FREQ_SCZ_fin&quot;,&quot;CN_FREQ_SCZ_mid&quot;,&quot;CN_FREQ_SCZ_nfe&quot;,&quot;CN_FREQ_SCZ_oth&quot;,&quot;CN_FREQ_SCZ_sas&quot;,&quot;CN_FREQ_afr&quot;,&quot;CN_FREQ_ami&quot;,&quot;CN_FREQ_amr&quot;,&quot;CN_FREQ_asj&quot;,&quot;CN_FREQ_eas&quot;,&quot;CN_FREQ_fin&quot;,&quot;CN_FREQ_mid&quot;,&quot;CN_FREQ_nfe&quot;,&quot;CN_FREQ_oth&quot;,&quot;CN_FREQ_sas&quot;,&quot;CN_NONREF_COUNT&quot;,&quot;CN_NONREF_COUNT_BD&quot;,&quot;CN_NONREF_COUNT_BD_afr&quot;,&quot;CN_NONREF_COUNT_BD_ami&quot;,&quot;CN_NONREF_COUNT_BD_amr&quot;,&quot;CN_NONREF_COUNT_BD_asj&quot;,&quot;CN_NONREF_COUNT_BD_fin&quot;,&quot;CN_NONREF_COUNT_BD_nfe&quot;,&quot;CN_NONREF_COUNT_BD_oth&quot;,&quot;CN_NONREF_COUNT_CASE&quot;,&quot;CN_NONREF_COUNT_CASE_nfe&quot;,&quot;CN_NONREF_COUNT_CTRL&quot;,&quot;CN_NONREF_COUNT_CTRL_afr&quot;,&quot;CN_NONREF_COUNT_CTRL_ami&quot;,&quot;CN_NONREF_COUNT_CTRL_amr&quot;,&quot;CN_NONREF_COUNT_CTRL_asj&quot;,&quot;CN_NONREF_COUNT_CTRL_eas&quot;,&quot;CN_NONREF_COUNT_CTRL_fin&quot;,&quot;CN_NONREF_COUNT_CTRL_mid&quot;,&quot;CN_NONREF_COUNT_CTRL_nfe&quot;,&quot;CN_NONREF_COUNT_CTRL_oth&quot;,&quot;CN_NONREF_COUNT_CTRL_sas&quot;,&quot;CN_NONREF_COUNT_OthDISEASE&quot;,&quot;CN_NONREF_COUNT_SCZ&quot;,&quot;CN_NONREF_COUNT_SCZ_afr&quot;,&quot;CN_NONREF_COUNT_SCZ_amr&quot;,&quot;CN_NONREF_COUNT_SCZ_asj&quot;,&quot;CN_NONREF_COUNT_SCZ_fin&quot;,&quot;CN_NONREF_COUNT_SCZ_mid&quot;,&quot;CN_NONREF_COUNT_SCZ_nfe&quot;,&quot;CN_NONREF_COUNT_SCZ_oth&quot;,&quot;CN_NONREF_COUNT_SCZ_sas&quot;,&quot;CN_NONREF_COUNT_afr&quot;,&quot;CN_NONREF_COUNT_ami&quot;,&quot;CN_NONREF_COUNT_amr&quot;,&quot;CN_NONREF_COUNT_asj&quot;,&quot;CN_NONREF_COUNT_eas&quot;,&quot;CN_NONREF_COUNT_fin&quot;,&quot;CN_NONREF_COUNT_mid&quot;,&quot;CN_NONREF_COUNT_nfe&quot;,&quot;CN_NONREF_COUNT_oth&quot;,&quot;CN_NONREF_COUNT_sas&quot;,&quot;CN_NONREF_FREQ&quot;,&quot;CN_NONREF_FREQ_BD&quot;,&quot;CN_NONREF_FREQ_BD_afr&quot;,&quot;CN_NONREF_FREQ_BD_ami&quot;,&quot;CN_NONREF_FREQ_BD_amr&quot;,&quot;CN_NONREF_FREQ_BD_asj&quot;,&quot;CN_NONREF_FREQ_BD_fin&quot;,&quot;CN_NONREF_FREQ_BD_nfe&quot;,&quot;CN_NONREF_FREQ_BD_oth&quot;,&quot;CN_NONREF_FREQ_CASE&quot;,&quot;CN_NONREF_FREQ_CASE_nfe&quot;,&quot;CN_NONREF_FREQ_CTRL&quot;,&quot;CN_NONREF_FREQ_CTRL_afr&quot;,&quot;CN_NONREF_FREQ_CTRL_ami&quot;,&quot;CN_NONREF_FREQ_CTRL_amr&quot;,&quot;CN_NONREF_FREQ_CTRL_asj&quot;,&quot;CN_NONREF_FREQ_CTRL_eas&quot;,&quot;CN_NONREF_FREQ_CTRL_fin&quot;,&quot;CN_NONREF_FREQ_CTRL_mid&quot;,&quot;CN_NONREF_FREQ_CTRL_nfe&quot;,&quot;CN_NONREF_FREQ_CTRL_oth&quot;,&quot;CN_NONREF_FREQ_CTRL_sas&quot;,&quot;CN_NONREF_FREQ_OthDISEASE&quot;,&quot;CN_NONREF_FREQ_SCZ&quot;,&quot;CN_NONREF_FREQ_SCZ_afr&quot;,&quot;CN_NONREF_FREQ_SCZ_amr&quot;,&quot;CN_NONREF_FREQ_SCZ_asj&quot;,&quot;CN_NONREF_FREQ_SCZ_fin&quot;,&quot;CN_NONREF_FREQ_SCZ_mid&quot;,&quot;CN_NONREF_FREQ_SCZ_nfe&quot;,&quot;CN_NONREF_FREQ_SCZ_oth&quot;,&quot;CN_NONREF_FREQ_SCZ_sas&quot;,&quot;CN_NONREF_FREQ_afr&quot;,&quot;CN_NONREF_FREQ_ami&quot;,&quot;CN_NONREF_FREQ_amr&quot;,&quot;CN_NONREF_FREQ_asj&quot;,&quot;CN_NONREF_FREQ_eas&quot;,&quot;CN_NONREF_FREQ_fin&quot;,&quot;CN_NONREF_FREQ_mid&quot;,&quot;CN_NONREF_FREQ_nfe&quot;,&quot;CN_NONREF_FREQ_oth&quot;,&quot;CN_NONREF_FREQ_sas&quot;,&quot;CN_NUMBER&quot;,&quot;CN_NUMBER_BD&quot;,&quot;CN_NUMBER_BD_afr&quot;,&quot;CN_NUMBER_BD_ami&quot;,&quot;CN_NUMBER_BD_amr&quot;,&quot;CN_NUMBER_BD_asj&quot;,&quot;CN_NUMBER_BD_fin&quot;,&quot;CN_NUMBER_BD_nfe&quot;,&quot;CN_NUMBER_BD_oth&quot;,&quot;CN_NUMBER_CASE&quot;,&quot;CN_NUMBER_CASE_nfe&quot;,&quot;CN_NUMBER_CTRL&quot;,&quot;CN_NUMBER_CTRL_afr&quot;,&quot;CN_NUMBER_CTRL_ami&quot;,&quot;CN_NUMBER_CTRL_amr&quot;,&quot;CN_NUMBER_CTRL_asj&quot;,&quot;CN_NUMBER_CTRL_eas&quot;,&quot;CN_NUMBER_CTRL_fin&quot;,&quot;CN_NUMBER_CTRL_mid&quot;,&quot;CN_NUMBER_CTRL_nfe&quot;,&quot;CN_NUMBER_CTRL_oth&quot;,&quot;CN_NUMBER_CTRL_sas&quot;,&quot;CN_NUMBER_OthDISEASE&quot;,&quot;CN_NUMBER_SCZ&quot;,&quot;CN_NUMBER_SCZ_afr&quot;,&quot;CN_NUMBER_SCZ_amr&quot;,&quot;CN_NUMBER_SCZ_asj&quot;,&quot;CN_NUMBER_SCZ_fin&quot;,&quot;CN_NUMBER_SCZ_mid&quot;,&quot;CN_NUMBER_SCZ_nfe&quot;,&quot;CN_NUMBER_SCZ_oth&quot;,&quot;CN_NUMBER_SCZ_sas&quot;,&quot;CN_NUMBER_afr&quot;,&quot;CN_NUMBER_ami&quot;,&quot;CN_NUMBER_amr&quot;,&quot;CN_NUMBER_asj&quot;,&quot;CN_NUMBER_eas&quot;,&quot;CN_NUMBER_fin&quot;,&quot;CN_NUMBER_mid&quot;,&quot;CN_NUMBER_nfe&quot;,&quot;CN_NUMBER_oth&quot;,&quot;CN_NUMBER_sas&quot;,&quot;CN_STATUS&quot;,&quot;CN_STATUS_BD&quot;,&quot;CN_STATUS_BD_afr&quot;,&quot;CN_STATUS_BD_ami&quot;,&quot;CN_STATUS_BD_amr&quot;,&quot;CN_STATUS_BD_asj&quot;,&quot;CN_STATUS_BD_fin&quot;,&quot;CN_STATUS_BD_nfe&quot;,&quot;CN_STATUS_BD_oth&quot;,&quot;CN_STATUS_CASE&quot;,&quot;CN_STATUS_CASE_nfe&quot;,&quot;CN_STATUS_CTRL&quot;,&quot;CN_STATUS_CTRL_afr&quot;,&quot;CN_STATUS_CTRL_ami&quot;,&quot;CN_STATUS_CTRL_amr&quot;,&quot;CN_STATUS_CTRL_asj&quot;,&quot;CN_STATUS_CTRL_eas&quot;,&quot;CN_STATUS_CTRL_fin&quot;,&quot;CN_STATUS_CTRL_mid&quot;,&quot;CN_STATUS_CTRL_nfe&quot;,&quot;CN_STATUS_CTRL_oth&quot;,&quot;CN_STATUS_CTRL_sas&quot;,&quot;CN_STATUS_OthDISEASE&quot;,&quot;CN_STATUS_SCZ&quot;,&quot;CN_STATUS_SCZ_afr&quot;,&quot;CN_STATUS_SCZ_amr&quot;,&quot;CN_STATUS_SCZ_asj&quot;,&quot;CN_STATUS_SCZ_fin&quot;,&quot;CN_STATUS_SCZ_mid&quot;,&quot;CN_STATUS_SCZ_nfe&quot;,&quot;CN_STATUS_SCZ_oth&quot;,&quot;CN_STATUS_SCZ_sas&quot;,&quot;CN_STATUS_afr&quot;,&quot;CN_STATUS_ami&quot;,&quot;CN_STATUS_amr&quot;,&quot;CN_STATUS_asj&quot;,&quot;CN_STATUS_eas&quot;,&quot;CN_STATUS_fin&quot;,&quot;CN_STATUS_mid&quot;,&quot;CN_STATUS_nfe&quot;,&quot;CN_STATUS_oth&quot;,&quot;CN_STATUS_sas&quot;,&quot;END&quot;,&quot;EVIDENCE&quot;,&quot;MULTIALLELIC&quot;,&quot;PREDICTED_INTERGENIC&quot;,&quot;PREDICTED_NEAREST_TSS&quot;,&quot;SVLEN&quot;,&quot;SVTYPE&quot;]</td></tr>\n",
       "<tr><td style=\"white-space: nowrap; max-width: 500px; overflow: hidden; text-overflow: ellipsis; \">chr1:22000</td><td style=\"white-space: nowrap; max-width: 500px; overflow: hidden; text-overflow: ellipsis; \">&quot;gnomAD-SV_v3_DEL_chr1_fa103016&quot;</td><td style=\"white-space: nowrap; max-width: 500px; overflow: hidden; text-overflow: ellipsis; \">&quot;DEL&quot;</td><td style=\"white-space: nowrap; max-width: 500px; overflow: hidden; text-overflow: ellipsis; \">&quot;999&quot;</td><td style=\"white-space: nowrap; max-width: 500px; overflow: hidden; text-overflow: ellipsis; \">[&quot;HIGH_NCR&quot;]</td><td style=\"white-space: nowrap; max-width: 500px; overflow: hidden; text-overflow: ellipsis; \">{&quot;N_HOMALT_CTRL&quot;:&quot;0&quot;,&quot;AF_CTRL_oth&quot;:&quot;0.024351&quot;,&quot;FREQ_HOMALT_CTRL_mid&quot;:&quot;0&quot;,&quot;N_HOMALT_CTRL_fin&quot;:&quot;0&quot;,&quot;AC_CASE_nfe&quot;:&quot;1&quot;,&quot;N_HOMREF_nfe&quot;:&quot;5191&quot;,&quot;FREQ_HOMREF_sas&quot;:&quot;0.833333&quot;,&quot;N_HET_eas&quot;:&quot;0&quot;,&quot;N_HOMALT_CASE_nfe&quot;:&quot;0&quot;,&quot;FREQ_HOMALT_CTRL_fin&quot;:&quot;0&quot;,&quot;N_HOMREF_mid&quot;:&quot;6&quot;,&quot;AF_SCZ&quot;:&quot;0.009024&quot;,&quot;AN_CTRL_mid&quot;:&quot;8&quot;,&quot;FREQ_HET_SCZ_mid&quot;:&quot;0&quot;,&quot;N_HET_BD_fin&quot;:&quot;1&quot;,&quot;N_HOMALT_SCZ_afr&quot;:&quot;0&quot;,&quot;N_HOMREF_SCZ_oth&quot;:&quot;16&quot;,&quot;AC_SCZ_fin&quot;:&quot;9&quot;,&quot;N_HOMREF_SCZ_fin&quot;:&quot;424&quot;,&quot;FREQ_HOMREF_BD_nfe&quot;:&quot;0.950237&quot;,&quot;AF_CASE_nfe&quot;:&quot;0.071429&quot;,&quot;FREQ_HET_CTRL_asj&quot;:&quot;0.0348259&quot;,&quot;N_HET&quot;:&quot;1262&quot;,&quot;AN_SCZ&quot;:&quot;7314&quot;,&quot;FREQ_HET_BD&quot;:&quot;0.0277778&quot;,&quot;AN_CTRL_nfe&quot;:&quot;8448&quot;,&quot;AF_BD_asj&quot;:&quot;0&quot;,&quot;N_HOMALT_oth&quot;:&quot;0&quot;,&quot;AN_SCZ_afr&quot;:&quot;4572&quot;,&quot;N_HET_SCZ_amr&quot;:&quot;6&quot;,&quot;AF_SCZ_fin&quot;:&quot;0.010393&quot;,&quot;FREQ_HET_SCZ_nfe&quot;:&quot;0.0235732&quot;,&quot;AC_amr&quot;:&quot;57&quot;,&quot;AF_SCZ_sas&quot;:&quot;0&quot;,&quot;N_HOMREF_OthDISEASE&quot;:&quot;6&quot;,&quot;AN_BD_ami&quot;:&quot;2&quot;,&quot;FREQ_HET_BD_oth&quot;:&quot;0&quot;,&quot;FREQ_HET_CTRL_sas&quot;:&quot;0.181818&quot;,&quot;FREQ_HOMREF_CTRL_nfe&quot;:&quot;0.946259&quot;,&quot;FREQ_HOMREF_BD_oth&quot;:&quot;1&quot;,&quot;N_HOMALT_fin&quot;:&quot;0&quot;,&quot;FREQ_HOMALT_CTRL_ami&quot;:&quot;0&quot;,&quot;N_BI_GENOS_CASE_nfe&quot;:&quot;7&quot;,&quot;N_HOMREF_CASE_nfe&quot;:&quot;6&quot;,&quot;AC_CTRL_asj&quot;:&quot;7&quot;,&quot;N_HET_amr&quot;:&quot;57&quot;,&quot;AC&quot;:&quot;1262&quot;,&quot;FREQ_HOMREF_oth&quot;:&quot;0.951219&quot;,&quot;N_BI_GENOS_amr&quot;:&quot;1328&quot;,&quot;AC_afr&quot;:&quot;86&quot;,&quot;N_HOMALT_BD_afr&quot;:&quot;0&quot;,&quot;N_HOMALT_CTRL_ami&quot;:&quot;0&quot;,&quot;N_HET_CTRL_nfe&quot;:&quot;227&quot;,&quot;N_HOMALT_BD_amr&quot;:&quot;0&quot;,&quot;N_BI_GENOS&quot;:&quot;44446&quot;,&quot;FREQ_HET_CTRL&quot;:&quot;0.0336442&quot;,&quot;AC_BD_asj&quot;:&quot;0&quot;,&quot;N_HOMREF_SCZ_nfe&quot;:&quot;787&quot;,&quot;N_HOMREF_asj&quot;:&quot;214&quot;,&quot;N_HOMALT_SCZ_mid&quot;:&quot;0&quot;,&quot;AC_CTRL_sas&quot;:&quot;2&quot;,&quot;N_HET_BD_amr&quot;:&quot;2&quot;,&quot;N_HOMALT_SCZ_oth&quot;:&quot;0&quot;,&quot;AC_BD_oth&quot;:&quot;0&quot;,&quot;FREQ_HET_oth&quot;:&quot;0.0487805&quot;,&quot;N_HET_CTRL_oth&quot;:&quot;15&quot;,&quot;N_BI_GENOS_sas&quot;:&quot;12&quot;,&quot;N_BI_GENOS_CTRL_fin&quot;:&quot;1229&quot;,&quot;FREQ_HOMREF_ami&quot;:&quot;0.733333&quot;,&quot;N_HET_CTRL_afr&quot;:&quot;46&quot;,&quot;N_HET_fin&quot;:&quot;28&quot;,&quot;N_HOMREF_CTRL_oth&quot;:&quot;293&quot;,&quot;N_BI_GENOS_eas&quot;:&quot;9&quot;,&quot;N_HET_CTRL&quot;:&quot;368&quot;,&quot;AN_CTRL_asj&quot;:&quot;402&quot;,&quot;N_HOMREF_BD_ami&quot;:&quot;1&quot;,&quot;N_BI_GENOS_ami&quot;:&quot;15&quot;,&quot;AF_CTRL_fin&quot;:&quot;0.007323&quot;,&quot;N_HOMREF_CTRL_mid&quot;:&quot;4&quot;,&quot;FREQ_HOMALT_afr&quot;:&quot;0&quot;,&quot;FREQ_HET_SCZ_amr&quot;:&quot;0.0645161&quot;,&quot;FREQ_HOMREF_CTRL_afr&quot;:&quot;0.987598&quot;,&quot;AF_SCZ_amr&quot;:&quot;0.032258&quot;,&quot;AN_CTRL_eas&quot;:&quot;18&quot;,&quot;FREQ_HOMREF_CTRL_ami&quot;:&quot;0.714286&quot;,&quot;N_BI_GENOS_BD_asj&quot;:&quot;1&quot;,&quot;N_HET_SCZ_nfe&quot;:&quot;19&quot;,&quot;FREQ_HET_CTRL_afr&quot;:&quot;0.0124023&quot;,&quot;AN_eas&quot;:&quot;18&quot;,&quot;FREQ_HOMALT_asj&quot;:&quot;0&quot;,&quot;FREQ_HOMREF_SCZ_afr&quot;:&quot;0.986439&quot;,&quot;AC_eas&quot;:&quot;0&quot;,&quot;N_BI_GENOS_SCZ_fin&quot;:&quot;433&quot;,&quot;N_HET_BD_afr&quot;:&quot;9&quot;,&quot;FREQ_HOMALT_CASE_nfe&quot;:&quot;0&quot;,&quot;AC_ami&quot;:&quot;4&quot;,&quot;AN_fin&quot;:&quot;3588&quot;,&quot;AF_BD_ami&quot;:&quot;0&quot;,&quot;AC_BD_amr&quot;:&quot;2&quot;,&quot;N_HOMREF_CTRL_nfe&quot;:&quot;3997&quot;,&quot;AN&quot;:&quot;88892&quot;,&quot;N_HOMALT_CASE&quot;:&quot;0&quot;,&quot;AF_ami&quot;:&quot;0.133333&quot;,&quot;PREDICTED_INTERGENIC&quot;:&quot;&quot;,&quot;N_BI_GENOS_SCZ_nfe&quot;:&quot;806&quot;,&quot;AN_oth&quot;:&quot;656&quot;,&quot;AF_asj&quot;:&quot;0.015837&quot;,&quot;AN_BD_oth&quot;:&quot;6&quot;,&quot;FREQ_HOMREF_CASE&quot;:&quot;0.97939&quot;,&quot;FREQ_HET_SCZ_oth&quot;:&quot;0.0588235&quot;,&quot;N_HOMALT_SCZ&quot;:&quot;0&quot;,&quot;N_BI_GENOS_CTRL_sas&quot;:&quot;11&quot;,&quot;FREQ_HOMALT_SCZ_amr&quot;:&quot;0&quot;,&quot;N_HET_BD_ami&quot;:&quot;0&quot;,&quot;FREQ_HOMREF_BD_afr&quot;:&quot;0.985554&quot;,&quot;N_HOMALT_BD_asj&quot;:&quot;0&quot;,&quot;AF_BD_oth&quot;:&quot;0&quot;,&quot;AF_SCZ_afr&quot;:&quot;0.00678&quot;,&quot;FREQ_HET_CTRL_eas&quot;:&quot;0&quot;,&quot;N_HET_BD_asj&quot;:&quot;0&quot;,&quot;AC_BD_fin&quot;:&quot;1&quot;,&quot;AC_CTRL&quot;:&quot;368&quot;,&quot;FREQ_HOMREF_afr&quot;:&quot;0.987005&quot;,&quot;N_BI_GENOS_asj&quot;:&quot;221&quot;,&quot;N_BI_GENOS_CTRL_asj&quot;:&quot;201&quot;,&quot;N_BI_GENOS_CTRL_mid&quot;:&quot;4&quot;,&quot;AF_SCZ_mid&quot;:&quot;0&quot;,&quot;N_BI_GENOS_SCZ_afr&quot;:&quot;2286&quot;,&quot;FREQ_HOMALT_SCZ_afr&quot;:&quot;0&quot;,&quot;FREQ_HET_BD_afr&quot;:&quot;0.0144462&quot;,&quot;AC_BD_ami&quot;:&quot;0&quot;,&quot;N_HOMREF_CTRL_sas&quot;:&quot;9&quot;,&quot;AN_CTRL_ami&quot;:&quot;28&quot;,&quot;AC_BD_afr&quot;:&quot;9&quot;,&quot;FREQ_HOMALT_ami&quot;:&quot;0&quot;,&quot;AF_OthDISEASE&quot;:&quot;0.071429&quot;,&quot;N_HOMREF_SCZ_mid&quot;:&quot;2&quot;,&quot;N_HOMALT_CTRL_afr&quot;:&quot;0&quot;,&quot;N_BI_GENOS_BD_ami&quot;:&quot;1&quot;,&quot;FREQ_HET_ami&quot;:&quot;0.266667&quot;,&quot;AN_CASE_nfe&quot;:&quot;14&quot;,&quot;FREQ_HOMREF_CTRL_oth&quot;:&quot;0.951299&quot;,&quot;N_HET_BD&quot;:&quot;33&quot;,&quot;N_HOMREF_CTRL_asj&quot;:&quot;194&quot;,&quot;FREQ_HET_CTRL_mid&quot;:&quot;0&quot;,&quot;N_HET_SCZ_sas&quot;:&quot;0&quot;,&quot;FREQ_HET_CTRL_amr&quot;:&quot;0.0398698&quot;,&quot;N_BI_GENOS_mid&quot;:&quot;6&quot;,&quot;N_HOMREF_CTRL_afr&quot;:&quot;3663&quot;,&quot;FREQ_HOMALT_OthDISEASE&quot;:&quot;0&quot;,&quot;N_HOMALT&quot;:&quot;0&quot;,&quot;N_HOMALT_sas&quot;:&quot;0&quot;,&quot;N_BI_GENOS_BD&quot;:&quot;1188&quot;,&quot;N_BI_GENOS_CTRL_eas&quot;:&quot;9&quot;,&quot;AN_SCZ_nfe&quot;:&quot;1612&quot;,&quot;FREQ_HET&quot;:&quot;0.028394&quot;,&quot;FREQ_HET_amr&quot;:&quot;0.0429217&quot;,&quot;N_HET_afr&quot;:&quot;86&quot;,&quot;FREQ_HOMALT_CTRL_nfe&quot;:&quot;0&quot;,&quot;FREQ_HET_CASE_nfe&quot;:&quot;0.142857&quot;,&quot;FREQ_HET_SCZ_asj&quot;:&quot;0&quot;,&quot;N_BI_GENOS_CTRL_nfe&quot;:&quot;4224&quot;,&quot;AF&quot;:&quot;0.014197&quot;,&quot;FREQ_HOMREF_nfe&quot;:&quot;0.950907&quot;,&quot;AF_nfe&quot;:&quot;0.024547&quot;,&quot;FREQ_HOMREF_OthDISEASE&quot;:&quot;0.857143&quot;,&quot;AC_SCZ_afr&quot;:&quot;31&quot;,&quot;N_HET_oth&quot;:&quot;16&quot;,&quot;N_HOMREF_BD&quot;:&quot;1155&quot;,&quot;AF_BD_fin&quot;:&quot;0.003788&quot;,&quot;FREQ_HOMREF_CTRL_mid&quot;:&quot;1&quot;,&quot;N_HOMALT_eas&quot;:&quot;0&quot;,&quot;FREQ_HET_SCZ_fin&quot;:&quot;0.0207852&quot;,&quot;AF_BD_amr&quot;:&quot;0.166667&quot;,&quot;N_HET_mid&quot;:&quot;0&quot;,&quot;N_HET_SCZ_fin&quot;:&quot;9&quot;,&quot;AN_BD_amr&quot;:&quot;12&quot;,&quot;AC_SCZ_amr&quot;:&quot;6&quot;,&quot;FREQ_HOMREF_mid&quot;:&quot;1&quot;,&quot;FREQ_HOMALT_BD_nfe&quot;:&quot;0&quot;,&quot;N_BI_GENOS_CTRL_afr&quot;:&quot;3709&quot;,&quot;FREQ_HET_CTRL_oth&quot;:&quot;0.0487013&quot;,&quot;N_BI_GENOS_fin&quot;:&quot;1794&quot;,&quot;N_BI_GENOS_CTRL_amr&quot;:&quot;1229&quot;,&quot;FREQ_HOMREF_SCZ_amr&quot;:&quot;0.935484&quot;,&quot;FREQ_HOMREF_SCZ_fin&quot;:&quot;0.979215&quot;,&quot;N_HOMREF_sas&quot;:&quot;10&quot;,&quot;AC_BD_nfe&quot;:&quot;21&quot;,&quot;FREQ_HOMREF_BD_ami&quot;:&quot;1&quot;,&quot;FREQ_HET_SCZ&quot;:&quot;0.0180476&quot;,&quot;AF_SCZ_oth&quot;:&quot;0.029412&quot;,&quot;AN_CTRL_fin&quot;:&quot;2458&quot;,&quot;FREQ_HOMREF_CTRL&quot;:&quot;0.966356&quot;,&quot;AC_CTRL_fin&quot;:&quot;18&quot;,&quot;NCR&quot;:&quot;0.288691&quot;,&quot;FREQ_HOMREF_SCZ_mid&quot;:&quot;1&quot;,&quot;N_HET_sas&quot;:&quot;2&quot;,&quot;N_HOMREF_oth&quot;:&quot;312&quot;,&quot;AN_CTRL_sas&quot;:&quot;22&quot;,&quot;AF_oth&quot;:&quot;0.02439&quot;,&quot;FREQ_HOMREF_CTRL_amr&quot;:&quot;0.96013&quot;,&quot;N_HOMREF_SCZ_asj&quot;:&quot;19&quot;,&quot;AN_amr&quot;:&quot;2656&quot;,&quot;FREQ_HOMALT_oth&quot;:&quot;0&quot;,&quot;FREQ_HOMALT_BD_fin&quot;:&quot;0&quot;,&quot;FREQ_HOMREF_SCZ_nfe&quot;:&quot;0.976427&quot;,&quot;AN_BD_asj&quot;:&quot;2&quot;,&quot;N_HOMREF_fin&quot;:&quot;1766&quot;,&quot;N_HOMALT_BD_ami&quot;:&quot;0&quot;,&quot;CHR2&quot;:&quot;chr1&quot;,&quot;N_HOMREF_CASE&quot;:&quot;4752&quot;,&quot;POPMAX_AF&quot;:&quot;0.166667&quot;,&quot;FREQ_HET_CASE&quot;:&quot;0.0206101&quot;,&quot;AN_BD_nfe&quot;:&quot;844&quot;,&quot;FREQ_HOMALT_BD_asj&quot;:&quot;0&quot;,&quot;AF_BD_nfe&quot;:&quot;0.024882&quot;,&quot;AN_SCZ_amr&quot;:&quot;186&quot;,&quot;N_HOMALT_amr&quot;:&quot;0&quot;,&quot;AF_BD&quot;:&quot;0.013889&quot;,&quot;N_HET_asj&quot;:&quot;7&quot;,&quot;N_BI_GENOS_CTRL_oth&quot;:&quot;308&quot;,&quot;FREQ_HOMALT_amr&quot;:&quot;0&quot;,&quot;FREQ_HOMREF_CTRL_fin&quot;:&quot;0.985354&quot;,&quot;N_HOMALT_CTRL_sas&quot;:&quot;0&quot;,&quot;N_HOMREF_eas&quot;:&quot;9&quot;,&quot;AN_SCZ_mid&quot;:&quot;4&quot;,&quot;N_HOMALT_afr&quot;:&quot;0&quot;,&quot;AC_CTRL_amr&quot;:&quot;49&quot;,&quot;FREQ_HOMALT_CTRL&quot;:&quot;0&quot;,&quot;N_HOMALT_OthDISEASE&quot;:&quot;0&quot;,&quot;FREQ_HOMALT&quot;:&quot;0&quot;,&quot;FREQ_HOMALT_BD_oth&quot;:&quot;0&quot;,&quot;FREQ_HOMREF_CTRL_sas&quot;:&quot;0.818182&quot;,&quot;N_HET_CTRL_eas&quot;:&quot;0&quot;,&quot;FREQ_HOMREF_CASE_nfe&quot;:&quot;0.857143&quot;,&quot;AN_BD&quot;:&quot;2376&quot;,&quot;AF_fin&quot;:&quot;0.007804&quot;,&quot;N_HOMREF_CTRL&quot;:&quot;10570&quot;,&quot;N_HET_BD_nfe&quot;:&quot;21&quot;,&quot;SVLEN&quot;:&quot;8000&quot;,&quot;AC_mid&quot;:&quot;0&quot;,&quot;AN_SCZ_sas&quot;:&quot;2&quot;,&quot;AF_amr&quot;:&quot;0.021461&quot;,&quot;AF_CTRL_mid&quot;:&quot;0&quot;,&quot;AF_SCZ_asj&quot;:&quot;0&quot;,&quot;AC_CTRL_afr&quot;:&quot;46&quot;,&quot;N_HOMREF_BD_asj&quot;:&quot;1&quot;,&quot;FREQ_HOMALT_SCZ&quot;:&quot;0&quot;,&quot;N_HOMREF_CTRL_fin&quot;:&quot;1211&quot;,&quot;N_BI_GENOS_SCZ_oth&quot;:&quot;17&quot;,&quot;N_HET_ami&quot;:&quot;4&quot;,&quot;AC_SCZ&quot;:&quot;66&quot;,&quot;N_HET_CASE&quot;:&quot;100&quot;,&quot;FREQ_HOMALT_SCZ_mid&quot;:&quot;0&quot;,&quot;N_HOMREF_CTRL_ami&quot;:&quot;10&quot;,&quot;N_BI_GENOS_BD_amr&quot;:&quot;6&quot;,&quot;FREQ_HOMALT_BD_amr&quot;:&quot;0&quot;,&quot;N_HOMREF_SCZ_amr&quot;:&quot;87&quot;,&quot;N_HOMREF_BD_oth&quot;:&quot;3&quot;,&quot;N_HOMALT_SCZ_sas&quot;:&quot;0&quot;,&quot;FREQ_HOMREF_SCZ_sas&quot;:&quot;1&quot;,&quot;PREDICTED_NEAREST_TSS&quot;:&quot;OR4F5&quot;,&quot;AC_SCZ_mid&quot;:&quot;0&quot;,&quot;FREQ_HOMALT_CTRL_asj&quot;:&quot;0&quot;,&quot;N_HET_CTRL_fin&quot;:&quot;18&quot;,&quot;N_HOMALT_CTRL_nfe&quot;:&quot;0&quot;,&quot;N_HOMREF_BD_afr&quot;:&quot;614&quot;,&quot;N_HOMREF_SCZ&quot;:&quot;3591&quot;,&quot;FREQ_HOMREF_SCZ&quot;:&quot;0.981952&quot;,&quot;AF_afr&quot;:&quot;0.006497&quot;,&quot;AN_BD_fin&quot;:&quot;264&quot;,&quot;AN_mid&quot;:&quot;12&quot;,&quot;AF_mid&quot;:&quot;0&quot;,&quot;AN_ami&quot;:&quot;30&quot;,&quot;AF_CASE&quot;:&quot;0.010305&quot;,&quot;FREQ_HOMALT_eas&quot;:&quot;0&quot;,&quot;AC_SCZ_nfe&quot;:&quot;19&quot;,&quot;AC_CTRL_ami&quot;:&quot;4&quot;,&quot;FREQ_HOMALT_nfe&quot;:&quot;0&quot;,&quot;N_HET_OthDISEASE&quot;:&quot;1&quot;,&quot;N_HET_CTRL_ami&quot;:&quot;4&quot;,&quot;AN_CTRL_oth&quot;:&quot;616&quot;,&quot;N_HET_nfe&quot;:&quot;268&quot;,&quot;AN_SCZ_asj&quot;:&quot;38&quot;,&quot;N_HOMALT_CTRL_eas&quot;:&quot;0&quot;,&quot;AF_CTRL_sas&quot;:&quot;0.090909&quot;,&quot;FREQ_HET_sas&quot;:&quot;0.166667&quot;,&quot;AN_CTRL_amr&quot;:&quot;2458&quot;,&quot;N_BI_GENOS_CASE&quot;:&quot;4852&quot;,&quot;FREQ_HET_CTRL_fin&quot;:&quot;0.0146461&quot;,&quot;N_HOMALT_BD_oth&quot;:&quot;0&quot;,&quot;FREQ_HET_BD_ami&quot;:&quot;0&quot;,&quot;AC_BD&quot;:&quot;33&quot;,&quot;N_BI_GENOS_BD_afr&quot;:&quot;623&quot;,&quot;N_HOMREF_BD_fin&quot;:&quot;131&quot;,&quot;N_HET_CTRL_asj&quot;:&quot;7&quot;,&quot;FREQ_HOMALT_SCZ_nfe&quot;:&quot;0&quot;,&quot;ALGORITHMS&quot;:&quot;depth&quot;,&quot;N_HOMREF_amr&quot;:&quot;1271&quot;,&quot;FREQ_HET_eas&quot;:&quot;0&quot;,&quot;N_HET_SCZ_mid&quot;:&quot;0&quot;,&quot;N_HOMREF_ami&quot;:&quot;11&quot;,&quot;AN_CASE&quot;:&quot;9704&quot;,&quot;FREQ_HET_nfe&quot;:&quot;0.0490932&quot;,&quot;N_HOMALT_asj&quot;:&quot;0&quot;,&quot;N_HOMALT_SCZ_asj&quot;:&quot;0&quot;,&quot;N_BI_GENOS_CTRL&quot;:&quot;10938&quot;,&quot;AN_CTRL_afr&quot;:&quot;7418&quot;,&quot;FREQ_HOMALT_CTRL_amr&quot;:&quot;0&quot;,&quot;AC_CTRL_eas&quot;:&quot;0&quot;,&quot;FREQ_HET_afr&quot;:&quot;0.0129949&quot;,&quot;FREQ_HOMREF_CTRL_asj&quot;:&quot;0.965174&quot;,&quot;FREQ_HOMALT_BD_afr&quot;:&quot;0&quot;,&quot;N_BI_GENOS_BD_nfe&quot;:&quot;422&quot;,&quot;AN_asj&quot;:&quot;442&quot;,&quot;N_HOMREF_afr&quot;:&quot;6532&quot;,&quot;AF_sas&quot;:&quot;0.083333&quot;,&quot;N_HET_BD_oth&quot;:&quot;0&quot;,&quot;N_HOMALT_SCZ_amr&quot;:&quot;0&quot;,&quot;FREQ_HOMREF_BD&quot;:&quot;0.972222&quot;,&quot;N_HET_CTRL_sas&quot;:&quot;2&quot;,&quot;FREQ_HOMREF_CTRL_eas&quot;:&quot;1&quot;,&quot;N_BI_GENOS_SCZ&quot;:&quot;3657&quot;,&quot;N_HOMREF_BD_nfe&quot;:&quot;401&quot;,&quot;FREQ_HOMREF_BD_fin&quot;:&quot;0.992424&quot;,&quot;FREQ_HET_fin&quot;:&quot;0.0156076&quot;,&quot;AC_nfe&quot;:&quot;268&quot;,&quot;AC_CTRL_mid&quot;:&quot;0&quot;,&quot;N_HOMREF_SCZ_sas&quot;:&quot;1&quot;,&quot;FREQ_HOMALT_mid&quot;:&quot;0&quot;,&quot;N_BI_GENOS_oth&quot;:&quot;328&quot;,&quot;N_HOMREF_CTRL_amr&quot;:&quot;1180&quot;,&quot;N_HET_SCZ_oth&quot;:&quot;1&quot;,&quot;N_HOMALT_ami&quot;:&quot;0&quot;,&quot;END&quot;:&quot;30000&quot;,&quot;AF_CTRL_eas&quot;:&quot;0&quot;,&quot;N_BI_GENOS_CTRL_ami&quot;:&quot;14&quot;,&quot;PCRMINUS_NCR&quot;:&quot;0.298647&quot;,&quot;N_BI_GENOS_SCZ_amr&quot;:&quot;93&quot;,&quot;N_HET_CTRL_mid&quot;:&quot;0&quot;,&quot;AN_sas&quot;:&quot;24&quot;,&quot;FREQ_HOMALT_fin&quot;:&quot;0&quot;,&quot;FREQ_HOMREF_fin&quot;:&quot;0.984392&quot;,&quot;FREQ_HET_BD_nfe&quot;:&quot;0.049763&quot;,&quot;AN_SCZ_fin&quot;:&quot;866&quot;,&quot;FREQ_HET_asj&quot;:&quot;0.0316742&quot;,&quot;AF_CTRL_asj&quot;:&quot;0.017413&quot;,&quot;AN_afr&quot;:&quot;13236&quot;,&quot;PCRPLUS_NCR&quot;:&quot;0.175681&quot;,&quot;FREQ_HOMALT_CTRL_oth&quot;:&quot;0&quot;,&quot;N_HOMALT_mid&quot;:&quot;0&quot;,&quot;FREQ_HET_CTRL_nfe&quot;:&quot;0.0537405&quot;,&quot;N_HET_SCZ_afr&quot;:&quot;31&quot;,&quot;AF_CTRL_afr&quot;:&quot;0.006201&quot;,&quot;N_HET_CASE_nfe&quot;:&quot;1&quot;,&quot;AN_SCZ_oth&quot;:&quot;34&quot;,&quot;N_HOMREF&quot;:&quot;43184&quot;,&quot;FREQ_HOMREF_amr&quot;:&quot;0.957078&quot;,&quot;N_HOMALT_CTRL_mid&quot;:&quot;0&quot;,&quot;FREQ_HOMREF_eas&quot;:&quot;1&quot;,&quot;N_HOMREF_SCZ_afr&quot;:&quot;2255&quot;,&quot;N_HOMALT_BD&quot;:&quot;0&quot;,&quot;N_BI_GENOS_BD_fin&quot;:&quot;132&quot;,&quot;FREQ_HOMALT_sas&quot;:&quot;0&quot;,&quot;FREQ_HET_CTRL_ami&quot;:&quot;0.285714&quot;,&quot;EVIDENCE&quot;:&quot;RD&quot;,&quot;AN_nfe&quot;:&quot;10918&quot;,&quot;FREQ_HOMREF_BD_amr&quot;:&quot;0.666667&quot;,&quot;AF_CTRL&quot;:&quot;0.016822&quot;,&quot;FREQ_HOMALT_CASE&quot;:&quot;0&quot;,&quot;N_HOMREF_BD_amr&quot;:&quot;4&quot;,&quot;N_HOMALT_BD_fin&quot;:&quot;0&quot;,&quot;FREQ_HOMALT_CTRL_eas&quot;:&quot;0&quot;,&quot;AF_CTRL_amr&quot;:&quot;0.019935&quot;,&quot;FREQ_HOMALT_CTRL_afr&quot;:&quot;0&quot;,&quot;FREQ_HOMREF_BD_asj&quot;:&quot;1&quot;,&quot;N_HET_SCZ_asj&quot;:&quot;0&quot;,&quot;FREQ_HOMALT_CTRL_sas&quot;:&quot;0&quot;,&quot;AF_BD_afr&quot;:&quot;0.007223&quot;,&quot;N_HOMALT_CTRL_asj&quot;:&quot;0&quot;,&quot;FREQ_HOMREF_SCZ_oth&quot;:&quot;0.941176&quot;,&quot;AC_sas&quot;:&quot;2&quot;,&quot;N_BI_GENOS_SCZ_sas&quot;:&quot;1&quot;,&quot;FREQ_HOMALT_SCZ_asj&quot;:&quot;0&quot;,&quot;AC_asj&quot;:&quot;7&quot;,&quot;FREQ_HOMALT_SCZ_sas&quot;:&quot;0&quot;,&quot;AF_eas&quot;:&quot;0&quot;,&quot;AC_oth&quot;:&quot;16&quot;,&quot;FREQ_HET_BD_fin&quot;:&quot;0.00757576&quot;,&quot;FREQ_HOMALT_BD_ami&quot;:&quot;0&quot;,&quot;AC_SCZ_oth&quot;:&quot;1&quot;,&quot;N_HOMALT_BD_nfe&quot;:&quot;0&quot;,&quot;AC_CTRL_oth&quot;:&quot;15&quot;,&quot;AC_SCZ_sas&quot;:&quot;0&quot;,&quot;AC_OthDISEASE&quot;:&quot;1&quot;,&quot;AC_CASE&quot;:&quot;100&quot;,&quot;AC_fin&quot;:&quot;28&quot;,&quot;FREQ_HOMALT_SCZ_fin&quot;:&quot;0&quot;,&quot;N_BI_GENOS_SCZ_mid&quot;:&quot;2&quot;,&quot;N_BI_GENOS_nfe&quot;:&quot;5459&quot;,&quot;FREQ_HOMREF_SCZ_asj&quot;:&quot;1&quot;,&quot;AC_SCZ_asj&quot;:&quot;0&quot;,&quot;N_BI_GENOS_afr&quot;:&quot;6618&quot;,&quot;FREQ_HET_BD_asj&quot;:&quot;0&quot;,&quot;FREQ_HET_OthDISEASE&quot;:&quot;0.142857&quot;,&quot;AF_CTRL_nfe&quot;:&quot;0.02687&quot;,&quot;SVTYPE&quot;:&quot;DEL&quot;,&quot;FREQ_HET_mid&quot;:&quot;0&quot;,&quot;AF_CTRL_ami&quot;:&quot;0.142857&quot;,&quot;AC_CTRL_nfe&quot;:&quot;227&quot;,&quot;AN_BD_afr&quot;:&quot;1246&quot;,&quot;AN_CTRL&quot;:&quot;21876&quot;,&quot;N_HOMALT_CTRL_amr&quot;:&quot;0&quot;,&quot;FREQ_HOMREF_asj&quot;:&quot;0.968326&quot;,&quot;FREQ_HOMREF&quot;:&quot;0.971606&quot;,&quot;N_BI_GENOS_BD_oth&quot;:&quot;3&quot;,&quot;N_HET_CTRL_amr&quot;:&quot;49&quot;,&quot;N_HOMALT_nfe&quot;:&quot;0&quot;,&quot;N_HOMALT_CTRL_oth&quot;:&quot;0&quot;,&quot;N_HOMREF_CTRL_eas&quot;:&quot;9&quot;,&quot;N_HET_SCZ&quot;:&quot;66&quot;,&quot;FREQ_HET_SCZ_afr&quot;:&quot;0.0135608&quot;,&quot;N_BI_GENOS_SCZ_asj&quot;:&quot;19&quot;,&quot;FREQ_HET_SCZ_sas&quot;:&quot;0&quot;,&quot;N_BI_GENOS_OthDISEASE&quot;:&quot;7&quot;,&quot;N_HOMALT_SCZ_fin&quot;:&quot;0&quot;,&quot;N_HOMALT_SCZ_nfe&quot;:&quot;0&quot;,&quot;AN_OthDISEASE&quot;:&quot;14&quot;,&quot;AF_SCZ_nfe&quot;:&quot;0.011787&quot;,&quot;FREQ_HET_BD_amr&quot;:&quot;0.333333&quot;,&quot;FREQ_HOMALT_BD&quot;:&quot;0&quot;,&quot;FREQ_HOMALT_SCZ_oth&quot;:&quot;0&quot;}</td><td style=\"white-space: nowrap; max-width: 500px; overflow: hidden; text-overflow: ellipsis; \">[&quot;AC&quot;,&quot;AC_BD&quot;,&quot;AC_BD_afr&quot;,&quot;AC_BD_ami&quot;,&quot;AC_BD_amr&quot;,&quot;AC_BD_asj&quot;,&quot;AC_BD_fin&quot;,&quot;AC_BD_nfe&quot;,&quot;AC_BD_oth&quot;,&quot;AC_CASE&quot;,&quot;AC_CASE_nfe&quot;,&quot;AC_CTRL&quot;,&quot;AC_CTRL_afr&quot;,&quot;AC_CTRL_ami&quot;,&quot;AC_CTRL_amr&quot;,&quot;AC_CTRL_asj&quot;,&quot;AC_CTRL_eas&quot;,&quot;AC_CTRL_fin&quot;,&quot;AC_CTRL_mid&quot;,&quot;AC_CTRL_nfe&quot;,&quot;AC_CTRL_oth&quot;,&quot;AC_CTRL_sas&quot;,&quot;AC_OthDISEASE&quot;,&quot;AC_SCZ&quot;,&quot;AC_SCZ_afr&quot;,&quot;AC_SCZ_amr&quot;,&quot;AC_SCZ_asj&quot;,&quot;AC_SCZ_fin&quot;,&quot;AC_SCZ_mid&quot;,&quot;AC_SCZ_nfe&quot;,&quot;AC_SCZ_oth&quot;,&quot;AC_SCZ_sas&quot;,&quot;AC_afr&quot;,&quot;AC_ami&quot;,&quot;AC_amr&quot;,&quot;AC_asj&quot;,&quot;AC_eas&quot;,&quot;AC_fin&quot;,&quot;AC_mid&quot;,&quot;AC_nfe&quot;,&quot;AC_oth&quot;,&quot;AC_sas&quot;,&quot;AF&quot;,&quot;AF_BD&quot;,&quot;AF_BD_afr&quot;,&quot;AF_BD_ami&quot;,&quot;AF_BD_amr&quot;,&quot;AF_BD_asj&quot;,&quot;AF_BD_fin&quot;,&quot;AF_BD_nfe&quot;,&quot;AF_BD_oth&quot;,&quot;AF_CASE&quot;,&quot;AF_CASE_nfe&quot;,&quot;AF_CTRL&quot;,&quot;AF_CTRL_afr&quot;,&quot;AF_CTRL_ami&quot;,&quot;AF_CTRL_amr&quot;,&quot;AF_CTRL_asj&quot;,&quot;AF_CTRL_eas&quot;,&quot;AF_CTRL_fin&quot;,&quot;AF_CTRL_mid&quot;,&quot;AF_CTRL_nfe&quot;,&quot;AF_CTRL_oth&quot;,&quot;AF_CTRL_sas&quot;,&quot;AF_OthDISEASE&quot;,&quot;AF_SCZ&quot;,&quot;AF_SCZ_afr&quot;,&quot;AF_SCZ_amr&quot;,&quot;AF_SCZ_asj&quot;,&quot;AF_SCZ_fin&quot;,&quot;AF_SCZ_mid&quot;,&quot;AF_SCZ_nfe&quot;,&quot;AF_SCZ_oth&quot;,&quot;AF_SCZ_sas&quot;,&quot;AF_afr&quot;,&quot;AF_ami&quot;,&quot;AF_amr&quot;,&quot;AF_asj&quot;,&quot;AF_eas&quot;,&quot;AF_fin&quot;,&quot;AF_mid&quot;,&quot;AF_nfe&quot;,&quot;AF_oth&quot;,&quot;AF_sas&quot;,&quot;ALGORITHMS&quot;,&quot;AN&quot;,&quot;AN_BD&quot;,&quot;AN_BD_afr&quot;,&quot;AN_BD_ami&quot;,&quot;AN_BD_amr&quot;,&quot;AN_BD_asj&quot;,&quot;AN_BD_fin&quot;,&quot;AN_BD_nfe&quot;,&quot;AN_BD_oth&quot;,&quot;AN_CASE&quot;,&quot;AN_CASE_nfe&quot;,&quot;AN_CTRL&quot;,&quot;AN_CTRL_afr&quot;,&quot;AN_CTRL_ami&quot;,&quot;AN_CTRL_amr&quot;,&quot;AN_CTRL_asj&quot;,&quot;AN_CTRL_eas&quot;,&quot;AN_CTRL_fin&quot;,&quot;AN_CTRL_mid&quot;,&quot;AN_CTRL_nfe&quot;,&quot;AN_CTRL_oth&quot;,&quot;AN_CTRL_sas&quot;,&quot;AN_OthDISEASE&quot;,&quot;AN_SCZ&quot;,&quot;AN_SCZ_afr&quot;,&quot;AN_SCZ_amr&quot;,&quot;AN_SCZ_asj&quot;,&quot;AN_SCZ_fin&quot;,&quot;AN_SCZ_mid&quot;,&quot;AN_SCZ_nfe&quot;,&quot;AN_SCZ_oth&quot;,&quot;AN_SCZ_sas&quot;,&quot;AN_afr&quot;,&quot;AN_ami&quot;,&quot;AN_amr&quot;,&quot;AN_asj&quot;,&quot;AN_eas&quot;,&quot;AN_fin&quot;,&quot;AN_mid&quot;,&quot;AN_nfe&quot;,&quot;AN_oth&quot;,&quot;AN_sas&quot;,&quot;CHR2&quot;,&quot;END&quot;,&quot;EVIDENCE&quot;,&quot;FREQ_HET&quot;,&quot;FREQ_HET_BD&quot;,&quot;FREQ_HET_BD_afr&quot;,&quot;FREQ_HET_BD_ami&quot;,&quot;FREQ_HET_BD_amr&quot;,&quot;FREQ_HET_BD_asj&quot;,&quot;FREQ_HET_BD_fin&quot;,&quot;FREQ_HET_BD_nfe&quot;,&quot;FREQ_HET_BD_oth&quot;,&quot;FREQ_HET_CASE&quot;,&quot;FREQ_HET_CASE_nfe&quot;,&quot;FREQ_HET_CTRL&quot;,&quot;FREQ_HET_CTRL_afr&quot;,&quot;FREQ_HET_CTRL_ami&quot;,&quot;FREQ_HET_CTRL_amr&quot;,&quot;FREQ_HET_CTRL_asj&quot;,&quot;FREQ_HET_CTRL_eas&quot;,&quot;FREQ_HET_CTRL_fin&quot;,&quot;FREQ_HET_CTRL_mid&quot;,&quot;FREQ_HET_CTRL_nfe&quot;,&quot;FREQ_HET_CTRL_oth&quot;,&quot;FREQ_HET_CTRL_sas&quot;,&quot;FREQ_HET_OthDISEASE&quot;,&quot;FREQ_HET_SCZ&quot;,&quot;FREQ_HET_SCZ_afr&quot;,&quot;FREQ_HET_SCZ_amr&quot;,&quot;FREQ_HET_SCZ_asj&quot;,&quot;FREQ_HET_SCZ_fin&quot;,&quot;FREQ_HET_SCZ_mid&quot;,&quot;FREQ_HET_SCZ_nfe&quot;,&quot;FREQ_HET_SCZ_oth&quot;,&quot;FREQ_HET_SCZ_sas&quot;,&quot;FREQ_HET_afr&quot;,&quot;FREQ_HET_ami&quot;,&quot;FREQ_HET_amr&quot;,&quot;FREQ_HET_asj&quot;,&quot;FREQ_HET_eas&quot;,&quot;FREQ_HET_fin&quot;,&quot;FREQ_HET_mid&quot;,&quot;FREQ_HET_nfe&quot;,&quot;FREQ_HET_oth&quot;,&quot;FREQ_HET_sas&quot;,&quot;FREQ_HOMALT&quot;,&quot;FREQ_HOMALT_BD&quot;,&quot;FREQ_HOMALT_BD_afr&quot;,&quot;FREQ_HOMALT_BD_ami&quot;,&quot;FREQ_HOMALT_BD_amr&quot;,&quot;FREQ_HOMALT_BD_asj&quot;,&quot;FREQ_HOMALT_BD_fin&quot;,&quot;FREQ_HOMALT_BD_nfe&quot;,&quot;FREQ_HOMALT_BD_oth&quot;,&quot;FREQ_HOMALT_CASE&quot;,&quot;FREQ_HOMALT_CASE_nfe&quot;,&quot;FREQ_HOMALT_CTRL&quot;,&quot;FREQ_HOMALT_CTRL_afr&quot;,&quot;FREQ_HOMALT_CTRL_ami&quot;,&quot;FREQ_HOMALT_CTRL_amr&quot;,&quot;FREQ_HOMALT_CTRL_asj&quot;,&quot;FREQ_HOMALT_CTRL_eas&quot;,&quot;FREQ_HOMALT_CTRL_fin&quot;,&quot;FREQ_HOMALT_CTRL_mid&quot;,&quot;FREQ_HOMALT_CTRL_nfe&quot;,&quot;FREQ_HOMALT_CTRL_oth&quot;,&quot;FREQ_HOMALT_CTRL_sas&quot;,&quot;FREQ_HOMALT_OthDISEASE&quot;,&quot;FREQ_HOMALT_SCZ&quot;,&quot;FREQ_HOMALT_SCZ_afr&quot;,&quot;FREQ_HOMALT_SCZ_amr&quot;,&quot;FREQ_HOMALT_SCZ_asj&quot;,&quot;FREQ_HOMALT_SCZ_fin&quot;,&quot;FREQ_HOMALT_SCZ_mid&quot;,&quot;FREQ_HOMALT_SCZ_nfe&quot;,&quot;FREQ_HOMALT_SCZ_oth&quot;,&quot;FREQ_HOMALT_SCZ_sas&quot;,&quot;FREQ_HOMALT_afr&quot;,&quot;FREQ_HOMALT_ami&quot;,&quot;FREQ_HOMALT_amr&quot;,&quot;FREQ_HOMALT_asj&quot;,&quot;FREQ_HOMALT_eas&quot;,&quot;FREQ_HOMALT_fin&quot;,&quot;FREQ_HOMALT_mid&quot;,&quot;FREQ_HOMALT_nfe&quot;,&quot;FREQ_HOMALT_oth&quot;,&quot;FREQ_HOMALT_sas&quot;,&quot;FREQ_HOMREF&quot;,&quot;FREQ_HOMREF_BD&quot;,&quot;FREQ_HOMREF_BD_afr&quot;,&quot;FREQ_HOMREF_BD_ami&quot;,&quot;FREQ_HOMREF_BD_amr&quot;,&quot;FREQ_HOMREF_BD_asj&quot;,&quot;FREQ_HOMREF_BD_fin&quot;,&quot;FREQ_HOMREF_BD_nfe&quot;,&quot;FREQ_HOMREF_BD_oth&quot;,&quot;FREQ_HOMREF_CASE&quot;,&quot;FREQ_HOMREF_CASE_nfe&quot;,&quot;FREQ_HOMREF_CTRL&quot;,&quot;FREQ_HOMREF_CTRL_afr&quot;,&quot;FREQ_HOMREF_CTRL_ami&quot;,&quot;FREQ_HOMREF_CTRL_amr&quot;,&quot;FREQ_HOMREF_CTRL_asj&quot;,&quot;FREQ_HOMREF_CTRL_eas&quot;,&quot;FREQ_HOMREF_CTRL_fin&quot;,&quot;FREQ_HOMREF_CTRL_mid&quot;,&quot;FREQ_HOMREF_CTRL_nfe&quot;,&quot;FREQ_HOMREF_CTRL_oth&quot;,&quot;FREQ_HOMREF_CTRL_sas&quot;,&quot;FREQ_HOMREF_OthDISEASE&quot;,&quot;FREQ_HOMREF_SCZ&quot;,&quot;FREQ_HOMREF_SCZ_afr&quot;,&quot;FREQ_HOMREF_SCZ_amr&quot;,&quot;FREQ_HOMREF_SCZ_asj&quot;,&quot;FREQ_HOMREF_SCZ_fin&quot;,&quot;FREQ_HOMREF_SCZ_mid&quot;,&quot;FREQ_HOMREF_SCZ_nfe&quot;,&quot;FREQ_HOMREF_SCZ_oth&quot;,&quot;FREQ_HOMREF_SCZ_sas&quot;,&quot;FREQ_HOMREF_afr&quot;,&quot;FREQ_HOMREF_ami&quot;,&quot;FREQ_HOMREF_amr&quot;,&quot;FREQ_HOMREF_asj&quot;,&quot;FREQ_HOMREF_eas&quot;,&quot;FREQ_HOMREF_fin&quot;,&quot;FREQ_HOMREF_mid&quot;,&quot;FREQ_HOMREF_nfe&quot;,&quot;FREQ_HOMREF_oth&quot;,&quot;FREQ_HOMREF_sas&quot;,&quot;NCR&quot;,&quot;N_BI_GENOS&quot;,&quot;N_BI_GENOS_BD&quot;,&quot;N_BI_GENOS_BD_afr&quot;,&quot;N_BI_GENOS_BD_ami&quot;,&quot;N_BI_GENOS_BD_amr&quot;,&quot;N_BI_GENOS_BD_asj&quot;,&quot;N_BI_GENOS_BD_fin&quot;,&quot;N_BI_GENOS_BD_nfe&quot;,&quot;N_BI_GENOS_BD_oth&quot;,&quot;N_BI_GENOS_CASE&quot;,&quot;N_BI_GENOS_CASE_nfe&quot;,&quot;N_BI_GENOS_CTRL&quot;,&quot;N_BI_GENOS_CTRL_afr&quot;,&quot;N_BI_GENOS_CTRL_ami&quot;,&quot;N_BI_GENOS_CTRL_amr&quot;,&quot;N_BI_GENOS_CTRL_asj&quot;,&quot;N_BI_GENOS_CTRL_eas&quot;,&quot;N_BI_GENOS_CTRL_fin&quot;,&quot;N_BI_GENOS_CTRL_mid&quot;,&quot;N_BI_GENOS_CTRL_nfe&quot;,&quot;N_BI_GENOS_CTRL_oth&quot;,&quot;N_BI_GENOS_CTRL_sas&quot;,&quot;N_BI_GENOS_OthDISEASE&quot;,&quot;N_BI_GENOS_SCZ&quot;,&quot;N_BI_GENOS_SCZ_afr&quot;,&quot;N_BI_GENOS_SCZ_amr&quot;,&quot;N_BI_GENOS_SCZ_asj&quot;,&quot;N_BI_GENOS_SCZ_fin&quot;,&quot;N_BI_GENOS_SCZ_mid&quot;,&quot;N_BI_GENOS_SCZ_nfe&quot;,&quot;N_BI_GENOS_SCZ_oth&quot;,&quot;N_BI_GENOS_SCZ_sas&quot;,&quot;N_BI_GENOS_afr&quot;,&quot;N_BI_GENOS_ami&quot;,&quot;N_BI_GENOS_amr&quot;,&quot;N_BI_GENOS_asj&quot;,&quot;N_BI_GENOS_eas&quot;,&quot;N_BI_GENOS_fin&quot;,&quot;N_BI_GENOS_mid&quot;,&quot;N_BI_GENOS_nfe&quot;,&quot;N_BI_GENOS_oth&quot;,&quot;N_BI_GENOS_sas&quot;,&quot;N_HET&quot;,&quot;N_HET_BD&quot;,&quot;N_HET_BD_afr&quot;,&quot;N_HET_BD_ami&quot;,&quot;N_HET_BD_amr&quot;,&quot;N_HET_BD_asj&quot;,&quot;N_HET_BD_fin&quot;,&quot;N_HET_BD_nfe&quot;,&quot;N_HET_BD_oth&quot;,&quot;N_HET_CASE&quot;,&quot;N_HET_CASE_nfe&quot;,&quot;N_HET_CTRL&quot;,&quot;N_HET_CTRL_afr&quot;,&quot;N_HET_CTRL_ami&quot;,&quot;N_HET_CTRL_amr&quot;,&quot;N_HET_CTRL_asj&quot;,&quot;N_HET_CTRL_eas&quot;,&quot;N_HET_CTRL_fin&quot;,&quot;N_HET_CTRL_mid&quot;,&quot;N_HET_CTRL_nfe&quot;,&quot;N_HET_CTRL_oth&quot;,&quot;N_HET_CTRL_sas&quot;,&quot;N_HET_OthDISEASE&quot;,&quot;N_HET_SCZ&quot;,&quot;N_HET_SCZ_afr&quot;,&quot;N_HET_SCZ_amr&quot;,&quot;N_HET_SCZ_asj&quot;,&quot;N_HET_SCZ_fin&quot;,&quot;N_HET_SCZ_mid&quot;,&quot;N_HET_SCZ_nfe&quot;,&quot;N_HET_SCZ_oth&quot;,&quot;N_HET_SCZ_sas&quot;,&quot;N_HET_afr&quot;,&quot;N_HET_ami&quot;,&quot;N_HET_amr&quot;,&quot;N_HET_asj&quot;,&quot;N_HET_eas&quot;,&quot;N_HET_fin&quot;,&quot;N_HET_mid&quot;,&quot;N_HET_nfe&quot;,&quot;N_HET_oth&quot;,&quot;N_HET_sas&quot;,&quot;N_HOMALT&quot;,&quot;N_HOMALT_BD&quot;,&quot;N_HOMALT_BD_afr&quot;,&quot;N_HOMALT_BD_ami&quot;,&quot;N_HOMALT_BD_amr&quot;,&quot;N_HOMALT_BD_asj&quot;,&quot;N_HOMALT_BD_fin&quot;,&quot;N_HOMALT_BD_nfe&quot;,&quot;N_HOMALT_BD_oth&quot;,&quot;N_HOMALT_CASE&quot;,&quot;N_HOMALT_CASE_nfe&quot;,&quot;N_HOMALT_CTRL&quot;,&quot;N_HOMALT_CTRL_afr&quot;,&quot;N_HOMALT_CTRL_ami&quot;,&quot;N_HOMALT_CTRL_amr&quot;,&quot;N_HOMALT_CTRL_asj&quot;,&quot;N_HOMALT_CTRL_eas&quot;,&quot;N_HOMALT_CTRL_fin&quot;,&quot;N_HOMALT_CTRL_mid&quot;,&quot;N_HOMALT_CTRL_nfe&quot;,&quot;N_HOMALT_CTRL_oth&quot;,&quot;N_HOMALT_CTRL_sas&quot;,&quot;N_HOMALT_OthDISEASE&quot;,&quot;N_HOMALT_SCZ&quot;,&quot;N_HOMALT_SCZ_afr&quot;,&quot;N_HOMALT_SCZ_amr&quot;,&quot;N_HOMALT_SCZ_asj&quot;,&quot;N_HOMALT_SCZ_fin&quot;,&quot;N_HOMALT_SCZ_mid&quot;,&quot;N_HOMALT_SCZ_nfe&quot;,&quot;N_HOMALT_SCZ_oth&quot;,&quot;N_HOMALT_SCZ_sas&quot;,&quot;N_HOMALT_afr&quot;,&quot;N_HOMALT_ami&quot;,&quot;N_HOMALT_amr&quot;,&quot;N_HOMALT_asj&quot;,&quot;N_HOMALT_eas&quot;,&quot;N_HOMALT_fin&quot;,&quot;N_HOMALT_mid&quot;,&quot;N_HOMALT_nfe&quot;,&quot;N_HOMALT_oth&quot;,&quot;N_HOMALT_sas&quot;,&quot;N_HOMREF&quot;,&quot;N_HOMREF_BD&quot;,&quot;N_HOMREF_BD_afr&quot;,&quot;N_HOMREF_BD_ami&quot;,&quot;N_HOMREF_BD_amr&quot;,&quot;N_HOMREF_BD_asj&quot;,&quot;N_HOMREF_BD_fin&quot;,&quot;N_HOMREF_BD_nfe&quot;,&quot;N_HOMREF_BD_oth&quot;,&quot;N_HOMREF_CASE&quot;,&quot;N_HOMREF_CASE_nfe&quot;,&quot;N_HOMREF_CTRL&quot;,&quot;N_HOMREF_CTRL_afr&quot;,&quot;N_HOMREF_CTRL_ami&quot;,&quot;N_HOMREF_CTRL_amr&quot;,&quot;N_HOMREF_CTRL_asj&quot;,&quot;N_HOMREF_CTRL_eas&quot;,&quot;N_HOMREF_CTRL_fin&quot;,&quot;N_HOMREF_CTRL_mid&quot;,&quot;N_HOMREF_CTRL_nfe&quot;,&quot;N_HOMREF_CTRL_oth&quot;,&quot;N_HOMREF_CTRL_sas&quot;,&quot;N_HOMREF_OthDISEASE&quot;,&quot;N_HOMREF_SCZ&quot;,&quot;N_HOMREF_SCZ_afr&quot;,&quot;N_HOMREF_SCZ_amr&quot;,&quot;N_HOMREF_SCZ_asj&quot;,&quot;N_HOMREF_SCZ_fin&quot;,&quot;N_HOMREF_SCZ_mid&quot;,&quot;N_HOMREF_SCZ_nfe&quot;,&quot;N_HOMREF_SCZ_oth&quot;,&quot;N_HOMREF_SCZ_sas&quot;,&quot;N_HOMREF_afr&quot;,&quot;N_HOMREF_ami&quot;,&quot;N_HOMREF_amr&quot;,&quot;N_HOMREF_asj&quot;,&quot;N_HOMREF_eas&quot;,&quot;N_HOMREF_fin&quot;,&quot;N_HOMREF_mid&quot;,&quot;N_HOMREF_nfe&quot;,&quot;N_HOMREF_oth&quot;,&quot;N_HOMREF_sas&quot;,&quot;PCRMINUS_NCR&quot;,&quot;PCRPLUS_NCR&quot;,&quot;POPMAX_AF&quot;,&quot;PREDICTED_INTERGENIC&quot;,&quot;PREDICTED_NEAREST_TSS&quot;,&quot;SVLEN&quot;,&quot;SVTYPE&quot;]</td></tr>\n",
       "</tbody></table><p style=\"background: #fdd; padding: 0.4em;\">showing top 10 rows</p>\n"
      ],
      "text/plain": [
       "+---------------+----------------------------------+---------+-------+\n",
       "| locus         | sv_id                            | sv_type | qual  |\n",
       "+---------------+----------------------------------+---------+-------+\n",
       "| locus<GRCh38> | str                              | str     | str   |\n",
       "+---------------+----------------------------------+---------+-------+\n",
       "| chr1:10000    | \"gnomAD-SV_v3_DUP_chr1_01c2781c\" | \"DUP\"   | \"134\" |\n",
       "| chr1:10434    | \"gnomAD-SV_v3_BND_chr1_1a45f73a\" | \"BND\"   | \"260\" |\n",
       "| chr1:10440    | \"gnomAD-SV_v3_BND_chr1_3fa36917\" | \"BND\"   | \"198\" |\n",
       "| chr1:10450    | \"gnomAD-SV_v3_BND_chr1_933a2971\" | \"BND\"   | \"287\" |\n",
       "| chr1:10464    | \"gnomAD-SV_v3_BND_chr1_7bbf34b5\" | \"BND\"   | \"198\" |\n",
       "| chr1:10533    | \"gnomAD-SV_v3_BND_chr1_5403ba60\" | \"BND\"   | \"289\" |\n",
       "| chr1:10590    | \"gnomAD-SV_v3_BND_chr1_adce94ec\" | \"BND\"   | \"162\" |\n",
       "| chr1:11000    | \"gnomAD-SV_v3_DUP_chr1_7d73682f\" | \"DUP\"   | \"999\" |\n",
       "| chr1:12000    | \"gnomAD-SV_v3_CNV_chr1_5e194d5e\" | \"CNV\"   | \".\"   |\n",
       "| chr1:22000    | \"gnomAD-SV_v3_DEL_chr1_fa103016\" | \"DEL\"   | \"999\" |\n",
       "+---------------+----------------------------------+---------+-------+\n",
       "\n",
       "+---------------------------+\n",
       "| filters                   |\n",
       "+---------------------------+\n",
       "| array<str>                |\n",
       "+---------------------------+\n",
       "| [\"HIGH_NCR\"]              |\n",
       "| [\"HIGH_NCR\",\"UNRESOLVED\"] |\n",
       "| [\"HIGH_NCR\",\"UNRESOLVED\"] |\n",
       "| [\"HIGH_NCR\",\"UNRESOLVED\"] |\n",
       "| [\"HIGH_NCR\",\"UNRESOLVED\"] |\n",
       "| [\"HIGH_NCR\",\"UNRESOLVED\"] |\n",
       "| [\"HIGH_NCR\",\"UNRESOLVED\"] |\n",
       "| [\"PASS\"]                  |\n",
       "| [\"PASS\"]                  |\n",
       "| [\"HIGH_NCR\"]              |\n",
       "+---------------------------+\n",
       "\n",
       "+------------------------------------------------------------------------------+\n",
       "| info                                                                         |\n",
       "+------------------------------------------------------------------------------+\n",
       "| dict<str, str>                                                               |\n",
       "+------------------------------------------------------------------------------+\n",
       "| {\"N_HOMALT_CTRL\":\"0\",\"AF_CTRL_oth\":\"0.002283\",\"FREQ_HOMALT_CTRL_mid\":\"0\",... |\n",
       "| {\"N_HOMALT_CTRL\":\"5\",\"AF_CTRL_oth\":\"0.098\",\"FREQ_HOMALT_CTRL_mid\":\"0\",\"N_... |\n",
       "| {\"N_HOMALT_CTRL\":\"0\",\"AF_CTRL_oth\":\"0.006812\",\"FREQ_HOMALT_CTRL_mid\":\"0\",... |\n",
       "| {\"N_HOMALT_CTRL\":\"20\",\"AF_CTRL_oth\":\"0.365854\",\"FREQ_HOMALT_CTRL_mid\":\"0\"... |\n",
       "| {\"N_HOMALT_CTRL\":\"0\",\"AF_CTRL_oth\":\"0.034884\",\"FREQ_HOMALT_CTRL_mid\":\"0\",... |\n",
       "| {\"N_HOMALT_CTRL\":\"7\",\"AF_CTRL_oth\":\"0.110887\",\"FREQ_HOMALT_CTRL_mid\":\"0\",... |\n",
       "| {\"N_HOMALT_CTRL\":\"0\",\"AF_CTRL_oth\":\"0.024024\",\"FREQ_HOMALT_CTRL_mid\":\"0\",... |\n",
       "| {\"N_HOMALT_CTRL\":\"321\",\"AF_CTRL_oth\":\"0.026027\",\"FREQ_HOMALT_CTRL_mid\":\"0... |\n",
       "| {\"CN_NUMBER_SCZ_asj\":\"26\",\"CN_STATUS_CTRL_fin\":\"0,1,2,3,4\",\"CN_FREQ_amr\":... |\n",
       "| {\"N_HOMALT_CTRL\":\"0\",\"AF_CTRL_oth\":\"0.024351\",\"FREQ_HOMALT_CTRL_mid\":\"0\",... |\n",
       "+------------------------------------------------------------------------------+\n",
       "\n",
       "+------------------------------------------------------------------------------+\n",
       "| keys                                                                         |\n",
       "+------------------------------------------------------------------------------+\n",
       "| array<str>                                                                   |\n",
       "+------------------------------------------------------------------------------+\n",
       "| [\"AC\",\"AC_BD\",\"AC_BD_afr\",\"AC_BD_ami\",\"AC_BD_amr\",\"AC_BD_asj\",\"AC_BD_fin\"... |\n",
       "| [\"AC\",\"AC_BD\",\"AC_BD_afr\",\"AC_BD_ami\",\"AC_BD_amr\",\"AC_BD_asj\",\"AC_BD_fin\"... |\n",
       "| [\"AC\",\"AC_BD\",\"AC_BD_afr\",\"AC_BD_ami\",\"AC_BD_amr\",\"AC_BD_asj\",\"AC_BD_fin\"... |\n",
       "| [\"AC\",\"AC_BD\",\"AC_BD_afr\",\"AC_BD_ami\",\"AC_BD_amr\",\"AC_BD_asj\",\"AC_BD_fin\"... |\n",
       "| [\"AC\",\"AC_BD\",\"AC_BD_afr\",\"AC_BD_ami\",\"AC_BD_amr\",\"AC_BD_asj\",\"AC_BD_fin\"... |\n",
       "| [\"AC\",\"AC_BD\",\"AC_BD_afr\",\"AC_BD_ami\",\"AC_BD_amr\",\"AC_BD_asj\",\"AC_BD_fin\"... |\n",
       "| [\"AC\",\"AC_BD\",\"AC_BD_afr\",\"AC_BD_ami\",\"AC_BD_amr\",\"AC_BD_asj\",\"AC_BD_fin\"... |\n",
       "| [\"AC\",\"AC_BD\",\"AC_BD_afr\",\"AC_BD_ami\",\"AC_BD_amr\",\"AC_BD_asj\",\"AC_BD_fin\"... |\n",
       "| [\"ALGORITHMS\",\"CHR2\",\"CN_COUNT\",\"CN_COUNT_BD\",\"CN_COUNT_BD_afr\",\"CN_COUNT... |\n",
       "| [\"AC\",\"AC_BD\",\"AC_BD_afr\",\"AC_BD_ami\",\"AC_BD_amr\",\"AC_BD_asj\",\"AC_BD_fin\"... |\n",
       "+------------------------------------------------------------------------------+\n",
       "showing top 10 rows"
      ]
     },
     "metadata": {},
     "output_type": "display_data"
    }
   ],
   "source": [
    "ht.show()"
   ]
  },
  {
   "cell_type": "code",
   "execution_count": 26,
   "id": "3eb89918",
   "metadata": {},
   "outputs": [
    {
     "data": {
      "text/html": [
       "<pre style=\"white-space:pre;overflow-x:auto;line-height:normal;font-family:Menlo,'DejaVu Sans Mono',consolas,'Courier New',monospace\">\n",
       "</pre>\n"
      ],
      "text/plain": [
       "\n"
      ]
     },
     "metadata": {},
     "output_type": "display_data"
    },
    {
     "data": {
      "application/vnd.jupyter.widget-view+json": {
       "model_id": "57fb4d104b19496fa085ca3ebbf97b21",
       "version_major": 2,
       "version_minor": 0
      },
      "text/plain": [
       "Output()"
      ]
     },
     "metadata": {},
     "output_type": "display_data"
    },
    {
     "data": {
      "text/html": [
       "<pre style=\"white-space:pre;overflow-x:auto;line-height:normal;font-family:Menlo,'DejaVu Sans Mono',consolas,'Courier New',monospace\"></pre>\n"
      ],
      "text/plain": []
     },
     "metadata": {},
     "output_type": "display_data"
    },
    {
     "data": {
      "text/html": [
       "<pre style=\"white-space:pre;overflow-x:auto;line-height:normal;font-family:Menlo,'DejaVu Sans Mono',consolas,'Courier New',monospace\">\n",
       "</pre>\n"
      ],
      "text/plain": [
       "\n"
      ]
     },
     "metadata": {},
     "output_type": "display_data"
    },
    {
     "data": {
      "text/plain": [
       "(1199117, 63046)"
      ]
     },
     "execution_count": 26,
     "metadata": {},
     "output_type": "execute_result"
    }
   ],
   "source": [
    "mt_passing = mt.filter_rows(hl.len(mt.filters) == 0)\n",
    "mt_passing.count()"
   ]
  },
  {
   "cell_type": "code",
   "execution_count": 15,
   "id": "b09f2fd6",
   "metadata": {},
   "outputs": [],
   "source": [
    "unique_elements = set(element for sublist in keys for element in sublist)"
   ]
  },
  {
   "cell_type": "code",
   "execution_count": 17,
   "id": "de2fac17",
   "metadata": {},
   "outputs": [
    {
     "data": {
      "text/plain": [
       "{'AC',\n",
       " 'AC_BD',\n",
       " 'AC_BD_afr',\n",
       " 'AC_BD_ami',\n",
       " 'AC_BD_amr',\n",
       " 'AC_BD_asj',\n",
       " 'AC_BD_fin',\n",
       " 'AC_BD_nfe',\n",
       " 'AC_BD_oth',\n",
       " 'AC_CASE',\n",
       " 'AC_CASE_nfe',\n",
       " 'AC_CTRL',\n",
       " 'AC_CTRL_afr',\n",
       " 'AC_CTRL_ami',\n",
       " 'AC_CTRL_amr',\n",
       " 'AC_CTRL_asj',\n",
       " 'AC_CTRL_eas',\n",
       " 'AC_CTRL_fin',\n",
       " 'AC_CTRL_mid',\n",
       " 'AC_CTRL_nfe',\n",
       " 'AC_CTRL_oth',\n",
       " 'AC_CTRL_sas',\n",
       " 'AC_OthDISEASE',\n",
       " 'AC_SCZ',\n",
       " 'AC_SCZ_afr',\n",
       " 'AC_SCZ_amr',\n",
       " 'AC_SCZ_asj',\n",
       " 'AC_SCZ_fin',\n",
       " 'AC_SCZ_mid',\n",
       " 'AC_SCZ_nfe',\n",
       " 'AC_SCZ_oth',\n",
       " 'AC_SCZ_sas',\n",
       " 'AC_afr',\n",
       " 'AC_ami',\n",
       " 'AC_amr',\n",
       " 'AC_asj',\n",
       " 'AC_eas',\n",
       " 'AC_fin',\n",
       " 'AC_mid',\n",
       " 'AC_nfe',\n",
       " 'AC_oth',\n",
       " 'AC_sas',\n",
       " 'AF',\n",
       " 'AF_BD',\n",
       " 'AF_BD_afr',\n",
       " 'AF_BD_ami',\n",
       " 'AF_BD_amr',\n",
       " 'AF_BD_asj',\n",
       " 'AF_BD_fin',\n",
       " 'AF_BD_nfe',\n",
       " 'AF_BD_oth',\n",
       " 'AF_CASE',\n",
       " 'AF_CASE_nfe',\n",
       " 'AF_CTRL',\n",
       " 'AF_CTRL_afr',\n",
       " 'AF_CTRL_ami',\n",
       " 'AF_CTRL_amr',\n",
       " 'AF_CTRL_asj',\n",
       " 'AF_CTRL_eas',\n",
       " 'AF_CTRL_fin',\n",
       " 'AF_CTRL_mid',\n",
       " 'AF_CTRL_nfe',\n",
       " 'AF_CTRL_oth',\n",
       " 'AF_CTRL_sas',\n",
       " 'AF_OthDISEASE',\n",
       " 'AF_SCZ',\n",
       " 'AF_SCZ_afr',\n",
       " 'AF_SCZ_amr',\n",
       " 'AF_SCZ_asj',\n",
       " 'AF_SCZ_fin',\n",
       " 'AF_SCZ_mid',\n",
       " 'AF_SCZ_nfe',\n",
       " 'AF_SCZ_oth',\n",
       " 'AF_SCZ_sas',\n",
       " 'AF_afr',\n",
       " 'AF_ami',\n",
       " 'AF_amr',\n",
       " 'AF_asj',\n",
       " 'AF_eas',\n",
       " 'AF_fin',\n",
       " 'AF_mid',\n",
       " 'AF_nfe',\n",
       " 'AF_oth',\n",
       " 'AF_sas',\n",
       " 'ALGORITHMS',\n",
       " 'AN',\n",
       " 'AN_BD',\n",
       " 'AN_BD_afr',\n",
       " 'AN_BD_ami',\n",
       " 'AN_BD_amr',\n",
       " 'AN_BD_asj',\n",
       " 'AN_BD_fin',\n",
       " 'AN_BD_nfe',\n",
       " 'AN_BD_oth',\n",
       " 'AN_CASE',\n",
       " 'AN_CASE_nfe',\n",
       " 'AN_CTRL',\n",
       " 'AN_CTRL_afr',\n",
       " 'AN_CTRL_ami',\n",
       " 'AN_CTRL_amr',\n",
       " 'AN_CTRL_asj',\n",
       " 'AN_CTRL_eas',\n",
       " 'AN_CTRL_fin',\n",
       " 'AN_CTRL_mid',\n",
       " 'AN_CTRL_nfe',\n",
       " 'AN_CTRL_oth',\n",
       " 'AN_CTRL_sas',\n",
       " 'AN_OthDISEASE',\n",
       " 'AN_SCZ',\n",
       " 'AN_SCZ_afr',\n",
       " 'AN_SCZ_amr',\n",
       " 'AN_SCZ_asj',\n",
       " 'AN_SCZ_fin',\n",
       " 'AN_SCZ_mid',\n",
       " 'AN_SCZ_nfe',\n",
       " 'AN_SCZ_oth',\n",
       " 'AN_SCZ_sas',\n",
       " 'AN_afr',\n",
       " 'AN_ami',\n",
       " 'AN_amr',\n",
       " 'AN_asj',\n",
       " 'AN_eas',\n",
       " 'AN_fin',\n",
       " 'AN_mid',\n",
       " 'AN_nfe',\n",
       " 'AN_oth',\n",
       " 'AN_sas',\n",
       " 'BOTHSIDES_SUPPORT',\n",
       " 'CHR2',\n",
       " 'CN_COUNT',\n",
       " 'CN_COUNT_BD',\n",
       " 'CN_COUNT_BD_afr',\n",
       " 'CN_COUNT_BD_ami',\n",
       " 'CN_COUNT_BD_amr',\n",
       " 'CN_COUNT_BD_asj',\n",
       " 'CN_COUNT_BD_fin',\n",
       " 'CN_COUNT_BD_nfe',\n",
       " 'CN_COUNT_BD_oth',\n",
       " 'CN_COUNT_CASE',\n",
       " 'CN_COUNT_CASE_nfe',\n",
       " 'CN_COUNT_CTRL',\n",
       " 'CN_COUNT_CTRL_afr',\n",
       " 'CN_COUNT_CTRL_ami',\n",
       " 'CN_COUNT_CTRL_amr',\n",
       " 'CN_COUNT_CTRL_asj',\n",
       " 'CN_COUNT_CTRL_eas',\n",
       " 'CN_COUNT_CTRL_fin',\n",
       " 'CN_COUNT_CTRL_mid',\n",
       " 'CN_COUNT_CTRL_nfe',\n",
       " 'CN_COUNT_CTRL_oth',\n",
       " 'CN_COUNT_CTRL_sas',\n",
       " 'CN_COUNT_OthDISEASE',\n",
       " 'CN_COUNT_SCZ',\n",
       " 'CN_COUNT_SCZ_afr',\n",
       " 'CN_COUNT_SCZ_amr',\n",
       " 'CN_COUNT_SCZ_asj',\n",
       " 'CN_COUNT_SCZ_fin',\n",
       " 'CN_COUNT_SCZ_mid',\n",
       " 'CN_COUNT_SCZ_nfe',\n",
       " 'CN_COUNT_SCZ_oth',\n",
       " 'CN_COUNT_SCZ_sas',\n",
       " 'CN_COUNT_afr',\n",
       " 'CN_COUNT_ami',\n",
       " 'CN_COUNT_amr',\n",
       " 'CN_COUNT_asj',\n",
       " 'CN_COUNT_eas',\n",
       " 'CN_COUNT_fin',\n",
       " 'CN_COUNT_mid',\n",
       " 'CN_COUNT_nfe',\n",
       " 'CN_COUNT_oth',\n",
       " 'CN_COUNT_sas',\n",
       " 'CN_FREQ',\n",
       " 'CN_FREQ_BD',\n",
       " 'CN_FREQ_BD_afr',\n",
       " 'CN_FREQ_BD_ami',\n",
       " 'CN_FREQ_BD_amr',\n",
       " 'CN_FREQ_BD_asj',\n",
       " 'CN_FREQ_BD_fin',\n",
       " 'CN_FREQ_BD_nfe',\n",
       " 'CN_FREQ_BD_oth',\n",
       " 'CN_FREQ_CASE',\n",
       " 'CN_FREQ_CASE_nfe',\n",
       " 'CN_FREQ_CTRL',\n",
       " 'CN_FREQ_CTRL_afr',\n",
       " 'CN_FREQ_CTRL_ami',\n",
       " 'CN_FREQ_CTRL_amr',\n",
       " 'CN_FREQ_CTRL_asj',\n",
       " 'CN_FREQ_CTRL_eas',\n",
       " 'CN_FREQ_CTRL_fin',\n",
       " 'CN_FREQ_CTRL_mid',\n",
       " 'CN_FREQ_CTRL_nfe',\n",
       " 'CN_FREQ_CTRL_oth',\n",
       " 'CN_FREQ_CTRL_sas',\n",
       " 'CN_FREQ_OthDISEASE',\n",
       " 'CN_FREQ_SCZ',\n",
       " 'CN_FREQ_SCZ_afr',\n",
       " 'CN_FREQ_SCZ_amr',\n",
       " 'CN_FREQ_SCZ_asj',\n",
       " 'CN_FREQ_SCZ_fin',\n",
       " 'CN_FREQ_SCZ_mid',\n",
       " 'CN_FREQ_SCZ_nfe',\n",
       " 'CN_FREQ_SCZ_oth',\n",
       " 'CN_FREQ_SCZ_sas',\n",
       " 'CN_FREQ_afr',\n",
       " 'CN_FREQ_ami',\n",
       " 'CN_FREQ_amr',\n",
       " 'CN_FREQ_asj',\n",
       " 'CN_FREQ_eas',\n",
       " 'CN_FREQ_fin',\n",
       " 'CN_FREQ_mid',\n",
       " 'CN_FREQ_nfe',\n",
       " 'CN_FREQ_oth',\n",
       " 'CN_FREQ_sas',\n",
       " 'CN_NONREF_COUNT',\n",
       " 'CN_NONREF_COUNT_BD',\n",
       " 'CN_NONREF_COUNT_BD_afr',\n",
       " 'CN_NONREF_COUNT_BD_ami',\n",
       " 'CN_NONREF_COUNT_BD_amr',\n",
       " 'CN_NONREF_COUNT_BD_asj',\n",
       " 'CN_NONREF_COUNT_BD_fin',\n",
       " 'CN_NONREF_COUNT_BD_nfe',\n",
       " 'CN_NONREF_COUNT_BD_oth',\n",
       " 'CN_NONREF_COUNT_CASE',\n",
       " 'CN_NONREF_COUNT_CASE_nfe',\n",
       " 'CN_NONREF_COUNT_CTRL',\n",
       " 'CN_NONREF_COUNT_CTRL_afr',\n",
       " 'CN_NONREF_COUNT_CTRL_ami',\n",
       " 'CN_NONREF_COUNT_CTRL_amr',\n",
       " 'CN_NONREF_COUNT_CTRL_asj',\n",
       " 'CN_NONREF_COUNT_CTRL_eas',\n",
       " 'CN_NONREF_COUNT_CTRL_fin',\n",
       " 'CN_NONREF_COUNT_CTRL_mid',\n",
       " 'CN_NONREF_COUNT_CTRL_nfe',\n",
       " 'CN_NONREF_COUNT_CTRL_oth',\n",
       " 'CN_NONREF_COUNT_CTRL_sas',\n",
       " 'CN_NONREF_COUNT_OthDISEASE',\n",
       " 'CN_NONREF_COUNT_SCZ',\n",
       " 'CN_NONREF_COUNT_SCZ_afr',\n",
       " 'CN_NONREF_COUNT_SCZ_amr',\n",
       " 'CN_NONREF_COUNT_SCZ_asj',\n",
       " 'CN_NONREF_COUNT_SCZ_fin',\n",
       " 'CN_NONREF_COUNT_SCZ_mid',\n",
       " 'CN_NONREF_COUNT_SCZ_nfe',\n",
       " 'CN_NONREF_COUNT_SCZ_oth',\n",
       " 'CN_NONREF_COUNT_SCZ_sas',\n",
       " 'CN_NONREF_COUNT_afr',\n",
       " 'CN_NONREF_COUNT_ami',\n",
       " 'CN_NONREF_COUNT_amr',\n",
       " 'CN_NONREF_COUNT_asj',\n",
       " 'CN_NONREF_COUNT_eas',\n",
       " 'CN_NONREF_COUNT_fin',\n",
       " 'CN_NONREF_COUNT_mid',\n",
       " 'CN_NONREF_COUNT_nfe',\n",
       " 'CN_NONREF_COUNT_oth',\n",
       " 'CN_NONREF_COUNT_sas',\n",
       " 'CN_NONREF_FREQ',\n",
       " 'CN_NONREF_FREQ_BD',\n",
       " 'CN_NONREF_FREQ_BD_afr',\n",
       " 'CN_NONREF_FREQ_BD_ami',\n",
       " 'CN_NONREF_FREQ_BD_amr',\n",
       " 'CN_NONREF_FREQ_BD_asj',\n",
       " 'CN_NONREF_FREQ_BD_fin',\n",
       " 'CN_NONREF_FREQ_BD_nfe',\n",
       " 'CN_NONREF_FREQ_BD_oth',\n",
       " 'CN_NONREF_FREQ_CASE',\n",
       " 'CN_NONREF_FREQ_CASE_nfe',\n",
       " 'CN_NONREF_FREQ_CTRL',\n",
       " 'CN_NONREF_FREQ_CTRL_afr',\n",
       " 'CN_NONREF_FREQ_CTRL_ami',\n",
       " 'CN_NONREF_FREQ_CTRL_amr',\n",
       " 'CN_NONREF_FREQ_CTRL_asj',\n",
       " 'CN_NONREF_FREQ_CTRL_eas',\n",
       " 'CN_NONREF_FREQ_CTRL_fin',\n",
       " 'CN_NONREF_FREQ_CTRL_mid',\n",
       " 'CN_NONREF_FREQ_CTRL_nfe',\n",
       " 'CN_NONREF_FREQ_CTRL_oth',\n",
       " 'CN_NONREF_FREQ_CTRL_sas',\n",
       " 'CN_NONREF_FREQ_OthDISEASE',\n",
       " 'CN_NONREF_FREQ_SCZ',\n",
       " 'CN_NONREF_FREQ_SCZ_afr',\n",
       " 'CN_NONREF_FREQ_SCZ_amr',\n",
       " 'CN_NONREF_FREQ_SCZ_asj',\n",
       " 'CN_NONREF_FREQ_SCZ_fin',\n",
       " 'CN_NONREF_FREQ_SCZ_mid',\n",
       " 'CN_NONREF_FREQ_SCZ_nfe',\n",
       " 'CN_NONREF_FREQ_SCZ_oth',\n",
       " 'CN_NONREF_FREQ_SCZ_sas',\n",
       " 'CN_NONREF_FREQ_afr',\n",
       " 'CN_NONREF_FREQ_ami',\n",
       " 'CN_NONREF_FREQ_amr',\n",
       " 'CN_NONREF_FREQ_asj',\n",
       " 'CN_NONREF_FREQ_eas',\n",
       " 'CN_NONREF_FREQ_fin',\n",
       " 'CN_NONREF_FREQ_mid',\n",
       " 'CN_NONREF_FREQ_nfe',\n",
       " 'CN_NONREF_FREQ_oth',\n",
       " 'CN_NONREF_FREQ_sas',\n",
       " 'CN_NUMBER',\n",
       " 'CN_NUMBER_BD',\n",
       " 'CN_NUMBER_BD_afr',\n",
       " 'CN_NUMBER_BD_ami',\n",
       " 'CN_NUMBER_BD_amr',\n",
       " 'CN_NUMBER_BD_asj',\n",
       " 'CN_NUMBER_BD_fin',\n",
       " 'CN_NUMBER_BD_nfe',\n",
       " 'CN_NUMBER_BD_oth',\n",
       " 'CN_NUMBER_CASE',\n",
       " 'CN_NUMBER_CASE_nfe',\n",
       " 'CN_NUMBER_CTRL',\n",
       " 'CN_NUMBER_CTRL_afr',\n",
       " 'CN_NUMBER_CTRL_ami',\n",
       " 'CN_NUMBER_CTRL_amr',\n",
       " 'CN_NUMBER_CTRL_asj',\n",
       " 'CN_NUMBER_CTRL_eas',\n",
       " 'CN_NUMBER_CTRL_fin',\n",
       " 'CN_NUMBER_CTRL_mid',\n",
       " 'CN_NUMBER_CTRL_nfe',\n",
       " 'CN_NUMBER_CTRL_oth',\n",
       " 'CN_NUMBER_CTRL_sas',\n",
       " 'CN_NUMBER_OthDISEASE',\n",
       " 'CN_NUMBER_SCZ',\n",
       " 'CN_NUMBER_SCZ_afr',\n",
       " 'CN_NUMBER_SCZ_amr',\n",
       " 'CN_NUMBER_SCZ_asj',\n",
       " 'CN_NUMBER_SCZ_fin',\n",
       " 'CN_NUMBER_SCZ_mid',\n",
       " 'CN_NUMBER_SCZ_nfe',\n",
       " 'CN_NUMBER_SCZ_oth',\n",
       " 'CN_NUMBER_SCZ_sas',\n",
       " 'CN_NUMBER_afr',\n",
       " 'CN_NUMBER_ami',\n",
       " 'CN_NUMBER_amr',\n",
       " 'CN_NUMBER_asj',\n",
       " 'CN_NUMBER_eas',\n",
       " 'CN_NUMBER_fin',\n",
       " 'CN_NUMBER_mid',\n",
       " 'CN_NUMBER_nfe',\n",
       " 'CN_NUMBER_oth',\n",
       " 'CN_NUMBER_sas',\n",
       " 'CN_STATUS',\n",
       " 'CN_STATUS_BD',\n",
       " 'CN_STATUS_BD_afr',\n",
       " 'CN_STATUS_BD_ami',\n",
       " 'CN_STATUS_BD_amr',\n",
       " 'CN_STATUS_BD_asj',\n",
       " 'CN_STATUS_BD_fin',\n",
       " 'CN_STATUS_BD_nfe',\n",
       " 'CN_STATUS_BD_oth',\n",
       " 'CN_STATUS_CASE',\n",
       " 'CN_STATUS_CASE_nfe',\n",
       " 'CN_STATUS_CTRL',\n",
       " 'CN_STATUS_CTRL_afr',\n",
       " 'CN_STATUS_CTRL_ami',\n",
       " 'CN_STATUS_CTRL_amr',\n",
       " 'CN_STATUS_CTRL_asj',\n",
       " 'CN_STATUS_CTRL_eas',\n",
       " 'CN_STATUS_CTRL_fin',\n",
       " 'CN_STATUS_CTRL_mid',\n",
       " 'CN_STATUS_CTRL_nfe',\n",
       " 'CN_STATUS_CTRL_oth',\n",
       " 'CN_STATUS_CTRL_sas',\n",
       " 'CN_STATUS_OthDISEASE',\n",
       " 'CN_STATUS_SCZ',\n",
       " 'CN_STATUS_SCZ_afr',\n",
       " 'CN_STATUS_SCZ_amr',\n",
       " 'CN_STATUS_SCZ_asj',\n",
       " 'CN_STATUS_SCZ_fin',\n",
       " 'CN_STATUS_SCZ_mid',\n",
       " 'CN_STATUS_SCZ_nfe',\n",
       " 'CN_STATUS_SCZ_oth',\n",
       " 'CN_STATUS_SCZ_sas',\n",
       " 'CN_STATUS_afr',\n",
       " 'CN_STATUS_ami',\n",
       " 'CN_STATUS_amr',\n",
       " 'CN_STATUS_asj',\n",
       " 'CN_STATUS_eas',\n",
       " 'CN_STATUS_fin',\n",
       " 'CN_STATUS_mid',\n",
       " 'CN_STATUS_nfe',\n",
       " 'CN_STATUS_oth',\n",
       " 'CN_STATUS_sas',\n",
       " 'END',\n",
       " 'END2',\n",
       " 'EVIDENCE',\n",
       " 'FREQ_HET',\n",
       " 'FREQ_HET_BD',\n",
       " 'FREQ_HET_BD_afr',\n",
       " 'FREQ_HET_BD_ami',\n",
       " 'FREQ_HET_BD_amr',\n",
       " 'FREQ_HET_BD_asj',\n",
       " 'FREQ_HET_BD_fin',\n",
       " 'FREQ_HET_BD_nfe',\n",
       " 'FREQ_HET_BD_oth',\n",
       " 'FREQ_HET_CASE',\n",
       " 'FREQ_HET_CASE_nfe',\n",
       " 'FREQ_HET_CTRL',\n",
       " 'FREQ_HET_CTRL_afr',\n",
       " 'FREQ_HET_CTRL_ami',\n",
       " 'FREQ_HET_CTRL_amr',\n",
       " 'FREQ_HET_CTRL_asj',\n",
       " 'FREQ_HET_CTRL_eas',\n",
       " 'FREQ_HET_CTRL_fin',\n",
       " 'FREQ_HET_CTRL_mid',\n",
       " 'FREQ_HET_CTRL_nfe',\n",
       " 'FREQ_HET_CTRL_oth',\n",
       " 'FREQ_HET_CTRL_sas',\n",
       " 'FREQ_HET_OthDISEASE',\n",
       " 'FREQ_HET_SCZ',\n",
       " 'FREQ_HET_SCZ_afr',\n",
       " 'FREQ_HET_SCZ_amr',\n",
       " 'FREQ_HET_SCZ_asj',\n",
       " 'FREQ_HET_SCZ_fin',\n",
       " 'FREQ_HET_SCZ_mid',\n",
       " 'FREQ_HET_SCZ_nfe',\n",
       " 'FREQ_HET_SCZ_oth',\n",
       " 'FREQ_HET_SCZ_sas',\n",
       " 'FREQ_HET_afr',\n",
       " 'FREQ_HET_ami',\n",
       " 'FREQ_HET_amr',\n",
       " 'FREQ_HET_asj',\n",
       " 'FREQ_HET_eas',\n",
       " 'FREQ_HET_fin',\n",
       " 'FREQ_HET_mid',\n",
       " 'FREQ_HET_nfe',\n",
       " 'FREQ_HET_oth',\n",
       " 'FREQ_HET_sas',\n",
       " 'FREQ_HOMALT',\n",
       " 'FREQ_HOMALT_BD',\n",
       " 'FREQ_HOMALT_BD_afr',\n",
       " 'FREQ_HOMALT_BD_ami',\n",
       " 'FREQ_HOMALT_BD_amr',\n",
       " 'FREQ_HOMALT_BD_asj',\n",
       " 'FREQ_HOMALT_BD_fin',\n",
       " 'FREQ_HOMALT_BD_nfe',\n",
       " 'FREQ_HOMALT_BD_oth',\n",
       " 'FREQ_HOMALT_CASE',\n",
       " 'FREQ_HOMALT_CASE_nfe',\n",
       " 'FREQ_HOMALT_CTRL',\n",
       " 'FREQ_HOMALT_CTRL_afr',\n",
       " 'FREQ_HOMALT_CTRL_ami',\n",
       " 'FREQ_HOMALT_CTRL_amr',\n",
       " 'FREQ_HOMALT_CTRL_asj',\n",
       " 'FREQ_HOMALT_CTRL_eas',\n",
       " 'FREQ_HOMALT_CTRL_fin',\n",
       " 'FREQ_HOMALT_CTRL_mid',\n",
       " 'FREQ_HOMALT_CTRL_nfe',\n",
       " 'FREQ_HOMALT_CTRL_oth',\n",
       " 'FREQ_HOMALT_CTRL_sas',\n",
       " 'FREQ_HOMALT_OthDISEASE',\n",
       " 'FREQ_HOMALT_SCZ',\n",
       " 'FREQ_HOMALT_SCZ_afr',\n",
       " 'FREQ_HOMALT_SCZ_amr',\n",
       " 'FREQ_HOMALT_SCZ_asj',\n",
       " 'FREQ_HOMALT_SCZ_fin',\n",
       " 'FREQ_HOMALT_SCZ_mid',\n",
       " 'FREQ_HOMALT_SCZ_nfe',\n",
       " 'FREQ_HOMALT_SCZ_oth',\n",
       " 'FREQ_HOMALT_SCZ_sas',\n",
       " 'FREQ_HOMALT_afr',\n",
       " 'FREQ_HOMALT_ami',\n",
       " 'FREQ_HOMALT_amr',\n",
       " 'FREQ_HOMALT_asj',\n",
       " 'FREQ_HOMALT_eas',\n",
       " 'FREQ_HOMALT_fin',\n",
       " 'FREQ_HOMALT_mid',\n",
       " 'FREQ_HOMALT_nfe',\n",
       " 'FREQ_HOMALT_oth',\n",
       " 'FREQ_HOMALT_sas',\n",
       " 'FREQ_HOMREF',\n",
       " 'FREQ_HOMREF_BD',\n",
       " 'FREQ_HOMREF_BD_afr',\n",
       " 'FREQ_HOMREF_BD_ami',\n",
       " 'FREQ_HOMREF_BD_amr',\n",
       " 'FREQ_HOMREF_BD_asj',\n",
       " 'FREQ_HOMREF_BD_fin',\n",
       " 'FREQ_HOMREF_BD_nfe',\n",
       " 'FREQ_HOMREF_BD_oth',\n",
       " 'FREQ_HOMREF_CASE',\n",
       " 'FREQ_HOMREF_CASE_nfe',\n",
       " 'FREQ_HOMREF_CTRL',\n",
       " 'FREQ_HOMREF_CTRL_afr',\n",
       " 'FREQ_HOMREF_CTRL_ami',\n",
       " 'FREQ_HOMREF_CTRL_amr',\n",
       " 'FREQ_HOMREF_CTRL_asj',\n",
       " 'FREQ_HOMREF_CTRL_eas',\n",
       " 'FREQ_HOMREF_CTRL_fin',\n",
       " 'FREQ_HOMREF_CTRL_mid',\n",
       " 'FREQ_HOMREF_CTRL_nfe',\n",
       " 'FREQ_HOMREF_CTRL_oth',\n",
       " 'FREQ_HOMREF_CTRL_sas',\n",
       " 'FREQ_HOMREF_OthDISEASE',\n",
       " 'FREQ_HOMREF_SCZ',\n",
       " 'FREQ_HOMREF_SCZ_afr',\n",
       " 'FREQ_HOMREF_SCZ_amr',\n",
       " 'FREQ_HOMREF_SCZ_asj',\n",
       " 'FREQ_HOMREF_SCZ_fin',\n",
       " 'FREQ_HOMREF_SCZ_mid',\n",
       " 'FREQ_HOMREF_SCZ_nfe',\n",
       " 'FREQ_HOMREF_SCZ_oth',\n",
       " 'FREQ_HOMREF_SCZ_sas',\n",
       " 'FREQ_HOMREF_afr',\n",
       " 'FREQ_HOMREF_ami',\n",
       " 'FREQ_HOMREF_amr',\n",
       " 'FREQ_HOMREF_asj',\n",
       " 'FREQ_HOMREF_eas',\n",
       " 'FREQ_HOMREF_fin',\n",
       " 'FREQ_HOMREF_mid',\n",
       " 'FREQ_HOMREF_nfe',\n",
       " 'FREQ_HOMREF_oth',\n",
       " 'FREQ_HOMREF_sas',\n",
       " 'LOW_CONFIDENCE_REPETITIVE_LARGE_DUP',\n",
       " 'MULTIALLELIC',\n",
       " 'NCR',\n",
       " 'N_BI_GENOS',\n",
       " 'N_BI_GENOS_BD',\n",
       " 'N_BI_GENOS_BD_afr',\n",
       " 'N_BI_GENOS_BD_ami',\n",
       " 'N_BI_GENOS_BD_amr',\n",
       " 'N_BI_GENOS_BD_asj',\n",
       " 'N_BI_GENOS_BD_fin',\n",
       " 'N_BI_GENOS_BD_nfe',\n",
       " 'N_BI_GENOS_BD_oth',\n",
       " 'N_BI_GENOS_CASE',\n",
       " 'N_BI_GENOS_CASE_nfe',\n",
       " 'N_BI_GENOS_CTRL',\n",
       " 'N_BI_GENOS_CTRL_afr',\n",
       " 'N_BI_GENOS_CTRL_ami',\n",
       " 'N_BI_GENOS_CTRL_amr',\n",
       " 'N_BI_GENOS_CTRL_asj',\n",
       " 'N_BI_GENOS_CTRL_eas',\n",
       " 'N_BI_GENOS_CTRL_fin',\n",
       " 'N_BI_GENOS_CTRL_mid',\n",
       " 'N_BI_GENOS_CTRL_nfe',\n",
       " 'N_BI_GENOS_CTRL_oth',\n",
       " 'N_BI_GENOS_CTRL_sas',\n",
       " 'N_BI_GENOS_OthDISEASE',\n",
       " 'N_BI_GENOS_SCZ',\n",
       " 'N_BI_GENOS_SCZ_afr',\n",
       " 'N_BI_GENOS_SCZ_amr',\n",
       " 'N_BI_GENOS_SCZ_asj',\n",
       " 'N_BI_GENOS_SCZ_fin',\n",
       " 'N_BI_GENOS_SCZ_mid',\n",
       " 'N_BI_GENOS_SCZ_nfe',\n",
       " 'N_BI_GENOS_SCZ_oth',\n",
       " 'N_BI_GENOS_SCZ_sas',\n",
       " 'N_BI_GENOS_afr',\n",
       " 'N_BI_GENOS_ami',\n",
       " 'N_BI_GENOS_amr',\n",
       " 'N_BI_GENOS_asj',\n",
       " 'N_BI_GENOS_eas',\n",
       " 'N_BI_GENOS_fin',\n",
       " 'N_BI_GENOS_mid',\n",
       " 'N_BI_GENOS_nfe',\n",
       " 'N_BI_GENOS_oth',\n",
       " 'N_BI_GENOS_sas',\n",
       " 'N_HET',\n",
       " 'N_HET_BD',\n",
       " 'N_HET_BD_afr',\n",
       " 'N_HET_BD_ami',\n",
       " 'N_HET_BD_amr',\n",
       " 'N_HET_BD_asj',\n",
       " 'N_HET_BD_fin',\n",
       " 'N_HET_BD_nfe',\n",
       " 'N_HET_BD_oth',\n",
       " 'N_HET_CASE',\n",
       " 'N_HET_CASE_nfe',\n",
       " 'N_HET_CTRL',\n",
       " 'N_HET_CTRL_afr',\n",
       " 'N_HET_CTRL_ami',\n",
       " 'N_HET_CTRL_amr',\n",
       " 'N_HET_CTRL_asj',\n",
       " 'N_HET_CTRL_eas',\n",
       " 'N_HET_CTRL_fin',\n",
       " 'N_HET_CTRL_mid',\n",
       " 'N_HET_CTRL_nfe',\n",
       " 'N_HET_CTRL_oth',\n",
       " 'N_HET_CTRL_sas',\n",
       " 'N_HET_OthDISEASE',\n",
       " 'N_HET_SCZ',\n",
       " 'N_HET_SCZ_afr',\n",
       " 'N_HET_SCZ_amr',\n",
       " 'N_HET_SCZ_asj',\n",
       " 'N_HET_SCZ_fin',\n",
       " 'N_HET_SCZ_mid',\n",
       " 'N_HET_SCZ_nfe',\n",
       " 'N_HET_SCZ_oth',\n",
       " 'N_HET_SCZ_sas',\n",
       " 'N_HET_afr',\n",
       " 'N_HET_ami',\n",
       " 'N_HET_amr',\n",
       " 'N_HET_asj',\n",
       " 'N_HET_eas',\n",
       " 'N_HET_fin',\n",
       " 'N_HET_mid',\n",
       " 'N_HET_nfe',\n",
       " 'N_HET_oth',\n",
       " 'N_HET_sas',\n",
       " 'N_HOMALT',\n",
       " 'N_HOMALT_BD',\n",
       " 'N_HOMALT_BD_afr',\n",
       " 'N_HOMALT_BD_ami',\n",
       " 'N_HOMALT_BD_amr',\n",
       " 'N_HOMALT_BD_asj',\n",
       " 'N_HOMALT_BD_fin',\n",
       " 'N_HOMALT_BD_nfe',\n",
       " 'N_HOMALT_BD_oth',\n",
       " 'N_HOMALT_CASE',\n",
       " 'N_HOMALT_CASE_nfe',\n",
       " 'N_HOMALT_CTRL',\n",
       " 'N_HOMALT_CTRL_afr',\n",
       " 'N_HOMALT_CTRL_ami',\n",
       " 'N_HOMALT_CTRL_amr',\n",
       " 'N_HOMALT_CTRL_asj',\n",
       " 'N_HOMALT_CTRL_eas',\n",
       " 'N_HOMALT_CTRL_fin',\n",
       " 'N_HOMALT_CTRL_mid',\n",
       " 'N_HOMALT_CTRL_nfe',\n",
       " 'N_HOMALT_CTRL_oth',\n",
       " 'N_HOMALT_CTRL_sas',\n",
       " 'N_HOMALT_OthDISEASE',\n",
       " 'N_HOMALT_SCZ',\n",
       " 'N_HOMALT_SCZ_afr',\n",
       " 'N_HOMALT_SCZ_amr',\n",
       " 'N_HOMALT_SCZ_asj',\n",
       " 'N_HOMALT_SCZ_fin',\n",
       " 'N_HOMALT_SCZ_mid',\n",
       " 'N_HOMALT_SCZ_nfe',\n",
       " 'N_HOMALT_SCZ_oth',\n",
       " 'N_HOMALT_SCZ_sas',\n",
       " 'N_HOMALT_afr',\n",
       " 'N_HOMALT_ami',\n",
       " 'N_HOMALT_amr',\n",
       " 'N_HOMALT_asj',\n",
       " 'N_HOMALT_eas',\n",
       " 'N_HOMALT_fin',\n",
       " 'N_HOMALT_mid',\n",
       " 'N_HOMALT_nfe',\n",
       " 'N_HOMALT_oth',\n",
       " 'N_HOMALT_sas',\n",
       " 'N_HOMREF',\n",
       " 'N_HOMREF_BD',\n",
       " 'N_HOMREF_BD_afr',\n",
       " 'N_HOMREF_BD_ami',\n",
       " 'N_HOMREF_BD_amr',\n",
       " 'N_HOMREF_BD_asj',\n",
       " 'N_HOMREF_BD_fin',\n",
       " 'N_HOMREF_BD_nfe',\n",
       " 'N_HOMREF_BD_oth',\n",
       " 'N_HOMREF_CASE',\n",
       " 'N_HOMREF_CASE_nfe',\n",
       " 'N_HOMREF_CTRL',\n",
       " 'N_HOMREF_CTRL_afr',\n",
       " 'N_HOMREF_CTRL_ami',\n",
       " 'N_HOMREF_CTRL_amr',\n",
       " 'N_HOMREF_CTRL_asj',\n",
       " 'N_HOMREF_CTRL_eas',\n",
       " 'N_HOMREF_CTRL_fin',\n",
       " 'N_HOMREF_CTRL_mid',\n",
       " 'N_HOMREF_CTRL_nfe',\n",
       " 'N_HOMREF_CTRL_oth',\n",
       " 'N_HOMREF_CTRL_sas',\n",
       " 'N_HOMREF_OthDISEASE',\n",
       " 'N_HOMREF_SCZ',\n",
       " 'N_HOMREF_SCZ_afr',\n",
       " 'N_HOMREF_SCZ_amr',\n",
       " 'N_HOMREF_SCZ_asj',\n",
       " 'N_HOMREF_SCZ_fin',\n",
       " 'N_HOMREF_SCZ_mid',\n",
       " 'N_HOMREF_SCZ_nfe',\n",
       " 'N_HOMREF_SCZ_oth',\n",
       " 'N_HOMREF_SCZ_sas',\n",
       " 'N_HOMREF_afr',\n",
       " 'N_HOMREF_ami',\n",
       " 'N_HOMREF_amr',\n",
       " 'N_HOMREF_asj',\n",
       " 'N_HOMREF_eas',\n",
       " 'N_HOMREF_fin',\n",
       " 'N_HOMREF_mid',\n",
       " 'N_HOMREF_nfe',\n",
       " 'N_HOMREF_oth',\n",
       " 'N_HOMREF_sas',\n",
       " 'PCRMINUS_NCR',\n",
       " 'PCRPLUS_NCR',\n",
       " 'POPMAX_AF',\n",
       " 'POS2',\n",
       " 'PREDICTED_COPY_GAIN',\n",
       " 'PREDICTED_INTERGENIC',\n",
       " 'PREDICTED_MSV_EXON_OVERLAP',\n",
       " 'PREDICTED_NEAREST_TSS',\n",
       " 'SVLEN',\n",
       " 'SVTYPE',\n",
       " 'UNRESOLVED_TYPE'}"
      ]
     },
     "execution_count": 17,
     "metadata": {},
     "output_type": "execute_result"
    }
   ],
   "source": [
    "unique_elements"
   ]
  },
  {
   "cell_type": "code",
   "execution_count": 28,
   "id": "45ee600e",
   "metadata": {},
   "outputs": [
    {
     "data": {
      "text/html": [
       "<pre style=\"white-space:pre;overflow-x:auto;line-height:normal;font-family:Menlo,'DejaVu Sans Mono',consolas,'Courier New',monospace\">\n",
       "</pre>\n"
      ],
      "text/plain": [
       "\n"
      ]
     },
     "metadata": {},
     "output_type": "display_data"
    },
    {
     "data": {
      "application/vnd.jupyter.widget-view+json": {
       "model_id": "5c8e37a152df421bbd5d64cbe91f35ab",
       "version_major": 2,
       "version_minor": 0
      },
      "text/plain": [
       "Output()"
      ]
     },
     "metadata": {},
     "output_type": "display_data"
    },
    {
     "data": {
      "text/html": [
       "<pre style=\"white-space:pre;overflow-x:auto;line-height:normal;font-family:Menlo,'DejaVu Sans Mono',consolas,'Courier New',monospace\"></pre>\n"
      ],
      "text/plain": []
     },
     "metadata": {},
     "output_type": "display_data"
    },
    {
     "data": {
      "text/html": [
       "<pre style=\"white-space:pre;overflow-x:auto;line-height:normal;font-family:Menlo,'DejaVu Sans Mono',consolas,'Courier New',monospace\">\n",
       "</pre>\n"
      ],
      "text/plain": [
       "\n"
      ]
     },
     "metadata": {},
     "output_type": "display_data"
    },
    {
     "data": {
      "text/html": [
       "<pre style=\"white-space:pre;overflow-x:auto;line-height:normal;font-family:Menlo,'DejaVu Sans Mono',consolas,'Courier New',monospace\">\n",
       "</pre>\n"
      ],
      "text/plain": [
       "\n"
      ]
     },
     "metadata": {},
     "output_type": "display_data"
    },
    {
     "data": {
      "application/vnd.jupyter.widget-view+json": {
       "model_id": "dd716ff63a0b47b18d7d9ad8afd360b3",
       "version_major": 2,
       "version_minor": 0
      },
      "text/plain": [
       "Output()"
      ]
     },
     "metadata": {},
     "output_type": "display_data"
    },
    {
     "data": {
      "text/html": [
       "<pre style=\"white-space:pre;overflow-x:auto;line-height:normal;font-family:Menlo,'DejaVu Sans Mono',consolas,'Courier New',monospace\"></pre>\n"
      ],
      "text/plain": []
     },
     "metadata": {},
     "output_type": "display_data"
    },
    {
     "data": {
      "text/html": [
       "<pre style=\"white-space:pre;overflow-x:auto;line-height:normal;font-family:Menlo,'DejaVu Sans Mono',consolas,'Courier New',monospace\">\n",
       "</pre>\n"
      ],
      "text/plain": [
       "\n"
      ]
     },
     "metadata": {},
     "output_type": "display_data"
    },
    {
     "name": "stdout",
     "output_type": "stream",
     "text": [
      "2063885 (2154486, 63046)\n"
     ]
    }
   ],
   "source": [
    "print(ht.count(), mt.count())"
   ]
  },
  {
   "cell_type": "code",
   "execution_count": null,
   "id": "f4128eff",
   "metadata": {},
   "outputs": [],
   "source": []
  }
 ],
 "metadata": {
  "kernelspec": {
   "display_name": "Python 3 (ipykernel)",
   "language": "python",
   "name": "python3"
  },
  "language_info": {
   "codemirror_mode": {
    "name": "ipython",
    "version": 3
   },
   "file_extension": ".py",
   "mimetype": "text/x-python",
   "name": "python",
   "nbconvert_exporter": "python",
   "pygments_lexer": "ipython3",
   "version": "3.9.13"
  }
 },
 "nbformat": 4,
 "nbformat_minor": 5
}
