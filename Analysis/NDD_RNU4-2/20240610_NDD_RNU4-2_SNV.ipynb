{
 "cells": [
  {
   "cell_type": "code",
   "execution_count": 2,
   "id": "cd843cb1",
   "metadata": {},
   "outputs": [],
   "source": [
    "import hail as hl\n",
    "import pandas as pd"
   ]
  },
  {
   "cell_type": "code",
   "execution_count": 3,
   "id": "cfaafa70",
   "metadata": {},
   "outputs": [
    {
     "name": "stderr",
     "output_type": "stream",
     "text": [
      "/opt/conda/miniconda3/lib/python3.10/site-packages/hail/context.py:347: UserWarning:\n",
      "\n",
      "Using hl.init with a default_reference argument is deprecated. To set a default reference genome after initializing hail, call `hl.default_reference` with an argument to set the default reference genome.\n",
      "\n",
      "Setting default log level to \"WARN\".\n",
      "To adjust logging level use sc.setLogLevel(newLevel). For SparkR, use setLogLevel(newLevel).\n"
     ]
    },
    {
     "name": "stdout",
     "output_type": "stream",
     "text": [
      "SPARKMONITOR_LISTENER: Started SparkListener for Jupyter Notebook\n",
      "SPARKMONITOR_LISTENER: Port obtained from environment: 40323\n",
      "SPARKMONITOR_LISTENER: Application Started: application_1718034285666_0003 ...Start Time: 1718040682589\n"
     ]
    },
    {
     "name": "stderr",
     "output_type": "stream",
     "text": [
      "Running on Apache Spark version 3.3.2\n",
      "SparkUI available at http://rye-m.c.wes-bipolar.internal:45189\n",
      "Welcome to\n",
      "     __  __     <>__\n",
      "    / /_/ /__  __/ /\n",
      "   / __  / _ `/ / /\n",
      "  /_/ /_/\\_,_/_/_/   version 0.2.128-eead8100a1c1\n",
      "LOGGING: writing to /home/hail/hail-20240610-1731-0.2.128-eead8100a1c1.log\n"
     ]
    }
   ],
   "source": [
    "hl.init(default_reference = 'GRCh38',\n",
    "                tmp_dir = \"gs://wes-bipolar-tmp-4day/\")"
   ]
  },
  {
   "cell_type": "code",
   "execution_count": 4,
   "id": "f6fffdca",
   "metadata": {},
   "outputs": [
    {
     "name": "stderr",
     "output_type": "stream",
     "text": [
      "2024-06-10 17:31:43.263 Hail: INFO: Reading table to impute column types 1) / 1]\n",
      "2024-06-10 17:31:45.276 Hail: INFO: Finished type imputation\n",
      "  Loading field 's' as type str (imputed)\n",
      "  Loading field 'sex_new' as type str (imputed)\n",
      "  Loading field 'sex_old' as type str (imputed)\n",
      "  Loading field 'SEX' as type str (imputed)\n",
      "  Loading field 'primary_disease_new' as type str (imputed)\n",
      "  Loading field 'primary_disease_new_fixed' as type str (imputed)\n",
      "  Loading field 'primary_disease_old' as type str (imputed)\n",
      "  Loading field 'primary_disease_old_fixed' as type str (imputed)\n",
      "  Loading field 'PRIMARY_DISEASE' as type str (imputed)\n",
      "  Loading field 'CASECON' as type str (imputed)\n"
     ]
    },
    {
     "data": {
      "text/plain": [
       "35527"
      ]
     },
     "execution_count": 4,
     "metadata": {},
     "output_type": "execute_result"
    }
   ],
   "source": [
    "# Full manifest before sample-filtering \n",
    "MANIFEST = 'gs://2024-wgspd/files/2024_WGSPD_merged-manifest.tsv'\n",
    "manifest = hl.import_table(MANIFEST, delimiter='\\t',\n",
    "                          key = \"s\", impute = True)\n",
    "manifest.count()"
   ]
  },
  {
   "cell_type": "code",
   "execution_count": 5,
   "id": "43346a58",
   "metadata": {},
   "outputs": [
    {
     "name": "stdout",
     "output_type": "stream",
     "text": [
      "----------------------------------------\n",
      "Global fields:\n",
      "    None\n",
      "----------------------------------------\n",
      "Row fields:\n",
      "    's': str \n",
      "    'sex_new': str \n",
      "    'sex_old': str \n",
      "    'SEX': str \n",
      "    'primary_disease_new': str \n",
      "    'primary_disease_new_fixed': str \n",
      "    'primary_disease_old': str \n",
      "    'primary_disease_old_fixed': str \n",
      "    'PRIMARY_DISEASE': str \n",
      "    'CASECON': str \n",
      "----------------------------------------\n",
      "Key: ['s']\n",
      "----------------------------------------\n"
     ]
    }
   ],
   "source": [
    "manifest.describe()"
   ]
  },
  {
   "cell_type": "code",
   "execution_count": 11,
   "id": "d703da95",
   "metadata": {},
   "outputs": [
    {
     "data": {
      "text/plain": [
       "(588713326, 35527)"
      ]
     },
     "execution_count": 11,
     "metadata": {},
     "output_type": "execute_result"
    }
   ],
   "source": [
    "# Subset dense MT before variant-filtering (by gnomad)\n",
    "MT = 'gs://gnomad-subsets-2024/gnomad-v3/202403/20240328_subset_dense-callstats.mt'\n",
    "mt = hl.read_matrix_table(MT)\n",
    "mt.count()"
   ]
  },
  {
   "cell_type": "code",
   "execution_count": 12,
   "id": "4e08a6a2",
   "metadata": {},
   "outputs": [],
   "source": [
    "# Annotate with phenotype info\n",
    "mt = mt.annotate_cols(is_case = manifest[mt.s].CASECON == \"CASE\")\n",
    "mt = mt.annotate_cols(primary_disease = manifest[mt.s].PRIMARY_DISEASE)"
   ]
  },
  {
   "cell_type": "markdown",
   "id": "b6669b4f",
   "metadata": {},
   "source": [
    "### Sites of interest"
   ]
  },
  {
   "cell_type": "code",
   "execution_count": 13,
   "id": "99f0fd5a",
   "metadata": {},
   "outputs": [],
   "source": [
    "pos = [120291839, 120291839, 120291826, 120291827, 120291835, 120291838, #Single base insertions\n",
    "       120291839, 120291826, 120291828, 120291835, 120291837, 120291841] #SNVs\n",
    "variant_list = [\"chr12:\" + str(p) for p in pos]\n",
    "alleles =[[\"T\",\"TA\"], [\"T\",\"TC\"], [\"T\",\"TA\"], [\"T\",\"TA\"], [\"G\",\"GT\"], [\"T\",\"TA\"], #Single base insertions\n",
    "          [\"T\",\"C\"], [\"T\",\"G\"], [\"G\",\"A\"], [\"G\",\"A\"], [\"T\",\"C\"], [\"A\",\"C\"]] #SNVs\n",
    "assert(len(pos) == len(alleles))"
   ]
  },
  {
   "cell_type": "code",
   "execution_count": 16,
   "id": "6f347090",
   "metadata": {},
   "outputs": [],
   "source": [
    "variant_df = pd.DataFrame({\"locus\" : variant_list, \"alleles\": alleles})\n",
    "variant_ht = hl.Table.from_pandas(variant_df)\n",
    "variant_ht = variant_ht.annotate(locus = hl.parse_locus(variant_ht.locus))\n",
    "#variant_ht = variant_ht.key_by(\"locus\", \"alleles\")\n",
    "variant_ht = variant_ht.key_by(\"locus\")"
   ]
  },
  {
   "cell_type": "code",
   "execution_count": 17,
   "id": "c8fa2dd8",
   "metadata": {},
   "outputs": [
    {
     "name": "stderr",
     "output_type": "stream",
     "text": [
      "2024-06-10 17:40:13.358 Hail: INFO: Ordering unsorted dataset with network shuffle\n",
      "Exception in thread \"Thread-39\" java.lang.NullPointerException + 1640) / 115376]\n",
      "\tat sparkmonitor.listener.JupyterSparkMonitorListener$TaskUpdaterThread.$anonfun$run$1(CustomListener.scala:116)\n",
      "\tat scala.collection.TraversableLike$grouper$1$.apply(TraversableLike.scala:465)\n",
      "\tat scala.collection.TraversableLike$grouper$1$.apply(TraversableLike.scala:455)\n",
      "\tat scala.collection.mutable.ResizableArray.foreach(ResizableArray.scala:62)\n",
      "\tat scala.collection.mutable.ResizableArray.foreach$(ResizableArray.scala:55)\n",
      "\tat scala.collection.mutable.ArrayBuffer.foreach(ArrayBuffer.scala:49)\n",
      "\tat scala.collection.TraversableLike.groupBy(TraversableLike.scala:524)\n",
      "\tat scala.collection.TraversableLike.groupBy$(TraversableLike.scala:454)\n",
      "\tat scala.collection.AbstractTraversable.groupBy(Traversable.scala:108)\n",
      "\tat sparkmonitor.listener.JupyterSparkMonitorListener$TaskUpdaterThread.run(CustomListener.scala:116)\n",
      "\tat java.base/java.lang.Thread.run(Thread.java:829)\n",
      "2024-06-10 18:23:21.044 Hail: INFO: wrote matrix table with 5 rows and 35527 columns in 115376 partitions to gs://2024-wgspd/NDD_RNU4-2/20240610_NDD_RNU4-2_SNV_locus-only.mt\n"
     ]
    }
   ],
   "source": [
    "#f = mt.filter_rows(hl.is_defined(variant_ht[mt.locus, mt.alleles]))\n",
    "f = mt.filter_rows(hl.is_defined(variant_ht[mt.locus]))\n",
    "f = f.checkpoint(\"gs://2024-wgspd/NDD_RNU4-2/20240610_NDD_RNU4-2_SNV_locus-only.mt\")"
   ]
  },
  {
   "cell_type": "code",
   "execution_count": 18,
   "id": "d8970fac",
   "metadata": {
    "scrolled": true
   },
   "outputs": [
    {
     "name": "stdout",
     "output_type": "stream",
     "text": [
      "----------------------------------------\n",
      "Global fields:\n",
      "    None\n",
      "----------------------------------------\n",
      "Column fields:\n",
      "    's': str\n",
      "    'is_case': bool\n",
      "    'primary_disease': str\n",
      "----------------------------------------\n",
      "Row fields:\n",
      "    'locus': locus<GRCh38>\n",
      "    'alleles': array<str>\n",
      "    'rsid': str\n",
      "    'a_index': int32\n",
      "    'was_split': bool\n",
      "    'AC_raw': int32\n",
      "    'AN_raw': int32\n",
      "    'AF_raw': float32\n",
      "    'AC': int32\n",
      "    'AN': int32\n",
      "    'AF': float32\n",
      "----------------------------------------\n",
      "Entry fields:\n",
      "    'GT': call\n",
      "    'DP': int32\n",
      "    'GQ': int32\n",
      "    'MIN_DP': int32\n",
      "    'RGQ': int32\n",
      "    'END': int32\n",
      "    'PID': str\n",
      "    'SB': array<int32>\n",
      "    'gvcf_info': struct {\n",
      "        ClippingRankSum: float64, \n",
      "        BaseQRankSum: float64, \n",
      "        MQ: float64, \n",
      "        MQRankSum: float64, \n",
      "        MQ_DP: int32, \n",
      "        QUALapprox: int32, \n",
      "        RAW_MQ: float64, \n",
      "        ReadPosRankSum: float64, \n",
      "        VarDP: int32\n",
      "    }\n",
      "    'PGT': call\n",
      "    'AD': array<int32>\n",
      "    'PL': array<int32>\n",
      "    'adj': bool\n",
      "----------------------------------------\n",
      "Column key: ['s']\n",
      "Row key: ['locus', 'alleles']\n",
      "----------------------------------------\n"
     ]
    }
   ],
   "source": [
    "f = hl.read_matrix_table(\"gs://2024-wgspd/NDD_RNU4-2/20240610_NDD_RNU4-2_SNV_locus-only.mt\")\n",
    "f.describe()"
   ]
  },
  {
   "cell_type": "code",
   "execution_count": 19,
   "id": "fdeac741",
   "metadata": {},
   "outputs": [],
   "source": [
    "f = f.annotate_entries(non_ref = f.GT.is_non_ref())"
   ]
  },
  {
   "cell_type": "code",
   "execution_count": 20,
   "id": "5677f14b",
   "metadata": {
    "scrolled": true
   },
   "outputs": [
    {
     "name": "stderr",
     "output_type": "stream",
     "text": [
      "[Stage 28:================================================(115376 + 1) / 115376]\r"
     ]
    },
    {
     "data": {
      "text/html": [
       "<table><thead><tr><td style=\"white-space: nowrap; max-width: 500px; overflow: hidden; text-overflow: ellipsis; \" colspan=\"1\"><div style=\"text-align: left;\"></div></td><td style=\"white-space: nowrap; max-width: 500px; overflow: hidden; text-overflow: ellipsis; \" colspan=\"1\"><div style=\"text-align: left;\"></div></td><td style=\"white-space: nowrap; max-width: 500px; overflow: hidden; text-overflow: ellipsis; \" colspan=\"1\"><div style=\"text-align: left;\"></div></td><td style=\"white-space: nowrap; max-width: 500px; overflow: hidden; text-overflow: ellipsis; \" colspan=\"1\"><div style=\"text-align: left;\"></div></td><td style=\"white-space: nowrap; max-width: 500px; overflow: hidden; text-overflow: ellipsis; \" colspan=\"1\"><div style=\"text-align: left;\"></div></td><td style=\"white-space: nowrap; max-width: 500px; overflow: hidden; text-overflow: ellipsis; \" colspan=\"1\"><div style=\"text-align: left;\"></div></td><td style=\"white-space: nowrap; max-width: 500px; overflow: hidden; text-overflow: ellipsis; \" colspan=\"1\"><div style=\"text-align: left;\"></div></td><td style=\"white-space: nowrap; max-width: 500px; overflow: hidden; text-overflow: ellipsis; \" colspan=\"1\"><div style=\"text-align: left;\"></div></td><td style=\"white-space: nowrap; max-width: 500px; overflow: hidden; text-overflow: ellipsis; \" colspan=\"1\"><div style=\"text-align: left;\"></div></td><td style=\"white-space: nowrap; max-width: 500px; overflow: hidden; text-overflow: ellipsis; \" colspan=\"1\"><div style=\"text-align: left;\"></div></td><td style=\"white-space: nowrap; max-width: 500px; overflow: hidden; text-overflow: ellipsis; \" colspan=\"1\"><div style=\"text-align: left;\"></div></td><td style=\"white-space: nowrap; max-width: 500px; overflow: hidden; text-overflow: ellipsis; \" colspan=\"1\"><div style=\"text-align: left;\"></div></td><td style=\"white-space: nowrap; max-width: 500px; overflow: hidden; text-overflow: ellipsis; \" colspan=\"1\"><div style=\"text-align: left;\"></div></td></tr><tr><td style=\"white-space: nowrap; max-width: 500px; overflow: hidden; text-overflow: ellipsis; \" colspan=\"1\"><div style=\"text-align: left;border-bottom: solid 2px #000; padding-bottom: 5px\">locus</div></td><td style=\"white-space: nowrap; max-width: 500px; overflow: hidden; text-overflow: ellipsis; \" colspan=\"1\"><div style=\"text-align: left;border-bottom: solid 2px #000; padding-bottom: 5px\">alleles</div></td><td style=\"white-space: nowrap; max-width: 500px; overflow: hidden; text-overflow: ellipsis; \" colspan=\"1\"><div style=\"text-align: left;border-bottom: solid 2px #000; padding-bottom: 5px\">rsid</div></td><td style=\"white-space: nowrap; max-width: 500px; overflow: hidden; text-overflow: ellipsis; \" colspan=\"1\"><div style=\"text-align: left;border-bottom: solid 2px #000; padding-bottom: 5px\">a_index</div></td><td style=\"white-space: nowrap; max-width: 500px; overflow: hidden; text-overflow: ellipsis; \" colspan=\"1\"><div style=\"text-align: left;border-bottom: solid 2px #000; padding-bottom: 5px\">was_split</div></td><td style=\"white-space: nowrap; max-width: 500px; overflow: hidden; text-overflow: ellipsis; \" colspan=\"1\"><div style=\"text-align: left;border-bottom: solid 2px #000; padding-bottom: 5px\">AC_raw</div></td><td style=\"white-space: nowrap; max-width: 500px; overflow: hidden; text-overflow: ellipsis; \" colspan=\"1\"><div style=\"text-align: left;border-bottom: solid 2px #000; padding-bottom: 5px\">AN_raw</div></td><td style=\"white-space: nowrap; max-width: 500px; overflow: hidden; text-overflow: ellipsis; \" colspan=\"1\"><div style=\"text-align: left;border-bottom: solid 2px #000; padding-bottom: 5px\">AF_raw</div></td><td style=\"white-space: nowrap; max-width: 500px; overflow: hidden; text-overflow: ellipsis; \" colspan=\"1\"><div style=\"text-align: left;border-bottom: solid 2px #000; padding-bottom: 5px\">AC</div></td><td style=\"white-space: nowrap; max-width: 500px; overflow: hidden; text-overflow: ellipsis; \" colspan=\"1\"><div style=\"text-align: left;border-bottom: solid 2px #000; padding-bottom: 5px\">AN</div></td><td style=\"white-space: nowrap; max-width: 500px; overflow: hidden; text-overflow: ellipsis; \" colspan=\"1\"><div style=\"text-align: left;border-bottom: solid 2px #000; padding-bottom: 5px\">AF</div></td><td style=\"white-space: nowrap; max-width: 500px; overflow: hidden; text-overflow: ellipsis; \" colspan=\"1\"><div style=\"text-align: left;border-bottom: solid 2px #000; padding-bottom: 5px\">case_non_ref</div></td><td style=\"white-space: nowrap; max-width: 500px; overflow: hidden; text-overflow: ellipsis; \" colspan=\"1\"><div style=\"text-align: left;border-bottom: solid 2px #000; padding-bottom: 5px\">con_non_ref</div></td></tr><tr><td style=\"white-space: nowrap; max-width: 500px; overflow: hidden; text-overflow: ellipsis; text-align: left;\">locus&lt;GRCh38&gt;</td><td style=\"white-space: nowrap; max-width: 500px; overflow: hidden; text-overflow: ellipsis; text-align: left;\">array&lt;str&gt;</td><td style=\"white-space: nowrap; max-width: 500px; overflow: hidden; text-overflow: ellipsis; text-align: left;\">str</td><td style=\"white-space: nowrap; max-width: 500px; overflow: hidden; text-overflow: ellipsis; text-align: left;\">int32</td><td style=\"white-space: nowrap; max-width: 500px; overflow: hidden; text-overflow: ellipsis; text-align: left;\">bool</td><td style=\"white-space: nowrap; max-width: 500px; overflow: hidden; text-overflow: ellipsis; text-align: left;\">int32</td><td style=\"white-space: nowrap; max-width: 500px; overflow: hidden; text-overflow: ellipsis; text-align: left;\">int32</td><td style=\"white-space: nowrap; max-width: 500px; overflow: hidden; text-overflow: ellipsis; text-align: left;\">float32</td><td style=\"white-space: nowrap; max-width: 500px; overflow: hidden; text-overflow: ellipsis; text-align: left;\">int32</td><td style=\"white-space: nowrap; max-width: 500px; overflow: hidden; text-overflow: ellipsis; text-align: left;\">int32</td><td style=\"white-space: nowrap; max-width: 500px; overflow: hidden; text-overflow: ellipsis; text-align: left;\">float32</td><td style=\"white-space: nowrap; max-width: 500px; overflow: hidden; text-overflow: ellipsis; text-align: left;\">int64</td><td style=\"white-space: nowrap; max-width: 500px; overflow: hidden; text-overflow: ellipsis; text-align: left;\">int64</td></tr>\n",
       "</thead><tbody><tr><td style=\"white-space: nowrap; max-width: 500px; overflow: hidden; text-overflow: ellipsis; \">chr12:120291826</td><td style=\"white-space: nowrap; max-width: 500px; overflow: hidden; text-overflow: ellipsis; \">[&quot;T&quot;,&quot;C&quot;]</td><td style=\"white-space: nowrap; max-width: 500px; overflow: hidden; text-overflow: ellipsis; \">NA</td><td style=\"white-space: nowrap; max-width: 500px; overflow: hidden; text-overflow: ellipsis; \">1</td><td style=\"white-space: nowrap; max-width: 500px; overflow: hidden; text-overflow: ellipsis; \">False</td><td style=\"white-space: nowrap; max-width: 500px; overflow: hidden; text-overflow: ellipsis; \">1</td><td style=\"white-space: nowrap; max-width: 500px; overflow: hidden; text-overflow: ellipsis; \">71030</td><td style=\"white-space: nowrap; max-width: 500px; overflow: hidden; text-overflow: ellipsis; \">1.41e-05</td><td style=\"white-space: nowrap; max-width: 500px; overflow: hidden; text-overflow: ellipsis; \">1</td><td style=\"white-space: nowrap; max-width: 500px; overflow: hidden; text-overflow: ellipsis; \">70920</td><td style=\"white-space: nowrap; max-width: 500px; overflow: hidden; text-overflow: ellipsis; \">1.41e-05</td><td style=\"white-space: nowrap; max-width: 500px; overflow: hidden; text-overflow: ellipsis; \">1</td><td style=\"white-space: nowrap; max-width: 500px; overflow: hidden; text-overflow: ellipsis; \">0</td></tr>\n",
       "<tr><td style=\"white-space: nowrap; max-width: 500px; overflow: hidden; text-overflow: ellipsis; \">chr12:120291827</td><td style=\"white-space: nowrap; max-width: 500px; overflow: hidden; text-overflow: ellipsis; \">[&quot;T&quot;,&quot;C&quot;]</td><td style=\"white-space: nowrap; max-width: 500px; overflow: hidden; text-overflow: ellipsis; \">NA</td><td style=\"white-space: nowrap; max-width: 500px; overflow: hidden; text-overflow: ellipsis; \">1</td><td style=\"white-space: nowrap; max-width: 500px; overflow: hidden; text-overflow: ellipsis; \">True</td><td style=\"white-space: nowrap; max-width: 500px; overflow: hidden; text-overflow: ellipsis; \">1</td><td style=\"white-space: nowrap; max-width: 500px; overflow: hidden; text-overflow: ellipsis; \">71038</td><td style=\"white-space: nowrap; max-width: 500px; overflow: hidden; text-overflow: ellipsis; \">1.41e-05</td><td style=\"white-space: nowrap; max-width: 500px; overflow: hidden; text-overflow: ellipsis; \">0</td><td style=\"white-space: nowrap; max-width: 500px; overflow: hidden; text-overflow: ellipsis; \">70956</td><td style=\"white-space: nowrap; max-width: 500px; overflow: hidden; text-overflow: ellipsis; \">0.00e+00</td><td style=\"white-space: nowrap; max-width: 500px; overflow: hidden; text-overflow: ellipsis; \">1</td><td style=\"white-space: nowrap; max-width: 500px; overflow: hidden; text-overflow: ellipsis; \">0</td></tr>\n",
       "<tr><td style=\"white-space: nowrap; max-width: 500px; overflow: hidden; text-overflow: ellipsis; \">chr12:120291827</td><td style=\"white-space: nowrap; max-width: 500px; overflow: hidden; text-overflow: ellipsis; \">[&quot;T&quot;,&quot;TG&quot;]</td><td style=\"white-space: nowrap; max-width: 500px; overflow: hidden; text-overflow: ellipsis; \">NA</td><td style=\"white-space: nowrap; max-width: 500px; overflow: hidden; text-overflow: ellipsis; \">3</td><td style=\"white-space: nowrap; max-width: 500px; overflow: hidden; text-overflow: ellipsis; \">True</td><td style=\"white-space: nowrap; max-width: 500px; overflow: hidden; text-overflow: ellipsis; \">1</td><td style=\"white-space: nowrap; max-width: 500px; overflow: hidden; text-overflow: ellipsis; \">71038</td><td style=\"white-space: nowrap; max-width: 500px; overflow: hidden; text-overflow: ellipsis; \">1.41e-05</td><td style=\"white-space: nowrap; max-width: 500px; overflow: hidden; text-overflow: ellipsis; \">1</td><td style=\"white-space: nowrap; max-width: 500px; overflow: hidden; text-overflow: ellipsis; \">70956</td><td style=\"white-space: nowrap; max-width: 500px; overflow: hidden; text-overflow: ellipsis; \">1.41e-05</td><td style=\"white-space: nowrap; max-width: 500px; overflow: hidden; text-overflow: ellipsis; \">0</td><td style=\"white-space: nowrap; max-width: 500px; overflow: hidden; text-overflow: ellipsis; \">1</td></tr>\n",
       "<tr><td style=\"white-space: nowrap; max-width: 500px; overflow: hidden; text-overflow: ellipsis; \">chr12:120291827</td><td style=\"white-space: nowrap; max-width: 500px; overflow: hidden; text-overflow: ellipsis; \">[&quot;TG&quot;,&quot;T&quot;]</td><td style=\"white-space: nowrap; max-width: 500px; overflow: hidden; text-overflow: ellipsis; \">NA</td><td style=\"white-space: nowrap; max-width: 500px; overflow: hidden; text-overflow: ellipsis; \">2</td><td style=\"white-space: nowrap; max-width: 500px; overflow: hidden; text-overflow: ellipsis; \">True</td><td style=\"white-space: nowrap; max-width: 500px; overflow: hidden; text-overflow: ellipsis; \">1</td><td style=\"white-space: nowrap; max-width: 500px; overflow: hidden; text-overflow: ellipsis; \">71038</td><td style=\"white-space: nowrap; max-width: 500px; overflow: hidden; text-overflow: ellipsis; \">1.41e-05</td><td style=\"white-space: nowrap; max-width: 500px; overflow: hidden; text-overflow: ellipsis; \">1</td><td style=\"white-space: nowrap; max-width: 500px; overflow: hidden; text-overflow: ellipsis; \">70956</td><td style=\"white-space: nowrap; max-width: 500px; overflow: hidden; text-overflow: ellipsis; \">1.41e-05</td><td style=\"white-space: nowrap; max-width: 500px; overflow: hidden; text-overflow: ellipsis; \">1</td><td style=\"white-space: nowrap; max-width: 500px; overflow: hidden; text-overflow: ellipsis; \">0</td></tr>\n",
       "<tr><td style=\"white-space: nowrap; max-width: 500px; overflow: hidden; text-overflow: ellipsis; \">chr12:120291828</td><td style=\"white-space: nowrap; max-width: 500px; overflow: hidden; text-overflow: ellipsis; \">[&quot;G&quot;,&quot;A&quot;]</td><td style=\"white-space: nowrap; max-width: 500px; overflow: hidden; text-overflow: ellipsis; \">NA</td><td style=\"white-space: nowrap; max-width: 500px; overflow: hidden; text-overflow: ellipsis; \">1</td><td style=\"white-space: nowrap; max-width: 500px; overflow: hidden; text-overflow: ellipsis; \">False</td><td style=\"white-space: nowrap; max-width: 500px; overflow: hidden; text-overflow: ellipsis; \">1</td><td style=\"white-space: nowrap; max-width: 500px; overflow: hidden; text-overflow: ellipsis; \">71028</td><td style=\"white-space: nowrap; max-width: 500px; overflow: hidden; text-overflow: ellipsis; \">1.41e-05</td><td style=\"white-space: nowrap; max-width: 500px; overflow: hidden; text-overflow: ellipsis; \">1</td><td style=\"white-space: nowrap; max-width: 500px; overflow: hidden; text-overflow: ellipsis; \">70932</td><td style=\"white-space: nowrap; max-width: 500px; overflow: hidden; text-overflow: ellipsis; \">1.41e-05</td><td style=\"white-space: nowrap; max-width: 500px; overflow: hidden; text-overflow: ellipsis; \">0</td><td style=\"white-space: nowrap; max-width: 500px; overflow: hidden; text-overflow: ellipsis; \">1</td></tr>\n",
       "</tbody></table>"
      ],
      "text/plain": [
       "+-----------------+------------+------+---------+-----------+--------+--------+\n",
       "| locus           | alleles    | rsid | a_index | was_split | AC_raw | AN_raw |\n",
       "+-----------------+------------+------+---------+-----------+--------+--------+\n",
       "| locus<GRCh38>   | array<str> | str  |   int32 |      bool |  int32 |  int32 |\n",
       "+-----------------+------------+------+---------+-----------+--------+--------+\n",
       "| chr12:120291826 | [\"T\",\"C\"]  | NA   |       1 |     False |      1 |  71030 |\n",
       "| chr12:120291827 | [\"T\",\"C\"]  | NA   |       1 |      True |      1 |  71038 |\n",
       "| chr12:120291827 | [\"T\",\"TG\"] | NA   |       3 |      True |      1 |  71038 |\n",
       "| chr12:120291827 | [\"TG\",\"T\"] | NA   |       2 |      True |      1 |  71038 |\n",
       "| chr12:120291828 | [\"G\",\"A\"]  | NA   |       1 |     False |      1 |  71028 |\n",
       "+-----------------+------------+------+---------+-----------+--------+--------+\n",
       "\n",
       "+----------+-------+-------+----------+--------------+-------------+\n",
       "|   AF_raw |    AC |    AN |       AF | case_non_ref | con_non_ref |\n",
       "+----------+-------+-------+----------+--------------+-------------+\n",
       "|  float32 | int32 | int32 |  float32 |        int64 |       int64 |\n",
       "+----------+-------+-------+----------+--------------+-------------+\n",
       "| 1.41e-05 |     1 | 70920 | 1.41e-05 |            1 |           0 |\n",
       "| 1.41e-05 |     0 | 70956 | 0.00e+00 |            1 |           0 |\n",
       "| 1.41e-05 |     1 | 70956 | 1.41e-05 |            0 |           1 |\n",
       "| 1.41e-05 |     1 | 70956 | 1.41e-05 |            1 |           0 |\n",
       "| 1.41e-05 |     1 | 70932 | 1.41e-05 |            0 |           1 |\n",
       "+----------+-------+-------+----------+--------------+-------------+"
      ]
     },
     "metadata": {},
     "output_type": "display_data"
    }
   ],
   "source": [
    "f_case_con = f.annotate_rows(case_non_ref = hl.agg.count_where(f.non_ref & f.is_case),\n",
    "                             con_non_ref = hl.agg.count_where(f.non_ref & ~f.is_case))\n",
    "f_case_con.rows().show(n = len(pos))"
   ]
  },
  {
   "cell_type": "code",
   "execution_count": 21,
   "id": "77384c21",
   "metadata": {},
   "outputs": [
    {
     "data": {
      "text/plain": [
       "(5, 35527)"
      ]
     },
     "execution_count": 21,
     "metadata": {},
     "output_type": "execute_result"
    }
   ],
   "source": [
    "f.count()"
   ]
  },
  {
   "cell_type": "code",
   "execution_count": null,
   "id": "4f4544f8",
   "metadata": {},
   "outputs": [],
   "source": [
    "# Use about chr12-120291763 to about chr12-120291903"
   ]
  }
 ],
 "metadata": {
  "kernelspec": {
   "display_name": "Hail",
   "language": "python",
   "name": "hail"
  },
  "language_info": {
   "codemirror_mode": {
    "name": "ipython",
    "version": 3
   },
   "file_extension": ".py",
   "mimetype": "text/x-python",
   "name": "python",
   "nbconvert_exporter": "python",
   "pygments_lexer": "ipython3",
   "version": "3.10.8"
  }
 },
 "nbformat": 4,
 "nbformat_minor": 5
}